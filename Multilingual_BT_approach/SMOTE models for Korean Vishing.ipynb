{
 "cells": [
  {
   "cell_type": "markdown",
   "id": "9e669980-9fca-4f96-a38e-cf0e23a5b3fe",
   "metadata": {
    "tags": []
   },
   "source": [
    "# Data Augmentation with Oversampling methods on Imbalanced Text Dataset for Korean Vishing Classification"
   ]
  },
  {
   "cell_type": "code",
   "execution_count": 1,
   "id": "1767f406-88f0-4019-8705-555957c1c8d8",
   "metadata": {
    "ExecuteTime": {
     "end_time": "2023-11-01T12:47:22.549107700Z",
     "start_time": "2023-11-01T12:47:11.361293700Z"
    }
   },
   "outputs": [
    {
     "name": "stdout",
     "output_type": "stream",
     "text": [
      "CUDA Available: True\n",
      "Current GPU Index: 0\n",
      "Current GPU Name: NVIDIA GeForce RTX 3050\n",
      "GPU Memory Allocated: 0\n",
      "GPU Memory Cached: 0\n"
     ]
    }
   ],
   "source": [
    "import torch\n",
    "\n",
    "# Check if CUDA is available\n",
    "print(\"CUDA Available:\", torch.cuda.is_available())\n",
    "\n",
    "# If CUDA is available, print the current GPU details\n",
    "if torch.cuda.is_available():\n",
    "    print(\"Current GPU Index:\", torch.cuda.current_device())\n",
    "    print(\"Current GPU Name:\", torch.cuda.get_device_name(torch.cuda.current_device()))\n",
    "    print(\"GPU Memory Allocated:\", torch.cuda.memory_allocated())\n",
    "    print(\"GPU Memory Cached:\", torch.cuda.memory_reserved())"
   ]
  },
  {
   "cell_type": "code",
   "execution_count": 2,
   "id": "a3f11e1d-b2d3-486b-be13-39c6aff65872",
   "metadata": {
    "ExecuteTime": {
     "end_time": "2023-11-01T12:47:24.443195300Z",
     "start_time": "2023-11-01T12:47:22.152299300Z"
    }
   },
   "outputs": [],
   "source": [
    "# https://ruslanmv.com/blog/How-to-handle-imbalanced-text-data-in-Natural-Language-Processing\n",
    "#\n",
    "\n",
    "#importing necessary libraries\n",
    "# General\n",
    "from time import time\n",
    "from timeit import default_timer as timer\n",
    "import numpy as np\n",
    "import pandas as pd\n",
    "import re\n",
    "import os\n",
    "import io\n",
    "import pickle\n",
    "import sys\n",
    "import subprocess\n",
    "from collections import Counter\n",
    "\n",
    "# EDA\n",
    "import matplotlib.pyplot as plt\n",
    "import seaborn as sns \n",
    "import plotly.express as px\n",
    "from wordcloud import WordCloud\n",
    "from collections import Counter\n",
    "9089\n",
    "# NLP \n",
    "import nltk\n",
    "from nltk.corpus import stopwords\n",
    "from nltk.stem.porter import PorterStemmer\n",
    "from sklearn.feature_extraction.text import TfidfVectorizer\n",
    "from nltk.tokenize import word_tokenize \n",
    "\n",
    "# ML\n",
    "from sklearn.pipeline import Pipeline\n",
    "from sklearn.model_selection import train_test_split\n",
    "from sklearn.naive_bayes import MultinomialNB\n",
    "from sklearn.naive_bayes import GaussianNB\n",
    "from sklearn.ensemble import RandomForestClassifier\n",
    "from sklearn.tree import DecisionTreeClassifier\n",
    "from sklearn.linear_model import LogisticRegression\n",
    "from xgboost import XGBClassifier\n",
    "from lightgbm import LGBMClassifier\n",
    "from sklearn.svm import SVC\n",
    "from sklearn.metrics import classification_report, confusion_matrix, accuracy_score, precision_score, recall_score, f1_score, fbeta_score, roc_auc_score, matthews_corrcoef, cohen_kappa_score"
   ]
  },
  {
   "cell_type": "markdown",
   "id": "60baefaa-dd81-48f8-b99f-7a9288f458c3",
   "metadata": {
    "tags": []
   },
   "source": [
    "# Dataset analysis"
   ]
  },
  {
   "cell_type": "code",
   "execution_count": 3,
   "id": "4e985de4-619f-4e61-a0f6-0693b741b33b",
   "metadata": {
    "ExecuteTime": {
     "end_time": "2023-11-01T12:47:24.902282300Z",
     "start_time": "2023-11-01T12:47:24.452826800Z"
    }
   },
   "outputs": [
    {
     "name": "stdout",
     "output_type": "stream",
     "text": [
      "Loading data...\n",
      "<class 'pandas.core.frame.DataFrame'>\n",
      "RangeIndex: 2927 entries, 0 to 2926\n",
      "Data columns (total 4 columns):\n",
      " #   Column      Non-Null Count  Dtype  \n",
      "---  ------      --------------  -----  \n",
      " 0   id          2927 non-null   int64  \n",
      " 1   transcript  2927 non-null   object \n",
      " 2   confidence  0 non-null      float64\n",
      " 3   label       2927 non-null   int64  \n",
      "dtypes: float64(1), int64(2), object(1)\n",
      "memory usage: 91.6+ KB\n"
     ]
    },
    {
     "data": {
      "text/plain": "   id                                         transcript  confidence  label\n0   0  저는 여행 다니는 것을 굉장히 좋아하는데요. 그래가지고 스페인이나 뭐 영국 유럽 아...         NaN      0\n1   1  반려동물을 키우고 계신가요? 혹시 안 키우고 계시다면은 어떤 반려동물을 한번 키워보...         NaN      0\n2   2   씨는 주로 어떤 음식 좋아하시나요? 저는 근데 가리는 게 거의 없어서 대부분 다 ...         NaN      0\n3   3   씨는 반려동물 어~ 좋 뭐 어떤 동물 좋아하세요? 저는 고양이를 정말 좋아하는데요...         NaN      0\n4   4  가장 좋아하는 음식이 무엇인가요? 저는 주로 먹는 거를 좋아해서 음식을 가리지 않고...         NaN      0",
      "text/html": "<div>\n<style scoped>\n    .dataframe tbody tr th:only-of-type {\n        vertical-align: middle;\n    }\n\n    .dataframe tbody tr th {\n        vertical-align: top;\n    }\n\n    .dataframe thead th {\n        text-align: right;\n    }\n</style>\n<table border=\"1\" class=\"dataframe\">\n  <thead>\n    <tr style=\"text-align: right;\">\n      <th></th>\n      <th>id</th>\n      <th>transcript</th>\n      <th>confidence</th>\n      <th>label</th>\n    </tr>\n  </thead>\n  <tbody>\n    <tr>\n      <th>0</th>\n      <td>0</td>\n      <td>저는 여행 다니는 것을 굉장히 좋아하는데요. 그래가지고 스페인이나 뭐 영국 유럽 아...</td>\n      <td>NaN</td>\n      <td>0</td>\n    </tr>\n    <tr>\n      <th>1</th>\n      <td>1</td>\n      <td>반려동물을 키우고 계신가요? 혹시 안 키우고 계시다면은 어떤 반려동물을 한번 키워보...</td>\n      <td>NaN</td>\n      <td>0</td>\n    </tr>\n    <tr>\n      <th>2</th>\n      <td>2</td>\n      <td>씨는 주로 어떤 음식 좋아하시나요? 저는 근데 가리는 게 거의 없어서 대부분 다 ...</td>\n      <td>NaN</td>\n      <td>0</td>\n    </tr>\n    <tr>\n      <th>3</th>\n      <td>3</td>\n      <td>씨는 반려동물 어~ 좋 뭐 어떤 동물 좋아하세요? 저는 고양이를 정말 좋아하는데요...</td>\n      <td>NaN</td>\n      <td>0</td>\n    </tr>\n    <tr>\n      <th>4</th>\n      <td>4</td>\n      <td>가장 좋아하는 음식이 무엇인가요? 저는 주로 먹는 거를 좋아해서 음식을 가리지 않고...</td>\n      <td>NaN</td>\n      <td>0</td>\n    </tr>\n  </tbody>\n</table>\n</div>"
     },
     "execution_count": 3,
     "metadata": {},
     "output_type": "execute_result"
    }
   ],
   "source": [
    "# import the dataset\n",
    "print('Loading data...')\n",
    "dataset = pd.read_csv('KorCCVi_v2.csv')\n",
    "dataset.info()\n",
    "dataset.head()\n",
    "# print(dataset.shape)\n",
    "# print(dataset)"
   ]
  },
  {
   "cell_type": "code",
   "execution_count": 4,
   "id": "884cf90f-b2e8-47e9-b701-7704c4468736",
   "metadata": {
    "ExecuteTime": {
     "end_time": "2023-11-01T12:47:25.162299900Z",
     "start_time": "2023-11-01T12:47:24.871253900Z"
    }
   },
   "outputs": [
    {
     "data": {
      "text/plain": "<Axes: >"
     },
     "execution_count": 4,
     "metadata": {},
     "output_type": "execute_result"
    },
    {
     "data": {
      "text/plain": "<Figure size 640x480 with 1 Axes>",
      "image/png": "[encoded data removed]"
     },
     "metadata": {},
     "output_type": "display_data"
    }
   ],
   "source": [
    "dataset['label'].value_counts(dropna=False).plot(kind='bar')"
   ]
  },
  {
   "cell_type": "code",
   "execution_count": 5,
   "id": "10489def-0384-4560-860e-2acb1622a44d",
   "metadata": {
    "ExecuteTime": {
     "end_time": "2023-11-01T12:47:25.162299900Z",
     "start_time": "2023-11-01T12:47:25.092346900Z"
    }
   },
   "outputs": [
    {
     "data": {
      "text/plain": "                id  confidence        label\ncount  2927.000000         0.0  2927.000000\nmean   1463.000000         NaN     0.237444\nstd     845.096444         NaN     0.425590\nmin       0.000000         NaN     0.000000\n25%     731.500000         NaN     0.000000\n50%    1463.000000         NaN     0.000000\n75%    2194.500000         NaN     0.000000\nmax    2926.000000         NaN     1.000000",
      "text/html": "<div>\n<style scoped>\n    .dataframe tbody tr th:only-of-type {\n        vertical-align: middle;\n    }\n\n    .dataframe tbody tr th {\n        vertical-align: top;\n    }\n\n    .dataframe thead th {\n        text-align: right;\n    }\n</style>\n<table border=\"1\" class=\"dataframe\">\n  <thead>\n    <tr style=\"text-align: right;\">\n      <th></th>\n      <th>id</th>\n      <th>confidence</th>\n      <th>label</th>\n    </tr>\n  </thead>\n  <tbody>\n    <tr>\n      <th>count</th>\n      <td>2927.000000</td>\n      <td>0.0</td>\n      <td>2927.000000</td>\n    </tr>\n    <tr>\n      <th>mean</th>\n      <td>1463.000000</td>\n      <td>NaN</td>\n      <td>0.237444</td>\n    </tr>\n    <tr>\n      <th>std</th>\n      <td>845.096444</td>\n      <td>NaN</td>\n      <td>0.425590</td>\n    </tr>\n    <tr>\n      <th>min</th>\n      <td>0.000000</td>\n      <td>NaN</td>\n      <td>0.000000</td>\n    </tr>\n    <tr>\n      <th>25%</th>\n      <td>731.500000</td>\n      <td>NaN</td>\n      <td>0.000000</td>\n    </tr>\n    <tr>\n      <th>50%</th>\n      <td>1463.000000</td>\n      <td>NaN</td>\n      <td>0.000000</td>\n    </tr>\n    <tr>\n      <th>75%</th>\n      <td>2194.500000</td>\n      <td>NaN</td>\n      <td>0.000000</td>\n    </tr>\n    <tr>\n      <th>max</th>\n      <td>2926.000000</td>\n      <td>NaN</td>\n      <td>1.000000</td>\n    </tr>\n  </tbody>\n</table>\n</div>"
     },
     "execution_count": 5,
     "metadata": {},
     "output_type": "execute_result"
    }
   ],
   "source": [
    "dataset.describe()"
   ]
  },
  {
   "cell_type": "code",
   "execution_count": 6,
   "id": "f675e254-9a8a-4396-a635-0bedad942910",
   "metadata": {
    "ExecuteTime": {
     "end_time": "2023-11-01T12:47:25.204334500Z",
     "start_time": "2023-11-01T12:47:25.095507Z"
    }
   },
   "outputs": [
    {
     "data": {
      "text/plain": "id               0\ntranscript       0\nconfidence    2927\nlabel            0\ndtype: int64"
     },
     "execution_count": 6,
     "metadata": {},
     "output_type": "execute_result"
    }
   ],
   "source": [
    "#checking for null values\n",
    "dataset.isnull().sum()"
   ]
  },
  {
   "cell_type": "code",
   "execution_count": 7,
   "id": "1337d0bb-80d8-4411-93d0-9a312917a989",
   "metadata": {
    "ExecuteTime": {
     "end_time": "2023-11-01T12:47:25.805825Z",
     "start_time": "2023-11-01T12:47:25.105504600Z"
    }
   },
   "outputs": [
    {
     "data": {
      "text/plain": "                                             transcript  label\n0     저는 여행 다니는 것을 굉장히 좋아하는데요. 그래가지고 스페인이나 뭐 영국 유럽 아...      0\n1     반려동물을 키우고 계신가요? 혹시 안 키우고 계시다면은 어떤 반려동물을 한번 키워보...      0\n2      씨는 주로 어떤 음식 좋아하시나요? 저는 근데 가리는 게 거의 없어서 대부분 다 ...      0\n3      씨는 반려동물 어~ 좋 뭐 어떤 동물 좋아하세요? 저는 고양이를 정말 좋아하는데요...      0\n4     가장 좋아하는 음식이 무엇인가요? 저는 주로 먹는 거를 좋아해서 음식을 가리지 않고...      0\n...                                                 ...    ...\n2922  지금까지 사실확인서를 연락드렸습니다. 하고 있는데 이런 사건 때문에 내가 여쭤볼게 ...      1\n2923  연료 데이는 사건 때문에 연락 드렸는데 혹시 김명철씨 가십니까 모르시고 아는 사람도...      1\n2924  4장 4절 일어났습니까? 장소 잡고 님께서는 42세 남성 김동술 알고 계십니까? 아...      1\n2925  네\\n네 여보세요\\n뭐 어디세요?\\n아 네 안녕하세요 저희 그 하나캐피탈에서 연락을...      1\n2926  통장명이 (삐-) 계좌 맞구요? 그리고 통장 발급 일은 2017년 3월 14일입니다...      1\n\n[2927 rows x 2 columns]",
      "text/html": "<div>\n<style scoped>\n    .dataframe tbody tr th:only-of-type {\n        vertical-align: middle;\n    }\n\n    .dataframe tbody tr th {\n        vertical-align: top;\n    }\n\n    .dataframe thead th {\n        text-align: right;\n    }\n</style>\n<table border=\"1\" class=\"dataframe\">\n  <thead>\n    <tr style=\"text-align: right;\">\n      <th></th>\n      <th>transcript</th>\n      <th>label</th>\n    </tr>\n  </thead>\n  <tbody>\n    <tr>\n      <th>0</th>\n      <td>저는 여행 다니는 것을 굉장히 좋아하는데요. 그래가지고 스페인이나 뭐 영국 유럽 아...</td>\n      <td>0</td>\n    </tr>\n    <tr>\n      <th>1</th>\n      <td>반려동물을 키우고 계신가요? 혹시 안 키우고 계시다면은 어떤 반려동물을 한번 키워보...</td>\n      <td>0</td>\n    </tr>\n    <tr>\n      <th>2</th>\n      <td>씨는 주로 어떤 음식 좋아하시나요? 저는 근데 가리는 게 거의 없어서 대부분 다 ...</td>\n      <td>0</td>\n    </tr>\n    <tr>\n      <th>3</th>\n      <td>씨는 반려동물 어~ 좋 뭐 어떤 동물 좋아하세요? 저는 고양이를 정말 좋아하는데요...</td>\n      <td>0</td>\n    </tr>\n    <tr>\n      <th>4</th>\n      <td>가장 좋아하는 음식이 무엇인가요? 저는 주로 먹는 거를 좋아해서 음식을 가리지 않고...</td>\n      <td>0</td>\n    </tr>\n    <tr>\n      <th>...</th>\n      <td>...</td>\n      <td>...</td>\n    </tr>\n    <tr>\n      <th>2922</th>\n      <td>지금까지 사실확인서를 연락드렸습니다. 하고 있는데 이런 사건 때문에 내가 여쭤볼게 ...</td>\n      <td>1</td>\n    </tr>\n    <tr>\n      <th>2923</th>\n      <td>연료 데이는 사건 때문에 연락 드렸는데 혹시 김명철씨 가십니까 모르시고 아는 사람도...</td>\n      <td>1</td>\n    </tr>\n    <tr>\n      <th>2924</th>\n      <td>4장 4절 일어났습니까? 장소 잡고 님께서는 42세 남성 김동술 알고 계십니까? 아...</td>\n      <td>1</td>\n    </tr>\n    <tr>\n      <th>2925</th>\n      <td>네\\n네 여보세요\\n뭐 어디세요?\\n아 네 안녕하세요 저희 그 하나캐피탈에서 연락을...</td>\n      <td>1</td>\n    </tr>\n    <tr>\n      <th>2926</th>\n      <td>통장명이 (삐-) 계좌 맞구요? 그리고 통장 발급 일은 2017년 3월 14일입니다...</td>\n      <td>1</td>\n    </tr>\n  </tbody>\n</table>\n<p>2927 rows × 2 columns</p>\n</div>"
     },
     "execution_count": 7,
     "metadata": {},
     "output_type": "execute_result"
    }
   ],
   "source": [
    "# drop the colum we don't need\n",
    "dataset.drop(['confidence', 'id'], axis=1, inplace=True)\n",
    "dataset"
   ]
  },
  {
   "cell_type": "markdown",
   "id": "ee8e388e-07ec-4c1a-b2c4-f156bc0fdb88",
   "metadata": {},
   "source": [
    "## Calculating the length of each data sample."
   ]
  },
  {
   "cell_type": "code",
   "execution_count": 8,
   "id": "1a8b6288-0f92-4961-9997-42869f5b841e",
   "metadata": {
    "ExecuteTime": {
     "end_time": "2023-11-01T12:47:25.821403600Z",
     "start_time": "2023-11-01T12:47:25.116540200Z"
    }
   },
   "outputs": [
    {
     "data": {
      "text/plain": "                                          transcript  label  length\n0  저는 여행 다니는 것을 굉장히 좋아하는데요. 그래가지고 스페인이나 뭐 영국 유럽 아...      0    5773\n1  반려동물을 키우고 계신가요? 혹시 안 키우고 계시다면은 어떤 반려동물을 한번 키워보...      0    5126\n2   씨는 주로 어떤 음식 좋아하시나요? 저는 근데 가리는 게 거의 없어서 대부분 다 ...      0    4970\n3   씨는 반려동물 어~ 좋 뭐 어떤 동물 좋아하세요? 저는 고양이를 정말 좋아하는데요...      0    5480\n4  가장 좋아하는 음식이 무엇인가요? 저는 주로 먹는 거를 좋아해서 음식을 가리지 않고...      0    4141",
      "text/html": "<div>\n<style scoped>\n    .dataframe tbody tr th:only-of-type {\n        vertical-align: middle;\n    }\n\n    .dataframe tbody tr th {\n        vertical-align: top;\n    }\n\n    .dataframe thead th {\n        text-align: right;\n    }\n</style>\n<table border=\"1\" class=\"dataframe\">\n  <thead>\n    <tr style=\"text-align: right;\">\n      <th></th>\n      <th>transcript</th>\n      <th>label</th>\n      <th>length</th>\n    </tr>\n  </thead>\n  <tbody>\n    <tr>\n      <th>0</th>\n      <td>저는 여행 다니는 것을 굉장히 좋아하는데요. 그래가지고 스페인이나 뭐 영국 유럽 아...</td>\n      <td>0</td>\n      <td>5773</td>\n    </tr>\n    <tr>\n      <th>1</th>\n      <td>반려동물을 키우고 계신가요? 혹시 안 키우고 계시다면은 어떤 반려동물을 한번 키워보...</td>\n      <td>0</td>\n      <td>5126</td>\n    </tr>\n    <tr>\n      <th>2</th>\n      <td>씨는 주로 어떤 음식 좋아하시나요? 저는 근데 가리는 게 거의 없어서 대부분 다 ...</td>\n      <td>0</td>\n      <td>4970</td>\n    </tr>\n    <tr>\n      <th>3</th>\n      <td>씨는 반려동물 어~ 좋 뭐 어떤 동물 좋아하세요? 저는 고양이를 정말 좋아하는데요...</td>\n      <td>0</td>\n      <td>5480</td>\n    </tr>\n    <tr>\n      <th>4</th>\n      <td>가장 좋아하는 음식이 무엇인가요? 저는 주로 먹는 거를 좋아해서 음식을 가리지 않고...</td>\n      <td>0</td>\n      <td>4141</td>\n    </tr>\n  </tbody>\n</table>\n</div>"
     },
     "execution_count": 8,
     "metadata": {},
     "output_type": "execute_result"
    }
   ],
   "source": [
    "dataset['length'] = dataset['transcript'].apply(lambda x: len(x))\n",
    "dataset.head()"
   ]
  },
  {
   "cell_type": "markdown",
   "id": "139f6c66-2365-445e-9b74-07e353ea0d12",
   "metadata": {},
   "source": [
    "## Distribution based on length of words"
   ]
  },
  {
   "cell_type": "code",
   "execution_count": 9,
   "id": "bb684c0b-cc17-4672-b336-ab96c93cdb88",
   "metadata": {
    "ExecuteTime": {
     "end_time": "2023-11-01T12:47:26.096499600Z",
     "start_time": "2023-11-01T12:47:25.130569100Z"
    }
   },
   "outputs": [
    {
     "data": {
      "text/plain": "<seaborn.axisgrid.FacetGrid at 0x7f881fe5d4b0>"
     },
     "execution_count": 9,
     "metadata": {},
     "output_type": "execute_result"
    },
    {
     "data": {
      "text/plain": "<Figure size 500x500 with 1 Axes>",
      "image/png": "[encoded data removed]"
     },
     "metadata": {},
     "output_type": "display_data"
    }
   ],
   "source": [
    "sns.displot(dataset['length'], kde=True)"
   ]
  },
  {
   "cell_type": "code",
   "execution_count": 10,
   "id": "2e18b4e4-7cdc-4828-813d-1bf26229bb81",
   "metadata": {
    "ExecuteTime": {
     "end_time": "2023-11-01T12:47:26.202312900Z",
     "start_time": "2023-11-01T12:47:25.656992800Z"
    }
   },
   "outputs": [
    {
     "data": {
      "text/plain": "<Axes: xlabel='label', ylabel='length'>"
     },
     "execution_count": 10,
     "metadata": {},
     "output_type": "execute_result"
    },
    {
     "data": {
      "text/plain": "<Figure size 640x480 with 1 Axes>",
      "image/png": "[encoded data removed]"
     },
     "metadata": {},
     "output_type": "display_data"
    }
   ],
   "source": [
    "sns.boxplot(y='length', x='label', data=dataset)"
   ]
  },
  {
   "cell_type": "code",
   "execution_count": 11,
   "id": "cf132c4b-a997-4c0a-a8d0-16683a7be343",
   "metadata": {
    "ExecuteTime": {
     "end_time": "2023-11-01T12:47:26.204777100Z",
     "start_time": "2023-11-01T12:47:25.845619200Z"
    }
   },
   "outputs": [
    {
     "data": {
      "text/plain": "                                          transcript  label  length\n0  저는 여행 다니는 것을 굉장히 좋아하는데요. 그래가지고 스페인이나 뭐 영국 유럽 아...      0    5773\n1  반려동물을 키우고 계신가요? 혹시 안 키우고 계시다면은 어떤 반려동물을 한번 키워보...      0    5126\n2   씨는 주로 어떤 음식 좋아하시나요? 저는 근데 가리는 게 거의 없어서 대부분 다 ...      0    4970\n3   씨는 반려동물 어~ 좋 뭐 어떤 동물 좋아하세요? 저는 고양이를 정말 좋아하는데요...      0    5480\n4  가장 좋아하는 음식이 무엇인가요? 저는 주로 먹는 거를 좋아해서 음식을 가리지 않고...      0    4141",
      "text/html": "<div>\n<style scoped>\n    .dataframe tbody tr th:only-of-type {\n        vertical-align: middle;\n    }\n\n    .dataframe tbody tr th {\n        vertical-align: top;\n    }\n\n    .dataframe thead th {\n        text-align: right;\n    }\n</style>\n<table border=\"1\" class=\"dataframe\">\n  <thead>\n    <tr style=\"text-align: right;\">\n      <th></th>\n      <th>transcript</th>\n      <th>label</th>\n      <th>length</th>\n    </tr>\n  </thead>\n  <tbody>\n    <tr>\n      <th>0</th>\n      <td>저는 여행 다니는 것을 굉장히 좋아하는데요. 그래가지고 스페인이나 뭐 영국 유럽 아...</td>\n      <td>0</td>\n      <td>5773</td>\n    </tr>\n    <tr>\n      <th>1</th>\n      <td>반려동물을 키우고 계신가요? 혹시 안 키우고 계시다면은 어떤 반려동물을 한번 키워보...</td>\n      <td>0</td>\n      <td>5126</td>\n    </tr>\n    <tr>\n      <th>2</th>\n      <td>씨는 주로 어떤 음식 좋아하시나요? 저는 근데 가리는 게 거의 없어서 대부분 다 ...</td>\n      <td>0</td>\n      <td>4970</td>\n    </tr>\n    <tr>\n      <th>3</th>\n      <td>씨는 반려동물 어~ 좋 뭐 어떤 동물 좋아하세요? 저는 고양이를 정말 좋아하는데요...</td>\n      <td>0</td>\n      <td>5480</td>\n    </tr>\n    <tr>\n      <th>4</th>\n      <td>가장 좋아하는 음식이 무엇인가요? 저는 주로 먹는 거를 좋아해서 음식을 가리지 않고...</td>\n      <td>0</td>\n      <td>4141</td>\n    </tr>\n  </tbody>\n</table>\n</div>"
     },
     "execution_count": 11,
     "metadata": {},
     "output_type": "execute_result"
    }
   ],
   "source": [
    "dataset.head()"
   ]
  },
  {
   "cell_type": "markdown",
   "id": "adc7b0a7-e00a-4dd0-b416-fb4458c1bddb",
   "metadata": {
    "jp-MarkdownHeadingCollapsed": true,
    "tags": []
   },
   "source": [
    "# Morphology Analyzer Installation"
   ]
  },
  {
   "cell_type": "markdown",
   "id": "8e656123-6433-4abe-9795-d8378914644a",
   "metadata": {
    "tags": []
   },
   "source": [
    "## Installation of Mecab-ko-for-GoogleColab"
   ]
  },
  {
   "cell_type": "code",
   "execution_count": 12,
   "id": "8a0b85ab-3f58-4bf4-a660-fe62b9c19e8f",
   "metadata": {
    "ExecuteTime": {
     "end_time": "2023-11-01T12:47:26.204777100Z",
     "start_time": "2023-11-01T12:47:25.877322300Z"
    }
   },
   "outputs": [],
   "source": [
    "# try:\n",
    "#     from konlpy.tag import Mecab\n",
    "#     mecab = Mecab()\n",
    "#     text = '그중에서 제일 기 좋았던 거는 스페인이랑 포르투갈이었거든요.'\n",
    "#     my_morphs = mecab.morphs(text)\n",
    "#     print(my_morphs)\n",
    "#     print('--- The Mecab module is installed ---')\n",
    "# except NameError:\n",
    "#     print('--- The Mecab module is NOT installed ---')\n",
    "\n",
    "#     # install Mecab module\n",
    "#     # python = sys.executable\n",
    "#     # subprocess.check_call(\n",
    "#         # [python, '-m', 'pip', 'install', 'mecab-ko'],\n",
    "#         # stdout=subprocess.DEVNULL\n",
    "#     # )\n",
    "#     !git clone https://github.com/SOMJANG/Mecab-ko-for-Google-Colab.git\n",
    "#     !cd Mecab-ko-for-Google-Colab\n",
    "#     !bash install_mecab-ko_on_colab_light_220429.sh\n",
    "    \n",
    "#     # !sudo apt-get install curl git\n",
    "#     # !bash <(curl -s https://raw.githubusercontent.com/konlpy/konlpy/master/scripts/mecab.sh)\n",
    "# finally:\n",
    "#     # import from konlpy.tag import Mecab\n",
    "#     print('--- Finally ---')\n",
    "#     # from konlpy.tag import Mecab\n",
    "#     # mecab = Mecab()\n",
    "#     # text = '그중에서 제일 기 좋았던 거는 스페인이랑 포르투갈이었거든요.'\n",
    "#     # my_morphs = mecab.morphs(text)\n",
    "#     # print(my_morphs)\n"
   ]
  },
  {
   "cell_type": "code",
   "execution_count": 13,
   "id": "859b1577-59ed-4a37-911e-a009640b0a6d",
   "metadata": {
    "ExecuteTime": {
     "end_time": "2023-11-01T12:47:26.204777100Z",
     "start_time": "2023-11-01T12:47:25.880361900Z"
    }
   },
   "outputs": [],
   "source": [
    "# !git clone https://github.com/SOMJANG/Mecab-ko-for-Google-Colab.git"
   ]
  },
  {
   "cell_type": "code",
   "execution_count": 14,
   "id": "9b39f7c0-bb9c-4839-8dc8-cb28efecf2e8",
   "metadata": {
    "ExecuteTime": {
     "end_time": "2023-11-01T12:47:26.204777100Z",
     "start_time": "2023-11-01T12:47:25.890381200Z"
    }
   },
   "outputs": [],
   "source": [
    "# cd Mecab-ko-for-Google-Colab"
   ]
  },
  {
   "cell_type": "code",
   "execution_count": 15,
   "id": "74fe3d49-f4a0-4782-a48d-048c21f96624",
   "metadata": {
    "ExecuteTime": {
     "end_time": "2023-11-01T12:47:26.204777100Z",
     "start_time": "2023-11-01T12:47:25.904164100Z"
    }
   },
   "outputs": [],
   "source": [
    "# !bash install_mecab-ko_on_colab_light_220111.sh\n",
    "# !bash install_mecab-ko_on_colab_light_220429.sh"
   ]
  },
  {
   "cell_type": "markdown",
   "id": "05b94651-be07-43f4-bf04-1c596e6ae89b",
   "metadata": {},
   "source": [
    "## Testing MeCab"
   ]
  },
  {
   "cell_type": "code",
   "execution_count": 16,
   "id": "e1f8935e-4daf-440c-9bba-80a135f58485",
   "metadata": {
    "ExecuteTime": {
     "end_time": "2023-11-01T12:47:27.104193400Z",
     "start_time": "2023-11-01T12:47:25.905169700Z"
    }
   },
   "outputs": [
    {
     "name": "stdout",
     "output_type": "stream",
     "text": [
      "['그', '중', '에서', '제', '일', '기', '좋', '았', '던', '거', '는', '스페인', '이랑', '포르투갈', '이', '었', '거든요', '.']\n"
     ]
    }
   ],
   "source": [
    "from konlpy.tag import Mecab\n",
    "mecab = Mecab()\n",
    "text = '그중에서 제일 기 좋았던 거는 스페인이랑 포르투갈이었거든요.'\n",
    "my_morphs = mecab.morphs(text)\n",
    "print(my_morphs)"
   ]
  },
  {
   "cell_type": "code",
   "execution_count": 17,
   "id": "686c64a1-512e-4c1e-acac-cdf27dc38b96",
   "metadata": {
    "ExecuteTime": {
     "end_time": "2023-11-01T12:47:27.105200800Z",
     "start_time": "2023-11-01T12:47:26.418451600Z"
    }
   },
   "outputs": [
    {
     "data": {
      "text/plain": "[('그', 'MM'),\n ('중', 'NNB'),\n ('에서', 'JKB'),\n ('제', 'XPN'),\n ('일', 'NR'),\n ('기', 'NNBC'),\n ('좋', 'VA'),\n ('았', 'EP'),\n ('던', 'ETM'),\n ('거', 'NNB'),\n ('는', 'JX'),\n ('스페인', 'NNP'),\n ('이랑', 'JC'),\n ('포르투갈', 'NNP'),\n ('이', 'VCP'),\n ('었', 'EP'),\n ('거든요', 'EF'),\n ('.', 'SF')]"
     },
     "execution_count": 17,
     "metadata": {},
     "output_type": "execute_result"
    }
   ],
   "source": [
    "mecab.pos(text)"
   ]
  },
  {
   "cell_type": "markdown",
   "id": "6472821e-35bd-445d-a995-ae939733de82",
   "metadata": {
    "tags": []
   },
   "source": [
    "# Dataset Preprocessing"
   ]
  },
  {
   "cell_type": "markdown",
   "id": "5817a648-d4c2-43ba-b478-90e73e1f33fc",
   "metadata": {},
   "source": [
    "## Dataset cleaning and purification"
   ]
  },
  {
   "cell_type": "code",
   "execution_count": 18,
   "id": "d82fcfdd-115f-4a36-ac4e-bcb473351d46",
   "metadata": {
    "ExecuteTime": {
     "end_time": "2023-11-01T12:47:27.105200800Z",
     "start_time": "2023-11-01T12:47:26.424959900Z"
    }
   },
   "outputs": [],
   "source": [
    "# function to perform the cleaning parts\n",
    "def apply_replacement(src_df, replace_func):\n",
    "    ret_df = src_df\n",
    "    ret_df['transcript'] = ret_df['transcript'].apply(lambda x: replace_func(x))\n",
    "    return ret_df\n",
    "\n",
    "# remove the unwanted word and characters from the dataset\n",
    "def word_replace(x):\n",
    "    example_word_replace_list = {'o/': '',\n",
    "                                 'b/': '',\n",
    "                                 'n/': '',\n",
    "                                 '\\n': ' ',\n",
    "                                 'name': '',\n",
    "                                 'laughing': '',\n",
    "                                 'clearing': '',\n",
    "                                 'singing': '',\n",
    "                                 'applauding': ''}\n",
    "    for i in example_word_replace_list:\n",
    "        x = x.replace(i, example_word_replace_list[i])\n",
    "    return x\n",
    "\n",
    "# remove the special character from the transcripts\n",
    "def remove_special_sysmbols(sentence): \n",
    "    sentence = re.sub(r\"[-~=+,#/\\?:^$.@*\\\"※~&%ㆍ!』\\\\‘|\\(\\)\\[\\]\\<\\>`\\'…》]\", '', sentence)\n",
    "    return sentence\n",
    "\n",
    "# remove x and O from the transcripts\n",
    "def replace_x_o(sentence):\n",
    "    \n",
    "    # sentence = re.sub(r\"(o{2,})|(O{2,})|(\\ㅇ{2,})|(0{2,})|(x{2,})\", '' , sentence)\n",
    "    # sentence = re.sub(r\"x{2,}\", '' , sentence)\n",
    "    # sentence = re.sub(r\"0{2,}\", '' , sentence)\n",
    "    # sentence = re.sub(r\"ㅇ{2,}\", '' , sentence)\n",
    "    # sentence = re.sub(r\"O{2,}\", '' , sentence)\n",
    "    # sentence = re.sub(r\"o{2,}\", '' , sentence)\n",
    "    sentence = re.sub(r\"(o|O|\\ㅇ|0|x){2,}\", '' , sentence)\n",
    "    return sentence\n",
    "\n",
    "# remove the unwanted word and characters from the transcripts\n",
    "def nline_replace(x):\n",
    "    example_word_replace_list = {'\\n' : ' '}\n",
    "    for i in example_word_replace_list:\n",
    "        x = x.replace(i, example_word_replace_list[i])\n",
    "    return x\n",
    "\n",
    "# remove extra whote space\n",
    "def remove_extra_white_spaces(text):\n",
    "    single_char_pattern = r'\\s+[a-zA-Z]\\s+'\n",
    "    without_sc = re.sub(pattern=single_char_pattern, repl=\" \", string=text)\n",
    "    return without_sc"
   ]
  },
  {
   "cell_type": "code",
   "execution_count": 19,
   "id": "11414c16-acc8-440b-8292-14d543ac225a",
   "metadata": {
    "ExecuteTime": {
     "end_time": "2023-11-01T12:47:27.241423700Z",
     "start_time": "2023-11-01T12:47:26.435478Z"
    }
   },
   "outputs": [],
   "source": [
    "dataset['transcript_clean'] = dataset['transcript'].apply(lambda x: word_replace(x))"
   ]
  },
  {
   "cell_type": "code",
   "execution_count": 20,
   "id": "bf446e2c-6c4e-4969-967e-ae4df008de0d",
   "metadata": {
    "ExecuteTime": {
     "end_time": "2023-11-01T12:47:27.420857800Z",
     "start_time": "2023-11-01T12:47:26.475740700Z"
    }
   },
   "outputs": [],
   "source": [
    "dataset['transcript_clean'] = dataset['transcript_clean'].apply(lambda x: remove_special_sysmbols(x))"
   ]
  },
  {
   "cell_type": "code",
   "execution_count": 21,
   "id": "3a8e0e2d-93dc-4670-93bf-cc7e70155046",
   "metadata": {
    "ExecuteTime": {
     "end_time": "2023-11-01T12:47:27.472521300Z",
     "start_time": "2023-11-01T12:47:26.618214700Z"
    }
   },
   "outputs": [],
   "source": [
    "dataset['transcript_clean'] = dataset['transcript_clean'].apply(lambda x: replace_x_o(x))"
   ]
  },
  {
   "cell_type": "code",
   "execution_count": 22,
   "id": "2c51fb76-bd61-4edf-8ddf-436711bc7eb0",
   "metadata": {
    "ExecuteTime": {
     "end_time": "2023-11-01T12:47:27.472521300Z",
     "start_time": "2023-11-01T12:47:26.866075800Z"
    }
   },
   "outputs": [],
   "source": [
    "dataset['transcript_clean'] = dataset['transcript_clean'].apply(lambda x: nline_replace(x))"
   ]
  },
  {
   "cell_type": "code",
   "execution_count": 23,
   "id": "e0137e77-f41a-4b19-b804-3a7a27344c07",
   "metadata": {
    "ExecuteTime": {
     "end_time": "2023-11-01T12:47:27.472521300Z",
     "start_time": "2023-11-01T12:47:26.870083600Z"
    }
   },
   "outputs": [],
   "source": [
    "dataset['transcript_clean'] = dataset['transcript_clean'].apply(lambda x: remove_extra_white_spaces(x))"
   ]
  },
  {
   "cell_type": "code",
   "execution_count": 24,
   "id": "8ad0496b-350c-4243-a7bf-6e971bd0d3b3",
   "metadata": {
    "ExecuteTime": {
     "end_time": "2023-11-01T12:47:27.472521300Z",
     "start_time": "2023-11-01T12:47:27.083055300Z"
    }
   },
   "outputs": [],
   "source": [
    "dataset['length_transcript_clean'] = dataset['transcript_clean'].apply(lambda x: len(x))"
   ]
  },
  {
   "cell_type": "code",
   "execution_count": 25,
   "id": "f51d3f98-5a02-4a6b-aca0-ed8c55166b90",
   "metadata": {
    "ExecuteTime": {
     "end_time": "2023-11-01T12:47:27.474039500Z",
     "start_time": "2023-11-01T12:47:27.085401400Z"
    }
   },
   "outputs": [
    {
     "data": {
      "text/plain": "                                             transcript  label  length  \\\n0     저는 여행 다니는 것을 굉장히 좋아하는데요. 그래가지고 스페인이나 뭐 영국 유럽 아...      0    5773   \n1     반려동물을 키우고 계신가요? 혹시 안 키우고 계시다면은 어떤 반려동물을 한번 키워보...      0    5126   \n2      씨는 주로 어떤 음식 좋아하시나요? 저는 근데 가리는 게 거의 없어서 대부분 다 ...      0    4970   \n3      씨는 반려동물 어~ 좋 뭐 어떤 동물 좋아하세요? 저는 고양이를 정말 좋아하는데요...      0    5480   \n4     가장 좋아하는 음식이 무엇인가요? 저는 주로 먹는 거를 좋아해서 음식을 가리지 않고...      0    4141   \n...                                                 ...    ...     ...   \n2922  지금까지 사실확인서를 연락드렸습니다. 하고 있는데 이런 사건 때문에 내가 여쭤볼게 ...      1     825   \n2923  연료 데이는 사건 때문에 연락 드렸는데 혹시 김명철씨 가십니까 모르시고 아는 사람도...      1     659   \n2924  4장 4절 일어났습니까? 장소 잡고 님께서는 42세 남성 김동술 알고 계십니까? 아...      1    1711   \n2925  네\\n네 여보세요\\n뭐 어디세요?\\n아 네 안녕하세요 저희 그 하나캐피탈에서 연락을...      1     432   \n2926  통장명이 (삐-) 계좌 맞구요? 그리고 통장 발급 일은 2017년 3월 14일입니다...      1     357   \n\n                                       transcript_clean  \\\n0     저는 여행 다니는 것을 굉장히 좋아하는데요 그래가지고 스페인이나 뭐 영국 유럽 아니...   \n1     반려동물을 키우고 계신가요 혹시 안 키우고 계시다면은 어떤 반려동물을 한번 키워보고...   \n2      씨는 주로 어떤 음식 좋아하시나요 저는 근데 가리는 게 거의 없어서 대부분 다 잘...   \n3      씨는 반려동물 어 좋 뭐 어떤 동물 좋아하세요 저는 고양이를 정말 좋아하는데요 정...   \n4     가장 좋아하는 음식이 무엇인가요 저는 주로 먹는 거를 좋아해서 음식을 가리지 않고 ...   \n...                                                 ...   \n2922  지금까지 사실확인서를 연락드렸습니다 하고 있는데 이런 사건 때문에 내가 여쭤볼게 있...   \n2923  연료 데이는 사건 때문에 연락 드렸는데 혹시 김명철씨 가십니까 모르시고 아는 사람도...   \n2924  4장 4절 일어났습니까 장소 잡고 님께서는 42세 남성 김동술 알고 계십니까 아니요...   \n2925  네 네 여보세요 뭐 어디세요 아 네 안녕하세요 저희 그 하나캐피탈에서 연락을 드렸습...   \n2926  통장명이 삐 계좌 맞구요 그리고 통장 발급 일은 2017년 3월 14일입니다 작년 ...   \n\n      length_transcript_clean  \n0                        5629  \n1                        5024  \n2                        4877  \n3                        5383  \n4                        4057  \n...                       ...  \n2922                      801  \n2923                      651  \n2924                     1669  \n2925                      424  \n2926                      336  \n\n[2927 rows x 5 columns]",
      "text/html": "<div>\n<style scoped>\n    .dataframe tbody tr th:only-of-type {\n        vertical-align: middle;\n    }\n\n    .dataframe tbody tr th {\n        vertical-align: top;\n    }\n\n    .dataframe thead th {\n        text-align: right;\n    }\n</style>\n<table border=\"1\" class=\"dataframe\">\n  <thead>\n    <tr style=\"text-align: right;\">\n      <th></th>\n      <th>transcript</th>\n      <th>label</th>\n      <th>length</th>\n      <th>transcript_clean</th>\n      <th>length_transcript_clean</th>\n    </tr>\n  </thead>\n  <tbody>\n    <tr>\n      <th>0</th>\n      <td>저는 여행 다니는 것을 굉장히 좋아하는데요. 그래가지고 스페인이나 뭐 영국 유럽 아...</td>\n      <td>0</td>\n      <td>5773</td>\n      <td>저는 여행 다니는 것을 굉장히 좋아하는데요 그래가지고 스페인이나 뭐 영국 유럽 아니...</td>\n      <td>5629</td>\n    </tr>\n    <tr>\n      <th>1</th>\n      <td>반려동물을 키우고 계신가요? 혹시 안 키우고 계시다면은 어떤 반려동물을 한번 키워보...</td>\n      <td>0</td>\n      <td>5126</td>\n      <td>반려동물을 키우고 계신가요 혹시 안 키우고 계시다면은 어떤 반려동물을 한번 키워보고...</td>\n      <td>5024</td>\n    </tr>\n    <tr>\n      <th>2</th>\n      <td>씨는 주로 어떤 음식 좋아하시나요? 저는 근데 가리는 게 거의 없어서 대부분 다 ...</td>\n      <td>0</td>\n      <td>4970</td>\n      <td>씨는 주로 어떤 음식 좋아하시나요 저는 근데 가리는 게 거의 없어서 대부분 다 잘...</td>\n      <td>4877</td>\n    </tr>\n    <tr>\n      <th>3</th>\n      <td>씨는 반려동물 어~ 좋 뭐 어떤 동물 좋아하세요? 저는 고양이를 정말 좋아하는데요...</td>\n      <td>0</td>\n      <td>5480</td>\n      <td>씨는 반려동물 어 좋 뭐 어떤 동물 좋아하세요 저는 고양이를 정말 좋아하는데요 정...</td>\n      <td>5383</td>\n    </tr>\n    <tr>\n      <th>4</th>\n      <td>가장 좋아하는 음식이 무엇인가요? 저는 주로 먹는 거를 좋아해서 음식을 가리지 않고...</td>\n      <td>0</td>\n      <td>4141</td>\n      <td>가장 좋아하는 음식이 무엇인가요 저는 주로 먹는 거를 좋아해서 음식을 가리지 않고 ...</td>\n      <td>4057</td>\n    </tr>\n    <tr>\n      <th>...</th>\n      <td>...</td>\n      <td>...</td>\n      <td>...</td>\n      <td>...</td>\n      <td>...</td>\n    </tr>\n    <tr>\n      <th>2922</th>\n      <td>지금까지 사실확인서를 연락드렸습니다. 하고 있는데 이런 사건 때문에 내가 여쭤볼게 ...</td>\n      <td>1</td>\n      <td>825</td>\n      <td>지금까지 사실확인서를 연락드렸습니다 하고 있는데 이런 사건 때문에 내가 여쭤볼게 있...</td>\n      <td>801</td>\n    </tr>\n    <tr>\n      <th>2923</th>\n      <td>연료 데이는 사건 때문에 연락 드렸는데 혹시 김명철씨 가십니까 모르시고 아는 사람도...</td>\n      <td>1</td>\n      <td>659</td>\n      <td>연료 데이는 사건 때문에 연락 드렸는데 혹시 김명철씨 가십니까 모르시고 아는 사람도...</td>\n      <td>651</td>\n    </tr>\n    <tr>\n      <th>2924</th>\n      <td>4장 4절 일어났습니까? 장소 잡고 님께서는 42세 남성 김동술 알고 계십니까? 아...</td>\n      <td>1</td>\n      <td>1711</td>\n      <td>4장 4절 일어났습니까 장소 잡고 님께서는 42세 남성 김동술 알고 계십니까 아니요...</td>\n      <td>1669</td>\n    </tr>\n    <tr>\n      <th>2925</th>\n      <td>네\\n네 여보세요\\n뭐 어디세요?\\n아 네 안녕하세요 저희 그 하나캐피탈에서 연락을...</td>\n      <td>1</td>\n      <td>432</td>\n      <td>네 네 여보세요 뭐 어디세요 아 네 안녕하세요 저희 그 하나캐피탈에서 연락을 드렸습...</td>\n      <td>424</td>\n    </tr>\n    <tr>\n      <th>2926</th>\n      <td>통장명이 (삐-) 계좌 맞구요? 그리고 통장 발급 일은 2017년 3월 14일입니다...</td>\n      <td>1</td>\n      <td>357</td>\n      <td>통장명이 삐 계좌 맞구요 그리고 통장 발급 일은 2017년 3월 14일입니다 작년 ...</td>\n      <td>336</td>\n    </tr>\n  </tbody>\n</table>\n<p>2927 rows × 5 columns</p>\n</div>"
     },
     "execution_count": 25,
     "metadata": {},
     "output_type": "execute_result"
    }
   ],
   "source": [
    "dataset"
   ]
  },
  {
   "cell_type": "code",
   "execution_count": 26,
   "id": "77bc29fe-2549-4971-bd50-0da4a85ace18",
   "metadata": {
    "ExecuteTime": {
     "end_time": "2023-11-01T12:47:29.851407700Z",
     "start_time": "2023-11-01T12:47:27.097687300Z"
    }
   },
   "outputs": [],
   "source": [
    "# Save the cleansed dataset\n",
    "dataset.to_csv(\"KorCCVi_v2_cleaned_1.csv\")"
   ]
  },
  {
   "cell_type": "markdown",
   "id": "000f22cb-a076-4a99-a37a-91796cfaeb2a",
   "metadata": {},
   "source": [
    "## Remove the Korean stop words"
   ]
  },
  {
   "cell_type": "code",
   "execution_count": 27,
   "id": "7bb18c5b-2c18-448e-967f-74d326396ae3",
   "metadata": {
    "ExecuteTime": {
     "end_time": "2023-11-01T12:47:29.852411200Z",
     "start_time": "2023-11-01T12:47:28.196565700Z"
    }
   },
   "outputs": [],
   "source": [
    "# from pandas import DataFrame \n",
    "# transcript_clean=DataFrame(dataset['transcript_clean'])"
   ]
  },
  {
   "cell_type": "code",
   "execution_count": 28,
   "id": "be6fe4b0-40c5-4482-92b7-c245cd0800fb",
   "metadata": {
    "ExecuteTime": {
     "end_time": "2023-11-01T12:47:29.899909600Z",
     "start_time": "2023-11-01T12:47:28.199566400Z"
    }
   },
   "outputs": [
    {
     "data": {
      "text/plain": "                                          transcript  label  length  \\\n0  저는 여행 다니는 것을 굉장히 좋아하는데요. 그래가지고 스페인이나 뭐 영국 유럽 아...      0    5773   \n1  반려동물을 키우고 계신가요? 혹시 안 키우고 계시다면은 어떤 반려동물을 한번 키워보...      0    5126   \n2   씨는 주로 어떤 음식 좋아하시나요? 저는 근데 가리는 게 거의 없어서 대부분 다 ...      0    4970   \n3   씨는 반려동물 어~ 좋 뭐 어떤 동물 좋아하세요? 저는 고양이를 정말 좋아하는데요...      0    5480   \n4  가장 좋아하는 음식이 무엇인가요? 저는 주로 먹는 거를 좋아해서 음식을 가리지 않고...      0    4141   \n\n                                    transcript_clean  length_transcript_clean  \n0  저는 여행 다니는 것을 굉장히 좋아하는데요 그래가지고 스페인이나 뭐 영국 유럽 아니...                     5629  \n1  반려동물을 키우고 계신가요 혹시 안 키우고 계시다면은 어떤 반려동물을 한번 키워보고...                     5024  \n2   씨는 주로 어떤 음식 좋아하시나요 저는 근데 가리는 게 거의 없어서 대부분 다 잘...                     4877  \n3   씨는 반려동물 어 좋 뭐 어떤 동물 좋아하세요 저는 고양이를 정말 좋아하는데요 정...                     5383  \n4  가장 좋아하는 음식이 무엇인가요 저는 주로 먹는 거를 좋아해서 음식을 가리지 않고 ...                     4057  ",
      "text/html": "<div>\n<style scoped>\n    .dataframe tbody tr th:only-of-type {\n        vertical-align: middle;\n    }\n\n    .dataframe tbody tr th {\n        vertical-align: top;\n    }\n\n    .dataframe thead th {\n        text-align: right;\n    }\n</style>\n<table border=\"1\" class=\"dataframe\">\n  <thead>\n    <tr style=\"text-align: right;\">\n      <th></th>\n      <th>transcript</th>\n      <th>label</th>\n      <th>length</th>\n      <th>transcript_clean</th>\n      <th>length_transcript_clean</th>\n    </tr>\n  </thead>\n  <tbody>\n    <tr>\n      <th>0</th>\n      <td>저는 여행 다니는 것을 굉장히 좋아하는데요. 그래가지고 스페인이나 뭐 영국 유럽 아...</td>\n      <td>0</td>\n      <td>5773</td>\n      <td>저는 여행 다니는 것을 굉장히 좋아하는데요 그래가지고 스페인이나 뭐 영국 유럽 아니...</td>\n      <td>5629</td>\n    </tr>\n    <tr>\n      <th>1</th>\n      <td>반려동물을 키우고 계신가요? 혹시 안 키우고 계시다면은 어떤 반려동물을 한번 키워보...</td>\n      <td>0</td>\n      <td>5126</td>\n      <td>반려동물을 키우고 계신가요 혹시 안 키우고 계시다면은 어떤 반려동물을 한번 키워보고...</td>\n      <td>5024</td>\n    </tr>\n    <tr>\n      <th>2</th>\n      <td>씨는 주로 어떤 음식 좋아하시나요? 저는 근데 가리는 게 거의 없어서 대부분 다 ...</td>\n      <td>0</td>\n      <td>4970</td>\n      <td>씨는 주로 어떤 음식 좋아하시나요 저는 근데 가리는 게 거의 없어서 대부분 다 잘...</td>\n      <td>4877</td>\n    </tr>\n    <tr>\n      <th>3</th>\n      <td>씨는 반려동물 어~ 좋 뭐 어떤 동물 좋아하세요? 저는 고양이를 정말 좋아하는데요...</td>\n      <td>0</td>\n      <td>5480</td>\n      <td>씨는 반려동물 어 좋 뭐 어떤 동물 좋아하세요 저는 고양이를 정말 좋아하는데요 정...</td>\n      <td>5383</td>\n    </tr>\n    <tr>\n      <th>4</th>\n      <td>가장 좋아하는 음식이 무엇인가요? 저는 주로 먹는 거를 좋아해서 음식을 가리지 않고...</td>\n      <td>0</td>\n      <td>4141</td>\n      <td>가장 좋아하는 음식이 무엇인가요 저는 주로 먹는 거를 좋아해서 음식을 가리지 않고 ...</td>\n      <td>4057</td>\n    </tr>\n  </tbody>\n</table>\n</div>"
     },
     "execution_count": 28,
     "metadata": {},
     "output_type": "execute_result"
    }
   ],
   "source": [
    "# transcript_clean\n",
    "dataset.head()"
   ]
  },
  {
   "cell_type": "code",
   "execution_count": 29,
   "id": "deee4ebb-2c32-4bca-ac53-5d34ef13b9e9",
   "metadata": {
    "ExecuteTime": {
     "end_time": "2023-11-01T12:47:42.518038Z",
     "start_time": "2023-11-01T12:47:28.232653700Z"
    }
   },
   "outputs": [],
   "source": [
    "from konlpy.tag import Mecab\n",
    "mecab = Mecab()\n",
    "\n",
    "transcript_clean_doc = [(mecab.morphs(x)) for x in dataset['transcript_clean']]"
   ]
  },
  {
   "cell_type": "code",
   "execution_count": 30,
   "id": "f0e59a12-7fab-41dd-a428-4aceed38d203",
   "metadata": {
    "ExecuteTime": {
     "end_time": "2023-11-01T12:47:42.527062700Z",
     "start_time": "2023-11-01T12:47:42.521548800Z"
    }
   },
   "outputs": [],
   "source": [
    "## remove the stop word\n",
    "stopwords = [\"을\", \"를\", \"이\", \"가\", \"ㅡ\", \"은\", \"는\", \"XXX\", \"xxx\", \"어요\", \"아니\", \"입니다\", \"에서\", \"니까\", \"으로\",\n",
    "             \"근데\", \"습니다\", \"습니까\", \"저희\", \"합니다\", \"하고\", \"싶어요\", \"있는\", \"있습니다\", \"싶습니다\", \"그냥\",\n",
    "             \"고요\", \"에요\", \"예요\", \"으시\", \"그래서\"]\n",
    "\n",
    "# open and read the file containing comprehenisive stopwords \n",
    "# stopwords_all = open(\"stopwords-ko.txt\").readlines()\n",
    "\n",
    "# function to remove the stop word from the train and test dataframe\n",
    "def get_model_input(_words):\n",
    "    global stopwords\n",
    "    _words = [x for x in _words if x[0] not in stopwords]\n",
    "    _words = [x for x in _words if x[:-1] not in stopwords]\n",
    "\n",
    "    for i in range(len(_words)-1):\n",
    "        yield _words[i]"
   ]
  },
  {
   "cell_type": "code",
   "execution_count": 31,
   "id": "78d68c55-eb2b-4c47-b806-66ffceb8e070",
   "metadata": {
    "ExecuteTime": {
     "end_time": "2023-11-01T12:47:42.555854600Z",
     "start_time": "2023-11-01T12:47:42.526062600Z"
    }
   },
   "outputs": [],
   "source": [
    "def get_corpus(df):\n",
    "    corpus = []\n",
    "    for lwords in df:    \n",
    "        temp = []\n",
    "        for x in get_model_input(lwords):\n",
    "            if len(x) != 1:\n",
    "                temp.append(\"{}\".format(x))\n",
    "        corpus.append(\" \".join(temp))\n",
    "    return corpus        "
   ]
  },
  {
   "cell_type": "code",
   "execution_count": 32,
   "id": "61f2d189-5626-4ebc-bbbc-2609f72e9635",
   "metadata": {
    "ExecuteTime": {
     "end_time": "2023-11-01T12:47:44.856701100Z",
     "start_time": "2023-11-01T12:47:42.532063300Z"
    }
   },
   "outputs": [],
   "source": [
    "corpus = get_corpus(transcript_clean_doc)"
   ]
  },
  {
   "cell_type": "code",
   "execution_count": 33,
   "id": "09ac3719-0c78-468b-92aa-53194444b92d",
   "metadata": {
    "ExecuteTime": {
     "end_time": "2023-11-01T12:47:44.866821400Z",
     "start_time": "2023-11-01T12:47:44.856701100Z"
    }
   },
   "outputs": [
    {
     "data": {
      "text/plain": "                                          transcript  label  length  \\\n0  저는 여행 다니는 것을 굉장히 좋아하는데요. 그래가지고 스페인이나 뭐 영국 유럽 아...      0    5773   \n1  반려동물을 키우고 계신가요? 혹시 안 키우고 계시다면은 어떤 반려동물을 한번 키워보...      0    5126   \n2   씨는 주로 어떤 음식 좋아하시나요? 저는 근데 가리는 게 거의 없어서 대부분 다 ...      0    4970   \n3   씨는 반려동물 어~ 좋 뭐 어떤 동물 좋아하세요? 저는 고양이를 정말 좋아하는데요...      0    5480   \n4  가장 좋아하는 음식이 무엇인가요? 저는 주로 먹는 거를 좋아해서 음식을 가리지 않고...      0    4141   \n\n                                    transcript_clean  length_transcript_clean  \\\n0  저는 여행 다니는 것을 굉장히 좋아하는데요 그래가지고 스페인이나 뭐 영국 유럽 아니...                     5629   \n1  반려동물을 키우고 계신가요 혹시 안 키우고 계시다면은 어떤 반려동물을 한번 키워보고...                     5024   \n2   씨는 주로 어떤 음식 좋아하시나요 저는 근데 가리는 게 거의 없어서 대부분 다 잘...                     4877   \n3   씨는 반려동물 어 좋 뭐 어떤 동물 좋아하세요 저는 고양이를 정말 좋아하는데요 정...                     5383   \n4  가장 좋아하는 음식이 무엇인가요 저는 주로 먹는 거를 좋아해서 음식을 가리지 않고 ...                     4057   \n\n                                              corpus  \n0  여행 다니 굉장히 그래 스페인 영국 유럽 아니 국내 에서 강릉 전주 많이 다녔 혹시...  \n1  반려 동물 키우 계신가요 혹시 키우 계시 다면은 어떤 반려 동물 한번 키워 생각 으...  \n2  주로 어떤 음식 나요 근데 거의 어서 대부분 인데 중식 평소 너무 기름진 니까 매운...  \n3  반려 동물 어떤 동물 세요 고양이 정말 정말 사랑 정도 진짜 유튜브 항상 고양이 채...  \n4  음식 무엇 인가요 주로 좋아해서 음식 매운 음식 특히 합니다 그래서 떡볶이 카레 매...  ",
      "text/html": "<div>\n<style scoped>\n    .dataframe tbody tr th:only-of-type {\n        vertical-align: middle;\n    }\n\n    .dataframe tbody tr th {\n        vertical-align: top;\n    }\n\n    .dataframe thead th {\n        text-align: right;\n    }\n</style>\n<table border=\"1\" class=\"dataframe\">\n  <thead>\n    <tr style=\"text-align: right;\">\n      <th></th>\n      <th>transcript</th>\n      <th>label</th>\n      <th>length</th>\n      <th>transcript_clean</th>\n      <th>length_transcript_clean</th>\n      <th>corpus</th>\n    </tr>\n  </thead>\n  <tbody>\n    <tr>\n      <th>0</th>\n      <td>저는 여행 다니는 것을 굉장히 좋아하는데요. 그래가지고 스페인이나 뭐 영국 유럽 아...</td>\n      <td>0</td>\n      <td>5773</td>\n      <td>저는 여행 다니는 것을 굉장히 좋아하는데요 그래가지고 스페인이나 뭐 영국 유럽 아니...</td>\n      <td>5629</td>\n      <td>여행 다니 굉장히 그래 스페인 영국 유럽 아니 국내 에서 강릉 전주 많이 다녔 혹시...</td>\n    </tr>\n    <tr>\n      <th>1</th>\n      <td>반려동물을 키우고 계신가요? 혹시 안 키우고 계시다면은 어떤 반려동물을 한번 키워보...</td>\n      <td>0</td>\n      <td>5126</td>\n      <td>반려동물을 키우고 계신가요 혹시 안 키우고 계시다면은 어떤 반려동물을 한번 키워보고...</td>\n      <td>5024</td>\n      <td>반려 동물 키우 계신가요 혹시 키우 계시 다면은 어떤 반려 동물 한번 키워 생각 으...</td>\n    </tr>\n    <tr>\n      <th>2</th>\n      <td>씨는 주로 어떤 음식 좋아하시나요? 저는 근데 가리는 게 거의 없어서 대부분 다 ...</td>\n      <td>0</td>\n      <td>4970</td>\n      <td>씨는 주로 어떤 음식 좋아하시나요 저는 근데 가리는 게 거의 없어서 대부분 다 잘...</td>\n      <td>4877</td>\n      <td>주로 어떤 음식 나요 근데 거의 어서 대부분 인데 중식 평소 너무 기름진 니까 매운...</td>\n    </tr>\n    <tr>\n      <th>3</th>\n      <td>씨는 반려동물 어~ 좋 뭐 어떤 동물 좋아하세요? 저는 고양이를 정말 좋아하는데요...</td>\n      <td>0</td>\n      <td>5480</td>\n      <td>씨는 반려동물 어 좋 뭐 어떤 동물 좋아하세요 저는 고양이를 정말 좋아하는데요 정...</td>\n      <td>5383</td>\n      <td>반려 동물 어떤 동물 세요 고양이 정말 정말 사랑 정도 진짜 유튜브 항상 고양이 채...</td>\n    </tr>\n    <tr>\n      <th>4</th>\n      <td>가장 좋아하는 음식이 무엇인가요? 저는 주로 먹는 거를 좋아해서 음식을 가리지 않고...</td>\n      <td>0</td>\n      <td>4141</td>\n      <td>가장 좋아하는 음식이 무엇인가요 저는 주로 먹는 거를 좋아해서 음식을 가리지 않고 ...</td>\n      <td>4057</td>\n      <td>음식 무엇 인가요 주로 좋아해서 음식 매운 음식 특히 합니다 그래서 떡볶이 카레 매...</td>\n    </tr>\n  </tbody>\n</table>\n</div>"
     },
     "execution_count": 33,
     "metadata": {},
     "output_type": "execute_result"
    }
   ],
   "source": [
    "#adding new columnto datafram\n",
    "dataset['corpus'] = corpus\n",
    "dataset.head()"
   ]
  },
  {
   "cell_type": "code",
   "execution_count": 34,
   "id": "2229ff6f-2427-4959-bbca-f23592b1c46e",
   "metadata": {
    "ExecuteTime": {
     "end_time": "2023-11-01T12:47:44.903953300Z",
     "start_time": "2023-11-01T12:47:44.865209100Z"
    }
   },
   "outputs": [
    {
     "data": {
      "text/plain": "                                          transcript  label  length  \\\n0  저는 여행 다니는 것을 굉장히 좋아하는데요. 그래가지고 스페인이나 뭐 영국 유럽 아...      0    5773   \n1  반려동물을 키우고 계신가요? 혹시 안 키우고 계시다면은 어떤 반려동물을 한번 키워보...      0    5126   \n2   씨는 주로 어떤 음식 좋아하시나요? 저는 근데 가리는 게 거의 없어서 대부분 다 ...      0    4970   \n3   씨는 반려동물 어~ 좋 뭐 어떤 동물 좋아하세요? 저는 고양이를 정말 좋아하는데요...      0    5480   \n4  가장 좋아하는 음식이 무엇인가요? 저는 주로 먹는 거를 좋아해서 음식을 가리지 않고...      0    4141   \n\n                                    transcript_clean  length_transcript_clean  \\\n0  저는 여행 다니는 것을 굉장히 좋아하는데요 그래가지고 스페인이나 뭐 영국 유럽 아니...                     5629   \n1  반려동물을 키우고 계신가요 혹시 안 키우고 계시다면은 어떤 반려동물을 한번 키워보고...                     5024   \n2   씨는 주로 어떤 음식 좋아하시나요 저는 근데 가리는 게 거의 없어서 대부분 다 잘...                     4877   \n3   씨는 반려동물 어 좋 뭐 어떤 동물 좋아하세요 저는 고양이를 정말 좋아하는데요 정...                     5383   \n4  가장 좋아하는 음식이 무엇인가요 저는 주로 먹는 거를 좋아해서 음식을 가리지 않고 ...                     4057   \n\n                                              corpus  \n0  여행 다니 굉장히 그래 스페인 영국 유럽 아니 국내 에서 강릉 전주 많이 다녔 혹시...  \n1  반려 동물 키우 계신가요 혹시 키우 계시 다면은 어떤 반려 동물 한번 키워 생각 으...  \n2  주로 어떤 음식 나요 근데 거의 어서 대부분 인데 중식 평소 너무 기름진 니까 매운...  \n3  반려 동물 어떤 동물 세요 고양이 정말 정말 사랑 정도 진짜 유튜브 항상 고양이 채...  \n4  음식 무엇 인가요 주로 좋아해서 음식 매운 음식 특히 합니다 그래서 떡볶이 카레 매...  ",
      "text/html": "<div>\n<style scoped>\n    .dataframe tbody tr th:only-of-type {\n        vertical-align: middle;\n    }\n\n    .dataframe tbody tr th {\n        vertical-align: top;\n    }\n\n    .dataframe thead th {\n        text-align: right;\n    }\n</style>\n<table border=\"1\" class=\"dataframe\">\n  <thead>\n    <tr style=\"text-align: right;\">\n      <th></th>\n      <th>transcript</th>\n      <th>label</th>\n      <th>length</th>\n      <th>transcript_clean</th>\n      <th>length_transcript_clean</th>\n      <th>corpus</th>\n    </tr>\n  </thead>\n  <tbody>\n    <tr>\n      <th>0</th>\n      <td>저는 여행 다니는 것을 굉장히 좋아하는데요. 그래가지고 스페인이나 뭐 영국 유럽 아...</td>\n      <td>0</td>\n      <td>5773</td>\n      <td>저는 여행 다니는 것을 굉장히 좋아하는데요 그래가지고 스페인이나 뭐 영국 유럽 아니...</td>\n      <td>5629</td>\n      <td>여행 다니 굉장히 그래 스페인 영국 유럽 아니 국내 에서 강릉 전주 많이 다녔 혹시...</td>\n    </tr>\n    <tr>\n      <th>1</th>\n      <td>반려동물을 키우고 계신가요? 혹시 안 키우고 계시다면은 어떤 반려동물을 한번 키워보...</td>\n      <td>0</td>\n      <td>5126</td>\n      <td>반려동물을 키우고 계신가요 혹시 안 키우고 계시다면은 어떤 반려동물을 한번 키워보고...</td>\n      <td>5024</td>\n      <td>반려 동물 키우 계신가요 혹시 키우 계시 다면은 어떤 반려 동물 한번 키워 생각 으...</td>\n    </tr>\n    <tr>\n      <th>2</th>\n      <td>씨는 주로 어떤 음식 좋아하시나요? 저는 근데 가리는 게 거의 없어서 대부분 다 ...</td>\n      <td>0</td>\n      <td>4970</td>\n      <td>씨는 주로 어떤 음식 좋아하시나요 저는 근데 가리는 게 거의 없어서 대부분 다 잘...</td>\n      <td>4877</td>\n      <td>주로 어떤 음식 나요 근데 거의 어서 대부분 인데 중식 평소 너무 기름진 니까 매운...</td>\n    </tr>\n    <tr>\n      <th>3</th>\n      <td>씨는 반려동물 어~ 좋 뭐 어떤 동물 좋아하세요? 저는 고양이를 정말 좋아하는데요...</td>\n      <td>0</td>\n      <td>5480</td>\n      <td>씨는 반려동물 어 좋 뭐 어떤 동물 좋아하세요 저는 고양이를 정말 좋아하는데요 정...</td>\n      <td>5383</td>\n      <td>반려 동물 어떤 동물 세요 고양이 정말 정말 사랑 정도 진짜 유튜브 항상 고양이 채...</td>\n    </tr>\n    <tr>\n      <th>4</th>\n      <td>가장 좋아하는 음식이 무엇인가요? 저는 주로 먹는 거를 좋아해서 음식을 가리지 않고...</td>\n      <td>0</td>\n      <td>4141</td>\n      <td>가장 좋아하는 음식이 무엇인가요 저는 주로 먹는 거를 좋아해서 음식을 가리지 않고 ...</td>\n      <td>4057</td>\n      <td>음식 무엇 인가요 주로 좋아해서 음식 매운 음식 특히 합니다 그래서 떡볶이 카레 매...</td>\n    </tr>\n  </tbody>\n</table>\n</div>"
     },
     "execution_count": 34,
     "metadata": {},
     "output_type": "execute_result"
    }
   ],
   "source": [
    "#adding new column\n",
    "dataset['corpus'] = corpus\n",
    "dataset.head()"
   ]
  },
  {
   "cell_type": "code",
   "execution_count": 35,
   "id": "ecddf342-6ba9-4628-8f24-f669888e3562",
   "metadata": {
    "ExecuteTime": {
     "end_time": "2023-11-01T12:47:44.949541400Z",
     "start_time": "2023-11-01T12:47:44.880299200Z"
    }
   },
   "outputs": [
    {
     "data": {
      "text/plain": "                                          transcript  label  length  \\\n0  저는 여행 다니는 것을 굉장히 좋아하는데요. 그래가지고 스페인이나 뭐 영국 유럽 아...      0    5773   \n1  반려동물을 키우고 계신가요? 혹시 안 키우고 계시다면은 어떤 반려동물을 한번 키워보...      0    5126   \n2   씨는 주로 어떤 음식 좋아하시나요? 저는 근데 가리는 게 거의 없어서 대부분 다 ...      0    4970   \n3   씨는 반려동물 어~ 좋 뭐 어떤 동물 좋아하세요? 저는 고양이를 정말 좋아하는데요...      0    5480   \n4  가장 좋아하는 음식이 무엇인가요? 저는 주로 먹는 거를 좋아해서 음식을 가리지 않고...      0    4141   \n\n                                    transcript_clean  length_transcript_clean  \\\n0  저는 여행 다니는 것을 굉장히 좋아하는데요 그래가지고 스페인이나 뭐 영국 유럽 아니...                     5629   \n1  반려동물을 키우고 계신가요 혹시 안 키우고 계시다면은 어떤 반려동물을 한번 키워보고...                     5024   \n2   씨는 주로 어떤 음식 좋아하시나요 저는 근데 가리는 게 거의 없어서 대부분 다 잘...                     4877   \n3   씨는 반려동물 어 좋 뭐 어떤 동물 좋아하세요 저는 고양이를 정말 좋아하는데요 정...                     5383   \n4  가장 좋아하는 음식이 무엇인가요 저는 주로 먹는 거를 좋아해서 음식을 가리지 않고 ...                     4057   \n\n                                              corpus  length_corpus  \n0  여행 다니 굉장히 그래 스페인 영국 유럽 아니 국내 에서 강릉 전주 많이 다녔 혹시...           3388  \n1  반려 동물 키우 계신가요 혹시 키우 계시 다면은 어떤 반려 동물 한번 키워 생각 으...           3087  \n2  주로 어떤 음식 나요 근데 거의 어서 대부분 인데 중식 평소 너무 기름진 니까 매운...           2836  \n3  반려 동물 어떤 동물 세요 고양이 정말 정말 사랑 정도 진짜 유튜브 항상 고양이 채...           2998  \n4  음식 무엇 인가요 주로 좋아해서 음식 매운 음식 특히 합니다 그래서 떡볶이 카레 매...           2304  ",
      "text/html": "<div>\n<style scoped>\n    .dataframe tbody tr th:only-of-type {\n        vertical-align: middle;\n    }\n\n    .dataframe tbody tr th {\n        vertical-align: top;\n    }\n\n    .dataframe thead th {\n        text-align: right;\n    }\n</style>\n<table border=\"1\" class=\"dataframe\">\n  <thead>\n    <tr style=\"text-align: right;\">\n      <th></th>\n      <th>transcript</th>\n      <th>label</th>\n      <th>length</th>\n      <th>transcript_clean</th>\n      <th>length_transcript_clean</th>\n      <th>corpus</th>\n      <th>length_corpus</th>\n    </tr>\n  </thead>\n  <tbody>\n    <tr>\n      <th>0</th>\n      <td>저는 여행 다니는 것을 굉장히 좋아하는데요. 그래가지고 스페인이나 뭐 영국 유럽 아...</td>\n      <td>0</td>\n      <td>5773</td>\n      <td>저는 여행 다니는 것을 굉장히 좋아하는데요 그래가지고 스페인이나 뭐 영국 유럽 아니...</td>\n      <td>5629</td>\n      <td>여행 다니 굉장히 그래 스페인 영국 유럽 아니 국내 에서 강릉 전주 많이 다녔 혹시...</td>\n      <td>3388</td>\n    </tr>\n    <tr>\n      <th>1</th>\n      <td>반려동물을 키우고 계신가요? 혹시 안 키우고 계시다면은 어떤 반려동물을 한번 키워보...</td>\n      <td>0</td>\n      <td>5126</td>\n      <td>반려동물을 키우고 계신가요 혹시 안 키우고 계시다면은 어떤 반려동물을 한번 키워보고...</td>\n      <td>5024</td>\n      <td>반려 동물 키우 계신가요 혹시 키우 계시 다면은 어떤 반려 동물 한번 키워 생각 으...</td>\n      <td>3087</td>\n    </tr>\n    <tr>\n      <th>2</th>\n      <td>씨는 주로 어떤 음식 좋아하시나요? 저는 근데 가리는 게 거의 없어서 대부분 다 ...</td>\n      <td>0</td>\n      <td>4970</td>\n      <td>씨는 주로 어떤 음식 좋아하시나요 저는 근데 가리는 게 거의 없어서 대부분 다 잘...</td>\n      <td>4877</td>\n      <td>주로 어떤 음식 나요 근데 거의 어서 대부분 인데 중식 평소 너무 기름진 니까 매운...</td>\n      <td>2836</td>\n    </tr>\n    <tr>\n      <th>3</th>\n      <td>씨는 반려동물 어~ 좋 뭐 어떤 동물 좋아하세요? 저는 고양이를 정말 좋아하는데요...</td>\n      <td>0</td>\n      <td>5480</td>\n      <td>씨는 반려동물 어 좋 뭐 어떤 동물 좋아하세요 저는 고양이를 정말 좋아하는데요 정...</td>\n      <td>5383</td>\n      <td>반려 동물 어떤 동물 세요 고양이 정말 정말 사랑 정도 진짜 유튜브 항상 고양이 채...</td>\n      <td>2998</td>\n    </tr>\n    <tr>\n      <th>4</th>\n      <td>가장 좋아하는 음식이 무엇인가요? 저는 주로 먹는 거를 좋아해서 음식을 가리지 않고...</td>\n      <td>0</td>\n      <td>4141</td>\n      <td>가장 좋아하는 음식이 무엇인가요 저는 주로 먹는 거를 좋아해서 음식을 가리지 않고 ...</td>\n      <td>4057</td>\n      <td>음식 무엇 인가요 주로 좋아해서 음식 매운 음식 특히 합니다 그래서 떡볶이 카레 매...</td>\n      <td>2304</td>\n    </tr>\n  </tbody>\n</table>\n</div>"
     },
     "execution_count": 35,
     "metadata": {},
     "output_type": "execute_result"
    }
   ],
   "source": [
    "dataset['length_corpus'] = dataset['corpus'].apply(lambda x: len(x))\n",
    "dataset.head()"
   ]
  },
  {
   "cell_type": "code",
   "execution_count": 36,
   "id": "92e7ef84-4e67-4e49-864c-7ede6699c53d",
   "metadata": {
    "ExecuteTime": {
     "end_time": "2023-11-01T12:47:46.111560300Z",
     "start_time": "2023-11-01T12:47:44.894451400Z"
    }
   },
   "outputs": [],
   "source": [
    "# Save the final cleansed dataset\n",
    "dataset.to_csv(\"KorCCVi_v2_cleaned_2.csv\")"
   ]
  },
  {
   "cell_type": "code",
   "execution_count": 37,
   "id": "97a7ff02-65ac-4009-90b4-0133a164fcd4",
   "metadata": {
    "ExecuteTime": {
     "end_time": "2023-11-01T12:47:53.704100200Z",
     "start_time": "2023-11-01T12:47:46.085985300Z"
    }
   },
   "outputs": [
    {
     "data": {
      "text/plain": "<Figure size 2400x600 with 1 Axes>",
      "image/png": "[encoded data removed]"
     },
     "metadata": {},
     "output_type": "display_data"
    },
    {
     "data": {
      "text/plain": "<Figure size 2400x600 with 1 Axes>",
      "image/png": "[encoded data removed]"
     },
     "metadata": {},
     "output_type": "display_data"
    }
   ],
   "source": [
    "# wordcloud =False\n",
    "plt.figure(figsize = (24, 6))\n",
    "wc = WordCloud(min_font_size = 10, background_color = 'lightblue')\n",
    "spam_wc = wc.generate(dataset[dataset['label'] == 1]['corpus'].str.cat(sep = \" \"))\n",
    "plt.xticks([])\n",
    "plt.yticks([])\n",
    "plt.imshow(spam_wc)\n",
    "\n",
    "plt.figure(figsize = (24, 6))\n",
    "wc = WordCloud(min_font_size = 10, background_color = 'lightblue')\n",
    "ham_wc = wc.generate(dataset[dataset['label'] == 0]['corpus'].str.cat(sep = \" \"))\n",
    "plt.xticks([])\n",
    "plt.yticks([])\n",
    "plt.imshow(ham_wc);"
   ]
  },
  {
   "cell_type": "code",
   "execution_count": 38,
   "id": "cc559171-48e4-469c-b868-d37e793eb38e",
   "metadata": {
    "ExecuteTime": {
     "end_time": "2023-11-01T12:47:53.813801700Z",
     "start_time": "2023-11-01T12:47:53.707100300Z"
    }
   },
   "outputs": [],
   "source": [
    "def plot_class_distribution(data, title):\n",
    "    sns.set(style=\"darkgrid\")\n",
    "    ax = sns.countplot(x='label', data=data)\n",
    "    ax.set_title(title)\n",
    "    \n",
    "    # Annotate the bars with the number of samples\n",
    "    for p in ax.patches:\n",
    "        ax.annotate(f'{p.get_height()}', (p.get_x() + p.get_width() / 2., p.get_height()),\n",
    "                    ha='center', va='baseline', fontsize=11, color='black', xytext=(0, 5),\n",
    "                    textcoords='offset points')\n",
    "        \n",
    "    plt.show()"
   ]
  },
  {
   "cell_type": "code",
   "execution_count": 39,
   "id": "1bec051c-611b-432c-a654-fcb255ac14fa",
   "metadata": {
    "ExecuteTime": {
     "end_time": "2023-11-01T12:47:53.814803200Z",
     "start_time": "2023-11-01T12:47:53.709604700Z"
    }
   },
   "outputs": [
    {
     "data": {
      "text/plain": "<Figure size 640x480 with 1 Axes>",
      "image/png": "[encoded data removed]"
     },
     "metadata": {},
     "output_type": "display_data"
    }
   ],
   "source": [
    "plot_class_distribution(dataset, 'Dataset Class Distribution')"
   ]
  },
  {
   "cell_type": "markdown",
   "id": "1f99896f-d829-4d40-b78b-90fe6e7dee2a",
   "metadata": {
    "tags": []
   },
   "source": [
    "# Split Dataset in train and test"
   ]
  },
  {
   "cell_type": "code",
   "execution_count": 40,
   "id": "8b3f1406-5cf6-4d84-85d5-03abf0a932eb",
   "metadata": {
    "ExecuteTime": {
     "end_time": "2023-11-01T12:47:53.814803200Z",
     "start_time": "2023-11-01T12:47:53.806055800Z"
    }
   },
   "outputs": [],
   "source": [
    "def split_plot_dataset(dataset):\n",
    "    # Sliptting dataframe into train and test dataframe\n",
    "    df_train, df_test = train_test_split(dataset, test_size=0.15, random_state=42, shuffle=True)\n",
    "\n",
    "    # slip the train set and reseve 20% of the data for the evaluation\n",
    "    df_train, df_validation = train_test_split(df_train, test_size=0.15, random_state=42, shuffle=True)\n",
    "    \n",
    "    plot_class_distribution(df_train, 'Trainset Class Distribution')\n",
    "    plot_class_distribution(df_validation, 'Validation Class Distribution')\n",
    "    plot_class_distribution(df_test, 'Testset Class Distribution')\n",
    "    \n",
    "    return df_train, df_test, df_validation"
   ]
  },
  {
   "cell_type": "code",
   "execution_count": 41,
   "id": "1e78d21d-17c2-4e7c-9e38-6ef1343bc136",
   "metadata": {
    "ExecuteTime": {
     "end_time": "2023-11-01T12:47:54.177115300Z",
     "start_time": "2023-11-01T12:47:53.809295400Z"
    }
   },
   "outputs": [
    {
     "data": {
      "text/plain": "<Figure size 640x480 with 1 Axes>",
      "image/png": "[encoded data removed]"
     },
     "metadata": {},
     "output_type": "display_data"
    },
    {
     "data": {
      "text/plain": "<Figure size 640x480 with 1 Axes>",
      "image/png": "[encoded data removed]"
     },
     "metadata": {},
     "output_type": "display_data"
    },
    {
     "data": {
      "text/plain": "<Figure size 640x480 with 1 Axes>",
      "image/png": "[encoded data removed]"
     },
     "metadata": {},
     "output_type": "display_data"
    }
   ],
   "source": [
    "df_train, df_test, df_validation = split_plot_dataset(dataset)"
   ]
  },
  {
   "cell_type": "markdown",
   "id": "11e8a40d-61a2-4371-b4df-c2915f25479f",
   "metadata": {
    "tags": []
   },
   "source": [
    "# Vectorization of the dataset"
   ]
  },
  {
   "cell_type": "markdown",
   "id": "a07c5f82-40af-42da-ae16-0b5e95e31a19",
   "metadata": {
    "tags": []
   },
   "source": [
    "## TF-IDF - Vectorized by weighting with TF-IDF"
   ]
  },
  {
   "cell_type": "code",
   "execution_count": 42,
   "id": "d50c597d-c916-4991-83aa-251c39fa8d13",
   "metadata": {
    "ExecuteTime": {
     "end_time": "2023-11-01T12:47:54.177115300Z",
     "start_time": "2023-11-01T12:47:54.109255800Z"
    }
   },
   "outputs": [],
   "source": [
    "def vectorize_dataset(df_train, df_test, df_validation):\n",
    "    # Convert a collection of raw documents to a matrix of TF-IDF features.\n",
    "    tfidf = TfidfVectorizer(# analyzer='word', # default='word'\n",
    "                            ngram_range=(1, 3), #(2, 6), # 3,6\n",
    "                            max_df=0.5, #ignoring terms that have a document frequency higher than 0.5\n",
    "                            # min_df=2, # 10\n",
    "                            max_features=2000, #300, 500, 10000 (thsi will limit the vocavulary)\n",
    "                            sublinear_tf=True, #replaces tf with 1 + log(tf), twenty occurrences of a term in a document\n",
    "                                                #does not represent twenty times the significance of a single occurrence\n",
    "                            use_idf=True\n",
    "    )\n",
    "\n",
    "    # tfidf = TfidfVectorizer()    \n",
    "    \n",
    "    X_train = tfidf.fit_transform(df_train['corpus']).toarray()\n",
    "    X_validation = tfidf.fit_transform(df_validation['corpus']).toarray()\n",
    "    X_test = tfidf.transform(df_test['corpus']).toarray()\n",
    "\n",
    "    #Converting the sparse matrix into an array\n",
    "    #We then apply the toarray function to convert the sparse matrix into an array.\n",
    "    # X_train = X_train.toarray()\n",
    "    # X_validation = X_validation.toarray()\n",
    "    # X_test = X_test.toarray()\n",
    "\n",
    "    y_train, y_validation, y_test = df_train['label'], df_validation['label'], df_test['label']\n",
    "    \n",
    "    return X_train, X_validation, X_test, y_train, y_validation, y_test"
   ]
  },
  {
   "cell_type": "code",
   "execution_count": 43,
   "id": "ef360e69-74c6-4ba1-a933-7fd4a5880ea8",
   "metadata": {
    "ExecuteTime": {
     "end_time": "2023-11-01T12:48:06.348580800Z",
     "start_time": "2023-11-01T12:47:54.111257400Z"
    }
   },
   "outputs": [],
   "source": [
    "X_train, X_validation, X_test, y_train, y_validation, y_test = vectorize_dataset(df_train, df_test, df_validation)\n",
    "\n",
    "#set the evaluation set for early stop models\n",
    "eval_set = [(X_validation, y_validation)]"
   ]
  },
  {
   "cell_type": "markdown",
   "id": "98a9193e-1ecf-4409-a2f0-501f4a7905b8",
   "metadata": {
    "tags": []
   },
   "source": [
    "# Training ML models with imballanced dataset"
   ]
  },
  {
   "cell_type": "code",
   "execution_count": 44,
   "id": "b666ed75-610f-4ca3-98e2-e27577dd24ca",
   "metadata": {
    "ExecuteTime": {
     "end_time": "2023-11-01T12:48:06.357092500Z",
     "start_time": "2023-11-01T12:48:06.348580800Z"
    }
   },
   "outputs": [],
   "source": [
    "def get_metrics(y_test, y_test_pred, y_test_proba, threshold=0.5):\n",
    "    # y_pred_class = y_test_proba > threshold\n",
    "    y_pred_class = y_test_pred\n",
    "\n",
    "    tn, fp, fn, tp = confusion_matrix(y_test, y_pred_class).ravel()\n",
    "\n",
    "    true_positive_rate = tp / (tp + fn)\n",
    "    true_negative_rate = tn / (tn + fp)\n",
    "    positive_predictive_value = tp / (tp + fp)\n",
    "    negative_predictive_value = tn / (tn + fn)\n",
    "    false_positive_rate = fp / (fp + tn)\n",
    "    false_negative_rate = fn / (tp + fn)\n",
    "    false_discovery_rate = fp / (tp + fp)\n",
    "\n",
    "    scores = {'Accuracy': accuracy_score(y_test, y_pred_class),\n",
    "              'Precision': precision_score(y_test, y_pred_class),\n",
    "              'Recall': recall_score(y_test, y_pred_class),\n",
    "              'F1_score': f1_score(y_test, y_pred_class),\n",
    "              'F05_score': fbeta_score(y_test, y_pred_class, beta=0.5),\n",
    "              'F2_score': fbeta_score(y_test, y_pred_class, beta=2),\n",
    "              'Roc auc score': roc_auc_score(y_test, y_test_proba),\n",
    "              'Matthews_corrcoef': matthews_corrcoef(y_test, y_pred_class),\n",
    "              'Cohen_kappa': cohen_kappa_score(y_test, y_pred_class),\n",
    "              'True_positive_rate': true_positive_rate,\n",
    "              'True_negative_rate': true_negative_rate,\n",
    "              'Positive_predictive_value': positive_predictive_value,\n",
    "              'Negative_predictive_value': negative_predictive_value,\n",
    "              'False_positive_rate': false_positive_rate,\n",
    "              'False_negative_rate': false_negative_rate,\n",
    "              'False_discovery_rate': false_discovery_rate,\n",
    "              }\n",
    "\n",
    "    return scores"
   ]
  },
  {
   "cell_type": "code",
   "execution_count": 45,
   "id": "2f8169fb-238c-46d7-b150-505707a977f4",
   "metadata": {
    "ExecuteTime": {
     "end_time": "2023-11-01T12:48:06.378386200Z",
     "start_time": "2023-11-01T12:48:06.353092400Z"
    }
   },
   "outputs": [],
   "source": [
    "# # Setting up our results dataframe\n",
    "# df_results = pd.DataFrame(columns=['F1_score', 'Precision', 'Recall', 'ROC AUC', 'Accuracy', 'Training time', 'Test time'])\n",
    "# df_results"
   ]
  },
  {
   "cell_type": "markdown",
   "id": "34b2e447-b0fa-4316-a212-3b4ddff8181f",
   "metadata": {},
   "source": [
    "## Defining the models"
   ]
  },
  {
   "cell_type": "code",
   "execution_count": 46,
   "id": "b679fcdc-ada1-4318-832e-b75f9c0819f8",
   "metadata": {
    "ExecuteTime": {
     "end_time": "2023-11-01T12:48:06.378386200Z",
     "start_time": "2023-11-01T12:48:06.362508800Z"
    }
   },
   "outputs": [],
   "source": [
    "def define_models():\n",
    "    models = [] #list to save the initiated models\n",
    "    \n",
    "#     # Gaussian Naive Bayes\n",
    "#     # gnb assumes them to be continuous\n",
    "#     gnb = GaussianNB()\n",
    "\n",
    "#     # Mltinomial Naive Bayes\n",
    "#     # nb assumes the features are discrete\n",
    "#     mnb = MultinomialNB()\n",
    "\n",
    "#     #logistic regression\n",
    "#     lr = LogisticRegression(\n",
    "#         # C=10,# random_state=1234\n",
    "#     )\n",
    "\n",
    "#     #Decision Tree\n",
    "    dt = DecisionTreeClassifier(\n",
    "        # max_depth=10, \n",
    "        # random_state=1234\n",
    "    )\n",
    "\n",
    "    #Random Forest\n",
    "    rf = RandomForestClassifier(\n",
    "        # n_estimators=100,\n",
    "        # max_depth=20,\n",
    "        # max_features=0.06,\n",
    "        # n_jobs=6,\n",
    "        # random_state=1234\n",
    "    )\n",
    "\n",
    "    #XGBoost\n",
    "    xgb = XGBClassifier(\n",
    "        early_stopping_rounds=10,\n",
    "        verbosity=2,\n",
    "        # n_estimators=2000,\n",
    "        # tree_method='hist',\n",
    "        # subsample=0.67,\n",
    "        # colsample_level=0.06,\n",
    "        # n_jobs=6,\n",
    "        # random_state=1234\n",
    "    )\n",
    "\n",
    "    #LightGBM\n",
    "    lgbm = LGBMClassifier(\n",
    "        early_stopping_rounds=10,\n",
    "        verbosity=2,\n",
    "        # boost_from_average=False\n",
    "        # num_leaves=64,\n",
    "        # n_estimators=2000,\n",
    "        # feature_fraction=0.06,\n",
    "        # bagging_fraction=0.67,\n",
    "        # bagging_freq=1,\n",
    "        # n_jobs=6,\n",
    "        # random_state=1234\n",
    "    )\n",
    "    \n",
    "    #add the models in the list\n",
    "    models = [dt, rf, xgb, lgbm]\n",
    "    \n",
    "    # #to specify which of our models require early stopping within the .fit() method.\n",
    "    es_models = ['XGBClassifier', 'LGBMClassifier']\n",
    "    \n",
    "    return models, es_models"
   ]
  },
  {
   "cell_type": "code",
   "execution_count": 47,
   "id": "58634734-c2b2-4475-96b6-949217a166ed",
   "metadata": {
    "ExecuteTime": {
     "end_time": "2023-11-01T12:48:06.452097500Z",
     "start_time": "2023-11-01T12:48:06.370873Z"
    }
   },
   "outputs": [],
   "source": [
    "#Comparing our Competitors\n",
    "# models = [gnb, mnb, lr, dt, rf, xgb, lgbm]\n",
    "# models = [rf, xgb, lgbm, cb]\n",
    "# model_names = [i.__class__.__name__ for i in models]\n",
    "# classes_labels = np.arange(2)\n",
    "\n",
    "# #define the models\n",
    "# models, es_models = define_models()"
   ]
  },
  {
   "cell_type": "markdown",
   "id": "699e3890-cee8-4606-b56f-1c9281074973",
   "metadata": {},
   "source": [
    "## Train models"
   ]
  },
  {
   "cell_type": "code",
   "execution_count": 48,
   "id": "4a820ec1-df5b-4061-ae0f-c8065981f487",
   "metadata": {
    "ExecuteTime": {
     "end_time": "2023-11-01T12:48:06.452097500Z",
     "start_time": "2023-11-01T12:48:06.382384900Z"
    }
   },
   "outputs": [],
   "source": [
    "# Setting up our results dataframe\n",
    "df_results = pd.DataFrame(columns=['F1_score', 'Precision', 'Recall', 'ROC AUC', 'Accuracy', 'Training time', 'Test time'])\n",
    "# print(df_results)"
   ]
  },
  {
   "cell_type": "code",
   "execution_count": 49,
   "id": "f66ab959-17f5-46a4-8954-9e451b8f2f2b",
   "metadata": {
    "ExecuteTime": {
     "end_time": "2023-11-01T12:48:06.453106700Z",
     "start_time": "2023-11-01T12:48:06.393894800Z"
    }
   },
   "outputs": [],
   "source": [
    "# https://github.com/prateeksawhney97/MNIST-Classification-Multinomial-vs-Gaussian-Naive-Bayes/blob/master/MNIST%20Classification.ipynb\n",
    "\n",
    "import itertools\n",
    "def plot_confusion_matrix(cm, classes,\n",
    "                          normalize=False,\n",
    "                          title='Confusion matrix',\n",
    "                          cmap=plt.cm.Blues):\n",
    "    \"\"\"\n",
    "    This function prints and plots the confusion matrix.\n",
    "    Normalization can be applied by setting `normalize=True`.\n",
    "    \"\"\"\n",
    "    if normalize:\n",
    "        cm = cm.astype('float') / cm.sum(axis=1)[:, np.newaxis]\n",
    "        print(\"Normalized confusion matrix\")\n",
    "    else:\n",
    "        print('Confusion matrix, without normalization')\n",
    "\n",
    "    print(cm)\n",
    "    plt.imshow(cm, interpolation='nearest', cmap=cmap)\n",
    "    plt.title(title)\n",
    "    plt.colorbar()\n",
    "    tick_marks = np.arange(len(classes))\n",
    "    plt.xticks(tick_marks, classes, rotation=45)\n",
    "    plt.yticks(tick_marks, classes)\n",
    "\n",
    "    fmt = '.2f' if normalize else 'd'\n",
    "    thresh = cm.max() / 2.\n",
    "    for i, j in itertools.product(range(cm.shape[0]), range(cm.shape[1])):\n",
    "        plt.text(j, i, format(cm[i, j], fmt),\n",
    "                 horizontalalignment=\"center\",\n",
    "                 color=\"white\" if cm[i, j] > thresh else \"black\")\n",
    "\n",
    "    plt.ylabel('True label')\n",
    "    plt.xlabel('Predicted label')\n",
    "    plt.tight_layout()"
   ]
  },
  {
   "cell_type": "code",
   "execution_count": 50,
   "id": "b6884d38-1165-451c-a8f4-122c938e2057",
   "metadata": {
    "ExecuteTime": {
     "end_time": "2023-11-01T12:48:06.453106700Z",
     "start_time": "2023-11-01T12:48:06.403930600Z"
    }
   },
   "outputs": [],
   "source": [
    "def train_models_sampling(models, es_models, X_train, y_train, eval_set, X_test, y_test, sampling=None):   \n",
    "    #retrievce the models' name\n",
    "    model_names = [i.__class__.__name__ for i in models]\n",
    "    #set the number of classes for the confusion matrix\n",
    "    classes_labels = np.arange(2)\n",
    "    #name for oversampling method\n",
    "    over_name = ''\n",
    "\n",
    "    # Dataset shape\n",
    "    print(\"-- Dataset shape --\")\n",
    "    print('Original dataset shape')\n",
    "    print(Counter(y_train))#Counting the samples in training set\n",
    "        \n",
    "    # perfom dataset oversampling if set\n",
    "    oversample = sampling\n",
    "    if oversample:\n",
    "        over_name = oversample.__class__.__name__\n",
    "        X_train_over, y_train_over = oversample.fit_resample(X_train, y_train) #resampling the dataset\n",
    "        X_train= X_train_over # assigne new sample to trainset, text\n",
    "        y_train = y_train_over #assigne new sample to trainset, label\n",
    "        print('Resampled dataset shape %s' % Counter(y_train))\n",
    "        \n",
    "    start = timer()\n",
    "    #Train each of our candidate models\n",
    "    for m, n in zip(models, model_names):\n",
    "        train_time = 0\n",
    "        test_time = 0\n",
    "        train_predict_time = 0\n",
    "        test_predict_time = 0\n",
    "\n",
    "        print(\"\\n\"+n+\"_\"+over_name) #print the model name\n",
    "        if n in es_models:\n",
    "            t0 = time()\n",
    "            m.fit(X_train, y_train, \n",
    "                  eval_set = eval_set, \n",
    "                  # early_stopping_rounds=15,\n",
    "                  # verbose=0\n",
    "                 )\n",
    "            train_time = time() - t0\n",
    "        else:\n",
    "            t0 = time()\n",
    "            m.fit(X_train, y_train)\n",
    "            train_time = time() - t0\n",
    "\n",
    "        print(f\"\\nTraining time: {round(train_time, 3)}sec\")\n",
    "\n",
    "        #Model training prediction\n",
    "        t0 = time()\n",
    "        train_score = m.score(X_train, y_train)\n",
    "        train_predict_time = time() - t0\n",
    "        print(f\"Prediction time (train): {round(train_predict_time, 3)}sec\")\n",
    "\n",
    "        #Model test prediction\n",
    "        t0 = time()\n",
    "        test_score = m.score(X_test, y_test)\n",
    "        test_predict_time = time() - t0\n",
    "        print(f\"Prediction time (test): {round(test_predict_time, 3)}sec\")\n",
    "\n",
    "        #Check for Overfitting\n",
    "        print('\\n-- Check for Overfitting --')\n",
    "        #print the scores on training and test set\n",
    "        print('Train set score: {:.4f} sec '.format(train_score))\n",
    "        print('Test set score: {:.4f} sec'.format(test_score))\n",
    "\n",
    "        # Evaluate the trained model on the test set\n",
    "        '''\n",
    "        Use 'predict' for binary or multi-class classification problems when you want to get\n",
    "        the predicted class label(s) for input data.\n",
    "        '''\n",
    "        t0 = time()\n",
    "        predicted = m.predict(X_test) #return the label of the test set samples (actual class)\n",
    "        test_time = time() - t0\n",
    "        print(f\"Prediction time (test): {round(test_time, 3)}sec\")\n",
    "        # print('f1 score____ :', f1_score(y_test, predicted))\n",
    "\n",
    "        # accuracy of the model on the test set\n",
    "        # test_acc0 = np.mean(predicted == y_test)\n",
    "        # print('Model Accuracy on test set (Mean method) {:.4f} sec'.format(test_acc0))\n",
    "        # # accuracy of the model on the test set\n",
    "        # test_acc1 = accuracy_score(predicted, y_test)\n",
    "        # print('Model Accuracy on test set (acc_score method) {:.4f} sec'.format(test_acc1))\n",
    "        # test_acc2 = accuracy_score(y_test, predicted)\n",
    "        # print('Model Accuracy on test set (acc_score method_reverse): {0:0.4f} sec'.format(test_acc2))\n",
    "\n",
    "        # classification report\n",
    "        print(\"\\n-- classification Report --\")\n",
    "        print(classification_report(y_test, predicted)) \n",
    "\n",
    "        #Confusion-matrix\n",
    "        '''\n",
    "        Print the Confusion Matrix and slice it into four pieces\n",
    "        '''\n",
    "        cm = confusion_matrix(y_test, predicted)\n",
    "        print('\\n-- Confusion matrix --\\n', cm)\n",
    "        print('True Positives(TP) = ', cm[0,0])\n",
    "        print('True Negatives(TN) = ', cm[1,1])\n",
    "        print('False Positives(FP) = ', cm[0,1])\n",
    "        print('False Negatives(FN) = ', cm[1,0])\n",
    "\n",
    "        # plot_confusion_matrix(cm,\n",
    "        #                       classes=classes_labels,\n",
    "        #                       normalize=False,\n",
    "        #                       title=\"Consfusion Matrix\",\n",
    "        #                       cmap=plt.cm.Blues\n",
    "        #                      )\n",
    "        print('-'*80)\n",
    "\n",
    "        '''\n",
    "        Use 'predict_proba' for binary or multi-class classification problems when you want to get\n",
    "        the probability estimates for each possible class label.\n",
    "        '''\n",
    "        t0 = time()\n",
    "        y_test_proba = m.predict_proba(X_test)[:, 1] #return the probability estimates for each possible class label (the class probabilities)\n",
    "        test_time = time() - t0\n",
    "\n",
    "        metric_scrores = get_metrics(y_test, predicted, y_test_proba)\n",
    "        for metric_name, score in metric_scrores.items():\n",
    "            print('{} :{}'.format(metric_name, score))\n",
    "        print('#'*80)\n",
    "\n",
    "        df_results.loc[n+\"_\"+over_name] = [metric_scrores.get(\"F1_score\"), metric_scrores.get(\"Precision\"), metric_scrores.get(\"Recall\"), metric_scrores.get(\"Roc auc score\"), test_score, train_time, test_time]\n",
    "        del m #delete the model\n",
    "\n",
    "    train_test_time = timer() - start\n",
    "    print('Training and testing time of all models {:.4f} seconds'.format(train_test_time))\n",
    "    \n",
    "    return df_results"
   ]
  },
  {
   "cell_type": "code",
   "execution_count": 51,
   "id": "5232ef2e-13a4-49c4-abda-9f24671862df",
   "metadata": {
    "ExecuteTime": {
     "end_time": "2023-11-01T12:48:10.451874100Z",
     "start_time": "2023-11-01T12:48:06.410935500Z"
    }
   },
   "outputs": [
    {
     "name": "stdout",
     "output_type": "stream",
     "text": [
      "-- Dataset shape --\n",
      "Original dataset shape\n",
      "Counter({0: 1607, 1: 506})\n",
      "\n",
      "DecisionTreeClassifier_\n",
      "\n",
      "Training time: 0.967sec\n",
      "Prediction time (train): 0.006sec\n",
      "Prediction time (test): 0.002sec\n",
      "\n",
      "-- Check for Overfitting --\n",
      "Train set score: 1.0000 sec \n",
      "Test set score: 0.7068 sec\n",
      "Prediction time (test): 0.001sec\n",
      "\n",
      "-- classification Report --\n",
      "              precision    recall  f1-score   support\n",
      "\n",
      "           0       0.79      0.84      0.82       340\n",
      "           1       0.32      0.25      0.28       100\n",
      "\n",
      "    accuracy                           0.71       440\n",
      "   macro avg       0.55      0.55      0.55       440\n",
      "weighted avg       0.68      0.71      0.69       440\n",
      "\n",
      "\n",
      "-- Confusion matrix --\n",
      " [[286  54]\n",
      " [ 75  25]]\n",
      "True Positives(TP) =  286\n",
      "True Negatives(TN) =  25\n",
      "False Positives(FP) =  54\n",
      "False Negatives(FN) =  75\n",
      "--------------------------------------------------------------------------------\n",
      "Accuracy :0.7068181818181818\n",
      "Precision :0.31645569620253167\n",
      "Recall :0.25\n",
      "F1_score :0.27932960893854747\n",
      "F05_score :0.3004807692307693\n",
      "F2_score :0.2609603340292275\n",
      "Roc auc score :0.5455882352941177\n",
      "Matthews_corrcoef :0.09955316890075672\n",
      "Cohen_kappa :0.09847522236340533\n",
      "True_positive_rate :0.25\n",
      "True_negative_rate :0.8411764705882353\n",
      "Positive_predictive_value :0.31645569620253167\n",
      "Negative_predictive_value :0.7922437673130194\n",
      "False_positive_rate :0.1588235294117647\n",
      "False_negative_rate :0.75\n",
      "False_discovery_rate :0.6835443037974683\n",
      "################################################################################\n",
      "\n",
      "RandomForestClassifier_\n",
      "\n",
      "Training time: 0.765sec\n",
      "Prediction time (train): 0.031sec\n",
      "Prediction time (test): 0.011sec\n",
      "\n",
      "-- Check for Overfitting --\n",
      "Train set score: 1.0000 sec \n",
      "Test set score: 0.9341 sec\n",
      "Prediction time (test): 0.009sec\n",
      "\n",
      "-- classification Report --\n",
      "              precision    recall  f1-score   support\n",
      "\n",
      "           0       0.97      0.94      0.96       340\n",
      "           1       0.83      0.90      0.86       100\n",
      "\n",
      "    accuracy                           0.93       440\n",
      "   macro avg       0.90      0.92      0.91       440\n",
      "weighted avg       0.94      0.93      0.94       440\n",
      "\n",
      "\n",
      "-- Confusion matrix --\n",
      " [[321  19]\n",
      " [ 10  90]]\n",
      "True Positives(TP) =  321\n",
      "True Negatives(TN) =  90\n",
      "False Positives(FP) =  19\n",
      "False Negatives(FN) =  10\n",
      "--------------------------------------------------------------------------------\n",
      "Accuracy :0.9340909090909091\n",
      "Precision :0.8256880733944955\n",
      "Recall :0.9\n",
      "F1_score :0.861244019138756\n",
      "F05_score :0.8395522388059702\n",
      "F2_score :0.8840864440078586\n",
      "Roc auc score :0.9652941176470587\n",
      "Matthews_corrcoef :0.8194362879446488\n",
      "Cohen_kappa :0.8181299885974915\n",
      "True_positive_rate :0.9\n",
      "True_negative_rate :0.9441176470588235\n",
      "Positive_predictive_value :0.8256880733944955\n",
      "Negative_predictive_value :0.9697885196374623\n",
      "False_positive_rate :0.05588235294117647\n",
      "False_negative_rate :0.1\n",
      "False_discovery_rate :0.1743119266055046\n",
      "################################################################################\n",
      "\n",
      "XGBClassifier_\n",
      "[0]\tvalidation_0-logloss:0.57064\n",
      "[1]\tvalidation_0-logloss:0.58449\n",
      "[2]\tvalidation_0-logloss:0.62771\n",
      "[3]\tvalidation_0-logloss:0.56624\n",
      "[4]\tvalidation_0-logloss:0.51931\n",
      "[5]\tvalidation_0-logloss:0.51772\n",
      "[6]\tvalidation_0-logloss:0.48774\n",
      "[7]\tvalidation_0-logloss:0.48780\n",
      "[8]\tvalidation_0-logloss:0.44991\n",
      "[9]\tvalidation_0-logloss:0.45294\n",
      "[10]\tvalidation_0-logloss:0.45044\n",
      "[11]\tvalidation_0-logloss:0.44257\n",
      "[12]\tvalidation_0-logloss:0.47276\n",
      "[13]\tvalidation_0-logloss:0.49604\n",
      "[14]\tvalidation_0-logloss:0.52492\n",
      "[15]\tvalidation_0-logloss:0.54514\n",
      "[16]\tvalidation_0-logloss:0.54900\n",
      "[17]\tvalidation_0-logloss:0.58028\n",
      "[18]\tvalidation_0-logloss:0.62493\n",
      "[19]\tvalidation_0-logloss:0.64983\n",
      "[20]\tvalidation_0-logloss:0.66437\n",
      "\n",
      "Training time: 0.94sec\n",
      "Prediction time (train): 0.005sec\n",
      "Prediction time (test): 0.002sec\n",
      "\n",
      "-- Check for Overfitting --\n",
      "Train set score: 1.0000 sec \n",
      "Test set score: 0.8000 sec\n",
      "Prediction time (test): 0.001sec\n",
      "\n",
      "-- classification Report --\n",
      "              precision    recall  f1-score   support\n",
      "\n",
      "           0       0.95      0.79      0.86       340\n",
      "           1       0.54      0.85      0.66       100\n",
      "\n",
      "    accuracy                           0.80       440\n",
      "   macro avg       0.74      0.82      0.76       440\n",
      "weighted avg       0.85      0.80      0.81       440\n",
      "\n",
      "\n",
      "-- Confusion matrix --\n",
      " [[267  73]\n",
      " [ 15  85]]\n",
      "True Positives(TP) =  267\n",
      "True Negatives(TN) =  85\n",
      "False Positives(FP) =  73\n",
      "False Negatives(FN) =  15\n",
      "--------------------------------------------------------------------------------\n",
      "Accuracy :0.8\n",
      "Precision :0.5379746835443038\n",
      "Recall :0.85\n",
      "F1_score :0.6589147286821706\n",
      "F05_score :0.5806010928961749\n",
      "F2_score :0.7616487455197133\n",
      "Roc auc score :0.8638676470588236\n",
      "Matthews_corrcoef :0.5549593783317466\n",
      "Cohen_kappa :0.52734375\n",
      "True_positive_rate :0.85\n",
      "True_negative_rate :0.7852941176470588\n",
      "Positive_predictive_value :0.5379746835443038\n",
      "Negative_predictive_value :0.9468085106382979\n",
      "False_positive_rate :0.21470588235294116\n",
      "False_negative_rate :0.15\n",
      "False_discovery_rate :0.4620253164556962\n",
      "################################################################################\n",
      "\n",
      "LGBMClassifier_\n",
      "[LightGBM] [Warning] early_stopping_round is set=10, early_stopping_rounds=10 will be ignored. Current value: early_stopping_round=10\n",
      "[LightGBM] [Info] Number of positive: 506, number of negative: 1607\n",
      "[LightGBM] [Debug] Dataset::GetMultiBinFromSparseFeatures: sparse rate 0.908388\n",
      "[LightGBM] [Debug] Dataset::GetMultiBinFromAllFeatures: sparse rate 0.901786\n",
      "[LightGBM] [Debug] init for col-wise cost 0.015281 seconds, init for row-wise cost 0.016140 seconds\n",
      "[LightGBM] [Info] Auto-choosing col-wise multi-threading, the overhead of testing was 0.021434 seconds.\n",
      "You can set `force_col_wise=true` to remove the overhead.\n",
      "[LightGBM] [Info] Total Bins 138071\n",
      "[LightGBM] [Info] Number of data points in the train set: 2113, number of used features: 1998\n",
      "[LightGBM] [Warning] early_stopping_round is set=10, early_stopping_rounds=10 will be ignored. Current value: early_stopping_round=10\n",
      "[LightGBM] [Info] [binary:BoostFromScore]: pavg=0.239470 -> initscore=-1.155588\n",
      "[LightGBM] [Info] Start training from score -1.155588\n",
      "[LightGBM] [Warning] No further splits with positive gain, best gain: -inf\n",
      "[LightGBM] [Debug] Trained a tree with leaves = 23 and depth = 17\n",
      "Training until validation scores don't improve for 10 rounds\n",
      "[LightGBM] [Debug] Trained a tree with leaves = 31 and depth = 20\n",
      "[LightGBM] [Debug] Trained a tree with leaves = 31 and depth = 18\n",
      "[LightGBM] [Debug] Trained a tree with leaves = 31 and depth = 20\n",
      "[LightGBM] [Debug] Trained a tree with leaves = 31 and depth = 20\n",
      "[LightGBM] [Debug] Trained a tree with leaves = 31 and depth = 22\n",
      "[LightGBM] [Debug] Trained a tree with leaves = 31 and depth = 11\n",
      "[LightGBM] [Debug] Trained a tree with leaves = 31 and depth = 11\n",
      "[LightGBM] [Debug] Trained a tree with leaves = 31 and depth = 11\n",
      "[LightGBM] [Debug] Trained a tree with leaves = 31 and depth = 11\n",
      "[LightGBM] [Debug] Trained a tree with leaves = 31 and depth = 11\n",
      "[LightGBM] [Debug] Trained a tree with leaves = 31 and depth = 12\n",
      "[LightGBM] [Debug] Trained a tree with leaves = 31 and depth = 12\n",
      "[LightGBM] [Debug] Trained a tree with leaves = 31 and depth = 11\n",
      "[LightGBM] [Debug] Trained a tree with leaves = 31 and depth = 13\n",
      "[LightGBM] [Debug] Trained a tree with leaves = 31 and depth = 12\n",
      "[LightGBM] [Debug] Trained a tree with leaves = 31 and depth = 12\n",
      "[LightGBM] [Debug] Trained a tree with leaves = 31 and depth = 13\n",
      "[LightGBM] [Debug] Trained a tree with leaves = 31 and depth = 9\n",
      "[LightGBM] [Debug] Trained a tree with leaves = 31 and depth = 12\n",
      "[LightGBM] [Debug] Trained a tree with leaves = 31 and depth = 13\n",
      "[LightGBM] [Debug] Trained a tree with leaves = 31 and depth = 12\n",
      "[LightGBM] [Debug] Trained a tree with leaves = 31 and depth = 13\n",
      "[LightGBM] [Debug] Trained a tree with leaves = 31 and depth = 14\n",
      "[LightGBM] [Debug] Trained a tree with leaves = 31 and depth = 12\n",
      "[LightGBM] [Debug] Trained a tree with leaves = 31 and depth = 12\n",
      "[LightGBM] [Debug] Trained a tree with leaves = 31 and depth = 11\n",
      "[LightGBM] [Debug] Trained a tree with leaves = 31 and depth = 12\n",
      "Early stopping, best iteration is:\n",
      "[18]\tvalid_0's binary_logloss: 0.458676\n",
      "\n",
      "Training time: 1.216sec\n",
      "Prediction time (train): 0.004sec\n",
      "Prediction time (test): 0.001sec\n",
      "\n",
      "-- Check for Overfitting --\n",
      "Train set score: 0.9991 sec \n",
      "Test set score: 0.7886 sec\n",
      "Prediction time (test): 0.001sec\n",
      "\n",
      "-- classification Report --\n",
      "              precision    recall  f1-score   support\n",
      "\n",
      "           0       0.92      0.79      0.85       340\n",
      "           1       0.52      0.77      0.62       100\n",
      "\n",
      "    accuracy                           0.79       440\n",
      "   macro avg       0.72      0.78      0.74       440\n",
      "weighted avg       0.83      0.79      0.80       440\n",
      "\n",
      "\n",
      "-- Confusion matrix --\n",
      " [[270  70]\n",
      " [ 23  77]]\n",
      "True Positives(TP) =  270\n",
      "True Negatives(TN) =  77\n",
      "False Positives(FP) =  70\n",
      "False Negatives(FN) =  23\n",
      "--------------------------------------------------------------------------------\n",
      "Accuracy :0.7886363636363637\n",
      "Precision :0.5238095238095238\n",
      "Recall :0.77\n",
      "F1_score :0.6234817813765183\n",
      "F05_score :0.559593023255814\n",
      "F2_score :0.7038391224862888\n",
      "Roc auc score :0.8387794117647059\n",
      "Matthews_corrcoef :0.5012064678776746\n",
      "Cohen_kappa :0.4838546922300706\n",
      "True_positive_rate :0.77\n",
      "True_negative_rate :0.7941176470588235\n",
      "Positive_predictive_value :0.5238095238095238\n",
      "Negative_predictive_value :0.9215017064846417\n",
      "False_positive_rate :0.20588235294117646\n",
      "False_negative_rate :0.23\n",
      "False_discovery_rate :0.47619047619047616\n",
      "################################################################################\n",
      "Training and testing time of all models 4.0232 seconds\n"
     ]
    }
   ],
   "source": [
    "#define the models\n",
    "models, es_models = define_models()\n",
    "\n",
    "#train the models\n",
    "df_results = train_models_sampling(models, es_models, X_train, y_train, eval_set, X_test, y_test)"
   ]
  },
  {
   "cell_type": "code",
   "execution_count": 52,
   "id": "c83d5305-cd65-4c81-a5b8-e01eb9a2976a",
   "metadata": {
    "ExecuteTime": {
     "end_time": "2023-11-01T12:48:10.479067300Z",
     "start_time": "2023-11-01T12:48:10.450365600Z"
    }
   },
   "outputs": [
    {
     "data": {
      "text/plain": "                         F1_score  Precision  Recall   ROC AUC  Accuracy  \\\nDecisionTreeClassifier_  0.279330   0.316456    0.25  0.545588  0.706818   \nRandomForestClassifier_  0.861244   0.825688    0.90  0.965294  0.934091   \nXGBClassifier_           0.658915   0.537975    0.85  0.863868  0.800000   \nLGBMClassifier_          0.623482   0.523810    0.77  0.838779  0.788636   \n\n                         Training time  Test time  \nDecisionTreeClassifier_       0.967479   0.001024  \nRandomForestClassifier_       0.764570   0.008661  \nXGBClassifier_                0.939583   0.001479  \nLGBMClassifier_               1.216483   0.001050  ",
      "text/html": "<div>\n<style scoped>\n    .dataframe tbody tr th:only-of-type {\n        vertical-align: middle;\n    }\n\n    .dataframe tbody tr th {\n        vertical-align: top;\n    }\n\n    .dataframe thead th {\n        text-align: right;\n    }\n</style>\n<table border=\"1\" class=\"dataframe\">\n  <thead>\n    <tr style=\"text-align: right;\">\n      <th></th>\n      <th>F1_score</th>\n      <th>Precision</th>\n      <th>Recall</th>\n      <th>ROC AUC</th>\n      <th>Accuracy</th>\n      <th>Training time</th>\n      <th>Test time</th>\n    </tr>\n  </thead>\n  <tbody>\n    <tr>\n      <th>DecisionTreeClassifier_</th>\n      <td>0.279330</td>\n      <td>0.316456</td>\n      <td>0.25</td>\n      <td>0.545588</td>\n      <td>0.706818</td>\n      <td>0.967479</td>\n      <td>0.001024</td>\n    </tr>\n    <tr>\n      <th>RandomForestClassifier_</th>\n      <td>0.861244</td>\n      <td>0.825688</td>\n      <td>0.90</td>\n      <td>0.965294</td>\n      <td>0.934091</td>\n      <td>0.764570</td>\n      <td>0.008661</td>\n    </tr>\n    <tr>\n      <th>XGBClassifier_</th>\n      <td>0.658915</td>\n      <td>0.537975</td>\n      <td>0.85</td>\n      <td>0.863868</td>\n      <td>0.800000</td>\n      <td>0.939583</td>\n      <td>0.001479</td>\n    </tr>\n    <tr>\n      <th>LGBMClassifier_</th>\n      <td>0.623482</td>\n      <td>0.523810</td>\n      <td>0.77</td>\n      <td>0.838779</td>\n      <td>0.788636</td>\n      <td>1.216483</td>\n      <td>0.001050</td>\n    </tr>\n  </tbody>\n</table>\n</div>"
     },
     "execution_count": 52,
     "metadata": {},
     "output_type": "execute_result"
    }
   ],
   "source": [
    "df_results"
   ]
  },
  {
   "cell_type": "markdown",
   "id": "204c85ab-994b-4393-96cd-1f18eb3d3838",
   "metadata": {},
   "source": [
    "# Training model with resampling methods"
   ]
  },
  {
   "cell_type": "code",
   "execution_count": 53,
   "id": "752af128-b96b-4fc2-b282-c51292091b5a",
   "metadata": {
    "ExecuteTime": {
     "end_time": "2023-11-01T12:48:10.881107900Z",
     "start_time": "2023-11-01T12:48:10.454879100Z"
    }
   },
   "outputs": [
    {
     "data": {
      "text/plain": "<Figure size 640x480 with 1 Axes>",
      "image/png": "[encoded data removed]"
     },
     "metadata": {},
     "output_type": "display_data"
    },
    {
     "data": {
      "text/plain": "<Figure size 640x480 with 1 Axes>",
      "image/png": "[encoded data removed]"
     },
     "metadata": {},
     "output_type": "display_data"
    },
    {
     "data": {
      "text/plain": "<Figure size 640x480 with 1 Axes>",
      "image/png": "[encoded data removed]"
     },
     "metadata": {},
     "output_type": "display_data"
    }
   ],
   "source": [
    "#split the dataset\n",
    "df_train, df_test, df_validation = split_plot_dataset(dataset)"
   ]
  },
  {
   "cell_type": "code",
   "execution_count": 54,
   "id": "f2eb99cc-4797-480d-ae84-fa176ac14c3f",
   "metadata": {
    "ExecuteTime": {
     "end_time": "2023-11-01T12:48:21.037612100Z",
     "start_time": "2023-11-01T12:48:10.877107900Z"
    }
   },
   "outputs": [],
   "source": [
    "#vectorize the dataset\n",
    "X_train, X_validation, X_test, y_train, y_validation, y_test = vectorize_dataset(df_train, df_test, df_validation)"
   ]
  },
  {
   "cell_type": "markdown",
   "id": "f034a43d-2b4a-4c76-9dfc-b3941ba1827c",
   "metadata": {
    "tags": []
   },
   "source": [
    "## Random Over-sampling\n",
    "RandomOverSampler will increase the data samples in the minority class (vishing). It makes the minority class have the same data samples as the majority class (non-vishing)."
   ]
  },
  {
   "cell_type": "code",
   "execution_count": 55,
   "id": "bd29f5f1-6823-4235-8dae-fcd074054bb8",
   "metadata": {
    "ExecuteTime": {
     "end_time": "2023-11-01T12:48:24.491585200Z",
     "start_time": "2023-11-01T12:48:21.055599700Z"
    }
   },
   "outputs": [
    {
     "name": "stdout",
     "output_type": "stream",
     "text": [
      "-- Dataset shape --\n",
      "Original dataset shape\n",
      "Counter({0: 1607, 1: 506})\n",
      "Resampled dataset shape Counter({1: 1607, 0: 1607})\n",
      "\n",
      "DecisionTreeClassifier_RandomOverSampler\n",
      "\n",
      "Training time: 0.347sec\n",
      "Prediction time (train): 0.006sec\n",
      "Prediction time (test): 0.001sec\n",
      "\n",
      "-- Check for Overfitting --\n",
      "Train set score: 1.0000 sec \n",
      "Test set score: 0.7364 sec\n",
      "Prediction time (test): 0.001sec\n",
      "\n",
      "-- classification Report --\n",
      "              precision    recall  f1-score   support\n",
      "\n",
      "           0       0.98      0.67      0.80       340\n",
      "           1       0.46      0.95      0.62       100\n",
      "\n",
      "    accuracy                           0.74       440\n",
      "   macro avg       0.72      0.81      0.71       440\n",
      "weighted avg       0.86      0.74      0.76       440\n",
      "\n",
      "\n",
      "-- Confusion matrix --\n",
      " [[229 111]\n",
      " [  5  95]]\n",
      "True Positives(TP) =  229\n",
      "True Negatives(TN) =  95\n",
      "False Positives(FP) =  111\n",
      "False Negatives(FN) =  5\n",
      "--------------------------------------------------------------------------------\n",
      "Accuracy :0.7363636363636363\n",
      "Precision :0.46116504854368934\n",
      "Recall :0.95\n",
      "F1_score :0.6209150326797386\n",
      "F05_score :0.5140692640692641\n",
      "F2_score :0.7838283828382838\n",
      "Roc auc score :0.8117647058823529\n",
      "Matthews_corrcoef :0.5236665861172816\n",
      "Cohen_kappa :0.4537671232876712\n",
      "True_positive_rate :0.95\n",
      "True_negative_rate :0.6735294117647059\n",
      "Positive_predictive_value :0.46116504854368934\n",
      "Negative_predictive_value :0.9786324786324786\n",
      "False_positive_rate :0.3264705882352941\n",
      "False_negative_rate :0.05\n",
      "False_discovery_rate :0.5388349514563107\n",
      "################################################################################\n",
      "\n",
      "RandomForestClassifier_RandomOverSampler\n",
      "\n",
      "Training time: 0.931sec\n",
      "Prediction time (train): 0.041sec\n",
      "Prediction time (test): 0.009sec\n",
      "\n",
      "-- Check for Overfitting --\n",
      "Train set score: 1.0000 sec \n",
      "Test set score: 0.9682 sec\n",
      "Prediction time (test): 0.008sec\n",
      "\n",
      "-- classification Report --\n",
      "              precision    recall  f1-score   support\n",
      "\n",
      "           0       0.98      0.98      0.98       340\n",
      "           1       0.94      0.92      0.93       100\n",
      "\n",
      "    accuracy                           0.97       440\n",
      "   macro avg       0.96      0.95      0.95       440\n",
      "weighted avg       0.97      0.97      0.97       440\n",
      "\n",
      "\n",
      "-- Confusion matrix --\n",
      " [[334   6]\n",
      " [  8  92]]\n",
      "True Positives(TP) =  334\n",
      "True Negatives(TN) =  92\n",
      "False Positives(FP) =  6\n",
      "False Negatives(FN) =  8\n",
      "--------------------------------------------------------------------------------\n",
      "Accuracy :0.9681818181818181\n",
      "Precision :0.9387755102040817\n",
      "Recall :0.92\n",
      "F1_score :0.9292929292929293\n",
      "F05_score :0.9349593495934959\n",
      "F2_score :0.9236947791164658\n",
      "Roc auc score :0.9818823529411764\n",
      "Matthews_corrcoef :0.9088449656561146\n",
      "Cohen_kappa :0.9087677725118484\n",
      "True_positive_rate :0.92\n",
      "True_negative_rate :0.9823529411764705\n",
      "Positive_predictive_value :0.9387755102040817\n",
      "Negative_predictive_value :0.9766081871345029\n",
      "False_positive_rate :0.01764705882352941\n",
      "False_negative_rate :0.08\n",
      "False_discovery_rate :0.061224489795918366\n",
      "################################################################################\n",
      "\n",
      "XGBClassifier_RandomOverSampler\n",
      "[0]\tvalidation_0-logloss:0.64730\n",
      "[1]\tvalidation_0-logloss:0.67288\n",
      "[2]\tvalidation_0-logloss:0.72310\n",
      "[3]\tvalidation_0-logloss:0.77476\n",
      "[4]\tvalidation_0-logloss:0.79743\n",
      "[5]\tvalidation_0-logloss:0.85130\n",
      "[6]\tvalidation_0-logloss:0.88061\n",
      "[7]\tvalidation_0-logloss:0.87895\n",
      "[8]\tvalidation_0-logloss:0.91592\n",
      "[9]\tvalidation_0-logloss:0.86796\n",
      "[10]\tvalidation_0-logloss:0.91011\n",
      "\n",
      "Training time: 0.705sec\n",
      "Prediction time (train): 0.009sec\n",
      "Prediction time (test): 0.002sec\n",
      "\n",
      "-- Check for Overfitting --\n",
      "Train set score: 0.9935 sec \n",
      "Test set score: 0.6636 sec\n",
      "Prediction time (test): 0.001sec\n",
      "\n",
      "-- classification Report --\n",
      "              precision    recall  f1-score   support\n",
      "\n",
      "           0       0.98      0.58      0.73       340\n",
      "           1       0.40      0.96      0.56       100\n",
      "\n",
      "    accuracy                           0.66       440\n",
      "   macro avg       0.69      0.77      0.65       440\n",
      "weighted avg       0.85      0.66      0.69       440\n",
      "\n",
      "\n",
      "-- Confusion matrix --\n",
      " [[196 144]\n",
      " [  4  96]]\n",
      "True Positives(TP) =  196\n",
      "True Negatives(TN) =  96\n",
      "False Positives(FP) =  144\n",
      "False Negatives(FN) =  4\n",
      "--------------------------------------------------------------------------------\n",
      "Accuracy :0.6636363636363637\n",
      "Precision :0.4\n",
      "Recall :0.96\n",
      "F1_score :0.5647058823529413\n",
      "F05_score :0.45283018867924524\n",
      "F2_score :0.75\n",
      "Roc auc score :0.7768970588235294\n",
      "Matthews_corrcoef :0.45150727959736353\n",
      "Cohen_kappa :0.35905511811023627\n",
      "True_positive_rate :0.96\n",
      "True_negative_rate :0.5764705882352941\n",
      "Positive_predictive_value :0.4\n",
      "Negative_predictive_value :0.98\n",
      "False_positive_rate :0.4235294117647059\n",
      "False_negative_rate :0.04\n",
      "False_discovery_rate :0.6\n",
      "################################################################################\n",
      "\n",
      "LGBMClassifier_RandomOverSampler\n",
      "[LightGBM] [Warning] early_stopping_round is set=10, early_stopping_rounds=10 will be ignored. Current value: early_stopping_round=10\n",
      "[LightGBM] [Info] Number of positive: 1607, number of negative: 1607\n",
      "[LightGBM] [Debug] Dataset::GetMultiBinFromSparseFeatures: sparse rate 0.923446\n",
      "[LightGBM] [Debug] Dataset::GetMultiBinFromAllFeatures: sparse rate 0.922527\n",
      "[LightGBM] [Debug] init for col-wise cost 0.019021 seconds, init for row-wise cost 0.016870 seconds\n",
      "[LightGBM] [Info] Auto-choosing row-wise multi-threading, the overhead of testing was 0.024088 seconds.\n",
      "You can set `force_row_wise=true` to remove the overhead.\n",
      "And if memory is not enough, you can set `force_col_wise=true`.\n",
      "[LightGBM] [Debug] Using Sparse Multi-Val Bin\n",
      "[LightGBM] [Info] Total Bins 152863\n",
      "[LightGBM] [Info] Number of data points in the train set: 3214, number of used features: 1998\n",
      "[LightGBM] [Warning] early_stopping_round is set=10, early_stopping_rounds=10 will be ignored. Current value: early_stopping_round=10\n",
      "[LightGBM] [Info] [binary:BoostFromScore]: pavg=0.500000 -> initscore=0.000000\n",
      "[LightGBM] [Warning] No further splits with positive gain, best gain: -inf\n",
      "[LightGBM] [Debug] Trained a tree with leaves = 14 and depth = 9\n",
      "Training until validation scores don't improve for 10 rounds\n",
      "[LightGBM] [Warning] No further splits with positive gain, best gain: -inf\n",
      "[LightGBM] [Debug] Trained a tree with leaves = 26 and depth = 14\n",
      "[LightGBM] [Debug] Trained a tree with leaves = 31 and depth = 18\n",
      "[LightGBM] [Debug] Trained a tree with leaves = 31 and depth = 15\n",
      "[LightGBM] [Debug] Trained a tree with leaves = 31 and depth = 19\n",
      "[LightGBM] [Debug] Trained a tree with leaves = 31 and depth = 19\n",
      "[LightGBM] [Debug] Trained a tree with leaves = 31 and depth = 18\n",
      "[LightGBM] [Debug] Trained a tree with leaves = 31 and depth = 18\n",
      "[LightGBM] [Debug] Trained a tree with leaves = 31 and depth = 17\n",
      "[LightGBM] [Debug] Trained a tree with leaves = 31 and depth = 16\n",
      "[LightGBM] [Debug] Trained a tree with leaves = 31 and depth = 15\n",
      "[LightGBM] [Debug] Trained a tree with leaves = 31 and depth = 17\n",
      "[LightGBM] [Debug] Trained a tree with leaves = 31 and depth = 18\n",
      "[LightGBM] [Debug] Trained a tree with leaves = 31 and depth = 18\n",
      "Early stopping, best iteration is:\n",
      "[4]\tvalid_0's binary_logloss: 0.63645\n",
      "\n",
      "Training time: 0.399sec\n",
      "Prediction time (train): 0.005sec\n",
      "Prediction time (test): 0.002sec\n",
      "\n",
      "-- Check for Overfitting --\n",
      "Train set score: 0.9904 sec \n",
      "Test set score: 0.6500 sec\n",
      "Prediction time (test): 0.001sec\n",
      "\n",
      "-- classification Report --\n",
      "              precision    recall  f1-score   support\n",
      "\n",
      "           0       0.98      0.56      0.71       340\n",
      "           1       0.39      0.97      0.56       100\n",
      "\n",
      "    accuracy                           0.65       440\n",
      "   macro avg       0.69      0.76      0.63       440\n",
      "weighted avg       0.85      0.65      0.68       440\n",
      "\n",
      "\n",
      "-- Confusion matrix --\n",
      " [[189 151]\n",
      " [  3  97]]\n",
      "True Positives(TP) =  189\n",
      "True Negatives(TN) =  97\n",
      "False Positives(FP) =  151\n",
      "False Negatives(FN) =  3\n",
      "--------------------------------------------------------------------------------\n",
      "Accuracy :0.65\n",
      "Precision :0.3911290322580645\n",
      "Recall :0.97\n",
      "F1_score :0.5574712643678161\n",
      "F05_score :0.44413919413919406\n",
      "F2_score :0.7484567901234568\n",
      "Roc auc score :0.8200588235294117\n",
      "Matthews_corrcoef :0.444377029134912\n",
      "Cohen_kappa :0.34544049459041726\n",
      "True_positive_rate :0.97\n",
      "True_negative_rate :0.5558823529411765\n",
      "Positive_predictive_value :0.3911290322580645\n",
      "Negative_predictive_value :0.984375\n",
      "False_positive_rate :0.4441176470588235\n",
      "False_negative_rate :0.03\n",
      "False_discovery_rate :0.6088709677419355\n",
      "################################################################################\n",
      "Training and testing time of all models 2.5246 seconds\n"
     ]
    }
   ],
   "source": [
    "from imblearn.over_sampling import RandomOverSampler\n",
    "# Apply RandomOverSampler\n",
    "sampling = RandomOverSampler(random_state=42) #sampling_strategy parameter is to balance the class to have 1:1 data samples\n",
    "\n",
    "#resampling the dataset\n",
    "# X_train_ros, y_train_ros = ros.fit_resample(X_train, y_train)\n",
    "\n",
    "#train the models\n",
    "df_results = train_models_sampling(models, es_models, X_train, y_train, eval_set, X_test, y_test, sampling)"
   ]
  },
  {
   "cell_type": "code",
   "execution_count": 56,
   "id": "834611ff-6825-48bf-bdba-0f43c6156c9e",
   "metadata": {
    "ExecuteTime": {
     "end_time": "2023-11-01T12:48:24.492590400Z",
     "start_time": "2023-11-01T12:48:24.478542Z"
    }
   },
   "outputs": [
    {
     "data": {
      "text/plain": "                                          F1_score  Precision  Recall  \\\nDecisionTreeClassifier_                   0.279330   0.316456    0.25   \nRandomForestClassifier_                   0.861244   0.825688    0.90   \nXGBClassifier_                            0.658915   0.537975    0.85   \nLGBMClassifier_                           0.623482   0.523810    0.77   \nDecisionTreeClassifier_RandomOverSampler  0.620915   0.461165    0.95   \nRandomForestClassifier_RandomOverSampler  0.929293   0.938776    0.92   \nXGBClassifier_RandomOverSampler           0.564706   0.400000    0.96   \nLGBMClassifier_RandomOverSampler          0.557471   0.391129    0.97   \n\n                                           ROC AUC  Accuracy  Training time  \\\nDecisionTreeClassifier_                   0.545588  0.706818       0.967479   \nRandomForestClassifier_                   0.965294  0.934091       0.764570   \nXGBClassifier_                            0.863868  0.800000       0.939583   \nLGBMClassifier_                           0.838779  0.788636       1.216483   \nDecisionTreeClassifier_RandomOverSampler  0.811765  0.736364       0.346756   \nRandomForestClassifier_RandomOverSampler  0.981882  0.968182       0.930522   \nXGBClassifier_RandomOverSampler           0.776897  0.663636       0.705180   \nLGBMClassifier_RandomOverSampler          0.820059  0.650000       0.399436   \n\n                                          Test time  \nDecisionTreeClassifier_                    0.001024  \nRandomForestClassifier_                    0.008661  \nXGBClassifier_                             0.001479  \nLGBMClassifier_                            0.001050  \nDecisionTreeClassifier_RandomOverSampler   0.000577  \nRandomForestClassifier_RandomOverSampler   0.008704  \nXGBClassifier_RandomOverSampler            0.001476  \nLGBMClassifier_RandomOverSampler           0.001057  ",
      "text/html": "<div>\n<style scoped>\n    .dataframe tbody tr th:only-of-type {\n        vertical-align: middle;\n    }\n\n    .dataframe tbody tr th {\n        vertical-align: top;\n    }\n\n    .dataframe thead th {\n        text-align: right;\n    }\n</style>\n<table border=\"1\" class=\"dataframe\">\n  <thead>\n    <tr style=\"text-align: right;\">\n      <th></th>\n      <th>F1_score</th>\n      <th>Precision</th>\n      <th>Recall</th>\n      <th>ROC AUC</th>\n      <th>Accuracy</th>\n      <th>Training time</th>\n      <th>Test time</th>\n    </tr>\n  </thead>\n  <tbody>\n    <tr>\n      <th>DecisionTreeClassifier_</th>\n      <td>0.279330</td>\n      <td>0.316456</td>\n      <td>0.25</td>\n      <td>0.545588</td>\n      <td>0.706818</td>\n      <td>0.967479</td>\n      <td>0.001024</td>\n    </tr>\n    <tr>\n      <th>RandomForestClassifier_</th>\n      <td>0.861244</td>\n      <td>0.825688</td>\n      <td>0.90</td>\n      <td>0.965294</td>\n      <td>0.934091</td>\n      <td>0.764570</td>\n      <td>0.008661</td>\n    </tr>\n    <tr>\n      <th>XGBClassifier_</th>\n      <td>0.658915</td>\n      <td>0.537975</td>\n      <td>0.85</td>\n      <td>0.863868</td>\n      <td>0.800000</td>\n      <td>0.939583</td>\n      <td>0.001479</td>\n    </tr>\n    <tr>\n      <th>LGBMClassifier_</th>\n      <td>0.623482</td>\n      <td>0.523810</td>\n      <td>0.77</td>\n      <td>0.838779</td>\n      <td>0.788636</td>\n      <td>1.216483</td>\n      <td>0.001050</td>\n    </tr>\n    <tr>\n      <th>DecisionTreeClassifier_RandomOverSampler</th>\n      <td>0.620915</td>\n      <td>0.461165</td>\n      <td>0.95</td>\n      <td>0.811765</td>\n      <td>0.736364</td>\n      <td>0.346756</td>\n      <td>0.000577</td>\n    </tr>\n    <tr>\n      <th>RandomForestClassifier_RandomOverSampler</th>\n      <td>0.929293</td>\n      <td>0.938776</td>\n      <td>0.92</td>\n      <td>0.981882</td>\n      <td>0.968182</td>\n      <td>0.930522</td>\n      <td>0.008704</td>\n    </tr>\n    <tr>\n      <th>XGBClassifier_RandomOverSampler</th>\n      <td>0.564706</td>\n      <td>0.400000</td>\n      <td>0.96</td>\n      <td>0.776897</td>\n      <td>0.663636</td>\n      <td>0.705180</td>\n      <td>0.001476</td>\n    </tr>\n    <tr>\n      <th>LGBMClassifier_RandomOverSampler</th>\n      <td>0.557471</td>\n      <td>0.391129</td>\n      <td>0.97</td>\n      <td>0.820059</td>\n      <td>0.650000</td>\n      <td>0.399436</td>\n      <td>0.001057</td>\n    </tr>\n  </tbody>\n</table>\n</div>"
     },
     "execution_count": 56,
     "metadata": {},
     "output_type": "execute_result"
    }
   ],
   "source": [
    "df_results"
   ]
  },
  {
   "cell_type": "markdown",
   "id": "6e551c9f-cd7f-418d-867b-3a4df2aa9aea",
   "metadata": {},
   "source": [
    "## SMOTE Over-sampling method"
   ]
  },
  {
   "cell_type": "code",
   "execution_count": 57,
   "id": "17996722-2254-45a9-95a7-f77342252212",
   "metadata": {
    "ExecuteTime": {
     "end_time": "2023-11-01T12:48:24.593538900Z",
     "start_time": "2023-11-01T12:48:24.489080200Z"
    }
   },
   "outputs": [],
   "source": [
    "from imblearn.over_sampling import SMOTE, KMeansSMOTE , ADASYN,SVMSMOTE,KMeansSMOTE,BorderlineSMOTE\n",
    "from imblearn.combine import SMOTEENN, SMOTETomek\n",
    "from imblearn.metrics import classification_report_imbalanced"
   ]
  },
  {
   "cell_type": "code",
   "execution_count": 58,
   "id": "5d18f8fd-8898-482e-b431-a4eb235f8376",
   "metadata": {
    "ExecuteTime": {
     "end_time": "2023-11-01T12:48:24.594540200Z",
     "start_time": "2023-11-01T12:48:24.529556400Z"
    }
   },
   "outputs": [],
   "source": [
    "#split the dataset\n",
    "# df_train, df_test, df_validation = split_plot_dataset(dataset)"
   ]
  },
  {
   "cell_type": "code",
   "execution_count": 59,
   "id": "04b712f8-e9d4-4896-bdad-24f31a73deff",
   "metadata": {
    "ExecuteTime": {
     "end_time": "2023-11-01T12:48:24.594540200Z",
     "start_time": "2023-11-01T12:48:24.539072300Z"
    }
   },
   "outputs": [],
   "source": [
    "#vectorize the dataset\n",
    "# X_train, X_validation, X_test, y_train, y_validation, y_test = vectorize_dataset(df_train, df_test, df_validation)"
   ]
  },
  {
   "cell_type": "code",
   "execution_count": 60,
   "id": "ab9a3ae5-4522-43ac-ab9d-09d1748e4728",
   "metadata": {
    "ExecuteTime": {
     "end_time": "2023-11-01T12:48:30.280086Z",
     "start_time": "2023-11-01T12:48:24.546589700Z"
    }
   },
   "outputs": [
    {
     "name": "stdout",
     "output_type": "stream",
     "text": [
      "-- Dataset shape --\n",
      "Original dataset shape\n",
      "Counter({0: 1607, 1: 506})\n"
     ]
    },
    {
     "name": "stderr",
     "output_type": "stream",
     "text": [
      "Exception ignored on calling ctypes callback function: <function _ThreadpoolInfo._find_modules_with_dl_iterate_phdr.<locals>.match_module_callback at 0x7f87d932bf40>\n",
      "Traceback (most recent call last):\n",
      "  File \"/home/mbmk92/anaconda3/envs/dltest/lib/python3.10/site-packages/threadpoolctl.py\", line 400, in match_module_callback\n",
      "    self._make_module_from_path(filepath)\n",
      "  File \"/home/mbmk92/anaconda3/envs/dltest/lib/python3.10/site-packages/threadpoolctl.py\", line 515, in _make_module_from_path\n",
      "    module = module_class(filepath, prefix, user_api, internal_api)\n",
      "  File \"/home/mbmk92/anaconda3/envs/dltest/lib/python3.10/site-packages/threadpoolctl.py\", line 606, in __init__\n",
      "    self.version = self.get_version()\n",
      "  File \"/home/mbmk92/anaconda3/envs/dltest/lib/python3.10/site-packages/threadpoolctl.py\", line 646, in get_version\n",
      "    config = get_config().split()\n",
      "AttributeError: 'NoneType' object has no attribute 'split'\n"
     ]
    },
    {
     "name": "stdout",
     "output_type": "stream",
     "text": [
      "Resampled dataset shape Counter({1: 1607, 0: 1607})\n",
      "\n",
      "DecisionTreeClassifier_SMOTE\n",
      "\n",
      "Training time: 1.028sec\n",
      "Prediction time (train): 0.007sec\n",
      "Prediction time (test): 0.001sec\n",
      "\n",
      "-- Check for Overfitting --\n",
      "Train set score: 1.0000 sec \n",
      "Test set score: 0.7068 sec\n",
      "Prediction time (test): 0.001sec\n",
      "\n",
      "-- classification Report --\n",
      "              precision    recall  f1-score   support\n",
      "\n",
      "           0       0.79      0.84      0.82       340\n",
      "           1       0.32      0.26      0.29       100\n",
      "\n",
      "    accuracy                           0.71       440\n",
      "   macro avg       0.56      0.55      0.55       440\n",
      "weighted avg       0.69      0.71      0.70       440\n",
      "\n",
      "\n",
      "-- Confusion matrix --\n",
      " [[285  55]\n",
      " [ 74  26]]\n",
      "True Positives(TP) =  285\n",
      "True Negatives(TN) =  26\n",
      "False Positives(FP) =  55\n",
      "False Negatives(FN) =  74\n",
      "--------------------------------------------------------------------------------\n",
      "Accuracy :0.7068181818181818\n",
      "Precision :0.32098765432098764\n",
      "Recall :0.26\n",
      "F1_score :0.287292817679558\n",
      "F05_score :0.30660377358490565\n",
      "F2_score :0.2702702702702703\n",
      "Roc auc score :0.5491176470588235\n",
      "Matthews_corrcoef :0.1062226849121669\n",
      "Cohen_kappa :0.10529634300126112\n",
      "True_positive_rate :0.26\n",
      "True_negative_rate :0.8382352941176471\n",
      "Positive_predictive_value :0.32098765432098764\n",
      "Negative_predictive_value :0.7938718662952646\n",
      "False_positive_rate :0.16176470588235295\n",
      "False_negative_rate :0.74\n",
      "False_discovery_rate :0.6790123456790124\n",
      "################################################################################\n",
      "\n",
      "RandomForestClassifier_SMOTE\n",
      "\n",
      "Training time: 1.181sec\n",
      "Prediction time (train): 0.056sec\n",
      "Prediction time (test): 0.009sec\n",
      "\n",
      "-- Check for Overfitting --\n",
      "Train set score: 1.0000 sec \n",
      "Test set score: 0.9477 sec\n",
      "Prediction time (test): 0.009sec\n",
      "\n",
      "-- classification Report --\n",
      "              precision    recall  f1-score   support\n",
      "\n",
      "           0       0.97      0.96      0.97       340\n",
      "           1       0.88      0.89      0.89       100\n",
      "\n",
      "    accuracy                           0.95       440\n",
      "   macro avg       0.92      0.93      0.93       440\n",
      "weighted avg       0.95      0.95      0.95       440\n",
      "\n",
      "\n",
      "-- Confusion matrix --\n",
      " [[328  12]\n",
      " [ 11  89]]\n",
      "True Positives(TP) =  328\n",
      "True Negatives(TN) =  89\n",
      "False Positives(FP) =  12\n",
      "False Negatives(FN) =  11\n",
      "--------------------------------------------------------------------------------\n",
      "Accuracy :0.9477272727272728\n",
      "Precision :0.8811881188118812\n",
      "Recall :0.89\n",
      "F1_score :0.8855721393034827\n",
      "F05_score :0.882936507936508\n",
      "F2_score :0.8882235528942117\n",
      "Roc auc score :0.9858676470588235\n",
      "Matthews_corrcoef :0.851717587828644\n",
      "Cohen_kappa :0.8516998827667057\n",
      "True_positive_rate :0.89\n",
      "True_negative_rate :0.9647058823529412\n",
      "Positive_predictive_value :0.8811881188118812\n",
      "Negative_predictive_value :0.967551622418879\n",
      "False_positive_rate :0.03529411764705882\n",
      "False_negative_rate :0.11\n",
      "False_discovery_rate :0.1188118811881188\n",
      "################################################################################\n",
      "\n",
      "XGBClassifier_SMOTE\n",
      "[0]\tvalidation_0-logloss:0.61148\n",
      "[1]\tvalidation_0-logloss:0.57550\n",
      "[2]\tvalidation_0-logloss:0.56196\n",
      "[3]\tvalidation_0-logloss:0.56953\n",
      "[4]\tvalidation_0-logloss:0.57487\n",
      "[5]\tvalidation_0-logloss:0.57005\n",
      "[6]\tvalidation_0-logloss:0.56965\n",
      "[7]\tvalidation_0-logloss:0.59659\n",
      "[8]\tvalidation_0-logloss:0.60219\n",
      "[9]\tvalidation_0-logloss:0.64851\n",
      "[10]\tvalidation_0-logloss:0.65914\n",
      "[11]\tvalidation_0-logloss:0.64031\n",
      "\n",
      "Training time: 0.912sec\n",
      "Prediction time (train): 0.013sec\n",
      "Prediction time (test): 0.002sec\n",
      "\n",
      "-- Check for Overfitting --\n",
      "Train set score: 0.9919 sec \n",
      "Test set score: 0.7023 sec\n",
      "Prediction time (test): 0.001sec\n",
      "\n",
      "-- classification Report --\n",
      "              precision    recall  f1-score   support\n",
      "\n",
      "           0       0.78      0.85      0.81       340\n",
      "           1       0.29      0.21      0.24       100\n",
      "\n",
      "    accuracy                           0.70       440\n",
      "   macro avg       0.54      0.53      0.53       440\n",
      "weighted avg       0.67      0.70      0.68       440\n",
      "\n",
      "\n",
      "-- Confusion matrix --\n",
      " [[288  52]\n",
      " [ 79  21]]\n",
      "True Positives(TP) =  288\n",
      "True Negatives(TN) =  21\n",
      "False Positives(FP) =  52\n",
      "False Negatives(FN) =  79\n",
      "--------------------------------------------------------------------------------\n",
      "Accuracy :0.7022727272727273\n",
      "Precision :0.2876712328767123\n",
      "Recall :0.21\n",
      "F1_score :0.24277456647398843\n",
      "F05_score :0.2678571428571429\n",
      "F2_score :0.22198731501057084\n",
      "Roc auc score :0.6865882352941176\n",
      "Matthews_corrcoef :0.06427880721657472\n",
      "Cohen_kappa :0.06306892067620284\n",
      "True_positive_rate :0.21\n",
      "True_negative_rate :0.8470588235294118\n",
      "Positive_predictive_value :0.2876712328767123\n",
      "Negative_predictive_value :0.784741144414169\n",
      "False_positive_rate :0.15294117647058825\n",
      "False_negative_rate :0.79\n",
      "False_discovery_rate :0.7123287671232876\n",
      "################################################################################\n",
      "\n",
      "LGBMClassifier_SMOTE\n",
      "[LightGBM] [Warning] early_stopping_round is set=10, early_stopping_rounds=10 will be ignored. Current value: early_stopping_round=10\n",
      "[LightGBM] [Info] Number of positive: 1607, number of negative: 1607\n",
      "[LightGBM] [Debug] Dataset::GetMultiBinFromSparseFeatures: sparse rate 0.914494\n",
      "[LightGBM] [Debug] Dataset::GetMultiBinFromAllFeatures: sparse rate 0.910347\n",
      "[LightGBM] [Debug] init for col-wise cost 0.019645 seconds, init for row-wise cost 0.026949 seconds\n",
      "[LightGBM] [Info] Auto-choosing col-wise multi-threading, the overhead of testing was 0.036502 seconds.\n",
      "You can set `force_col_wise=true` to remove the overhead.\n",
      "[LightGBM] [Info] Total Bins 180834\n",
      "[LightGBM] [Info] Number of data points in the train set: 3214, number of used features: 1998\n",
      "[LightGBM] [Warning] early_stopping_round is set=10, early_stopping_rounds=10 will be ignored. Current value: early_stopping_round=10\n",
      "[LightGBM] [Info] [binary:BoostFromScore]: pavg=0.500000 -> initscore=0.000000\n",
      "[LightGBM] [Warning] No further splits with positive gain, best gain: -inf\n",
      "[LightGBM] [Debug] Trained a tree with leaves = 28 and depth = 18\n",
      "Training until validation scores don't improve for 10 rounds\n",
      "[LightGBM] [Debug] Trained a tree with leaves = 31 and depth = 19\n",
      "[LightGBM] [Debug] Trained a tree with leaves = 31 and depth = 19\n",
      "[LightGBM] [Debug] Trained a tree with leaves = 31 and depth = 17\n",
      "[LightGBM] [Debug] Trained a tree with leaves = 31 and depth = 17\n",
      "[LightGBM] [Debug] Trained a tree with leaves = 31 and depth = 19\n",
      "[LightGBM] [Debug] Trained a tree with leaves = 31 and depth = 19\n",
      "[LightGBM] [Debug] Trained a tree with leaves = 31 and depth = 21\n",
      "[LightGBM] [Debug] Trained a tree with leaves = 31 and depth = 20\n",
      "[LightGBM] [Debug] Trained a tree with leaves = 31 and depth = 19\n",
      "[LightGBM] [Debug] Trained a tree with leaves = 31 and depth = 11\n",
      "[LightGBM] [Debug] Trained a tree with leaves = 31 and depth = 21\n",
      "[LightGBM] [Debug] Trained a tree with leaves = 31 and depth = 11\n",
      "[LightGBM] [Debug] Trained a tree with leaves = 31 and depth = 11\n",
      "[LightGBM] [Debug] Trained a tree with leaves = 31 and depth = 21\n",
      "[LightGBM] [Debug] Trained a tree with leaves = 31 and depth = 11\n",
      "[LightGBM] [Debug] Trained a tree with leaves = 31 and depth = 11\n",
      "[LightGBM] [Debug] Trained a tree with leaves = 31 and depth = 12\n",
      "[LightGBM] [Debug] Trained a tree with leaves = 31 and depth = 11\n",
      "[LightGBM] [Debug] Trained a tree with leaves = 31 and depth = 18\n",
      "[LightGBM] [Debug] Trained a tree with leaves = 31 and depth = 11\n",
      "[LightGBM] [Debug] Trained a tree with leaves = 31 and depth = 12\n",
      "[LightGBM] [Debug] Trained a tree with leaves = 31 and depth = 22\n",
      "[LightGBM] [Debug] Trained a tree with leaves = 31 and depth = 11\n",
      "[LightGBM] [Debug] Trained a tree with leaves = 31 and depth = 11\n",
      "[LightGBM] [Debug] Trained a tree with leaves = 31 and depth = 12\n",
      "[LightGBM] [Debug] Trained a tree with leaves = 31 and depth = 12\n",
      "Early stopping, best iteration is:\n",
      "[17]\tvalid_0's binary_logloss: 0.590152\n",
      "\n",
      "Training time: 0.711sec\n",
      "Prediction time (train): 0.005sec\n",
      "Prediction time (test): 0.002sec\n",
      "\n",
      "-- Check for Overfitting --\n",
      "Train set score: 0.9981 sec \n",
      "Test set score: 0.6955 sec\n",
      "Prediction time (test): 0.001sec\n",
      "\n",
      "-- classification Report --\n",
      "              precision    recall  f1-score   support\n",
      "\n",
      "           0       0.80      0.81      0.81       340\n",
      "           1       0.32      0.29      0.30       100\n",
      "\n",
      "    accuracy                           0.70       440\n",
      "   macro avg       0.56      0.55      0.55       440\n",
      "weighted avg       0.69      0.70      0.69       440\n",
      "\n",
      "\n",
      "-- Confusion matrix --\n",
      " [[277  63]\n",
      " [ 71  29]]\n",
      "True Positives(TP) =  277\n",
      "True Negatives(TN) =  29\n",
      "False Positives(FP) =  63\n",
      "False Negatives(FN) =  71\n",
      "--------------------------------------------------------------------------------\n",
      "Accuracy :0.6954545454545454\n",
      "Precision :0.31521739130434784\n",
      "Recall :0.29\n",
      "F1_score :0.3020833333333333\n",
      "F05_score :0.30982905982905984\n",
      "F2_score :0.2947154471544715\n",
      "Roc auc score :0.6892794117647059\n",
      "Matthews_corrcoef :0.10790138116695189\n",
      "Cohen_kappa :0.10774818401937047\n",
      "True_positive_rate :0.29\n",
      "True_negative_rate :0.8147058823529412\n",
      "Positive_predictive_value :0.31521739130434784\n",
      "Negative_predictive_value :0.7959770114942529\n",
      "False_positive_rate :0.18529411764705883\n",
      "False_negative_rate :0.71\n",
      "False_discovery_rate :0.6847826086956522\n",
      "################################################################################\n",
      "Training and testing time of all models 4.0310 seconds\n"
     ]
    }
   ],
   "source": [
    "# over-sampling using SMOTE.\n",
    "sampling = SMOTE(random_state=42)\n",
    "\n",
    "#set the evaluation set for early stop models\n",
    "# eval_set = [(X_validation, y_validation)]\n",
    "\n",
    "#train the models\n",
    "df_results = train_models_sampling(models, es_models, X_train, y_train, eval_set, X_test, y_test, sampling)"
   ]
  },
  {
   "cell_type": "code",
   "execution_count": 61,
   "id": "6c95ccaa-e807-4c3c-a507-85c50adc7db3",
   "metadata": {
    "ExecuteTime": {
     "end_time": "2023-11-01T12:48:30.282115700Z",
     "start_time": "2023-11-01T12:48:29.415237200Z"
    }
   },
   "outputs": [
    {
     "data": {
      "text/plain": "                                          F1_score  Precision  Recall  \\\nDecisionTreeClassifier_                   0.279330   0.316456    0.25   \nRandomForestClassifier_                   0.861244   0.825688    0.90   \nXGBClassifier_                            0.658915   0.537975    0.85   \nLGBMClassifier_                           0.623482   0.523810    0.77   \nDecisionTreeClassifier_RandomOverSampler  0.620915   0.461165    0.95   \nRandomForestClassifier_RandomOverSampler  0.929293   0.938776    0.92   \nXGBClassifier_RandomOverSampler           0.564706   0.400000    0.96   \nLGBMClassifier_RandomOverSampler          0.557471   0.391129    0.97   \nDecisionTreeClassifier_SMOTE              0.287293   0.320988    0.26   \nRandomForestClassifier_SMOTE              0.885572   0.881188    0.89   \nXGBClassifier_SMOTE                       0.242775   0.287671    0.21   \nLGBMClassifier_SMOTE                      0.302083   0.315217    0.29   \n\n                                           ROC AUC  Accuracy  Training time  \\\nDecisionTreeClassifier_                   0.545588  0.706818       0.967479   \nRandomForestClassifier_                   0.965294  0.934091       0.764570   \nXGBClassifier_                            0.863868  0.800000       0.939583   \nLGBMClassifier_                           0.838779  0.788636       1.216483   \nDecisionTreeClassifier_RandomOverSampler  0.811765  0.736364       0.346756   \nRandomForestClassifier_RandomOverSampler  0.981882  0.968182       0.930522   \nXGBClassifier_RandomOverSampler           0.776897  0.663636       0.705180   \nLGBMClassifier_RandomOverSampler          0.820059  0.650000       0.399436   \nDecisionTreeClassifier_SMOTE              0.549118  0.706818       1.027983   \nRandomForestClassifier_SMOTE              0.985868  0.947727       1.181271   \nXGBClassifier_SMOTE                       0.686588  0.702273       0.911851   \nLGBMClassifier_SMOTE                      0.689279  0.695455       0.711388   \n\n                                          Test time  \nDecisionTreeClassifier_                    0.001024  \nRandomForestClassifier_                    0.008661  \nXGBClassifier_                             0.001479  \nLGBMClassifier_                            0.001050  \nDecisionTreeClassifier_RandomOverSampler   0.000577  \nRandomForestClassifier_RandomOverSampler   0.008704  \nXGBClassifier_RandomOverSampler            0.001476  \nLGBMClassifier_RandomOverSampler           0.001057  \nDecisionTreeClassifier_SMOTE               0.001831  \nRandomForestClassifier_SMOTE               0.009666  \nXGBClassifier_SMOTE                        0.001444  \nLGBMClassifier_SMOTE                       0.001497  ",
      "text/html": "<div>\n<style scoped>\n    .dataframe tbody tr th:only-of-type {\n        vertical-align: middle;\n    }\n\n    .dataframe tbody tr th {\n        vertical-align: top;\n    }\n\n    .dataframe thead th {\n        text-align: right;\n    }\n</style>\n<table border=\"1\" class=\"dataframe\">\n  <thead>\n    <tr style=\"text-align: right;\">\n      <th></th>\n      <th>F1_score</th>\n      <th>Precision</th>\n      <th>Recall</th>\n      <th>ROC AUC</th>\n      <th>Accuracy</th>\n      <th>Training time</th>\n      <th>Test time</th>\n    </tr>\n  </thead>\n  <tbody>\n    <tr>\n      <th>DecisionTreeClassifier_</th>\n      <td>0.279330</td>\n      <td>0.316456</td>\n      <td>0.25</td>\n      <td>0.545588</td>\n      <td>0.706818</td>\n      <td>0.967479</td>\n      <td>0.001024</td>\n    </tr>\n    <tr>\n      <th>RandomForestClassifier_</th>\n      <td>0.861244</td>\n      <td>0.825688</td>\n      <td>0.90</td>\n      <td>0.965294</td>\n      <td>0.934091</td>\n      <td>0.764570</td>\n      <td>0.008661</td>\n    </tr>\n    <tr>\n      <th>XGBClassifier_</th>\n      <td>0.658915</td>\n      <td>0.537975</td>\n      <td>0.85</td>\n      <td>0.863868</td>\n      <td>0.800000</td>\n      <td>0.939583</td>\n      <td>0.001479</td>\n    </tr>\n    <tr>\n      <th>LGBMClassifier_</th>\n      <td>0.623482</td>\n      <td>0.523810</td>\n      <td>0.77</td>\n      <td>0.838779</td>\n      <td>0.788636</td>\n      <td>1.216483</td>\n      <td>0.001050</td>\n    </tr>\n    <tr>\n      <th>DecisionTreeClassifier_RandomOverSampler</th>\n      <td>0.620915</td>\n      <td>0.461165</td>\n      <td>0.95</td>\n      <td>0.811765</td>\n      <td>0.736364</td>\n      <td>0.346756</td>\n      <td>0.000577</td>\n    </tr>\n    <tr>\n      <th>RandomForestClassifier_RandomOverSampler</th>\n      <td>0.929293</td>\n      <td>0.938776</td>\n      <td>0.92</td>\n      <td>0.981882</td>\n      <td>0.968182</td>\n      <td>0.930522</td>\n      <td>0.008704</td>\n    </tr>\n    <tr>\n      <th>XGBClassifier_RandomOverSampler</th>\n      <td>0.564706</td>\n      <td>0.400000</td>\n      <td>0.96</td>\n      <td>0.776897</td>\n      <td>0.663636</td>\n      <td>0.705180</td>\n      <td>0.001476</td>\n    </tr>\n    <tr>\n      <th>LGBMClassifier_RandomOverSampler</th>\n      <td>0.557471</td>\n      <td>0.391129</td>\n      <td>0.97</td>\n      <td>0.820059</td>\n      <td>0.650000</td>\n      <td>0.399436</td>\n      <td>0.001057</td>\n    </tr>\n    <tr>\n      <th>DecisionTreeClassifier_SMOTE</th>\n      <td>0.287293</td>\n      <td>0.320988</td>\n      <td>0.26</td>\n      <td>0.549118</td>\n      <td>0.706818</td>\n      <td>1.027983</td>\n      <td>0.001831</td>\n    </tr>\n    <tr>\n      <th>RandomForestClassifier_SMOTE</th>\n      <td>0.885572</td>\n      <td>0.881188</td>\n      <td>0.89</td>\n      <td>0.985868</td>\n      <td>0.947727</td>\n      <td>1.181271</td>\n      <td>0.009666</td>\n    </tr>\n    <tr>\n      <th>XGBClassifier_SMOTE</th>\n      <td>0.242775</td>\n      <td>0.287671</td>\n      <td>0.21</td>\n      <td>0.686588</td>\n      <td>0.702273</td>\n      <td>0.911851</td>\n      <td>0.001444</td>\n    </tr>\n    <tr>\n      <th>LGBMClassifier_SMOTE</th>\n      <td>0.302083</td>\n      <td>0.315217</td>\n      <td>0.29</td>\n      <td>0.689279</td>\n      <td>0.695455</td>\n      <td>0.711388</td>\n      <td>0.001497</td>\n    </tr>\n  </tbody>\n</table>\n</div>"
     },
     "execution_count": 61,
     "metadata": {},
     "output_type": "execute_result"
    }
   ],
   "source": [
    "df_results"
   ]
  },
  {
   "cell_type": "markdown",
   "id": "28a27c1b-fb9a-4475-9952-d642158d0c14",
   "metadata": {
    "tags": []
   },
   "source": [
    "## Adaptive Synthetic (ADASYN) method"
   ]
  },
  {
   "cell_type": "code",
   "execution_count": 62,
   "id": "0576faf8-b204-47ff-923c-950aa1f323f6",
   "metadata": {
    "ExecuteTime": {
     "end_time": "2023-11-01T12:48:33.823558500Z",
     "start_time": "2023-11-01T12:48:29.418752100Z"
    }
   },
   "outputs": [
    {
     "name": "stdout",
     "output_type": "stream",
     "text": [
      "-- Dataset shape --\n",
      "Original dataset shape\n",
      "Counter({0: 1607, 1: 506})\n"
     ]
    },
    {
     "name": "stderr",
     "output_type": "stream",
     "text": [
      "Exception ignored on calling ctypes callback function: <function _ThreadpoolInfo._find_modules_with_dl_iterate_phdr.<locals>.match_module_callback at 0x7f87d926dc60>\n",
      "Traceback (most recent call last):\n",
      "  File \"/home/mbmk92/anaconda3/envs/dltest/lib/python3.10/site-packages/threadpoolctl.py\", line 400, in match_module_callback\n",
      "    self._make_module_from_path(filepath)\n",
      "  File \"/home/mbmk92/anaconda3/envs/dltest/lib/python3.10/site-packages/threadpoolctl.py\", line 515, in _make_module_from_path\n",
      "    module = module_class(filepath, prefix, user_api, internal_api)\n",
      "  File \"/home/mbmk92/anaconda3/envs/dltest/lib/python3.10/site-packages/threadpoolctl.py\", line 606, in __init__\n",
      "    self.version = self.get_version()\n",
      "  File \"/home/mbmk92/anaconda3/envs/dltest/lib/python3.10/site-packages/threadpoolctl.py\", line 646, in get_version\n",
      "    config = get_config().split()\n",
      "AttributeError: 'NoneType' object has no attribute 'split'\n",
      "Exception ignored on calling ctypes callback function: <function _ThreadpoolInfo._find_modules_with_dl_iterate_phdr.<locals>.match_module_callback at 0x7f87d926dc60>\n",
      "Traceback (most recent call last):\n",
      "  File \"/home/mbmk92/anaconda3/envs/dltest/lib/python3.10/site-packages/threadpoolctl.py\", line 400, in match_module_callback\n",
      "    self._make_module_from_path(filepath)\n",
      "  File \"/home/mbmk92/anaconda3/envs/dltest/lib/python3.10/site-packages/threadpoolctl.py\", line 515, in _make_module_from_path\n",
      "    module = module_class(filepath, prefix, user_api, internal_api)\n",
      "  File \"/home/mbmk92/anaconda3/envs/dltest/lib/python3.10/site-packages/threadpoolctl.py\", line 606, in __init__\n",
      "    self.version = self.get_version()\n",
      "  File \"/home/mbmk92/anaconda3/envs/dltest/lib/python3.10/site-packages/threadpoolctl.py\", line 646, in get_version\n",
      "    config = get_config().split()\n",
      "AttributeError: 'NoneType' object has no attribute 'split'\n"
     ]
    },
    {
     "name": "stdout",
     "output_type": "stream",
     "text": [
      "Resampled dataset shape Counter({1: 1608, 0: 1607})\n",
      "\n",
      "DecisionTreeClassifier_ADASYN\n",
      "\n",
      "Training time: 0.773sec\n",
      "Prediction time (train): 0.008sec\n",
      "Prediction time (test): 0.002sec\n",
      "\n",
      "-- Check for Overfitting --\n",
      "Train set score: 1.0000 sec \n",
      "Test set score: 0.7068 sec\n",
      "Prediction time (test): 0.001sec\n",
      "\n",
      "-- classification Report --\n",
      "              precision    recall  f1-score   support\n",
      "\n",
      "           0       0.78      0.87      0.82       340\n",
      "           1       0.25      0.14      0.18       100\n",
      "\n",
      "    accuracy                           0.71       440\n",
      "   macro avg       0.51      0.51      0.50       440\n",
      "weighted avg       0.66      0.71      0.68       440\n",
      "\n",
      "\n",
      "-- Confusion matrix --\n",
      " [[297  43]\n",
      " [ 86  14]]\n",
      "True Positives(TP) =  297\n",
      "True Negatives(TN) =  14\n",
      "False Positives(FP) =  43\n",
      "False Negatives(FN) =  86\n",
      "--------------------------------------------------------------------------------\n",
      "Accuracy :0.7068181818181818\n",
      "Precision :0.24561403508771928\n",
      "Recall :0.14\n",
      "F1_score :0.17834394904458598\n",
      "F05_score :0.21341463414634143\n",
      "F2_score :0.1531728665207877\n",
      "Roc auc score :0.506764705882353\n",
      "Matthews_corrcoef :0.016884241615791874\n",
      "Cohen_kappa :0.015950069348127593\n",
      "True_positive_rate :0.14\n",
      "True_negative_rate :0.8735294117647059\n",
      "Positive_predictive_value :0.24561403508771928\n",
      "Negative_predictive_value :0.7754569190600522\n",
      "False_positive_rate :0.1264705882352941\n",
      "False_negative_rate :0.86\n",
      "False_discovery_rate :0.7543859649122807\n",
      "################################################################################\n",
      "\n",
      "RandomForestClassifier_ADASYN\n",
      "\n",
      "Training time: 1.039sec\n",
      "Prediction time (train): 0.049sec\n",
      "Prediction time (test): 0.016sec\n",
      "\n",
      "-- Check for Overfitting --\n",
      "Train set score: 1.0000 sec \n",
      "Test set score: 0.9432 sec\n",
      "Prediction time (test): 0.012sec\n",
      "\n",
      "-- classification Report --\n",
      "              precision    recall  f1-score   support\n",
      "\n",
      "           0       0.97      0.96      0.96       340\n",
      "           1       0.86      0.90      0.88       100\n",
      "\n",
      "    accuracy                           0.94       440\n",
      "   macro avg       0.91      0.93      0.92       440\n",
      "weighted avg       0.94      0.94      0.94       440\n",
      "\n",
      "\n",
      "-- Confusion matrix --\n",
      " [[325  15]\n",
      " [ 10  90]]\n",
      "True Positives(TP) =  325\n",
      "True Negatives(TN) =  90\n",
      "False Positives(FP) =  15\n",
      "False Negatives(FN) =  10\n",
      "--------------------------------------------------------------------------------\n",
      "Accuracy :0.9431818181818182\n",
      "Precision :0.8571428571428571\n",
      "Recall :0.9\n",
      "F1_score :0.8780487804878048\n",
      "F05_score :0.8653846153846154\n",
      "F2_score :0.8910891089108912\n",
      "Roc auc score :0.9761911764705883\n",
      "Matthews_corrcoef :0.841465815363098\n",
      "Cohen_kappa :0.8410404624277457\n",
      "True_positive_rate :0.9\n",
      "True_negative_rate :0.9558823529411765\n",
      "Positive_predictive_value :0.8571428571428571\n",
      "Negative_predictive_value :0.9701492537313433\n",
      "False_positive_rate :0.04411764705882353\n",
      "False_negative_rate :0.1\n",
      "False_discovery_rate :0.14285714285714285\n",
      "################################################################################\n",
      "\n",
      "XGBClassifier_ADASYN\n",
      "[0]\tvalidation_0-logloss:0.63403\n",
      "[1]\tvalidation_0-logloss:0.61062\n",
      "[2]\tvalidation_0-logloss:0.63998\n",
      "[3]\tvalidation_0-logloss:0.58713\n",
      "[4]\tvalidation_0-logloss:0.55516\n",
      "[5]\tvalidation_0-logloss:0.53805\n",
      "[6]\tvalidation_0-logloss:0.52023\n",
      "[7]\tvalidation_0-logloss:0.51161\n",
      "[8]\tvalidation_0-logloss:0.53729\n",
      "[9]\tvalidation_0-logloss:0.54179\n",
      "[10]\tvalidation_0-logloss:0.56840\n",
      "[11]\tvalidation_0-logloss:0.54788\n",
      "[12]\tvalidation_0-logloss:0.53028\n",
      "[13]\tvalidation_0-logloss:0.53183\n",
      "[14]\tvalidation_0-logloss:0.56751\n",
      "[15]\tvalidation_0-logloss:0.59586\n",
      "[16]\tvalidation_0-logloss:0.62833\n",
      "\n",
      "Training time: 1.107sec\n",
      "Prediction time (train): 0.013sec\n",
      "Prediction time (test): 0.003sec\n",
      "\n",
      "-- Check for Overfitting --\n",
      "Train set score: 1.0000 sec \n",
      "Test set score: 0.8250 sec\n",
      "Prediction time (test): 0.002sec\n",
      "\n",
      "-- classification Report --\n",
      "              precision    recall  f1-score   support\n",
      "\n",
      "           0       0.94      0.83      0.88       340\n",
      "           1       0.58      0.81      0.68       100\n",
      "\n",
      "    accuracy                           0.82       440\n",
      "   macro avg       0.76      0.82      0.78       440\n",
      "weighted avg       0.86      0.82      0.83       440\n",
      "\n",
      "\n",
      "-- Confusion matrix --\n",
      " [[282  58]\n",
      " [ 19  81]]\n",
      "True Positives(TP) =  282\n",
      "True Negatives(TN) =  81\n",
      "False Positives(FP) =  58\n",
      "False Negatives(FN) =  19\n",
      "--------------------------------------------------------------------------------\n",
      "Accuracy :0.825\n",
      "Precision :0.5827338129496403\n",
      "Recall :0.81\n",
      "F1_score :0.6778242677824269\n",
      "F05_score :0.6173780487804879\n",
      "F2_score :0.75139146567718\n",
      "Roc auc score :0.8286176470588236\n",
      "Matthews_corrcoef :0.5764072481562788\n",
      "Cohen_kappa :0.562047569803516\n",
      "True_positive_rate :0.81\n",
      "True_negative_rate :0.8294117647058824\n",
      "Positive_predictive_value :0.5827338129496403\n",
      "Negative_predictive_value :0.9368770764119602\n",
      "False_positive_rate :0.17058823529411765\n",
      "False_negative_rate :0.19\n",
      "False_discovery_rate :0.4172661870503597\n",
      "################################################################################\n",
      "\n",
      "LGBMClassifier_ADASYN\n",
      "[LightGBM] [Warning] early_stopping_round is set=10, early_stopping_rounds=10 will be ignored. Current value: early_stopping_round=10\n",
      "[LightGBM] [Info] Number of positive: 1608, number of negative: 1607\n",
      "[LightGBM] [Debug] Dataset::GetMultiBinFromSparseFeatures: sparse rate 0.927519\n",
      "[LightGBM] [Debug] Dataset::GetMultiBinFromAllFeatures: sparse rate 0.925047\n",
      "[LightGBM] [Debug] init for col-wise cost 0.024074 seconds, init for row-wise cost 0.025903 seconds\n",
      "[LightGBM] [Info] Auto-choosing col-wise multi-threading, the overhead of testing was 0.032379 seconds.\n",
      "You can set `force_col_wise=true` to remove the overhead.\n",
      "[LightGBM] [Info] Total Bins 153798\n",
      "[LightGBM] [Info] Number of data points in the train set: 3215, number of used features: 1998\n",
      "[LightGBM] [Warning] early_stopping_round is set=10, early_stopping_rounds=10 will be ignored. Current value: early_stopping_round=10\n",
      "[LightGBM] [Info] [binary:BoostFromScore]: pavg=0.500156 -> initscore=0.000622\n",
      "[LightGBM] [Info] Start training from score 0.000622\n",
      "[LightGBM] [Warning] No further splits with positive gain, best gain: -inf\n",
      "[LightGBM] [Debug] Trained a tree with leaves = 28 and depth = 16\n",
      "Training until validation scores don't improve for 10 rounds\n",
      "[LightGBM] [Debug] Trained a tree with leaves = 31 and depth = 17\n",
      "[LightGBM] [Debug] Trained a tree with leaves = 31 and depth = 17\n",
      "[LightGBM] [Debug] Trained a tree with leaves = 31 and depth = 17\n",
      "[LightGBM] [Debug] Trained a tree with leaves = 31 and depth = 17\n",
      "[LightGBM] [Debug] Trained a tree with leaves = 31 and depth = 17\n",
      "[LightGBM] [Debug] Trained a tree with leaves = 31 and depth = 11\n",
      "[LightGBM] [Debug] Trained a tree with leaves = 31 and depth = 18\n",
      "[LightGBM] [Debug] Trained a tree with leaves = 31 and depth = 18\n",
      "[LightGBM] [Debug] Trained a tree with leaves = 31 and depth = 18\n",
      "[LightGBM] [Debug] Trained a tree with leaves = 31 and depth = 12\n",
      "[LightGBM] [Debug] Trained a tree with leaves = 31 and depth = 19\n",
      "[LightGBM] [Debug] Trained a tree with leaves = 31 and depth = 12\n",
      "[LightGBM] [Debug] Trained a tree with leaves = 31 and depth = 13\n",
      "[LightGBM] [Debug] Trained a tree with leaves = 31 and depth = 13\n",
      "[LightGBM] [Debug] Trained a tree with leaves = 31 and depth = 17\n",
      "[LightGBM] [Debug] Trained a tree with leaves = 31 and depth = 12\n",
      "[LightGBM] [Debug] Trained a tree with leaves = 31 and depth = 12\n",
      "[LightGBM] [Debug] Trained a tree with leaves = 31 and depth = 12\n",
      "[LightGBM] [Debug] Trained a tree with leaves = 31 and depth = 17\n",
      "[LightGBM] [Debug] Trained a tree with leaves = 31 and depth = 14\n",
      "[LightGBM] [Debug] Trained a tree with leaves = 31 and depth = 13\n",
      "[LightGBM] [Debug] Trained a tree with leaves = 31 and depth = 11\n",
      "[LightGBM] [Debug] Trained a tree with leaves = 31 and depth = 17\n",
      "[LightGBM] [Debug] Trained a tree with leaves = 31 and depth = 12\n",
      "[LightGBM] [Debug] Trained a tree with leaves = 31 and depth = 12\n",
      "[LightGBM] [Debug] Trained a tree with leaves = 31 and depth = 11\n",
      "[LightGBM] [Debug] Trained a tree with leaves = 31 and depth = 17\n",
      "[LightGBM] [Debug] Trained a tree with leaves = 31 and depth = 11\n",
      "[LightGBM] [Debug] Trained a tree with leaves = 31 and depth = 17\n",
      "[LightGBM] [Debug] Trained a tree with leaves = 31 and depth = 13\n",
      "[LightGBM] [Debug] Trained a tree with leaves = 31 and depth = 12\n",
      "[LightGBM] [Debug] Trained a tree with leaves = 31 and depth = 13\n",
      "[LightGBM] [Debug] Trained a tree with leaves = 31 and depth = 13\n",
      "[LightGBM] [Debug] Trained a tree with leaves = 31 and depth = 12\n",
      "[LightGBM] [Debug] Trained a tree with leaves = 31 and depth = 17\n",
      "[LightGBM] [Debug] Trained a tree with leaves = 31 and depth = 12\n",
      "[LightGBM] [Debug] Trained a tree with leaves = 31 and depth = 13\n",
      "[LightGBM] [Debug] Trained a tree with leaves = 31 and depth = 13\n",
      "[LightGBM] [Debug] Trained a tree with leaves = 31 and depth = 12\n",
      "Early stopping, best iteration is:\n",
      "[30]\tvalid_0's binary_logloss: 0.524594\n",
      "\n",
      "Training time: 0.872sec\n",
      "Prediction time (train): 0.006sec\n",
      "Prediction time (test): 0.002sec\n",
      "\n",
      "-- Check for Overfitting --\n",
      "Train set score: 1.0000 sec \n",
      "Test set score: 0.7841 sec\n",
      "Prediction time (test): 0.001sec\n",
      "\n",
      "-- classification Report --\n",
      "              precision    recall  f1-score   support\n",
      "\n",
      "           0       0.92      0.79      0.85       340\n",
      "           1       0.52      0.77      0.62       100\n",
      "\n",
      "    accuracy                           0.78       440\n",
      "   macro avg       0.72      0.78      0.73       440\n",
      "weighted avg       0.83      0.78      0.80       440\n",
      "\n",
      "\n",
      "-- Confusion matrix --\n",
      " [[268  72]\n",
      " [ 23  77]]\n",
      "True Positives(TP) =  268\n",
      "True Negatives(TN) =  77\n",
      "False Positives(FP) =  72\n",
      "False Negatives(FN) =  23\n",
      "--------------------------------------------------------------------------------\n",
      "Accuracy :0.7840909090909091\n",
      "Precision :0.5167785234899329\n",
      "Recall :0.77\n",
      "F1_score :0.6184738955823293\n",
      "F05_score :0.55316091954023\n",
      "F2_score :0.7012750455373405\n",
      "Roc auc score :0.8367058823529412\n",
      "Matthews_corrcoef :0.4943301742165932\n",
      "Cohen_kappa :0.47592778335005015\n",
      "True_positive_rate :0.77\n",
      "True_negative_rate :0.788235294117647\n",
      "Positive_predictive_value :0.5167785234899329\n",
      "Negative_predictive_value :0.9209621993127147\n",
      "False_positive_rate :0.21176470588235294\n",
      "False_negative_rate :0.23\n",
      "False_discovery_rate :0.48322147651006714\n",
      "################################################################################\n",
      "Training and testing time of all models 3.9774 seconds\n"
     ]
    }
   ],
   "source": [
    "# over-sampling using SMOTE.\n",
    "sampling = ADASYN(random_state=42)\n",
    "\n",
    "#set the evaluation set for early stop models\n",
    "# eval_set = [(X_validation, y_validation)]\n",
    "\n",
    "#train the models\n",
    "df_results = train_models_sampling(models, es_models, X_train, y_train, eval_set, X_test, y_test, sampling)"
   ]
  },
  {
   "cell_type": "code",
   "execution_count": 63,
   "id": "df3e2985-801a-4f0f-8031-b32e5b0cab1a",
   "metadata": {
    "ExecuteTime": {
     "end_time": "2023-11-01T12:48:33.824558500Z",
     "start_time": "2023-11-01T12:48:33.492346700Z"
    }
   },
   "outputs": [
    {
     "data": {
      "text/plain": "                                          F1_score  Precision  Recall  \\\nDecisionTreeClassifier_                   0.279330   0.316456    0.25   \nRandomForestClassifier_                   0.861244   0.825688    0.90   \nXGBClassifier_                            0.658915   0.537975    0.85   \nLGBMClassifier_                           0.623482   0.523810    0.77   \nDecisionTreeClassifier_RandomOverSampler  0.620915   0.461165    0.95   \nRandomForestClassifier_RandomOverSampler  0.929293   0.938776    0.92   \nXGBClassifier_RandomOverSampler           0.564706   0.400000    0.96   \nLGBMClassifier_RandomOverSampler          0.557471   0.391129    0.97   \nDecisionTreeClassifier_SMOTE              0.287293   0.320988    0.26   \nRandomForestClassifier_SMOTE              0.885572   0.881188    0.89   \nXGBClassifier_SMOTE                       0.242775   0.287671    0.21   \nLGBMClassifier_SMOTE                      0.302083   0.315217    0.29   \nDecisionTreeClassifier_ADASYN             0.178344   0.245614    0.14   \nRandomForestClassifier_ADASYN             0.878049   0.857143    0.90   \nXGBClassifier_ADASYN                      0.677824   0.582734    0.81   \nLGBMClassifier_ADASYN                     0.618474   0.516779    0.77   \n\n                                           ROC AUC  Accuracy  Training time  \\\nDecisionTreeClassifier_                   0.545588  0.706818       0.967479   \nRandomForestClassifier_                   0.965294  0.934091       0.764570   \nXGBClassifier_                            0.863868  0.800000       0.939583   \nLGBMClassifier_                           0.838779  0.788636       1.216483   \nDecisionTreeClassifier_RandomOverSampler  0.811765  0.736364       0.346756   \nRandomForestClassifier_RandomOverSampler  0.981882  0.968182       0.930522   \nXGBClassifier_RandomOverSampler           0.776897  0.663636       0.705180   \nLGBMClassifier_RandomOverSampler          0.820059  0.650000       0.399436   \nDecisionTreeClassifier_SMOTE              0.549118  0.706818       1.027983   \nRandomForestClassifier_SMOTE              0.985868  0.947727       1.181271   \nXGBClassifier_SMOTE                       0.686588  0.702273       0.911851   \nLGBMClassifier_SMOTE                      0.689279  0.695455       0.711388   \nDecisionTreeClassifier_ADASYN             0.506765  0.706818       0.772938   \nRandomForestClassifier_ADASYN             0.976191  0.943182       1.038656   \nXGBClassifier_ADASYN                      0.828618  0.825000       1.107436   \nLGBMClassifier_ADASYN                     0.836706  0.784091       0.871821   \n\n                                          Test time  \nDecisionTreeClassifier_                    0.001024  \nRandomForestClassifier_                    0.008661  \nXGBClassifier_                             0.001479  \nLGBMClassifier_                            0.001050  \nDecisionTreeClassifier_RandomOverSampler   0.000577  \nRandomForestClassifier_RandomOverSampler   0.008704  \nXGBClassifier_RandomOverSampler            0.001476  \nLGBMClassifier_RandomOverSampler           0.001057  \nDecisionTreeClassifier_SMOTE               0.001831  \nRandomForestClassifier_SMOTE               0.009666  \nXGBClassifier_SMOTE                        0.001444  \nLGBMClassifier_SMOTE                       0.001497  \nDecisionTreeClassifier_ADASYN              0.001261  \nRandomForestClassifier_ADASYN              0.009390  \nXGBClassifier_ADASYN                       0.001301  \nLGBMClassifier_ADASYN                      0.001293  ",
      "text/html": "<div>\n<style scoped>\n    .dataframe tbody tr th:only-of-type {\n        vertical-align: middle;\n    }\n\n    .dataframe tbody tr th {\n        vertical-align: top;\n    }\n\n    .dataframe thead th {\n        text-align: right;\n    }\n</style>\n<table border=\"1\" class=\"dataframe\">\n  <thead>\n    <tr style=\"text-align: right;\">\n      <th></th>\n      <th>F1_score</th>\n      <th>Precision</th>\n      <th>Recall</th>\n      <th>ROC AUC</th>\n      <th>Accuracy</th>\n      <th>Training time</th>\n      <th>Test time</th>\n    </tr>\n  </thead>\n  <tbody>\n    <tr>\n      <th>DecisionTreeClassifier_</th>\n      <td>0.279330</td>\n      <td>0.316456</td>\n      <td>0.25</td>\n      <td>0.545588</td>\n      <td>0.706818</td>\n      <td>0.967479</td>\n      <td>0.001024</td>\n    </tr>\n    <tr>\n      <th>RandomForestClassifier_</th>\n      <td>0.861244</td>\n      <td>0.825688</td>\n      <td>0.90</td>\n      <td>0.965294</td>\n      <td>0.934091</td>\n      <td>0.764570</td>\n      <td>0.008661</td>\n    </tr>\n    <tr>\n      <th>XGBClassifier_</th>\n      <td>0.658915</td>\n      <td>0.537975</td>\n      <td>0.85</td>\n      <td>0.863868</td>\n      <td>0.800000</td>\n      <td>0.939583</td>\n      <td>0.001479</td>\n    </tr>\n    <tr>\n      <th>LGBMClassifier_</th>\n      <td>0.623482</td>\n      <td>0.523810</td>\n      <td>0.77</td>\n      <td>0.838779</td>\n      <td>0.788636</td>\n      <td>1.216483</td>\n      <td>0.001050</td>\n    </tr>\n    <tr>\n      <th>DecisionTreeClassifier_RandomOverSampler</th>\n      <td>0.620915</td>\n      <td>0.461165</td>\n      <td>0.95</td>\n      <td>0.811765</td>\n      <td>0.736364</td>\n      <td>0.346756</td>\n      <td>0.000577</td>\n    </tr>\n    <tr>\n      <th>RandomForestClassifier_RandomOverSampler</th>\n      <td>0.929293</td>\n      <td>0.938776</td>\n      <td>0.92</td>\n      <td>0.981882</td>\n      <td>0.968182</td>\n      <td>0.930522</td>\n      <td>0.008704</td>\n    </tr>\n    <tr>\n      <th>XGBClassifier_RandomOverSampler</th>\n      <td>0.564706</td>\n      <td>0.400000</td>\n      <td>0.96</td>\n      <td>0.776897</td>\n      <td>0.663636</td>\n      <td>0.705180</td>\n      <td>0.001476</td>\n    </tr>\n    <tr>\n      <th>LGBMClassifier_RandomOverSampler</th>\n      <td>0.557471</td>\n      <td>0.391129</td>\n      <td>0.97</td>\n      <td>0.820059</td>\n      <td>0.650000</td>\n      <td>0.399436</td>\n      <td>0.001057</td>\n    </tr>\n    <tr>\n      <th>DecisionTreeClassifier_SMOTE</th>\n      <td>0.287293</td>\n      <td>0.320988</td>\n      <td>0.26</td>\n      <td>0.549118</td>\n      <td>0.706818</td>\n      <td>1.027983</td>\n      <td>0.001831</td>\n    </tr>\n    <tr>\n      <th>RandomForestClassifier_SMOTE</th>\n      <td>0.885572</td>\n      <td>0.881188</td>\n      <td>0.89</td>\n      <td>0.985868</td>\n      <td>0.947727</td>\n      <td>1.181271</td>\n      <td>0.009666</td>\n    </tr>\n    <tr>\n      <th>XGBClassifier_SMOTE</th>\n      <td>0.242775</td>\n      <td>0.287671</td>\n      <td>0.21</td>\n      <td>0.686588</td>\n      <td>0.702273</td>\n      <td>0.911851</td>\n      <td>0.001444</td>\n    </tr>\n    <tr>\n      <th>LGBMClassifier_SMOTE</th>\n      <td>0.302083</td>\n      <td>0.315217</td>\n      <td>0.29</td>\n      <td>0.689279</td>\n      <td>0.695455</td>\n      <td>0.711388</td>\n      <td>0.001497</td>\n    </tr>\n    <tr>\n      <th>DecisionTreeClassifier_ADASYN</th>\n      <td>0.178344</td>\n      <td>0.245614</td>\n      <td>0.14</td>\n      <td>0.506765</td>\n      <td>0.706818</td>\n      <td>0.772938</td>\n      <td>0.001261</td>\n    </tr>\n    <tr>\n      <th>RandomForestClassifier_ADASYN</th>\n      <td>0.878049</td>\n      <td>0.857143</td>\n      <td>0.90</td>\n      <td>0.976191</td>\n      <td>0.943182</td>\n      <td>1.038656</td>\n      <td>0.009390</td>\n    </tr>\n    <tr>\n      <th>XGBClassifier_ADASYN</th>\n      <td>0.677824</td>\n      <td>0.582734</td>\n      <td>0.81</td>\n      <td>0.828618</td>\n      <td>0.825000</td>\n      <td>1.107436</td>\n      <td>0.001301</td>\n    </tr>\n    <tr>\n      <th>LGBMClassifier_ADASYN</th>\n      <td>0.618474</td>\n      <td>0.516779</td>\n      <td>0.77</td>\n      <td>0.836706</td>\n      <td>0.784091</td>\n      <td>0.871821</td>\n      <td>0.001293</td>\n    </tr>\n  </tbody>\n</table>\n</div>"
     },
     "execution_count": 63,
     "metadata": {},
     "output_type": "execute_result"
    }
   ],
   "source": [
    "df_results"
   ]
  },
  {
   "cell_type": "markdown",
   "id": "0c00d237-2e00-48ae-9ae8-fd279367c03d",
   "metadata": {},
   "source": [
    "## KMeansSMOTE method\n",
    "KMeans clustering before to over-sample using SMOTE."
   ]
  },
  {
   "cell_type": "code",
   "execution_count": 64,
   "id": "7cab49b2-dba1-4de8-ab9b-8a0758af76c2",
   "metadata": {
    "ExecuteTime": {
     "end_time": "2023-11-01T12:48:40.381520200Z",
     "start_time": "2023-11-01T12:48:33.496346600Z"
    }
   },
   "outputs": [
    {
     "name": "stderr",
     "output_type": "stream",
     "text": [
      "/home/mbmk92/anaconda3/envs/dltest/lib/python3.10/site-packages/sklearn/cluster/_kmeans.py:870: FutureWarning: The default value of `n_init` will change from 3 to 'auto' in 1.4. Set the value of `n_init` explicitly to suppress the warning\n",
      "  warnings.warn(\n",
      "Exception ignored on calling ctypes callback function: <function _ThreadpoolInfo._find_modules_with_dl_iterate_phdr.<locals>.match_module_callback at 0x7f87d92b0ca0>\n",
      "Traceback (most recent call last):\n",
      "  File \"/home/mbmk92/anaconda3/envs/dltest/lib/python3.10/site-packages/threadpoolctl.py\", line 400, in match_module_callback\n",
      "    self._make_module_from_path(filepath)\n",
      "  File \"/home/mbmk92/anaconda3/envs/dltest/lib/python3.10/site-packages/threadpoolctl.py\", line 515, in _make_module_from_path\n",
      "    module = module_class(filepath, prefix, user_api, internal_api)\n",
      "  File \"/home/mbmk92/anaconda3/envs/dltest/lib/python3.10/site-packages/threadpoolctl.py\", line 606, in __init__\n",
      "    self.version = self.get_version()\n",
      "  File \"/home/mbmk92/anaconda3/envs/dltest/lib/python3.10/site-packages/threadpoolctl.py\", line 646, in get_version\n",
      "    config = get_config().split()\n",
      "AttributeError: 'NoneType' object has no attribute 'split'\n"
     ]
    },
    {
     "name": "stdout",
     "output_type": "stream",
     "text": [
      "-- Dataset shape --\n",
      "Original dataset shape\n",
      "Counter({0: 1607, 1: 506})\n"
     ]
    },
    {
     "name": "stderr",
     "output_type": "stream",
     "text": [
      "Exception ignored on calling ctypes callback function: <function _ThreadpoolInfo._find_modules_with_dl_iterate_phdr.<locals>.match_module_callback at 0x7f87d92b0dc0>\n",
      "Traceback (most recent call last):\n",
      "  File \"/home/mbmk92/anaconda3/envs/dltest/lib/python3.10/site-packages/threadpoolctl.py\", line 400, in match_module_callback\n",
      "    self._make_module_from_path(filepath)\n",
      "  File \"/home/mbmk92/anaconda3/envs/dltest/lib/python3.10/site-packages/threadpoolctl.py\", line 515, in _make_module_from_path\n",
      "    module = module_class(filepath, prefix, user_api, internal_api)\n",
      "  File \"/home/mbmk92/anaconda3/envs/dltest/lib/python3.10/site-packages/threadpoolctl.py\", line 606, in __init__\n",
      "    self.version = self.get_version()\n",
      "  File \"/home/mbmk92/anaconda3/envs/dltest/lib/python3.10/site-packages/threadpoolctl.py\", line 646, in get_version\n",
      "    config = get_config().split()\n",
      "AttributeError: 'NoneType' object has no attribute 'split'\n",
      "Exception ignored on calling ctypes callback function: <function _ThreadpoolInfo._find_modules_with_dl_iterate_phdr.<locals>.match_module_callback at 0x7f87d92b0e50>\n",
      "Traceback (most recent call last):\n",
      "  File \"/home/mbmk92/anaconda3/envs/dltest/lib/python3.10/site-packages/threadpoolctl.py\", line 400, in match_module_callback\n",
      "    self._make_module_from_path(filepath)\n",
      "  File \"/home/mbmk92/anaconda3/envs/dltest/lib/python3.10/site-packages/threadpoolctl.py\", line 515, in _make_module_from_path\n",
      "    module = module_class(filepath, prefix, user_api, internal_api)\n",
      "  File \"/home/mbmk92/anaconda3/envs/dltest/lib/python3.10/site-packages/threadpoolctl.py\", line 606, in __init__\n",
      "    self.version = self.get_version()\n",
      "  File \"/home/mbmk92/anaconda3/envs/dltest/lib/python3.10/site-packages/threadpoolctl.py\", line 646, in get_version\n",
      "    config = get_config().split()\n",
      "AttributeError: 'NoneType' object has no attribute 'split'\n",
      "Exception ignored on calling ctypes callback function: <function _ThreadpoolInfo._find_modules_with_dl_iterate_phdr.<locals>.match_module_callback at 0x7f87d92b0ca0>\n",
      "Traceback (most recent call last):\n",
      "  File \"/home/mbmk92/anaconda3/envs/dltest/lib/python3.10/site-packages/threadpoolctl.py\", line 400, in match_module_callback\n",
      "    self._make_module_from_path(filepath)\n",
      "  File \"/home/mbmk92/anaconda3/envs/dltest/lib/python3.10/site-packages/threadpoolctl.py\", line 515, in _make_module_from_path\n",
      "    module = module_class(filepath, prefix, user_api, internal_api)\n",
      "  File \"/home/mbmk92/anaconda3/envs/dltest/lib/python3.10/site-packages/threadpoolctl.py\", line 606, in __init__\n",
      "    self.version = self.get_version()\n",
      "  File \"/home/mbmk92/anaconda3/envs/dltest/lib/python3.10/site-packages/threadpoolctl.py\", line 646, in get_version\n",
      "    config = get_config().split()\n",
      "AttributeError: 'NoneType' object has no attribute 'split'\n",
      "Exception ignored on calling ctypes callback function: <function _ThreadpoolInfo._find_modules_with_dl_iterate_phdr.<locals>.match_module_callback at 0x7f87d926e320>\n",
      "Traceback (most recent call last):\n",
      "  File \"/home/mbmk92/anaconda3/envs/dltest/lib/python3.10/site-packages/threadpoolctl.py\", line 400, in match_module_callback\n",
      "    self._make_module_from_path(filepath)\n",
      "  File \"/home/mbmk92/anaconda3/envs/dltest/lib/python3.10/site-packages/threadpoolctl.py\", line 515, in _make_module_from_path\n",
      "    module = module_class(filepath, prefix, user_api, internal_api)\n",
      "  File \"/home/mbmk92/anaconda3/envs/dltest/lib/python3.10/site-packages/threadpoolctl.py\", line 606, in __init__\n",
      "    self.version = self.get_version()\n",
      "  File \"/home/mbmk92/anaconda3/envs/dltest/lib/python3.10/site-packages/threadpoolctl.py\", line 646, in get_version\n",
      "    config = get_config().split()\n",
      "AttributeError: 'NoneType' object has no attribute 'split'\n",
      "Exception ignored on calling ctypes callback function: <function _ThreadpoolInfo._find_modules_with_dl_iterate_phdr.<locals>.match_module_callback at 0x7f87d92b0e50>\n",
      "Traceback (most recent call last):\n",
      "  File \"/home/mbmk92/anaconda3/envs/dltest/lib/python3.10/site-packages/threadpoolctl.py\", line 400, in match_module_callback\n",
      "    self._make_module_from_path(filepath)\n",
      "  File \"/home/mbmk92/anaconda3/envs/dltest/lib/python3.10/site-packages/threadpoolctl.py\", line 515, in _make_module_from_path\n",
      "    module = module_class(filepath, prefix, user_api, internal_api)\n",
      "  File \"/home/mbmk92/anaconda3/envs/dltest/lib/python3.10/site-packages/threadpoolctl.py\", line 606, in __init__\n",
      "    self.version = self.get_version()\n",
      "  File \"/home/mbmk92/anaconda3/envs/dltest/lib/python3.10/site-packages/threadpoolctl.py\", line 646, in get_version\n",
      "    config = get_config().split()\n",
      "AttributeError: 'NoneType' object has no attribute 'split'\n",
      "Exception ignored on calling ctypes callback function: <function _ThreadpoolInfo._find_modules_with_dl_iterate_phdr.<locals>.match_module_callback at 0x7f87d926e320>\n",
      "Traceback (most recent call last):\n",
      "  File \"/home/mbmk92/anaconda3/envs/dltest/lib/python3.10/site-packages/threadpoolctl.py\", line 400, in match_module_callback\n",
      "    self._make_module_from_path(filepath)\n",
      "  File \"/home/mbmk92/anaconda3/envs/dltest/lib/python3.10/site-packages/threadpoolctl.py\", line 515, in _make_module_from_path\n",
      "    module = module_class(filepath, prefix, user_api, internal_api)\n",
      "  File \"/home/mbmk92/anaconda3/envs/dltest/lib/python3.10/site-packages/threadpoolctl.py\", line 606, in __init__\n",
      "    self.version = self.get_version()\n",
      "  File \"/home/mbmk92/anaconda3/envs/dltest/lib/python3.10/site-packages/threadpoolctl.py\", line 646, in get_version\n",
      "    config = get_config().split()\n",
      "AttributeError: 'NoneType' object has no attribute 'split'\n",
      "Exception ignored on calling ctypes callback function: <function _ThreadpoolInfo._find_modules_with_dl_iterate_phdr.<locals>.match_module_callback at 0x7f87d926e320>\n",
      "Traceback (most recent call last):\n",
      "  File \"/home/mbmk92/anaconda3/envs/dltest/lib/python3.10/site-packages/threadpoolctl.py\", line 400, in match_module_callback\n",
      "    self._make_module_from_path(filepath)\n",
      "  File \"/home/mbmk92/anaconda3/envs/dltest/lib/python3.10/site-packages/threadpoolctl.py\", line 515, in _make_module_from_path\n",
      "    module = module_class(filepath, prefix, user_api, internal_api)\n",
      "  File \"/home/mbmk92/anaconda3/envs/dltest/lib/python3.10/site-packages/threadpoolctl.py\", line 606, in __init__\n",
      "    self.version = self.get_version()\n",
      "  File \"/home/mbmk92/anaconda3/envs/dltest/lib/python3.10/site-packages/threadpoolctl.py\", line 646, in get_version\n",
      "    config = get_config().split()\n",
      "AttributeError: 'NoneType' object has no attribute 'split'\n"
     ]
    },
    {
     "name": "stdout",
     "output_type": "stream",
     "text": [
      "Resampled dataset shape Counter({1: 1608, 0: 1607})\n",
      "\n",
      "DecisionTreeClassifier_KMeansSMOTE\n",
      "\n",
      "Training time: 1.173sec\n",
      "Prediction time (train): 0.031sec\n",
      "Prediction time (test): 0.002sec\n",
      "\n",
      "-- Check for Overfitting --\n",
      "Train set score: 1.0000 sec \n",
      "Test set score: 0.6932 sec\n",
      "Prediction time (test): 0.001sec\n",
      "\n",
      "-- classification Report --\n",
      "              precision    recall  f1-score   support\n",
      "\n",
      "           0       0.79      0.82      0.81       340\n",
      "           1       0.30      0.26      0.28       100\n",
      "\n",
      "    accuracy                           0.69       440\n",
      "   macro avg       0.54      0.54      0.54       440\n",
      "weighted avg       0.68      0.69      0.69       440\n",
      "\n",
      "\n",
      "-- Confusion matrix --\n",
      " [[279  61]\n",
      " [ 74  26]]\n",
      "True Positives(TP) =  279\n",
      "True Negatives(TN) =  26\n",
      "False Positives(FP) =  61\n",
      "False Negatives(FN) =  74\n",
      "--------------------------------------------------------------------------------\n",
      "Accuracy :0.6931818181818182\n",
      "Precision :0.2988505747126437\n",
      "Recall :0.26\n",
      "F1_score :0.27807486631016043\n",
      "F05_score :0.29017857142857145\n",
      "F2_score :0.2669404517453799\n",
      "Roc auc score :0.5402941176470588\n",
      "Matthews_corrcoef :0.08479380524481502\n",
      "Cohen_kappa :0.08446362515413075\n",
      "True_positive_rate :0.26\n",
      "True_negative_rate :0.8205882352941176\n",
      "Positive_predictive_value :0.2988505747126437\n",
      "Negative_predictive_value :0.7903682719546742\n",
      "False_positive_rate :0.17941176470588235\n",
      "False_negative_rate :0.74\n",
      "False_discovery_rate :0.7011494252873564\n",
      "################################################################################\n",
      "\n",
      "RandomForestClassifier_KMeansSMOTE\n",
      "\n",
      "Training time: 1.108sec\n",
      "Prediction time (train): 0.068sec\n",
      "Prediction time (test): 0.016sec\n",
      "\n",
      "-- Check for Overfitting --\n",
      "Train set score: 1.0000 sec \n",
      "Test set score: 0.9545 sec\n",
      "Prediction time (test): 0.018sec\n",
      "\n",
      "-- classification Report --\n",
      "              precision    recall  f1-score   support\n",
      "\n",
      "           0       0.97      0.97      0.97       340\n",
      "           1       0.89      0.91      0.90       100\n",
      "\n",
      "    accuracy                           0.95       440\n",
      "   macro avg       0.93      0.94      0.94       440\n",
      "weighted avg       0.95      0.95      0.95       440\n",
      "\n",
      "\n",
      "-- Confusion matrix --\n",
      " [[329  11]\n",
      " [  9  91]]\n",
      "True Positives(TP) =  329\n",
      "True Negatives(TN) =  91\n",
      "False Positives(FP) =  11\n",
      "False Negatives(FN) =  9\n",
      "--------------------------------------------------------------------------------\n",
      "Accuracy :0.9545454545454546\n",
      "Precision :0.8921568627450981\n",
      "Recall :0.91\n",
      "F1_score :0.900990099009901\n",
      "F05_score :0.8956692913385828\n",
      "F2_score :0.906374501992032\n",
      "Roc auc score :0.9848970588235294\n",
      "Matthews_corrcoef :0.8715672929926797\n",
      "Cohen_kappa :0.8714953271028038\n",
      "True_positive_rate :0.91\n",
      "True_negative_rate :0.9676470588235294\n",
      "Positive_predictive_value :0.8921568627450981\n",
      "Negative_predictive_value :0.9733727810650887\n",
      "False_positive_rate :0.03235294117647059\n",
      "False_negative_rate :0.09\n",
      "False_discovery_rate :0.10784313725490197\n",
      "################################################################################\n",
      "\n",
      "XGBClassifier_KMeansSMOTE\n",
      "[0]\tvalidation_0-logloss:0.58598\n",
      "[1]\tvalidation_0-logloss:0.54505\n",
      "[2]\tvalidation_0-logloss:0.54907\n",
      "[3]\tvalidation_0-logloss:0.55128\n",
      "[4]\tvalidation_0-logloss:0.52956\n",
      "[5]\tvalidation_0-logloss:0.54855\n",
      "[6]\tvalidation_0-logloss:0.60121\n",
      "[7]\tvalidation_0-logloss:0.60988\n",
      "[8]\tvalidation_0-logloss:0.58953\n",
      "[9]\tvalidation_0-logloss:0.60675\n",
      "[10]\tvalidation_0-logloss:0.58235\n",
      "[11]\tvalidation_0-logloss:0.63605\n",
      "[12]\tvalidation_0-logloss:0.69163\n",
      "[13]\tvalidation_0-logloss:0.70318\n",
      "\n",
      "Training time: 0.978sec\n",
      "Prediction time (train): 0.008sec\n",
      "Prediction time (test): 0.002sec\n",
      "\n",
      "-- Check for Overfitting --\n",
      "Train set score: 0.9997 sec \n",
      "Test set score: 0.7273 sec\n",
      "Prediction time (test): 0.001sec\n",
      "\n",
      "-- classification Report --\n",
      "              precision    recall  f1-score   support\n",
      "\n",
      "           0       0.94      0.69      0.80       340\n",
      "           1       0.45      0.86      0.59       100\n",
      "\n",
      "    accuracy                           0.73       440\n",
      "   macro avg       0.70      0.77      0.69       440\n",
      "weighted avg       0.83      0.73      0.75       440\n",
      "\n",
      "\n",
      "-- Confusion matrix --\n",
      " [[234 106]\n",
      " [ 14  86]]\n",
      "True Positives(TP) =  234\n",
      "True Negatives(TN) =  86\n",
      "False Positives(FP) =  106\n",
      "False Negatives(FN) =  14\n",
      "--------------------------------------------------------------------------------\n",
      "Accuracy :0.7272727272727273\n",
      "Precision :0.4479166666666667\n",
      "Recall :0.86\n",
      "F1_score :0.589041095890411\n",
      "F05_score :0.4953917050691245\n",
      "F2_score :0.7263513513513514\n",
      "Roc auc score :0.8045000000000001\n",
      "Matthews_corrcoef :0.4632655382032863\n",
      "Cohen_kappa :0.41385435168738904\n",
      "True_positive_rate :0.86\n",
      "True_negative_rate :0.6882352941176471\n",
      "Positive_predictive_value :0.4479166666666667\n",
      "Negative_predictive_value :0.9435483870967742\n",
      "False_positive_rate :0.31176470588235294\n",
      "False_negative_rate :0.14\n",
      "False_discovery_rate :0.5520833333333334\n",
      "################################################################################\n",
      "\n",
      "LGBMClassifier_KMeansSMOTE\n",
      "[LightGBM] [Warning] early_stopping_round is set=10, early_stopping_rounds=10 will be ignored. Current value: early_stopping_round=10\n",
      "[LightGBM] [Info] Number of positive: 1608, number of negative: 1607\n",
      "[LightGBM] [Debug] Dataset::GetMultiBinFromSparseFeatures: sparse rate 0.914228\n",
      "[LightGBM] [Debug] Dataset::GetMultiBinFromAllFeatures: sparse rate 0.910329\n",
      "[LightGBM] [Debug] init for col-wise cost 0.018056 seconds, init for row-wise cost 0.016320 seconds\n",
      "[LightGBM] [Info] Auto-choosing row-wise multi-threading, the overhead of testing was 0.024782 seconds.\n",
      "You can set `force_row_wise=true` to remove the overhead.\n",
      "And if memory is not enough, you can set `force_col_wise=true`.\n",
      "[LightGBM] [Debug] Using Sparse Multi-Val Bin\n",
      "[LightGBM] [Info] Total Bins 180775\n",
      "[LightGBM] [Info] Number of data points in the train set: 3215, number of used features: 1998\n",
      "[LightGBM] [Warning] early_stopping_round is set=10, early_stopping_rounds=10 will be ignored. Current value: early_stopping_round=10\n",
      "[LightGBM] [Info] [binary:BoostFromScore]: pavg=0.500156 -> initscore=0.000622\n",
      "[LightGBM] [Info] Start training from score 0.000622\n",
      "[LightGBM] [Debug] Trained a tree with leaves = 31 and depth = 18\n",
      "Training until validation scores don't improve for 10 rounds\n",
      "[LightGBM] [Debug] Trained a tree with leaves = 31 and depth = 18\n",
      "[LightGBM] [Debug] Trained a tree with leaves = 31 and depth = 13\n",
      "[LightGBM] [Debug] Trained a tree with leaves = 31 and depth = 18\n",
      "[LightGBM] [Debug] Trained a tree with leaves = 31 and depth = 14\n",
      "[LightGBM] [Debug] Trained a tree with leaves = 31 and depth = 13\n",
      "[LightGBM] [Debug] Trained a tree with leaves = 31 and depth = 18\n",
      "[LightGBM] [Debug] Trained a tree with leaves = 31 and depth = 13\n",
      "[LightGBM] [Debug] Trained a tree with leaves = 31 and depth = 19\n",
      "[LightGBM] [Debug] Trained a tree with leaves = 31 and depth = 13\n",
      "[LightGBM] [Debug] Trained a tree with leaves = 31 and depth = 13\n",
      "[LightGBM] [Debug] Trained a tree with leaves = 31 and depth = 20\n",
      "[LightGBM] [Debug] Trained a tree with leaves = 31 and depth = 14\n",
      "[LightGBM] [Debug] Trained a tree with leaves = 31 and depth = 20\n",
      "[LightGBM] [Debug] Trained a tree with leaves = 31 and depth = 13\n",
      "[LightGBM] [Debug] Trained a tree with leaves = 31 and depth = 13\n",
      "[LightGBM] [Debug] Trained a tree with leaves = 31 and depth = 20\n",
      "[LightGBM] [Debug] Trained a tree with leaves = 31 and depth = 13\n",
      "[LightGBM] [Debug] Trained a tree with leaves = 31 and depth = 13\n",
      "[LightGBM] [Debug] Trained a tree with leaves = 31 and depth = 19\n",
      "[LightGBM] [Debug] Trained a tree with leaves = 31 and depth = 14\n",
      "[LightGBM] [Debug] Trained a tree with leaves = 31 and depth = 14\n",
      "[LightGBM] [Debug] Trained a tree with leaves = 31 and depth = 19\n",
      "[LightGBM] [Debug] Trained a tree with leaves = 31 and depth = 14\n",
      "[LightGBM] [Debug] Trained a tree with leaves = 31 and depth = 13\n",
      "[LightGBM] [Debug] Trained a tree with leaves = 31 and depth = 19\n",
      "[LightGBM] [Debug] Trained a tree with leaves = 31 and depth = 14\n",
      "[LightGBM] [Debug] Trained a tree with leaves = 31 and depth = 13\n",
      "[LightGBM] [Debug] Trained a tree with leaves = 31 and depth = 19\n",
      "[LightGBM] [Debug] Trained a tree with leaves = 31 and depth = 14\n",
      "Early stopping, best iteration is:\n",
      "[20]\tvalid_0's binary_logloss: 0.461538\n",
      "\n",
      "Training time: 0.946sec\n",
      "Prediction time (train): 0.006sec\n",
      "Prediction time (test): 0.002sec\n",
      "\n",
      "-- Check for Overfitting --\n",
      "Train set score: 1.0000 sec \n",
      "Test set score: 0.7636 sec\n",
      "Prediction time (test): 0.001sec\n",
      "\n",
      "-- classification Report --\n",
      "              precision    recall  f1-score   support\n",
      "\n",
      "           0       0.96      0.73      0.83       340\n",
      "           1       0.49      0.89      0.63       100\n",
      "\n",
      "    accuracy                           0.76       440\n",
      "   macro avg       0.72      0.81      0.73       440\n",
      "weighted avg       0.85      0.76      0.78       440\n",
      "\n",
      "\n",
      "-- Confusion matrix --\n",
      " [[247  93]\n",
      " [ 11  89]]\n",
      "True Positives(TP) =  247\n",
      "True Negatives(TN) =  89\n",
      "False Positives(FP) =  93\n",
      "False Negatives(FN) =  11\n",
      "--------------------------------------------------------------------------------\n",
      "Accuracy :0.7636363636363637\n",
      "Precision :0.489010989010989\n",
      "Recall :0.89\n",
      "F1_score :0.6312056737588653\n",
      "F05_score :0.5374396135265701\n",
      "F2_score :0.7646048109965635\n",
      "Roc auc score :0.8734117647058823\n",
      "Matthews_corrcoef :0.5245734098466726\n",
      "Cohen_kappa :0.4781021897810218\n",
      "True_positive_rate :0.89\n",
      "True_negative_rate :0.7264705882352941\n",
      "Positive_predictive_value :0.489010989010989\n",
      "Negative_predictive_value :0.9573643410852714\n",
      "False_positive_rate :0.2735294117647059\n",
      "False_negative_rate :0.11\n",
      "False_discovery_rate :0.510989010989011\n",
      "################################################################################\n",
      "Training and testing time of all models 4.4506 seconds\n"
     ]
    }
   ],
   "source": [
    "# over-sampling using SMOTE.\n",
    "sampling = KMeansSMOTE(random_state=42)\n",
    "\n",
    "#set the evaluation set for early stop models\n",
    "# eval_set = [(X_validation, y_validation)]\n",
    "\n",
    "#train the models\n",
    "df_results = train_models_sampling(models, es_models, X_train, y_train, eval_set, X_test, y_test, sampling)"
   ]
  },
  {
   "cell_type": "code",
   "execution_count": 65,
   "id": "39322d59-68aa-46ad-98da-d3f9ad89e181",
   "metadata": {
    "ExecuteTime": {
     "end_time": "2023-11-01T12:48:40.382521500Z",
     "start_time": "2023-11-01T12:48:40.350637900Z"
    }
   },
   "outputs": [
    {
     "data": {
      "text/plain": "                                          F1_score  Precision  Recall  \\\nDecisionTreeClassifier_                   0.279330   0.316456    0.25   \nRandomForestClassifier_                   0.861244   0.825688    0.90   \nXGBClassifier_                            0.658915   0.537975    0.85   \nLGBMClassifier_                           0.623482   0.523810    0.77   \nDecisionTreeClassifier_RandomOverSampler  0.620915   0.461165    0.95   \nRandomForestClassifier_RandomOverSampler  0.929293   0.938776    0.92   \nXGBClassifier_RandomOverSampler           0.564706   0.400000    0.96   \nLGBMClassifier_RandomOverSampler          0.557471   0.391129    0.97   \nDecisionTreeClassifier_SMOTE              0.287293   0.320988    0.26   \nRandomForestClassifier_SMOTE              0.885572   0.881188    0.89   \nXGBClassifier_SMOTE                       0.242775   0.287671    0.21   \nLGBMClassifier_SMOTE                      0.302083   0.315217    0.29   \nDecisionTreeClassifier_ADASYN             0.178344   0.245614    0.14   \nRandomForestClassifier_ADASYN             0.878049   0.857143    0.90   \nXGBClassifier_ADASYN                      0.677824   0.582734    0.81   \nLGBMClassifier_ADASYN                     0.618474   0.516779    0.77   \nDecisionTreeClassifier_KMeansSMOTE        0.278075   0.298851    0.26   \nRandomForestClassifier_KMeansSMOTE        0.900990   0.892157    0.91   \nXGBClassifier_KMeansSMOTE                 0.589041   0.447917    0.86   \nLGBMClassifier_KMeansSMOTE                0.631206   0.489011    0.89   \n\n                                           ROC AUC  Accuracy  Training time  \\\nDecisionTreeClassifier_                   0.545588  0.706818       0.967479   \nRandomForestClassifier_                   0.965294  0.934091       0.764570   \nXGBClassifier_                            0.863868  0.800000       0.939583   \nLGBMClassifier_                           0.838779  0.788636       1.216483   \nDecisionTreeClassifier_RandomOverSampler  0.811765  0.736364       0.346756   \nRandomForestClassifier_RandomOverSampler  0.981882  0.968182       0.930522   \nXGBClassifier_RandomOverSampler           0.776897  0.663636       0.705180   \nLGBMClassifier_RandomOverSampler          0.820059  0.650000       0.399436   \nDecisionTreeClassifier_SMOTE              0.549118  0.706818       1.027983   \nRandomForestClassifier_SMOTE              0.985868  0.947727       1.181271   \nXGBClassifier_SMOTE                       0.686588  0.702273       0.911851   \nLGBMClassifier_SMOTE                      0.689279  0.695455       0.711388   \nDecisionTreeClassifier_ADASYN             0.506765  0.706818       0.772938   \nRandomForestClassifier_ADASYN             0.976191  0.943182       1.038656   \nXGBClassifier_ADASYN                      0.828618  0.825000       1.107436   \nLGBMClassifier_ADASYN                     0.836706  0.784091       0.871821   \nDecisionTreeClassifier_KMeansSMOTE        0.540294  0.693182       1.173373   \nRandomForestClassifier_KMeansSMOTE        0.984897  0.954545       1.107975   \nXGBClassifier_KMeansSMOTE                 0.804500  0.727273       0.977738   \nLGBMClassifier_KMeansSMOTE                0.873412  0.763636       0.946299   \n\n                                          Test time  \nDecisionTreeClassifier_                    0.001024  \nRandomForestClassifier_                    0.008661  \nXGBClassifier_                             0.001479  \nLGBMClassifier_                            0.001050  \nDecisionTreeClassifier_RandomOverSampler   0.000577  \nRandomForestClassifier_RandomOverSampler   0.008704  \nXGBClassifier_RandomOverSampler            0.001476  \nLGBMClassifier_RandomOverSampler           0.001057  \nDecisionTreeClassifier_SMOTE               0.001831  \nRandomForestClassifier_SMOTE               0.009666  \nXGBClassifier_SMOTE                        0.001444  \nLGBMClassifier_SMOTE                       0.001497  \nDecisionTreeClassifier_ADASYN              0.001261  \nRandomForestClassifier_ADASYN              0.009390  \nXGBClassifier_ADASYN                       0.001301  \nLGBMClassifier_ADASYN                      0.001293  \nDecisionTreeClassifier_KMeansSMOTE         0.001487  \nRandomForestClassifier_KMeansSMOTE         0.015793  \nXGBClassifier_KMeansSMOTE                  0.001266  \nLGBMClassifier_KMeansSMOTE                 0.001097  ",
      "text/html": "<div>\n<style scoped>\n    .dataframe tbody tr th:only-of-type {\n        vertical-align: middle;\n    }\n\n    .dataframe tbody tr th {\n        vertical-align: top;\n    }\n\n    .dataframe thead th {\n        text-align: right;\n    }\n</style>\n<table border=\"1\" class=\"dataframe\">\n  <thead>\n    <tr style=\"text-align: right;\">\n      <th></th>\n      <th>F1_score</th>\n      <th>Precision</th>\n      <th>Recall</th>\n      <th>ROC AUC</th>\n      <th>Accuracy</th>\n      <th>Training time</th>\n      <th>Test time</th>\n    </tr>\n  </thead>\n  <tbody>\n    <tr>\n      <th>DecisionTreeClassifier_</th>\n      <td>0.279330</td>\n      <td>0.316456</td>\n      <td>0.25</td>\n      <td>0.545588</td>\n      <td>0.706818</td>\n      <td>0.967479</td>\n      <td>0.001024</td>\n    </tr>\n    <tr>\n      <th>RandomForestClassifier_</th>\n      <td>0.861244</td>\n      <td>0.825688</td>\n      <td>0.90</td>\n      <td>0.965294</td>\n      <td>0.934091</td>\n      <td>0.764570</td>\n      <td>0.008661</td>\n    </tr>\n    <tr>\n      <th>XGBClassifier_</th>\n      <td>0.658915</td>\n      <td>0.537975</td>\n      <td>0.85</td>\n      <td>0.863868</td>\n      <td>0.800000</td>\n      <td>0.939583</td>\n      <td>0.001479</td>\n    </tr>\n    <tr>\n      <th>LGBMClassifier_</th>\n      <td>0.623482</td>\n      <td>0.523810</td>\n      <td>0.77</td>\n      <td>0.838779</td>\n      <td>0.788636</td>\n      <td>1.216483</td>\n      <td>0.001050</td>\n    </tr>\n    <tr>\n      <th>DecisionTreeClassifier_RandomOverSampler</th>\n      <td>0.620915</td>\n      <td>0.461165</td>\n      <td>0.95</td>\n      <td>0.811765</td>\n      <td>0.736364</td>\n      <td>0.346756</td>\n      <td>0.000577</td>\n    </tr>\n    <tr>\n      <th>RandomForestClassifier_RandomOverSampler</th>\n      <td>0.929293</td>\n      <td>0.938776</td>\n      <td>0.92</td>\n      <td>0.981882</td>\n      <td>0.968182</td>\n      <td>0.930522</td>\n      <td>0.008704</td>\n    </tr>\n    <tr>\n      <th>XGBClassifier_RandomOverSampler</th>\n      <td>0.564706</td>\n      <td>0.400000</td>\n      <td>0.96</td>\n      <td>0.776897</td>\n      <td>0.663636</td>\n      <td>0.705180</td>\n      <td>0.001476</td>\n    </tr>\n    <tr>\n      <th>LGBMClassifier_RandomOverSampler</th>\n      <td>0.557471</td>\n      <td>0.391129</td>\n      <td>0.97</td>\n      <td>0.820059</td>\n      <td>0.650000</td>\n      <td>0.399436</td>\n      <td>0.001057</td>\n    </tr>\n    <tr>\n      <th>DecisionTreeClassifier_SMOTE</th>\n      <td>0.287293</td>\n      <td>0.320988</td>\n      <td>0.26</td>\n      <td>0.549118</td>\n      <td>0.706818</td>\n      <td>1.027983</td>\n      <td>0.001831</td>\n    </tr>\n    <tr>\n      <th>RandomForestClassifier_SMOTE</th>\n      <td>0.885572</td>\n      <td>0.881188</td>\n      <td>0.89</td>\n      <td>0.985868</td>\n      <td>0.947727</td>\n      <td>1.181271</td>\n      <td>0.009666</td>\n    </tr>\n    <tr>\n      <th>XGBClassifier_SMOTE</th>\n      <td>0.242775</td>\n      <td>0.287671</td>\n      <td>0.21</td>\n      <td>0.686588</td>\n      <td>0.702273</td>\n      <td>0.911851</td>\n      <td>0.001444</td>\n    </tr>\n    <tr>\n      <th>LGBMClassifier_SMOTE</th>\n      <td>0.302083</td>\n      <td>0.315217</td>\n      <td>0.29</td>\n      <td>0.689279</td>\n      <td>0.695455</td>\n      <td>0.711388</td>\n      <td>0.001497</td>\n    </tr>\n    <tr>\n      <th>DecisionTreeClassifier_ADASYN</th>\n      <td>0.178344</td>\n      <td>0.245614</td>\n      <td>0.14</td>\n      <td>0.506765</td>\n      <td>0.706818</td>\n      <td>0.772938</td>\n      <td>0.001261</td>\n    </tr>\n    <tr>\n      <th>RandomForestClassifier_ADASYN</th>\n      <td>0.878049</td>\n      <td>0.857143</td>\n      <td>0.90</td>\n      <td>0.976191</td>\n      <td>0.943182</td>\n      <td>1.038656</td>\n      <td>0.009390</td>\n    </tr>\n    <tr>\n      <th>XGBClassifier_ADASYN</th>\n      <td>0.677824</td>\n      <td>0.582734</td>\n      <td>0.81</td>\n      <td>0.828618</td>\n      <td>0.825000</td>\n      <td>1.107436</td>\n      <td>0.001301</td>\n    </tr>\n    <tr>\n      <th>LGBMClassifier_ADASYN</th>\n      <td>0.618474</td>\n      <td>0.516779</td>\n      <td>0.77</td>\n      <td>0.836706</td>\n      <td>0.784091</td>\n      <td>0.871821</td>\n      <td>0.001293</td>\n    </tr>\n    <tr>\n      <th>DecisionTreeClassifier_KMeansSMOTE</th>\n      <td>0.278075</td>\n      <td>0.298851</td>\n      <td>0.26</td>\n      <td>0.540294</td>\n      <td>0.693182</td>\n      <td>1.173373</td>\n      <td>0.001487</td>\n    </tr>\n    <tr>\n      <th>RandomForestClassifier_KMeansSMOTE</th>\n      <td>0.900990</td>\n      <td>0.892157</td>\n      <td>0.91</td>\n      <td>0.984897</td>\n      <td>0.954545</td>\n      <td>1.107975</td>\n      <td>0.015793</td>\n    </tr>\n    <tr>\n      <th>XGBClassifier_KMeansSMOTE</th>\n      <td>0.589041</td>\n      <td>0.447917</td>\n      <td>0.86</td>\n      <td>0.804500</td>\n      <td>0.727273</td>\n      <td>0.977738</td>\n      <td>0.001266</td>\n    </tr>\n    <tr>\n      <th>LGBMClassifier_KMeansSMOTE</th>\n      <td>0.631206</td>\n      <td>0.489011</td>\n      <td>0.89</td>\n      <td>0.873412</td>\n      <td>0.763636</td>\n      <td>0.946299</td>\n      <td>0.001097</td>\n    </tr>\n  </tbody>\n</table>\n</div>"
     },
     "execution_count": 65,
     "metadata": {},
     "output_type": "execute_result"
    }
   ],
   "source": [
    "df_results"
   ]
  },
  {
   "cell_type": "markdown",
   "id": "5bec9450-8631-4c61-b1b6-d69d2abdb448",
   "metadata": {},
   "source": [
    "## Borderline SMOTE method"
   ]
  },
  {
   "cell_type": "code",
   "execution_count": 66,
   "id": "6954b18f-d313-49f6-9d31-f24eda077316",
   "metadata": {
    "scrolled": false,
    "ExecuteTime": {
     "end_time": "2023-11-01T12:48:43.945260600Z",
     "start_time": "2023-11-01T12:48:40.358668800Z"
    }
   },
   "outputs": [
    {
     "name": "stdout",
     "output_type": "stream",
     "text": [
      "-- Dataset shape --\n",
      "Original dataset shape\n",
      "Counter({0: 1607, 1: 506})\n"
     ]
    },
    {
     "name": "stderr",
     "output_type": "stream",
     "text": [
      "Exception ignored on calling ctypes callback function: <function _ThreadpoolInfo._find_modules_with_dl_iterate_phdr.<locals>.match_module_callback at 0x7f87d92b11b0>\n",
      "Traceback (most recent call last):\n",
      "  File \"/home/mbmk92/anaconda3/envs/dltest/lib/python3.10/site-packages/threadpoolctl.py\", line 400, in match_module_callback\n",
      "    self._make_module_from_path(filepath)\n",
      "  File \"/home/mbmk92/anaconda3/envs/dltest/lib/python3.10/site-packages/threadpoolctl.py\", line 515, in _make_module_from_path\n",
      "    module = module_class(filepath, prefix, user_api, internal_api)\n",
      "  File \"/home/mbmk92/anaconda3/envs/dltest/lib/python3.10/site-packages/threadpoolctl.py\", line 606, in __init__\n",
      "    self.version = self.get_version()\n",
      "  File \"/home/mbmk92/anaconda3/envs/dltest/lib/python3.10/site-packages/threadpoolctl.py\", line 646, in get_version\n",
      "    config = get_config().split()\n",
      "AttributeError: 'NoneType' object has no attribute 'split'\n"
     ]
    },
    {
     "name": "stdout",
     "output_type": "stream",
     "text": [
      "Resampled dataset shape Counter({0: 1607, 1: 506})\n",
      "\n",
      "DecisionTreeClassifier_BorderlineSMOTE\n",
      "\n",
      "Training time: 0.886sec\n",
      "Prediction time (train): 0.004sec\n",
      "Prediction time (test): 0.002sec\n",
      "\n",
      "-- Check for Overfitting --\n",
      "Train set score: 1.0000 sec \n",
      "Test set score: 0.7114 sec\n",
      "Prediction time (test): 0.001sec\n",
      "\n",
      "-- classification Report --\n",
      "              precision    recall  f1-score   support\n",
      "\n",
      "           0       0.79      0.85      0.82       340\n",
      "           1       0.32      0.23      0.27       100\n",
      "\n",
      "    accuracy                           0.71       440\n",
      "   macro avg       0.55      0.54      0.54       440\n",
      "weighted avg       0.68      0.71      0.69       440\n",
      "\n",
      "\n",
      "-- Confusion matrix --\n",
      " [[290  50]\n",
      " [ 77  23]]\n",
      "True Positives(TP) =  290\n",
      "True Negatives(TN) =  23\n",
      "False Positives(FP) =  50\n",
      "False Negatives(FN) =  77\n",
      "--------------------------------------------------------------------------------\n",
      "Accuracy :0.7113636363636363\n",
      "Precision :0.3150684931506849\n",
      "Recall :0.23\n",
      "F1_score :0.26589595375722547\n",
      "F05_score :0.2933673469387755\n",
      "F2_score :0.24312896405919662\n",
      "Roc auc score :0.5414705882352941\n",
      "Matthews_corrcoef :0.09343620430450553\n",
      "Cohen_kappa :0.09167750325097523\n",
      "True_positive_rate :0.23\n",
      "True_negative_rate :0.8529411764705882\n",
      "Positive_predictive_value :0.3150684931506849\n",
      "Negative_predictive_value :0.7901907356948229\n",
      "False_positive_rate :0.14705882352941177\n",
      "False_negative_rate :0.77\n",
      "False_discovery_rate :0.684931506849315\n",
      "################################################################################\n",
      "\n",
      "RandomForestClassifier_BorderlineSMOTE\n",
      "\n",
      "Training time: 0.916sec\n",
      "Prediction time (train): 0.031sec\n",
      "Prediction time (test): 0.012sec\n",
      "\n",
      "-- Check for Overfitting --\n",
      "Train set score: 1.0000 sec \n",
      "Test set score: 0.9432 sec\n",
      "Prediction time (test): 0.01sec\n",
      "\n",
      "-- classification Report --\n",
      "              precision    recall  f1-score   support\n",
      "\n",
      "           0       0.98      0.94      0.96       340\n",
      "           1       0.83      0.94      0.88       100\n",
      "\n",
      "    accuracy                           0.94       440\n",
      "   macro avg       0.91      0.94      0.92       440\n",
      "weighted avg       0.95      0.94      0.94       440\n",
      "\n",
      "\n",
      "-- Confusion matrix --\n",
      " [[321  19]\n",
      " [  6  94]]\n",
      "True Positives(TP) =  321\n",
      "True Negatives(TN) =  94\n",
      "False Positives(FP) =  19\n",
      "False Negatives(FN) =  6\n",
      "--------------------------------------------------------------------------------\n",
      "Accuracy :0.9431818181818182\n",
      "Precision :0.831858407079646\n",
      "Recall :0.94\n",
      "F1_score :0.8826291079812206\n",
      "F05_score :0.8514492753623187\n",
      "F2_score :0.9161793372319689\n",
      "Roc auc score :0.978764705882353\n",
      "Matthews_corrcoef :0.8480792152891671\n",
      "Cohen_kappa :0.8453318335208099\n",
      "True_positive_rate :0.94\n",
      "True_negative_rate :0.9441176470588235\n",
      "Positive_predictive_value :0.831858407079646\n",
      "Negative_predictive_value :0.981651376146789\n",
      "False_positive_rate :0.05588235294117647\n",
      "False_negative_rate :0.06\n",
      "False_discovery_rate :0.168141592920354\n",
      "################################################################################\n",
      "\n",
      "XGBClassifier_BorderlineSMOTE\n",
      "[0]\tvalidation_0-logloss:0.57064\n",
      "[1]\tvalidation_0-logloss:0.58449\n",
      "[2]\tvalidation_0-logloss:0.62771\n",
      "[3]\tvalidation_0-logloss:0.56624\n",
      "[4]\tvalidation_0-logloss:0.51931\n",
      "[5]\tvalidation_0-logloss:0.51772\n",
      "[6]\tvalidation_0-logloss:0.48774\n",
      "[7]\tvalidation_0-logloss:0.48780\n",
      "[8]\tvalidation_0-logloss:0.44991\n",
      "[9]\tvalidation_0-logloss:0.45294\n",
      "[10]\tvalidation_0-logloss:0.45044\n",
      "[11]\tvalidation_0-logloss:0.44257\n",
      "[12]\tvalidation_0-logloss:0.47276\n",
      "[13]\tvalidation_0-logloss:0.49604\n",
      "[14]\tvalidation_0-logloss:0.52492\n",
      "[15]\tvalidation_0-logloss:0.54514\n",
      "[16]\tvalidation_0-logloss:0.54900\n",
      "[17]\tvalidation_0-logloss:0.58028\n",
      "[18]\tvalidation_0-logloss:0.62493\n",
      "[19]\tvalidation_0-logloss:0.64983\n",
      "[20]\tvalidation_0-logloss:0.66437\n",
      "[21]\tvalidation_0-logloss:0.67736\n",
      "\n",
      "Training time: 0.872sec\n",
      "Prediction time (train): 0.004sec\n",
      "Prediction time (test): 0.002sec\n",
      "\n",
      "-- Check for Overfitting --\n",
      "Train set score: 1.0000 sec \n",
      "Test set score: 0.8000 sec\n",
      "Prediction time (test): 0.001sec\n",
      "\n",
      "-- classification Report --\n",
      "              precision    recall  f1-score   support\n",
      "\n",
      "           0       0.95      0.79      0.86       340\n",
      "           1       0.54      0.85      0.66       100\n",
      "\n",
      "    accuracy                           0.80       440\n",
      "   macro avg       0.74      0.82      0.76       440\n",
      "weighted avg       0.85      0.80      0.81       440\n",
      "\n",
      "\n",
      "-- Confusion matrix --\n",
      " [[267  73]\n",
      " [ 15  85]]\n",
      "True Positives(TP) =  267\n",
      "True Negatives(TN) =  85\n",
      "False Positives(FP) =  73\n",
      "False Negatives(FN) =  15\n",
      "--------------------------------------------------------------------------------\n",
      "Accuracy :0.8\n",
      "Precision :0.5379746835443038\n",
      "Recall :0.85\n",
      "F1_score :0.6589147286821706\n",
      "F05_score :0.5806010928961749\n",
      "F2_score :0.7616487455197133\n",
      "Roc auc score :0.8638676470588236\n",
      "Matthews_corrcoef :0.5549593783317466\n",
      "Cohen_kappa :0.52734375\n",
      "True_positive_rate :0.85\n",
      "True_negative_rate :0.7852941176470588\n",
      "Positive_predictive_value :0.5379746835443038\n",
      "Negative_predictive_value :0.9468085106382979\n",
      "False_positive_rate :0.21470588235294116\n",
      "False_negative_rate :0.15\n",
      "False_discovery_rate :0.4620253164556962\n",
      "################################################################################\n",
      "\n",
      "LGBMClassifier_BorderlineSMOTE\n",
      "[LightGBM] [Warning] early_stopping_round is set=10, early_stopping_rounds=10 will be ignored. Current value: early_stopping_round=10\n",
      "[LightGBM] [Info] Number of positive: 506, number of negative: 1607\n",
      "[LightGBM] [Debug] Dataset::GetMultiBinFromSparseFeatures: sparse rate 0.908388\n",
      "[LightGBM] [Debug] Dataset::GetMultiBinFromAllFeatures: sparse rate 0.901786\n",
      "[LightGBM] [Debug] init for col-wise cost 0.014876 seconds, init for row-wise cost 0.018798 seconds\n",
      "[LightGBM] [Info] Auto-choosing col-wise multi-threading, the overhead of testing was 0.024560 seconds.\n",
      "You can set `force_col_wise=true` to remove the overhead.\n",
      "[LightGBM] [Info] Total Bins 138071\n",
      "[LightGBM] [Info] Number of data points in the train set: 2113, number of used features: 1998\n",
      "[LightGBM] [Warning] early_stopping_round is set=10, early_stopping_rounds=10 will be ignored. Current value: early_stopping_round=10\n",
      "[LightGBM] [Info] [binary:BoostFromScore]: pavg=0.239470 -> initscore=-1.155588\n",
      "[LightGBM] [Info] Start training from score -1.155588\n",
      "[LightGBM] [Warning] No further splits with positive gain, best gain: -inf\n",
      "[LightGBM] [Debug] Trained a tree with leaves = 23 and depth = 17\n",
      "Training until validation scores don't improve for 10 rounds\n",
      "[LightGBM] [Debug] Trained a tree with leaves = 31 and depth = 20\n",
      "[LightGBM] [Debug] Trained a tree with leaves = 31 and depth = 18\n",
      "[LightGBM] [Debug] Trained a tree with leaves = 31 and depth = 20\n",
      "[LightGBM] [Debug] Trained a tree with leaves = 31 and depth = 20\n",
      "[LightGBM] [Debug] Trained a tree with leaves = 31 and depth = 22\n",
      "[LightGBM] [Debug] Trained a tree with leaves = 31 and depth = 11\n",
      "[LightGBM] [Debug] Trained a tree with leaves = 31 and depth = 11\n",
      "[LightGBM] [Debug] Trained a tree with leaves = 31 and depth = 11\n",
      "[LightGBM] [Debug] Trained a tree with leaves = 31 and depth = 11\n",
      "[LightGBM] [Debug] Trained a tree with leaves = 31 and depth = 11\n",
      "[LightGBM] [Debug] Trained a tree with leaves = 31 and depth = 12\n",
      "[LightGBM] [Debug] Trained a tree with leaves = 31 and depth = 12\n",
      "[LightGBM] [Debug] Trained a tree with leaves = 31 and depth = 11\n",
      "[LightGBM] [Debug] Trained a tree with leaves = 31 and depth = 13\n",
      "[LightGBM] [Debug] Trained a tree with leaves = 31 and depth = 12\n",
      "[LightGBM] [Debug] Trained a tree with leaves = 31 and depth = 12\n",
      "[LightGBM] [Debug] Trained a tree with leaves = 31 and depth = 13\n",
      "[LightGBM] [Debug] Trained a tree with leaves = 31 and depth = 9\n",
      "[LightGBM] [Debug] Trained a tree with leaves = 31 and depth = 12\n",
      "[LightGBM] [Debug] Trained a tree with leaves = 31 and depth = 13\n",
      "[LightGBM] [Debug] Trained a tree with leaves = 31 and depth = 12\n",
      "[LightGBM] [Debug] Trained a tree with leaves = 31 and depth = 13\n",
      "[LightGBM] [Debug] Trained a tree with leaves = 31 and depth = 14\n",
      "[LightGBM] [Debug] Trained a tree with leaves = 31 and depth = 12\n",
      "[LightGBM] [Debug] Trained a tree with leaves = 31 and depth = 12\n",
      "[LightGBM] [Debug] Trained a tree with leaves = 31 and depth = 11\n",
      "[LightGBM] [Debug] Trained a tree with leaves = 31 and depth = 12\n",
      "Early stopping, best iteration is:\n",
      "[18]\tvalid_0's binary_logloss: 0.458676\n",
      "\n",
      "Training time: 0.596sec\n",
      "Prediction time (train): 0.008sec\n",
      "Prediction time (test): 0.002sec\n",
      "\n",
      "-- Check for Overfitting --\n",
      "Train set score: 0.9991 sec \n",
      "Test set score: 0.7886 sec\n",
      "Prediction time (test): 0.003sec\n",
      "\n",
      "-- classification Report --\n",
      "              precision    recall  f1-score   support\n",
      "\n",
      "           0       0.92      0.79      0.85       340\n",
      "           1       0.52      0.77      0.62       100\n",
      "\n",
      "    accuracy                           0.79       440\n",
      "   macro avg       0.72      0.78      0.74       440\n",
      "weighted avg       0.83      0.79      0.80       440\n",
      "\n",
      "\n",
      "-- Confusion matrix --\n",
      " [[270  70]\n",
      " [ 23  77]]\n",
      "True Positives(TP) =  270\n",
      "True Negatives(TN) =  77\n",
      "False Positives(FP) =  70\n",
      "False Negatives(FN) =  23\n",
      "--------------------------------------------------------------------------------\n",
      "Accuracy :0.7886363636363637\n",
      "Precision :0.5238095238095238\n",
      "Recall :0.77\n",
      "F1_score :0.6234817813765183\n",
      "F05_score :0.559593023255814\n",
      "F2_score :0.7038391224862888\n",
      "Roc auc score :0.8387794117647059\n",
      "Matthews_corrcoef :0.5012064678776746\n",
      "Cohen_kappa :0.4838546922300706\n",
      "True_positive_rate :0.77\n",
      "True_negative_rate :0.7941176470588235\n",
      "Positive_predictive_value :0.5238095238095238\n",
      "Negative_predictive_value :0.9215017064846417\n",
      "False_positive_rate :0.20588235294117646\n",
      "False_negative_rate :0.23\n",
      "False_discovery_rate :0.47619047619047616\n",
      "################################################################################\n",
      "Training and testing time of all models 3.4096 seconds\n"
     ]
    }
   ],
   "source": [
    "# over-sampling using SMOTE.\n",
    "sampling = BorderlineSMOTE(random_state=42)\n",
    "\n",
    "#set the evaluation set for early stop models\n",
    "# eval_set = [(X_validation, y_validation)]\n",
    "\n",
    "#train the models\n",
    "df_results = train_models_sampling(models, es_models, X_train, y_train, eval_set, X_test, y_test, sampling)"
   ]
  },
  {
   "cell_type": "code",
   "execution_count": 67,
   "id": "3bd242c7-dc82-4c5b-9314-c3440d459491",
   "metadata": {
    "ExecuteTime": {
     "end_time": "2023-11-01T12:48:43.947262100Z",
     "start_time": "2023-11-01T12:48:43.831095900Z"
    }
   },
   "outputs": [
    {
     "data": {
      "text/plain": "                                          F1_score  Precision  Recall  \\\nDecisionTreeClassifier_                   0.279330   0.316456    0.25   \nRandomForestClassifier_                   0.861244   0.825688    0.90   \nXGBClassifier_                            0.658915   0.537975    0.85   \nLGBMClassifier_                           0.623482   0.523810    0.77   \nDecisionTreeClassifier_RandomOverSampler  0.620915   0.461165    0.95   \nRandomForestClassifier_RandomOverSampler  0.929293   0.938776    0.92   \nXGBClassifier_RandomOverSampler           0.564706   0.400000    0.96   \nLGBMClassifier_RandomOverSampler          0.557471   0.391129    0.97   \nDecisionTreeClassifier_SMOTE              0.287293   0.320988    0.26   \nRandomForestClassifier_SMOTE              0.885572   0.881188    0.89   \nXGBClassifier_SMOTE                       0.242775   0.287671    0.21   \nLGBMClassifier_SMOTE                      0.302083   0.315217    0.29   \nDecisionTreeClassifier_ADASYN             0.178344   0.245614    0.14   \nRandomForestClassifier_ADASYN             0.878049   0.857143    0.90   \nXGBClassifier_ADASYN                      0.677824   0.582734    0.81   \nLGBMClassifier_ADASYN                     0.618474   0.516779    0.77   \nDecisionTreeClassifier_KMeansSMOTE        0.278075   0.298851    0.26   \nRandomForestClassifier_KMeansSMOTE        0.900990   0.892157    0.91   \nXGBClassifier_KMeansSMOTE                 0.589041   0.447917    0.86   \nLGBMClassifier_KMeansSMOTE                0.631206   0.489011    0.89   \nDecisionTreeClassifier_BorderlineSMOTE    0.265896   0.315068    0.23   \nRandomForestClassifier_BorderlineSMOTE    0.882629   0.831858    0.94   \nXGBClassifier_BorderlineSMOTE             0.658915   0.537975    0.85   \nLGBMClassifier_BorderlineSMOTE            0.623482   0.523810    0.77   \n\n                                           ROC AUC  Accuracy  Training time  \\\nDecisionTreeClassifier_                   0.545588  0.706818       0.967479   \nRandomForestClassifier_                   0.965294  0.934091       0.764570   \nXGBClassifier_                            0.863868  0.800000       0.939583   \nLGBMClassifier_                           0.838779  0.788636       1.216483   \nDecisionTreeClassifier_RandomOverSampler  0.811765  0.736364       0.346756   \nRandomForestClassifier_RandomOverSampler  0.981882  0.968182       0.930522   \nXGBClassifier_RandomOverSampler           0.776897  0.663636       0.705180   \nLGBMClassifier_RandomOverSampler          0.820059  0.650000       0.399436   \nDecisionTreeClassifier_SMOTE              0.549118  0.706818       1.027983   \nRandomForestClassifier_SMOTE              0.985868  0.947727       1.181271   \nXGBClassifier_SMOTE                       0.686588  0.702273       0.911851   \nLGBMClassifier_SMOTE                      0.689279  0.695455       0.711388   \nDecisionTreeClassifier_ADASYN             0.506765  0.706818       0.772938   \nRandomForestClassifier_ADASYN             0.976191  0.943182       1.038656   \nXGBClassifier_ADASYN                      0.828618  0.825000       1.107436   \nLGBMClassifier_ADASYN                     0.836706  0.784091       0.871821   \nDecisionTreeClassifier_KMeansSMOTE        0.540294  0.693182       1.173373   \nRandomForestClassifier_KMeansSMOTE        0.984897  0.954545       1.107975   \nXGBClassifier_KMeansSMOTE                 0.804500  0.727273       0.977738   \nLGBMClassifier_KMeansSMOTE                0.873412  0.763636       0.946299   \nDecisionTreeClassifier_BorderlineSMOTE    0.541471  0.711364       0.886004   \nRandomForestClassifier_BorderlineSMOTE    0.978765  0.943182       0.915687   \nXGBClassifier_BorderlineSMOTE             0.863868  0.800000       0.872452   \nLGBMClassifier_BorderlineSMOTE            0.838779  0.788636       0.595522   \n\n                                          Test time  \nDecisionTreeClassifier_                    0.001024  \nRandomForestClassifier_                    0.008661  \nXGBClassifier_                             0.001479  \nLGBMClassifier_                            0.001050  \nDecisionTreeClassifier_RandomOverSampler   0.000577  \nRandomForestClassifier_RandomOverSampler   0.008704  \nXGBClassifier_RandomOverSampler            0.001476  \nLGBMClassifier_RandomOverSampler           0.001057  \nDecisionTreeClassifier_SMOTE               0.001831  \nRandomForestClassifier_SMOTE               0.009666  \nXGBClassifier_SMOTE                        0.001444  \nLGBMClassifier_SMOTE                       0.001497  \nDecisionTreeClassifier_ADASYN              0.001261  \nRandomForestClassifier_ADASYN              0.009390  \nXGBClassifier_ADASYN                       0.001301  \nLGBMClassifier_ADASYN                      0.001293  \nDecisionTreeClassifier_KMeansSMOTE         0.001487  \nRandomForestClassifier_KMeansSMOTE         0.015793  \nXGBClassifier_KMeansSMOTE                  0.001266  \nLGBMClassifier_KMeansSMOTE                 0.001097  \nDecisionTreeClassifier_BorderlineSMOTE     0.001374  \nRandomForestClassifier_BorderlineSMOTE     0.009255  \nXGBClassifier_BorderlineSMOTE              0.001588  \nLGBMClassifier_BorderlineSMOTE             0.001919  ",
      "text/html": "<div>\n<style scoped>\n    .dataframe tbody tr th:only-of-type {\n        vertical-align: middle;\n    }\n\n    .dataframe tbody tr th {\n        vertical-align: top;\n    }\n\n    .dataframe thead th {\n        text-align: right;\n    }\n</style>\n<table border=\"1\" class=\"dataframe\">\n  <thead>\n    <tr style=\"text-align: right;\">\n      <th></th>\n      <th>F1_score</th>\n      <th>Precision</th>\n      <th>Recall</th>\n      <th>ROC AUC</th>\n      <th>Accuracy</th>\n      <th>Training time</th>\n      <th>Test time</th>\n    </tr>\n  </thead>\n  <tbody>\n    <tr>\n      <th>DecisionTreeClassifier_</th>\n      <td>0.279330</td>\n      <td>0.316456</td>\n      <td>0.25</td>\n      <td>0.545588</td>\n      <td>0.706818</td>\n      <td>0.967479</td>\n      <td>0.001024</td>\n    </tr>\n    <tr>\n      <th>RandomForestClassifier_</th>\n      <td>0.861244</td>\n      <td>0.825688</td>\n      <td>0.90</td>\n      <td>0.965294</td>\n      <td>0.934091</td>\n      <td>0.764570</td>\n      <td>0.008661</td>\n    </tr>\n    <tr>\n      <th>XGBClassifier_</th>\n      <td>0.658915</td>\n      <td>0.537975</td>\n      <td>0.85</td>\n      <td>0.863868</td>\n      <td>0.800000</td>\n      <td>0.939583</td>\n      <td>0.001479</td>\n    </tr>\n    <tr>\n      <th>LGBMClassifier_</th>\n      <td>0.623482</td>\n      <td>0.523810</td>\n      <td>0.77</td>\n      <td>0.838779</td>\n      <td>0.788636</td>\n      <td>1.216483</td>\n      <td>0.001050</td>\n    </tr>\n    <tr>\n      <th>DecisionTreeClassifier_RandomOverSampler</th>\n      <td>0.620915</td>\n      <td>0.461165</td>\n      <td>0.95</td>\n      <td>0.811765</td>\n      <td>0.736364</td>\n      <td>0.346756</td>\n      <td>0.000577</td>\n    </tr>\n    <tr>\n      <th>RandomForestClassifier_RandomOverSampler</th>\n      <td>0.929293</td>\n      <td>0.938776</td>\n      <td>0.92</td>\n      <td>0.981882</td>\n      <td>0.968182</td>\n      <td>0.930522</td>\n      <td>0.008704</td>\n    </tr>\n    <tr>\n      <th>XGBClassifier_RandomOverSampler</th>\n      <td>0.564706</td>\n      <td>0.400000</td>\n      <td>0.96</td>\n      <td>0.776897</td>\n      <td>0.663636</td>\n      <td>0.705180</td>\n      <td>0.001476</td>\n    </tr>\n    <tr>\n      <th>LGBMClassifier_RandomOverSampler</th>\n      <td>0.557471</td>\n      <td>0.391129</td>\n      <td>0.97</td>\n      <td>0.820059</td>\n      <td>0.650000</td>\n      <td>0.399436</td>\n      <td>0.001057</td>\n    </tr>\n    <tr>\n      <th>DecisionTreeClassifier_SMOTE</th>\n      <td>0.287293</td>\n      <td>0.320988</td>\n      <td>0.26</td>\n      <td>0.549118</td>\n      <td>0.706818</td>\n      <td>1.027983</td>\n      <td>0.001831</td>\n    </tr>\n    <tr>\n      <th>RandomForestClassifier_SMOTE</th>\n      <td>0.885572</td>\n      <td>0.881188</td>\n      <td>0.89</td>\n      <td>0.985868</td>\n      <td>0.947727</td>\n      <td>1.181271</td>\n      <td>0.009666</td>\n    </tr>\n    <tr>\n      <th>XGBClassifier_SMOTE</th>\n      <td>0.242775</td>\n      <td>0.287671</td>\n      <td>0.21</td>\n      <td>0.686588</td>\n      <td>0.702273</td>\n      <td>0.911851</td>\n      <td>0.001444</td>\n    </tr>\n    <tr>\n      <th>LGBMClassifier_SMOTE</th>\n      <td>0.302083</td>\n      <td>0.315217</td>\n      <td>0.29</td>\n      <td>0.689279</td>\n      <td>0.695455</td>\n      <td>0.711388</td>\n      <td>0.001497</td>\n    </tr>\n    <tr>\n      <th>DecisionTreeClassifier_ADASYN</th>\n      <td>0.178344</td>\n      <td>0.245614</td>\n      <td>0.14</td>\n      <td>0.506765</td>\n      <td>0.706818</td>\n      <td>0.772938</td>\n      <td>0.001261</td>\n    </tr>\n    <tr>\n      <th>RandomForestClassifier_ADASYN</th>\n      <td>0.878049</td>\n      <td>0.857143</td>\n      <td>0.90</td>\n      <td>0.976191</td>\n      <td>0.943182</td>\n      <td>1.038656</td>\n      <td>0.009390</td>\n    </tr>\n    <tr>\n      <th>XGBClassifier_ADASYN</th>\n      <td>0.677824</td>\n      <td>0.582734</td>\n      <td>0.81</td>\n      <td>0.828618</td>\n      <td>0.825000</td>\n      <td>1.107436</td>\n      <td>0.001301</td>\n    </tr>\n    <tr>\n      <th>LGBMClassifier_ADASYN</th>\n      <td>0.618474</td>\n      <td>0.516779</td>\n      <td>0.77</td>\n      <td>0.836706</td>\n      <td>0.784091</td>\n      <td>0.871821</td>\n      <td>0.001293</td>\n    </tr>\n    <tr>\n      <th>DecisionTreeClassifier_KMeansSMOTE</th>\n      <td>0.278075</td>\n      <td>0.298851</td>\n      <td>0.26</td>\n      <td>0.540294</td>\n      <td>0.693182</td>\n      <td>1.173373</td>\n      <td>0.001487</td>\n    </tr>\n    <tr>\n      <th>RandomForestClassifier_KMeansSMOTE</th>\n      <td>0.900990</td>\n      <td>0.892157</td>\n      <td>0.91</td>\n      <td>0.984897</td>\n      <td>0.954545</td>\n      <td>1.107975</td>\n      <td>0.015793</td>\n    </tr>\n    <tr>\n      <th>XGBClassifier_KMeansSMOTE</th>\n      <td>0.589041</td>\n      <td>0.447917</td>\n      <td>0.86</td>\n      <td>0.804500</td>\n      <td>0.727273</td>\n      <td>0.977738</td>\n      <td>0.001266</td>\n    </tr>\n    <tr>\n      <th>LGBMClassifier_KMeansSMOTE</th>\n      <td>0.631206</td>\n      <td>0.489011</td>\n      <td>0.89</td>\n      <td>0.873412</td>\n      <td>0.763636</td>\n      <td>0.946299</td>\n      <td>0.001097</td>\n    </tr>\n    <tr>\n      <th>DecisionTreeClassifier_BorderlineSMOTE</th>\n      <td>0.265896</td>\n      <td>0.315068</td>\n      <td>0.23</td>\n      <td>0.541471</td>\n      <td>0.711364</td>\n      <td>0.886004</td>\n      <td>0.001374</td>\n    </tr>\n    <tr>\n      <th>RandomForestClassifier_BorderlineSMOTE</th>\n      <td>0.882629</td>\n      <td>0.831858</td>\n      <td>0.94</td>\n      <td>0.978765</td>\n      <td>0.943182</td>\n      <td>0.915687</td>\n      <td>0.009255</td>\n    </tr>\n    <tr>\n      <th>XGBClassifier_BorderlineSMOTE</th>\n      <td>0.658915</td>\n      <td>0.537975</td>\n      <td>0.85</td>\n      <td>0.863868</td>\n      <td>0.800000</td>\n      <td>0.872452</td>\n      <td>0.001588</td>\n    </tr>\n    <tr>\n      <th>LGBMClassifier_BorderlineSMOTE</th>\n      <td>0.623482</td>\n      <td>0.523810</td>\n      <td>0.77</td>\n      <td>0.838779</td>\n      <td>0.788636</td>\n      <td>0.595522</td>\n      <td>0.001919</td>\n    </tr>\n  </tbody>\n</table>\n</div>"
     },
     "execution_count": 67,
     "metadata": {},
     "output_type": "execute_result"
    }
   ],
   "source": [
    "df_results"
   ]
  },
  {
   "cell_type": "markdown",
   "id": "50f2ccb3-b355-4bbb-bc3e-4e3a06279ef5",
   "metadata": {},
   "source": [
    "## SMOTE and cleaning using ENN method"
   ]
  },
  {
   "cell_type": "code",
   "execution_count": 68,
   "id": "99839f5b-0685-4d97-96d9-c419818c53fc",
   "metadata": {
    "ExecuteTime": {
     "end_time": "2023-11-01T12:48:48.414986Z",
     "start_time": "2023-11-01T12:48:43.845434900Z"
    }
   },
   "outputs": [
    {
     "name": "stderr",
     "output_type": "stream",
     "text": [
      "Exception ignored on calling ctypes callback function: <function _ThreadpoolInfo._find_modules_with_dl_iterate_phdr.<locals>.match_module_callback at 0x7f87d92b1510>\n",
      "Traceback (most recent call last):\n",
      "  File \"/home/mbmk92/anaconda3/envs/dltest/lib/python3.10/site-packages/threadpoolctl.py\", line 400, in match_module_callback\n",
      "    self._make_module_from_path(filepath)\n",
      "  File \"/home/mbmk92/anaconda3/envs/dltest/lib/python3.10/site-packages/threadpoolctl.py\", line 515, in _make_module_from_path\n",
      "    module = module_class(filepath, prefix, user_api, internal_api)\n",
      "  File \"/home/mbmk92/anaconda3/envs/dltest/lib/python3.10/site-packages/threadpoolctl.py\", line 606, in __init__\n",
      "    self.version = self.get_version()\n",
      "  File \"/home/mbmk92/anaconda3/envs/dltest/lib/python3.10/site-packages/threadpoolctl.py\", line 646, in get_version\n",
      "    config = get_config().split()\n",
      "AttributeError: 'NoneType' object has no attribute 'split'\n"
     ]
    },
    {
     "name": "stdout",
     "output_type": "stream",
     "text": [
      "-- Dataset shape --\n",
      "Original dataset shape\n",
      "Counter({0: 1607, 1: 506})\n"
     ]
    },
    {
     "name": "stderr",
     "output_type": "stream",
     "text": [
      "Exception ignored on calling ctypes callback function: <function _ThreadpoolInfo._find_modules_with_dl_iterate_phdr.<locals>.match_module_callback at 0x7f87d92b1750>\n",
      "Traceback (most recent call last):\n",
      "  File \"/home/mbmk92/anaconda3/envs/dltest/lib/python3.10/site-packages/threadpoolctl.py\", line 400, in match_module_callback\n",
      "    self._make_module_from_path(filepath)\n",
      "  File \"/home/mbmk92/anaconda3/envs/dltest/lib/python3.10/site-packages/threadpoolctl.py\", line 515, in _make_module_from_path\n",
      "    module = module_class(filepath, prefix, user_api, internal_api)\n",
      "  File \"/home/mbmk92/anaconda3/envs/dltest/lib/python3.10/site-packages/threadpoolctl.py\", line 606, in __init__\n",
      "    self.version = self.get_version()\n",
      "  File \"/home/mbmk92/anaconda3/envs/dltest/lib/python3.10/site-packages/threadpoolctl.py\", line 646, in get_version\n",
      "    config = get_config().split()\n",
      "AttributeError: 'NoneType' object has no attribute 'split'\n",
      "Exception ignored on calling ctypes callback function: <function _ThreadpoolInfo._find_modules_with_dl_iterate_phdr.<locals>.match_module_callback at 0x7f87d926e5f0>\n",
      "Traceback (most recent call last):\n",
      "  File \"/home/mbmk92/anaconda3/envs/dltest/lib/python3.10/site-packages/threadpoolctl.py\", line 400, in match_module_callback\n",
      "    self._make_module_from_path(filepath)\n",
      "  File \"/home/mbmk92/anaconda3/envs/dltest/lib/python3.10/site-packages/threadpoolctl.py\", line 515, in _make_module_from_path\n",
      "    module = module_class(filepath, prefix, user_api, internal_api)\n",
      "  File \"/home/mbmk92/anaconda3/envs/dltest/lib/python3.10/site-packages/threadpoolctl.py\", line 606, in __init__\n",
      "    self.version = self.get_version()\n",
      "  File \"/home/mbmk92/anaconda3/envs/dltest/lib/python3.10/site-packages/threadpoolctl.py\", line 646, in get_version\n",
      "    config = get_config().split()\n",
      "AttributeError: 'NoneType' object has no attribute 'split'\n"
     ]
    },
    {
     "name": "stdout",
     "output_type": "stream",
     "text": [
      "Resampled dataset shape Counter({1: 1607, 0: 1518})\n",
      "\n",
      "DecisionTreeClassifier_SMOTEENN\n",
      "\n",
      "Training time: 1.203sec\n",
      "Prediction time (train): 0.01sec\n",
      "Prediction time (test): 0.001sec\n",
      "\n",
      "-- Check for Overfitting --\n",
      "Train set score: 1.0000 sec \n",
      "Test set score: 0.6636 sec\n",
      "Prediction time (test): 0.001sec\n",
      "\n",
      "-- classification Report --\n",
      "              precision    recall  f1-score   support\n",
      "\n",
      "           0       0.78      0.79      0.78       340\n",
      "           1       0.24      0.22      0.23       100\n",
      "\n",
      "    accuracy                           0.66       440\n",
      "   macro avg       0.51      0.51      0.51       440\n",
      "weighted avg       0.65      0.66      0.66       440\n",
      "\n",
      "\n",
      "-- Confusion matrix --\n",
      " [[270  70]\n",
      " [ 78  22]]\n",
      "True Positives(TP) =  270\n",
      "True Negatives(TN) =  22\n",
      "False Positives(FP) =  70\n",
      "False Negatives(FN) =  78\n",
      "--------------------------------------------------------------------------------\n",
      "Accuracy :0.6636363636363637\n",
      "Precision :0.2391304347826087\n",
      "Recall :0.22\n",
      "F1_score :0.22916666666666666\n",
      "F05_score :0.235042735042735\n",
      "F2_score :0.22357723577235772\n",
      "Roc auc score :0.5070588235294118\n",
      "Matthews_corrcoef :0.01454850083149913\n",
      "Cohen_kappa :0.014527845036319653\n",
      "True_positive_rate :0.22\n",
      "True_negative_rate :0.7941176470588235\n",
      "Positive_predictive_value :0.2391304347826087\n",
      "Negative_predictive_value :0.7758620689655172\n",
      "False_positive_rate :0.20588235294117646\n",
      "False_negative_rate :0.78\n",
      "False_discovery_rate :0.7608695652173914\n",
      "################################################################################\n",
      "\n",
      "RandomForestClassifier_SMOTEENN\n",
      "\n",
      "Training time: 1.193sec\n",
      "Prediction time (train): 0.072sec\n",
      "Prediction time (test): 0.01sec\n",
      "\n",
      "-- Check for Overfitting --\n",
      "Train set score: 1.0000 sec \n",
      "Test set score: 0.9568 sec\n",
      "Prediction time (test): 0.018sec\n",
      "\n",
      "-- classification Report --\n",
      "              precision    recall  f1-score   support\n",
      "\n",
      "           0       0.98      0.96      0.97       340\n",
      "           1       0.87      0.95      0.91       100\n",
      "\n",
      "    accuracy                           0.96       440\n",
      "   macro avg       0.93      0.95      0.94       440\n",
      "weighted avg       0.96      0.96      0.96       440\n",
      "\n",
      "\n",
      "-- Confusion matrix --\n",
      " [[326  14]\n",
      " [  5  95]]\n",
      "True Positives(TP) =  326\n",
      "True Negatives(TN) =  95\n",
      "False Positives(FP) =  14\n",
      "False Negatives(FN) =  5\n",
      "--------------------------------------------------------------------------------\n",
      "Accuracy :0.9568181818181818\n",
      "Precision :0.8715596330275229\n",
      "Recall :0.95\n",
      "F1_score :0.9090909090909091\n",
      "F05_score :0.8861940298507462\n",
      "F2_score :0.9332023575638507\n",
      "Roc auc score :0.9871029411764706\n",
      "Matthews_corrcoef :0.8822502194247265\n",
      "Cohen_kappa :0.8808437856328393\n",
      "True_positive_rate :0.95\n",
      "True_negative_rate :0.9588235294117647\n",
      "Positive_predictive_value :0.8715596330275229\n",
      "Negative_predictive_value :0.9848942598187311\n",
      "False_positive_rate :0.041176470588235294\n",
      "False_negative_rate :0.05\n",
      "False_discovery_rate :0.12844036697247707\n",
      "################################################################################\n",
      "\n",
      "XGBClassifier_SMOTEENN\n",
      "[0]\tvalidation_0-logloss:0.61485\n",
      "[1]\tvalidation_0-logloss:0.58435\n",
      "[2]\tvalidation_0-logloss:0.57059\n",
      "[3]\tvalidation_0-logloss:0.58640\n",
      "[4]\tvalidation_0-logloss:0.58894\n",
      "[5]\tvalidation_0-logloss:0.57621\n",
      "[6]\tvalidation_0-logloss:0.56842\n",
      "[7]\tvalidation_0-logloss:0.60684\n",
      "[8]\tvalidation_0-logloss:0.63675\n",
      "[9]\tvalidation_0-logloss:0.64809\n",
      "[10]\tvalidation_0-logloss:0.69378\n",
      "[11]\tvalidation_0-logloss:0.72757\n",
      "[12]\tvalidation_0-logloss:0.70177\n",
      "[13]\tvalidation_0-logloss:0.74782\n",
      "[14]\tvalidation_0-logloss:0.77943\n",
      "[15]\tvalidation_0-logloss:0.81479\n",
      "\n",
      "Training time: 1.002sec\n",
      "Prediction time (train): 0.006sec\n",
      "Prediction time (test): 0.002sec\n",
      "\n",
      "-- Check for Overfitting --\n",
      "Train set score: 1.0000 sec \n",
      "Test set score: 0.7182 sec\n",
      "Prediction time (test): 0.001sec\n",
      "\n",
      "-- classification Report --\n",
      "              precision    recall  f1-score   support\n",
      "\n",
      "           0       0.94      0.68      0.79       340\n",
      "           1       0.44      0.84      0.58       100\n",
      "\n",
      "    accuracy                           0.72       440\n",
      "   macro avg       0.69      0.76      0.68       440\n",
      "weighted avg       0.82      0.72      0.74       440\n",
      "\n",
      "\n",
      "-- Confusion matrix --\n",
      " [[232 108]\n",
      " [ 16  84]]\n",
      "True Positives(TP) =  232\n",
      "True Negatives(TN) =  84\n",
      "False Positives(FP) =  108\n",
      "False Negatives(FN) =  16\n",
      "--------------------------------------------------------------------------------\n",
      "Accuracy :0.7181818181818181\n",
      "Precision :0.4375\n",
      "Recall :0.84\n",
      "F1_score :0.5753424657534247\n",
      "F05_score :0.4838709677419355\n",
      "F2_score :0.7094594594594594\n",
      "Roc auc score :0.7553970588235295\n",
      "Matthews_corrcoef :0.44139463296622133\n",
      "Cohen_kappa :0.39431616341030207\n",
      "True_positive_rate :0.84\n",
      "True_negative_rate :0.6823529411764706\n",
      "Positive_predictive_value :0.4375\n",
      "Negative_predictive_value :0.9354838709677419\n",
      "False_positive_rate :0.3176470588235294\n",
      "False_negative_rate :0.16\n",
      "False_discovery_rate :0.5625\n",
      "################################################################################\n",
      "\n",
      "LGBMClassifier_SMOTEENN\n",
      "[LightGBM] [Warning] early_stopping_round is set=10, early_stopping_rounds=10 will be ignored. Current value: early_stopping_round=10\n",
      "[LightGBM] [Info] Number of positive: 1607, number of negative: 1518\n",
      "[LightGBM] [Debug] Dataset::GetMultiBinFromSparseFeatures: sparse rate 0.915407\n",
      "[LightGBM] [Debug] Dataset::GetMultiBinFromAllFeatures: sparse rate 0.911236\n",
      "[LightGBM] [Debug] init for col-wise cost 0.025179 seconds, init for row-wise cost 0.021112 seconds\n",
      "[LightGBM] [Info] Auto-choosing col-wise multi-threading, the overhead of testing was 0.026810 seconds.\n",
      "You can set `force_col_wise=true` to remove the overhead.\n",
      "[LightGBM] [Info] Total Bins 175250\n",
      "[LightGBM] [Info] Number of data points in the train set: 3125, number of used features: 1998\n",
      "[LightGBM] [Warning] early_stopping_round is set=10, early_stopping_rounds=10 will be ignored. Current value: early_stopping_round=10\n",
      "[LightGBM] [Info] [binary:BoostFromScore]: pavg=0.514240 -> initscore=0.056975\n",
      "[LightGBM] [Info] Start training from score 0.056975\n",
      "[LightGBM] [Debug] Trained a tree with leaves = 31 and depth = 19\n",
      "Training until validation scores don't improve for 10 rounds\n",
      "[LightGBM] [Debug] Trained a tree with leaves = 31 and depth = 19\n",
      "[LightGBM] [Debug] Trained a tree with leaves = 31 and depth = 17\n",
      "[LightGBM] [Debug] Trained a tree with leaves = 31 and depth = 18\n",
      "[LightGBM] [Debug] Trained a tree with leaves = 31 and depth = 18\n",
      "[LightGBM] [Debug] Trained a tree with leaves = 31 and depth = 19\n",
      "[LightGBM] [Debug] Trained a tree with leaves = 31 and depth = 21\n",
      "[LightGBM] [Debug] Trained a tree with leaves = 31 and depth = 20\n",
      "[LightGBM] [Debug] Trained a tree with leaves = 31 and depth = 19\n",
      "[LightGBM] [Debug] Trained a tree with leaves = 31 and depth = 12\n",
      "[LightGBM] [Debug] Trained a tree with leaves = 31 and depth = 20\n",
      "[LightGBM] [Debug] Trained a tree with leaves = 31 and depth = 20\n",
      "[LightGBM] [Debug] Trained a tree with leaves = 31 and depth = 11\n",
      "[LightGBM] [Debug] Trained a tree with leaves = 31 and depth = 11\n",
      "[LightGBM] [Debug] Trained a tree with leaves = 31 and depth = 11\n",
      "[LightGBM] [Debug] Trained a tree with leaves = 31 and depth = 11\n",
      "Early stopping, best iteration is:\n",
      "[6]\tvalid_0's binary_logloss: 0.607646\n",
      "\n",
      "Training time: 0.531sec\n",
      "Prediction time (train): 0.006sec\n",
      "Prediction time (test): 0.002sec\n",
      "\n",
      "-- Check for Overfitting --\n",
      "Train set score: 0.9878 sec \n",
      "Test set score: 0.6773 sec\n",
      "Prediction time (test): 0.001sec\n",
      "\n",
      "-- classification Report --\n",
      "              precision    recall  f1-score   support\n",
      "\n",
      "           0       0.78      0.81      0.80       340\n",
      "           1       0.25      0.21      0.23       100\n",
      "\n",
      "    accuracy                           0.68       440\n",
      "   macro avg       0.51      0.51      0.51       440\n",
      "weighted avg       0.66      0.68      0.67       440\n",
      "\n",
      "\n",
      "-- Confusion matrix --\n",
      " [[277  63]\n",
      " [ 79  21]]\n",
      "True Positives(TP) =  277\n",
      "True Negatives(TN) =  21\n",
      "False Positives(FP) =  63\n",
      "False Negatives(FN) =  79\n",
      "--------------------------------------------------------------------------------\n",
      "Accuracy :0.6772727272727272\n",
      "Precision :0.25\n",
      "Recall :0.21\n",
      "F1_score :0.2282608695652174\n",
      "F05_score :0.24082568807339455\n",
      "F2_score :0.2169421487603306\n",
      "Roc auc score :0.5303529411764706\n",
      "Matthews_corrcoef :0.026343603765473702\n",
      "Cohen_kappa :0.026184538653366562\n",
      "True_positive_rate :0.21\n",
      "True_negative_rate :0.8147058823529412\n",
      "Positive_predictive_value :0.25\n",
      "Negative_predictive_value :0.7780898876404494\n",
      "False_positive_rate :0.18529411764705883\n",
      "False_negative_rate :0.79\n",
      "False_discovery_rate :0.75\n",
      "################################################################################\n",
      "Training and testing time of all models 4.1402 seconds\n"
     ]
    }
   ],
   "source": [
    "# over-sampling using SMOTE.\n",
    "sampling = SMOTEENN(random_state=42)\n",
    "\n",
    "#set the evaluation set for early stop models\n",
    "# eval_set = [(X_validation, y_validation)]\n",
    "\n",
    "#train the models\n",
    "df_results = train_models_sampling(models, es_models, X_train, y_train, eval_set, X_test, y_test, sampling)"
   ]
  },
  {
   "cell_type": "code",
   "execution_count": 69,
   "id": "e2addc0f-52ff-41de-83e4-d05e9274d551",
   "metadata": {
    "ExecuteTime": {
     "end_time": "2023-11-01T12:48:48.417000300Z",
     "start_time": "2023-11-01T12:48:48.350378400Z"
    }
   },
   "outputs": [
    {
     "data": {
      "text/plain": "                                          F1_score  Precision  Recall  \\\nDecisionTreeClassifier_                   0.279330   0.316456    0.25   \nRandomForestClassifier_                   0.861244   0.825688    0.90   \nXGBClassifier_                            0.658915   0.537975    0.85   \nLGBMClassifier_                           0.623482   0.523810    0.77   \nDecisionTreeClassifier_RandomOverSampler  0.620915   0.461165    0.95   \nRandomForestClassifier_RandomOverSampler  0.929293   0.938776    0.92   \nXGBClassifier_RandomOverSampler           0.564706   0.400000    0.96   \nLGBMClassifier_RandomOverSampler          0.557471   0.391129    0.97   \nDecisionTreeClassifier_SMOTE              0.287293   0.320988    0.26   \nRandomForestClassifier_SMOTE              0.885572   0.881188    0.89   \nXGBClassifier_SMOTE                       0.242775   0.287671    0.21   \nLGBMClassifier_SMOTE                      0.302083   0.315217    0.29   \nDecisionTreeClassifier_ADASYN             0.178344   0.245614    0.14   \nRandomForestClassifier_ADASYN             0.878049   0.857143    0.90   \nXGBClassifier_ADASYN                      0.677824   0.582734    0.81   \nLGBMClassifier_ADASYN                     0.618474   0.516779    0.77   \nDecisionTreeClassifier_KMeansSMOTE        0.278075   0.298851    0.26   \nRandomForestClassifier_KMeansSMOTE        0.900990   0.892157    0.91   \nXGBClassifier_KMeansSMOTE                 0.589041   0.447917    0.86   \nLGBMClassifier_KMeansSMOTE                0.631206   0.489011    0.89   \nDecisionTreeClassifier_BorderlineSMOTE    0.265896   0.315068    0.23   \nRandomForestClassifier_BorderlineSMOTE    0.882629   0.831858    0.94   \nXGBClassifier_BorderlineSMOTE             0.658915   0.537975    0.85   \nLGBMClassifier_BorderlineSMOTE            0.623482   0.523810    0.77   \nDecisionTreeClassifier_SMOTEENN           0.229167   0.239130    0.22   \nRandomForestClassifier_SMOTEENN           0.909091   0.871560    0.95   \nXGBClassifier_SMOTEENN                    0.575342   0.437500    0.84   \nLGBMClassifier_SMOTEENN                   0.228261   0.250000    0.21   \n\n                                           ROC AUC  Accuracy  Training time  \\\nDecisionTreeClassifier_                   0.545588  0.706818       0.967479   \nRandomForestClassifier_                   0.965294  0.934091       0.764570   \nXGBClassifier_                            0.863868  0.800000       0.939583   \nLGBMClassifier_                           0.838779  0.788636       1.216483   \nDecisionTreeClassifier_RandomOverSampler  0.811765  0.736364       0.346756   \nRandomForestClassifier_RandomOverSampler  0.981882  0.968182       0.930522   \nXGBClassifier_RandomOverSampler           0.776897  0.663636       0.705180   \nLGBMClassifier_RandomOverSampler          0.820059  0.650000       0.399436   \nDecisionTreeClassifier_SMOTE              0.549118  0.706818       1.027983   \nRandomForestClassifier_SMOTE              0.985868  0.947727       1.181271   \nXGBClassifier_SMOTE                       0.686588  0.702273       0.911851   \nLGBMClassifier_SMOTE                      0.689279  0.695455       0.711388   \nDecisionTreeClassifier_ADASYN             0.506765  0.706818       0.772938   \nRandomForestClassifier_ADASYN             0.976191  0.943182       1.038656   \nXGBClassifier_ADASYN                      0.828618  0.825000       1.107436   \nLGBMClassifier_ADASYN                     0.836706  0.784091       0.871821   \nDecisionTreeClassifier_KMeansSMOTE        0.540294  0.693182       1.173373   \nRandomForestClassifier_KMeansSMOTE        0.984897  0.954545       1.107975   \nXGBClassifier_KMeansSMOTE                 0.804500  0.727273       0.977738   \nLGBMClassifier_KMeansSMOTE                0.873412  0.763636       0.946299   \nDecisionTreeClassifier_BorderlineSMOTE    0.541471  0.711364       0.886004   \nRandomForestClassifier_BorderlineSMOTE    0.978765  0.943182       0.915687   \nXGBClassifier_BorderlineSMOTE             0.863868  0.800000       0.872452   \nLGBMClassifier_BorderlineSMOTE            0.838779  0.788636       0.595522   \nDecisionTreeClassifier_SMOTEENN           0.507059  0.663636       1.203404   \nRandomForestClassifier_SMOTEENN           0.987103  0.956818       1.192705   \nXGBClassifier_SMOTEENN                    0.755397  0.718182       1.002446   \nLGBMClassifier_SMOTEENN                   0.530353  0.677273       0.531191   \n\n                                          Test time  \nDecisionTreeClassifier_                    0.001024  \nRandomForestClassifier_                    0.008661  \nXGBClassifier_                             0.001479  \nLGBMClassifier_                            0.001050  \nDecisionTreeClassifier_RandomOverSampler   0.000577  \nRandomForestClassifier_RandomOverSampler   0.008704  \nXGBClassifier_RandomOverSampler            0.001476  \nLGBMClassifier_RandomOverSampler           0.001057  \nDecisionTreeClassifier_SMOTE               0.001831  \nRandomForestClassifier_SMOTE               0.009666  \nXGBClassifier_SMOTE                        0.001444  \nLGBMClassifier_SMOTE                       0.001497  \nDecisionTreeClassifier_ADASYN              0.001261  \nRandomForestClassifier_ADASYN              0.009390  \nXGBClassifier_ADASYN                       0.001301  \nLGBMClassifier_ADASYN                      0.001293  \nDecisionTreeClassifier_KMeansSMOTE         0.001487  \nRandomForestClassifier_KMeansSMOTE         0.015793  \nXGBClassifier_KMeansSMOTE                  0.001266  \nLGBMClassifier_KMeansSMOTE                 0.001097  \nDecisionTreeClassifier_BorderlineSMOTE     0.001374  \nRandomForestClassifier_BorderlineSMOTE     0.009255  \nXGBClassifier_BorderlineSMOTE              0.001588  \nLGBMClassifier_BorderlineSMOTE             0.001919  \nDecisionTreeClassifier_SMOTEENN            0.001178  \nRandomForestClassifier_SMOTEENN            0.019168  \nXGBClassifier_SMOTEENN                     0.001230  \nLGBMClassifier_SMOTEENN                    0.001125  ",
      "text/html": "<div>\n<style scoped>\n    .dataframe tbody tr th:only-of-type {\n        vertical-align: middle;\n    }\n\n    .dataframe tbody tr th {\n        vertical-align: top;\n    }\n\n    .dataframe thead th {\n        text-align: right;\n    }\n</style>\n<table border=\"1\" class=\"dataframe\">\n  <thead>\n    <tr style=\"text-align: right;\">\n      <th></th>\n      <th>F1_score</th>\n      <th>Precision</th>\n      <th>Recall</th>\n      <th>ROC AUC</th>\n      <th>Accuracy</th>\n      <th>Training time</th>\n      <th>Test time</th>\n    </tr>\n  </thead>\n  <tbody>\n    <tr>\n      <th>DecisionTreeClassifier_</th>\n      <td>0.279330</td>\n      <td>0.316456</td>\n      <td>0.25</td>\n      <td>0.545588</td>\n      <td>0.706818</td>\n      <td>0.967479</td>\n      <td>0.001024</td>\n    </tr>\n    <tr>\n      <th>RandomForestClassifier_</th>\n      <td>0.861244</td>\n      <td>0.825688</td>\n      <td>0.90</td>\n      <td>0.965294</td>\n      <td>0.934091</td>\n      <td>0.764570</td>\n      <td>0.008661</td>\n    </tr>\n    <tr>\n      <th>XGBClassifier_</th>\n      <td>0.658915</td>\n      <td>0.537975</td>\n      <td>0.85</td>\n      <td>0.863868</td>\n      <td>0.800000</td>\n      <td>0.939583</td>\n      <td>0.001479</td>\n    </tr>\n    <tr>\n      <th>LGBMClassifier_</th>\n      <td>0.623482</td>\n      <td>0.523810</td>\n      <td>0.77</td>\n      <td>0.838779</td>\n      <td>0.788636</td>\n      <td>1.216483</td>\n      <td>0.001050</td>\n    </tr>\n    <tr>\n      <th>DecisionTreeClassifier_RandomOverSampler</th>\n      <td>0.620915</td>\n      <td>0.461165</td>\n      <td>0.95</td>\n      <td>0.811765</td>\n      <td>0.736364</td>\n      <td>0.346756</td>\n      <td>0.000577</td>\n    </tr>\n    <tr>\n      <th>RandomForestClassifier_RandomOverSampler</th>\n      <td>0.929293</td>\n      <td>0.938776</td>\n      <td>0.92</td>\n      <td>0.981882</td>\n      <td>0.968182</td>\n      <td>0.930522</td>\n      <td>0.008704</td>\n    </tr>\n    <tr>\n      <th>XGBClassifier_RandomOverSampler</th>\n      <td>0.564706</td>\n      <td>0.400000</td>\n      <td>0.96</td>\n      <td>0.776897</td>\n      <td>0.663636</td>\n      <td>0.705180</td>\n      <td>0.001476</td>\n    </tr>\n    <tr>\n      <th>LGBMClassifier_RandomOverSampler</th>\n      <td>0.557471</td>\n      <td>0.391129</td>\n      <td>0.97</td>\n      <td>0.820059</td>\n      <td>0.650000</td>\n      <td>0.399436</td>\n      <td>0.001057</td>\n    </tr>\n    <tr>\n      <th>DecisionTreeClassifier_SMOTE</th>\n      <td>0.287293</td>\n      <td>0.320988</td>\n      <td>0.26</td>\n      <td>0.549118</td>\n      <td>0.706818</td>\n      <td>1.027983</td>\n      <td>0.001831</td>\n    </tr>\n    <tr>\n      <th>RandomForestClassifier_SMOTE</th>\n      <td>0.885572</td>\n      <td>0.881188</td>\n      <td>0.89</td>\n      <td>0.985868</td>\n      <td>0.947727</td>\n      <td>1.181271</td>\n      <td>0.009666</td>\n    </tr>\n    <tr>\n      <th>XGBClassifier_SMOTE</th>\n      <td>0.242775</td>\n      <td>0.287671</td>\n      <td>0.21</td>\n      <td>0.686588</td>\n      <td>0.702273</td>\n      <td>0.911851</td>\n      <td>0.001444</td>\n    </tr>\n    <tr>\n      <th>LGBMClassifier_SMOTE</th>\n      <td>0.302083</td>\n      <td>0.315217</td>\n      <td>0.29</td>\n      <td>0.689279</td>\n      <td>0.695455</td>\n      <td>0.711388</td>\n      <td>0.001497</td>\n    </tr>\n    <tr>\n      <th>DecisionTreeClassifier_ADASYN</th>\n      <td>0.178344</td>\n      <td>0.245614</td>\n      <td>0.14</td>\n      <td>0.506765</td>\n      <td>0.706818</td>\n      <td>0.772938</td>\n      <td>0.001261</td>\n    </tr>\n    <tr>\n      <th>RandomForestClassifier_ADASYN</th>\n      <td>0.878049</td>\n      <td>0.857143</td>\n      <td>0.90</td>\n      <td>0.976191</td>\n      <td>0.943182</td>\n      <td>1.038656</td>\n      <td>0.009390</td>\n    </tr>\n    <tr>\n      <th>XGBClassifier_ADASYN</th>\n      <td>0.677824</td>\n      <td>0.582734</td>\n      <td>0.81</td>\n      <td>0.828618</td>\n      <td>0.825000</td>\n      <td>1.107436</td>\n      <td>0.001301</td>\n    </tr>\n    <tr>\n      <th>LGBMClassifier_ADASYN</th>\n      <td>0.618474</td>\n      <td>0.516779</td>\n      <td>0.77</td>\n      <td>0.836706</td>\n      <td>0.784091</td>\n      <td>0.871821</td>\n      <td>0.001293</td>\n    </tr>\n    <tr>\n      <th>DecisionTreeClassifier_KMeansSMOTE</th>\n      <td>0.278075</td>\n      <td>0.298851</td>\n      <td>0.26</td>\n      <td>0.540294</td>\n      <td>0.693182</td>\n      <td>1.173373</td>\n      <td>0.001487</td>\n    </tr>\n    <tr>\n      <th>RandomForestClassifier_KMeansSMOTE</th>\n      <td>0.900990</td>\n      <td>0.892157</td>\n      <td>0.91</td>\n      <td>0.984897</td>\n      <td>0.954545</td>\n      <td>1.107975</td>\n      <td>0.015793</td>\n    </tr>\n    <tr>\n      <th>XGBClassifier_KMeansSMOTE</th>\n      <td>0.589041</td>\n      <td>0.447917</td>\n      <td>0.86</td>\n      <td>0.804500</td>\n      <td>0.727273</td>\n      <td>0.977738</td>\n      <td>0.001266</td>\n    </tr>\n    <tr>\n      <th>LGBMClassifier_KMeansSMOTE</th>\n      <td>0.631206</td>\n      <td>0.489011</td>\n      <td>0.89</td>\n      <td>0.873412</td>\n      <td>0.763636</td>\n      <td>0.946299</td>\n      <td>0.001097</td>\n    </tr>\n    <tr>\n      <th>DecisionTreeClassifier_BorderlineSMOTE</th>\n      <td>0.265896</td>\n      <td>0.315068</td>\n      <td>0.23</td>\n      <td>0.541471</td>\n      <td>0.711364</td>\n      <td>0.886004</td>\n      <td>0.001374</td>\n    </tr>\n    <tr>\n      <th>RandomForestClassifier_BorderlineSMOTE</th>\n      <td>0.882629</td>\n      <td>0.831858</td>\n      <td>0.94</td>\n      <td>0.978765</td>\n      <td>0.943182</td>\n      <td>0.915687</td>\n      <td>0.009255</td>\n    </tr>\n    <tr>\n      <th>XGBClassifier_BorderlineSMOTE</th>\n      <td>0.658915</td>\n      <td>0.537975</td>\n      <td>0.85</td>\n      <td>0.863868</td>\n      <td>0.800000</td>\n      <td>0.872452</td>\n      <td>0.001588</td>\n    </tr>\n    <tr>\n      <th>LGBMClassifier_BorderlineSMOTE</th>\n      <td>0.623482</td>\n      <td>0.523810</td>\n      <td>0.77</td>\n      <td>0.838779</td>\n      <td>0.788636</td>\n      <td>0.595522</td>\n      <td>0.001919</td>\n    </tr>\n    <tr>\n      <th>DecisionTreeClassifier_SMOTEENN</th>\n      <td>0.229167</td>\n      <td>0.239130</td>\n      <td>0.22</td>\n      <td>0.507059</td>\n      <td>0.663636</td>\n      <td>1.203404</td>\n      <td>0.001178</td>\n    </tr>\n    <tr>\n      <th>RandomForestClassifier_SMOTEENN</th>\n      <td>0.909091</td>\n      <td>0.871560</td>\n      <td>0.95</td>\n      <td>0.987103</td>\n      <td>0.956818</td>\n      <td>1.192705</td>\n      <td>0.019168</td>\n    </tr>\n    <tr>\n      <th>XGBClassifier_SMOTEENN</th>\n      <td>0.575342</td>\n      <td>0.437500</td>\n      <td>0.84</td>\n      <td>0.755397</td>\n      <td>0.718182</td>\n      <td>1.002446</td>\n      <td>0.001230</td>\n    </tr>\n    <tr>\n      <th>LGBMClassifier_SMOTEENN</th>\n      <td>0.228261</td>\n      <td>0.250000</td>\n      <td>0.21</td>\n      <td>0.530353</td>\n      <td>0.677273</td>\n      <td>0.531191</td>\n      <td>0.001125</td>\n    </tr>\n  </tbody>\n</table>\n</div>"
     },
     "execution_count": 69,
     "metadata": {},
     "output_type": "execute_result"
    }
   ],
   "source": [
    "df_results"
   ]
  },
  {
   "cell_type": "code",
   "execution_count": 70,
   "id": "7ce31f6e-572a-462f-a98b-2cd54586fb16",
   "metadata": {
    "scrolled": false,
    "ExecuteTime": {
     "end_time": "2023-11-01T12:48:48.418985200Z",
     "start_time": "2023-11-01T12:48:48.360384100Z"
    }
   },
   "outputs": [
    {
     "data": {
      "text/plain": "                                          F1_score  Precision  Recall  \\\nDecisionTreeClassifier_                   0.279330   0.316456    0.25   \nRandomForestClassifier_                   0.861244   0.825688    0.90   \nXGBClassifier_                            0.658915   0.537975    0.85   \nLGBMClassifier_                           0.623482   0.523810    0.77   \nDecisionTreeClassifier_RandomOverSampler  0.620915   0.461165    0.95   \nRandomForestClassifier_RandomOverSampler  0.929293   0.938776    0.92   \nXGBClassifier_RandomOverSampler           0.564706   0.400000    0.96   \nLGBMClassifier_RandomOverSampler          0.557471   0.391129    0.97   \nDecisionTreeClassifier_SMOTE              0.287293   0.320988    0.26   \nRandomForestClassifier_SMOTE              0.885572   0.881188    0.89   \nXGBClassifier_SMOTE                       0.242775   0.287671    0.21   \nLGBMClassifier_SMOTE                      0.302083   0.315217    0.29   \nDecisionTreeClassifier_ADASYN             0.178344   0.245614    0.14   \nRandomForestClassifier_ADASYN             0.878049   0.857143    0.90   \nXGBClassifier_ADASYN                      0.677824   0.582734    0.81   \nLGBMClassifier_ADASYN                     0.618474   0.516779    0.77   \nDecisionTreeClassifier_KMeansSMOTE        0.278075   0.298851    0.26   \nRandomForestClassifier_KMeansSMOTE        0.900990   0.892157    0.91   \nXGBClassifier_KMeansSMOTE                 0.589041   0.447917    0.86   \nLGBMClassifier_KMeansSMOTE                0.631206   0.489011    0.89   \nDecisionTreeClassifier_BorderlineSMOTE    0.265896   0.315068    0.23   \nRandomForestClassifier_BorderlineSMOTE    0.882629   0.831858    0.94   \nXGBClassifier_BorderlineSMOTE             0.658915   0.537975    0.85   \nLGBMClassifier_BorderlineSMOTE            0.623482   0.523810    0.77   \nDecisionTreeClassifier_SMOTEENN           0.229167   0.239130    0.22   \nRandomForestClassifier_SMOTEENN           0.909091   0.871560    0.95   \nXGBClassifier_SMOTEENN                    0.575342   0.437500    0.84   \nLGBMClassifier_SMOTEENN                   0.228261   0.250000    0.21   \n\n                                           ROC AUC  Accuracy  Training time  \\\nDecisionTreeClassifier_                   0.545588  0.706818       0.967479   \nRandomForestClassifier_                   0.965294  0.934091       0.764570   \nXGBClassifier_                            0.863868  0.800000       0.939583   \nLGBMClassifier_                           0.838779  0.788636       1.216483   \nDecisionTreeClassifier_RandomOverSampler  0.811765  0.736364       0.346756   \nRandomForestClassifier_RandomOverSampler  0.981882  0.968182       0.930522   \nXGBClassifier_RandomOverSampler           0.776897  0.663636       0.705180   \nLGBMClassifier_RandomOverSampler          0.820059  0.650000       0.399436   \nDecisionTreeClassifier_SMOTE              0.549118  0.706818       1.027983   \nRandomForestClassifier_SMOTE              0.985868  0.947727       1.181271   \nXGBClassifier_SMOTE                       0.686588  0.702273       0.911851   \nLGBMClassifier_SMOTE                      0.689279  0.695455       0.711388   \nDecisionTreeClassifier_ADASYN             0.506765  0.706818       0.772938   \nRandomForestClassifier_ADASYN             0.976191  0.943182       1.038656   \nXGBClassifier_ADASYN                      0.828618  0.825000       1.107436   \nLGBMClassifier_ADASYN                     0.836706  0.784091       0.871821   \nDecisionTreeClassifier_KMeansSMOTE        0.540294  0.693182       1.173373   \nRandomForestClassifier_KMeansSMOTE        0.984897  0.954545       1.107975   \nXGBClassifier_KMeansSMOTE                 0.804500  0.727273       0.977738   \nLGBMClassifier_KMeansSMOTE                0.873412  0.763636       0.946299   \nDecisionTreeClassifier_BorderlineSMOTE    0.541471  0.711364       0.886004   \nRandomForestClassifier_BorderlineSMOTE    0.978765  0.943182       0.915687   \nXGBClassifier_BorderlineSMOTE             0.863868  0.800000       0.872452   \nLGBMClassifier_BorderlineSMOTE            0.838779  0.788636       0.595522   \nDecisionTreeClassifier_SMOTEENN           0.507059  0.663636       1.203404   \nRandomForestClassifier_SMOTEENN           0.987103  0.956818       1.192705   \nXGBClassifier_SMOTEENN                    0.755397  0.718182       1.002446   \nLGBMClassifier_SMOTEENN                   0.530353  0.677273       0.531191   \n\n                                          Test time  \nDecisionTreeClassifier_                    0.001024  \nRandomForestClassifier_                    0.008661  \nXGBClassifier_                             0.001479  \nLGBMClassifier_                            0.001050  \nDecisionTreeClassifier_RandomOverSampler   0.000577  \nRandomForestClassifier_RandomOverSampler   0.008704  \nXGBClassifier_RandomOverSampler            0.001476  \nLGBMClassifier_RandomOverSampler           0.001057  \nDecisionTreeClassifier_SMOTE               0.001831  \nRandomForestClassifier_SMOTE               0.009666  \nXGBClassifier_SMOTE                        0.001444  \nLGBMClassifier_SMOTE                       0.001497  \nDecisionTreeClassifier_ADASYN              0.001261  \nRandomForestClassifier_ADASYN              0.009390  \nXGBClassifier_ADASYN                       0.001301  \nLGBMClassifier_ADASYN                      0.001293  \nDecisionTreeClassifier_KMeansSMOTE         0.001487  \nRandomForestClassifier_KMeansSMOTE         0.015793  \nXGBClassifier_KMeansSMOTE                  0.001266  \nLGBMClassifier_KMeansSMOTE                 0.001097  \nDecisionTreeClassifier_BorderlineSMOTE     0.001374  \nRandomForestClassifier_BorderlineSMOTE     0.009255  \nXGBClassifier_BorderlineSMOTE              0.001588  \nLGBMClassifier_BorderlineSMOTE             0.001919  \nDecisionTreeClassifier_SMOTEENN            0.001178  \nRandomForestClassifier_SMOTEENN            0.019168  \nXGBClassifier_SMOTEENN                     0.001230  \nLGBMClassifier_SMOTEENN                    0.001125  ",
      "text/html": "<div>\n<style scoped>\n    .dataframe tbody tr th:only-of-type {\n        vertical-align: middle;\n    }\n\n    .dataframe tbody tr th {\n        vertical-align: top;\n    }\n\n    .dataframe thead th {\n        text-align: right;\n    }\n</style>\n<table border=\"1\" class=\"dataframe\">\n  <thead>\n    <tr style=\"text-align: right;\">\n      <th></th>\n      <th>F1_score</th>\n      <th>Precision</th>\n      <th>Recall</th>\n      <th>ROC AUC</th>\n      <th>Accuracy</th>\n      <th>Training time</th>\n      <th>Test time</th>\n    </tr>\n  </thead>\n  <tbody>\n    <tr>\n      <th>DecisionTreeClassifier_</th>\n      <td>0.279330</td>\n      <td>0.316456</td>\n      <td>0.25</td>\n      <td>0.545588</td>\n      <td>0.706818</td>\n      <td>0.967479</td>\n      <td>0.001024</td>\n    </tr>\n    <tr>\n      <th>RandomForestClassifier_</th>\n      <td>0.861244</td>\n      <td>0.825688</td>\n      <td>0.90</td>\n      <td>0.965294</td>\n      <td>0.934091</td>\n      <td>0.764570</td>\n      <td>0.008661</td>\n    </tr>\n    <tr>\n      <th>XGBClassifier_</th>\n      <td>0.658915</td>\n      <td>0.537975</td>\n      <td>0.85</td>\n      <td>0.863868</td>\n      <td>0.800000</td>\n      <td>0.939583</td>\n      <td>0.001479</td>\n    </tr>\n    <tr>\n      <th>LGBMClassifier_</th>\n      <td>0.623482</td>\n      <td>0.523810</td>\n      <td>0.77</td>\n      <td>0.838779</td>\n      <td>0.788636</td>\n      <td>1.216483</td>\n      <td>0.001050</td>\n    </tr>\n    <tr>\n      <th>DecisionTreeClassifier_RandomOverSampler</th>\n      <td>0.620915</td>\n      <td>0.461165</td>\n      <td>0.95</td>\n      <td>0.811765</td>\n      <td>0.736364</td>\n      <td>0.346756</td>\n      <td>0.000577</td>\n    </tr>\n    <tr>\n      <th>RandomForestClassifier_RandomOverSampler</th>\n      <td>0.929293</td>\n      <td>0.938776</td>\n      <td>0.92</td>\n      <td>0.981882</td>\n      <td>0.968182</td>\n      <td>0.930522</td>\n      <td>0.008704</td>\n    </tr>\n    <tr>\n      <th>XGBClassifier_RandomOverSampler</th>\n      <td>0.564706</td>\n      <td>0.400000</td>\n      <td>0.96</td>\n      <td>0.776897</td>\n      <td>0.663636</td>\n      <td>0.705180</td>\n      <td>0.001476</td>\n    </tr>\n    <tr>\n      <th>LGBMClassifier_RandomOverSampler</th>\n      <td>0.557471</td>\n      <td>0.391129</td>\n      <td>0.97</td>\n      <td>0.820059</td>\n      <td>0.650000</td>\n      <td>0.399436</td>\n      <td>0.001057</td>\n    </tr>\n    <tr>\n      <th>DecisionTreeClassifier_SMOTE</th>\n      <td>0.287293</td>\n      <td>0.320988</td>\n      <td>0.26</td>\n      <td>0.549118</td>\n      <td>0.706818</td>\n      <td>1.027983</td>\n      <td>0.001831</td>\n    </tr>\n    <tr>\n      <th>RandomForestClassifier_SMOTE</th>\n      <td>0.885572</td>\n      <td>0.881188</td>\n      <td>0.89</td>\n      <td>0.985868</td>\n      <td>0.947727</td>\n      <td>1.181271</td>\n      <td>0.009666</td>\n    </tr>\n    <tr>\n      <th>XGBClassifier_SMOTE</th>\n      <td>0.242775</td>\n      <td>0.287671</td>\n      <td>0.21</td>\n      <td>0.686588</td>\n      <td>0.702273</td>\n      <td>0.911851</td>\n      <td>0.001444</td>\n    </tr>\n    <tr>\n      <th>LGBMClassifier_SMOTE</th>\n      <td>0.302083</td>\n      <td>0.315217</td>\n      <td>0.29</td>\n      <td>0.689279</td>\n      <td>0.695455</td>\n      <td>0.711388</td>\n      <td>0.001497</td>\n    </tr>\n    <tr>\n      <th>DecisionTreeClassifier_ADASYN</th>\n      <td>0.178344</td>\n      <td>0.245614</td>\n      <td>0.14</td>\n      <td>0.506765</td>\n      <td>0.706818</td>\n      <td>0.772938</td>\n      <td>0.001261</td>\n    </tr>\n    <tr>\n      <th>RandomForestClassifier_ADASYN</th>\n      <td>0.878049</td>\n      <td>0.857143</td>\n      <td>0.90</td>\n      <td>0.976191</td>\n      <td>0.943182</td>\n      <td>1.038656</td>\n      <td>0.009390</td>\n    </tr>\n    <tr>\n      <th>XGBClassifier_ADASYN</th>\n      <td>0.677824</td>\n      <td>0.582734</td>\n      <td>0.81</td>\n      <td>0.828618</td>\n      <td>0.825000</td>\n      <td>1.107436</td>\n      <td>0.001301</td>\n    </tr>\n    <tr>\n      <th>LGBMClassifier_ADASYN</th>\n      <td>0.618474</td>\n      <td>0.516779</td>\n      <td>0.77</td>\n      <td>0.836706</td>\n      <td>0.784091</td>\n      <td>0.871821</td>\n      <td>0.001293</td>\n    </tr>\n    <tr>\n      <th>DecisionTreeClassifier_KMeansSMOTE</th>\n      <td>0.278075</td>\n      <td>0.298851</td>\n      <td>0.26</td>\n      <td>0.540294</td>\n      <td>0.693182</td>\n      <td>1.173373</td>\n      <td>0.001487</td>\n    </tr>\n    <tr>\n      <th>RandomForestClassifier_KMeansSMOTE</th>\n      <td>0.900990</td>\n      <td>0.892157</td>\n      <td>0.91</td>\n      <td>0.984897</td>\n      <td>0.954545</td>\n      <td>1.107975</td>\n      <td>0.015793</td>\n    </tr>\n    <tr>\n      <th>XGBClassifier_KMeansSMOTE</th>\n      <td>0.589041</td>\n      <td>0.447917</td>\n      <td>0.86</td>\n      <td>0.804500</td>\n      <td>0.727273</td>\n      <td>0.977738</td>\n      <td>0.001266</td>\n    </tr>\n    <tr>\n      <th>LGBMClassifier_KMeansSMOTE</th>\n      <td>0.631206</td>\n      <td>0.489011</td>\n      <td>0.89</td>\n      <td>0.873412</td>\n      <td>0.763636</td>\n      <td>0.946299</td>\n      <td>0.001097</td>\n    </tr>\n    <tr>\n      <th>DecisionTreeClassifier_BorderlineSMOTE</th>\n      <td>0.265896</td>\n      <td>0.315068</td>\n      <td>0.23</td>\n      <td>0.541471</td>\n      <td>0.711364</td>\n      <td>0.886004</td>\n      <td>0.001374</td>\n    </tr>\n    <tr>\n      <th>RandomForestClassifier_BorderlineSMOTE</th>\n      <td>0.882629</td>\n      <td>0.831858</td>\n      <td>0.94</td>\n      <td>0.978765</td>\n      <td>0.943182</td>\n      <td>0.915687</td>\n      <td>0.009255</td>\n    </tr>\n    <tr>\n      <th>XGBClassifier_BorderlineSMOTE</th>\n      <td>0.658915</td>\n      <td>0.537975</td>\n      <td>0.85</td>\n      <td>0.863868</td>\n      <td>0.800000</td>\n      <td>0.872452</td>\n      <td>0.001588</td>\n    </tr>\n    <tr>\n      <th>LGBMClassifier_BorderlineSMOTE</th>\n      <td>0.623482</td>\n      <td>0.523810</td>\n      <td>0.77</td>\n      <td>0.838779</td>\n      <td>0.788636</td>\n      <td>0.595522</td>\n      <td>0.001919</td>\n    </tr>\n    <tr>\n      <th>DecisionTreeClassifier_SMOTEENN</th>\n      <td>0.229167</td>\n      <td>0.239130</td>\n      <td>0.22</td>\n      <td>0.507059</td>\n      <td>0.663636</td>\n      <td>1.203404</td>\n      <td>0.001178</td>\n    </tr>\n    <tr>\n      <th>RandomForestClassifier_SMOTEENN</th>\n      <td>0.909091</td>\n      <td>0.871560</td>\n      <td>0.95</td>\n      <td>0.987103</td>\n      <td>0.956818</td>\n      <td>1.192705</td>\n      <td>0.019168</td>\n    </tr>\n    <tr>\n      <th>XGBClassifier_SMOTEENN</th>\n      <td>0.575342</td>\n      <td>0.437500</td>\n      <td>0.84</td>\n      <td>0.755397</td>\n      <td>0.718182</td>\n      <td>1.002446</td>\n      <td>0.001230</td>\n    </tr>\n    <tr>\n      <th>LGBMClassifier_SMOTEENN</th>\n      <td>0.228261</td>\n      <td>0.250000</td>\n      <td>0.21</td>\n      <td>0.530353</td>\n      <td>0.677273</td>\n      <td>0.531191</td>\n      <td>0.001125</td>\n    </tr>\n  </tbody>\n</table>\n</div>"
     },
     "execution_count": 70,
     "metadata": {},
     "output_type": "execute_result"
    }
   ],
   "source": [
    "df_results"
   ]
  }
 ],
 "metadata": {
  "kernelspec": {
   "display_name": "Python 3 (ipykernel)",
   "language": "python",
   "name": "python3"
  },
  "language_info": {
   "codemirror_mode": {
    "name": "ipython",
    "version": 3
   },
   "file_extension": ".py",
   "mimetype": "text/x-python",
   "name": "python",
   "nbconvert_exporter": "python",
   "pygments_lexer": "ipython3",
   "version": "3.10.9"
  }
 },
 "nbformat": 4,
 "nbformat_minor": 5
}
