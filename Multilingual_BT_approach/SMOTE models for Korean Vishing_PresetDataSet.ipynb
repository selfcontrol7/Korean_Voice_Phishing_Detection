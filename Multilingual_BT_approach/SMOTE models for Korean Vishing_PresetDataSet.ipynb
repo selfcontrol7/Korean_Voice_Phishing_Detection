{
 "cells": [
  {
   "cell_type": "markdown",
   "id": "9e669980-9fca-4f96-a38e-cf0e23a5b3fe",
   "metadata": {
    "tags": []
   },
   "source": [
    "# Data Augmentation with Oversampling methods on Imbalanced Text Dataset for Korean Vishing Classification"
   ]
  },
  {
   "cell_type": "code",
   "execution_count": 1,
   "id": "1767f406-88f0-4019-8705-555957c1c8d8",
   "metadata": {
    "ExecuteTime": {
     "end_time": "2023-10-24T15:46:12.650665300Z",
     "start_time": "2023-10-24T15:46:10.148016200Z"
    }
   },
   "outputs": [
    {
     "name": "stdout",
     "output_type": "stream",
     "text": [
      "CUDA Available: True\n",
      "Current GPU Index: 0\n",
      "Current GPU Name: NVIDIA GeForce RTX 3050\n",
      "GPU Memory Allocated: 0\n",
      "GPU Memory Cached: 0\n"
     ]
    }
   ],
   "source": [
    "import torch\n",
    "\n",
    "# Check if CUDA is available\n",
    "print(\"CUDA Available:\", torch.cuda.is_available())\n",
    "\n",
    "# If CUDA is available, print the current GPU details\n",
    "if torch.cuda.is_available():\n",
    "    print(\"Current GPU Index:\", torch.cuda.current_device())\n",
    "    print(\"Current GPU Name:\", torch.cuda.get_device_name(torch.cuda.current_device()))\n",
    "    print(\"GPU Memory Allocated:\", torch.cuda.memory_allocated())\n",
    "    print(\"GPU Memory Cached:\", torch.cuda.memory_reserved())"
   ]
  },
  {
   "cell_type": "code",
   "execution_count": 2,
   "id": "a3f11e1d-b2d3-486b-be13-39c6aff65872",
   "metadata": {
    "ExecuteTime": {
     "end_time": "2023-10-24T15:46:13.059724600Z",
     "start_time": "2023-10-24T15:46:12.650665300Z"
    }
   },
   "outputs": [],
   "source": [
    "# https://ruslanmv.com/blog/How-to-handle-imbalanced-text-data-in-Natural-Language-Processing\n",
    "#\n",
    "\n",
    "#importing necessary libraries\n",
    "# General\n",
    "from time import time\n",
    "from timeit import default_timer as timer\n",
    "import numpy as np\n",
    "import pandas as pd\n",
    "import re\n",
    "import os\n",
    "import io\n",
    "import pickle\n",
    "import sys\n",
    "import subprocess\n",
    "from collections import Counter\n",
    "\n",
    "# EDA\n",
    "import matplotlib.pyplot as plt\n",
    "import seaborn as sns \n",
    "import plotly.express as px\n",
    "from wordcloud import WordCloud\n",
    "from collections import Counter\n",
    "\n",
    "# NLP \n",
    "import nltk\n",
    "from nltk.corpus import stopwords\n",
    "from nltk.stem.porter import PorterStemmer\n",
    "from sklearn.feature_extraction.text import TfidfVectorizer\n",
    "from nltk.tokenize import word_tokenize \n",
    "\n",
    "# ML\n",
    "from sklearn.pipeline import Pipeline\n",
    "from sklearn.model_selection import train_test_split\n",
    "from sklearn.naive_bayes import MultinomialNB\n",
    "from sklearn.naive_bayes import GaussianNB\n",
    "from sklearn.ensemble import RandomForestClassifier\n",
    "from sklearn.tree import DecisionTreeClassifier\n",
    "from sklearn.linear_model import LogisticRegression\n",
    "from xgboost import XGBClassifier\n",
    "from lightgbm import LGBMClassifier\n",
    "from sklearn.svm import SVC\n",
    "from sklearn.metrics import classification_report, confusion_matrix, accuracy_score, precision_score, recall_score, f1_score, fbeta_score, roc_auc_score, matthews_corrcoef, cohen_kappa_score"
   ]
  },
  {
   "cell_type": "markdown",
   "id": "60baefaa-dd81-48f8-b99f-7a9288f458c3",
   "metadata": {
    "tags": []
   },
   "source": [
    "# Dataset analysis"
   ]
  },
  {
   "cell_type": "code",
   "execution_count": null,
   "outputs": [],
   "source": [
    "def plot_class_distribution(data, title):\n",
    "    sns.set(style=\"darkgrid\")\n",
    "    ax = sns.countplot(x='label', data=data)\n",
    "    ax.set_title(title)\n",
    "    \n",
    "    # Annotate the bars with the number of samples\n",
    "    for p in ax.patches:\n",
    "        ax.annotate(f'{p.get_height()}', (p.get_x() + p.get_width() / 2., p.get_height()),\n",
    "                    ha='center', va='baseline', fontsize=11, color='black', xytext=(0, 5),\n",
    "                    textcoords='offset points')\n",
    "        \n",
    "    plt.show()"
   ],
   "metadata": {
    "collapsed": false
   },
   "id": "9dccc6a2d8f37693"
  },
  {
   "cell_type": "code",
   "execution_count": 3,
   "id": "4e985de4-619f-4e61-a0f6-0693b741b33b",
   "metadata": {
    "ExecuteTime": {
     "end_time": "2023-10-24T15:46:13.467501300Z",
     "start_time": "2023-10-24T15:46:13.061724500Z"
    }
   },
   "outputs": [
    {
     "name": "stdout",
     "output_type": "stream",
     "text": [
      "Loading data...\n",
      "<class 'pandas.core.frame.DataFrame'>\n",
      "RangeIndex: 2927 entries, 0 to 2926\n",
      "Data columns (total 4 columns):\n",
      " #   Column      Non-Null Count  Dtype  \n",
      "---  ------      --------------  -----  \n",
      " 0   id          2927 non-null   int64  \n",
      " 1   transcript  2927 non-null   object \n",
      " 2   confidence  0 non-null      float64\n",
      " 3   label       2927 non-null   int64  \n",
      "dtypes: float64(1), int64(2), object(1)\n",
      "memory usage: 91.6+ KB\n"
     ]
    },
    {
     "data": {
      "text/plain": "   id                                         transcript  confidence  label\n0   0  저는 여행 다니는 것을 굉장히 좋아하는데요. 그래가지고 스페인이나 뭐 영국 유럽 아...         NaN      0\n1   1  반려동물을 키우고 계신가요? 혹시 안 키우고 계시다면은 어떤 반려동물을 한번 키워보...         NaN      0\n2   2   씨는 주로 어떤 음식 좋아하시나요? 저는 근데 가리는 게 거의 없어서 대부분 다 ...         NaN      0\n3   3   씨는 반려동물 어~ 좋 뭐 어떤 동물 좋아하세요? 저는 고양이를 정말 좋아하는데요...         NaN      0\n4   4  가장 좋아하는 음식이 무엇인가요? 저는 주로 먹는 거를 좋아해서 음식을 가리지 않고...         NaN      0",
      "text/html": "<div>\n<style scoped>\n    .dataframe tbody tr th:only-of-type {\n        vertical-align: middle;\n    }\n\n    .dataframe tbody tr th {\n        vertical-align: top;\n    }\n\n    .dataframe thead th {\n        text-align: right;\n    }\n</style>\n<table border=\"1\" class=\"dataframe\">\n  <thead>\n    <tr style=\"text-align: right;\">\n      <th></th>\n      <th>id</th>\n      <th>transcript</th>\n      <th>confidence</th>\n      <th>label</th>\n    </tr>\n  </thead>\n  <tbody>\n    <tr>\n      <th>0</th>\n      <td>0</td>\n      <td>저는 여행 다니는 것을 굉장히 좋아하는데요. 그래가지고 스페인이나 뭐 영국 유럽 아...</td>\n      <td>NaN</td>\n      <td>0</td>\n    </tr>\n    <tr>\n      <th>1</th>\n      <td>1</td>\n      <td>반려동물을 키우고 계신가요? 혹시 안 키우고 계시다면은 어떤 반려동물을 한번 키워보...</td>\n      <td>NaN</td>\n      <td>0</td>\n    </tr>\n    <tr>\n      <th>2</th>\n      <td>2</td>\n      <td>씨는 주로 어떤 음식 좋아하시나요? 저는 근데 가리는 게 거의 없어서 대부분 다 ...</td>\n      <td>NaN</td>\n      <td>0</td>\n    </tr>\n    <tr>\n      <th>3</th>\n      <td>3</td>\n      <td>씨는 반려동물 어~ 좋 뭐 어떤 동물 좋아하세요? 저는 고양이를 정말 좋아하는데요...</td>\n      <td>NaN</td>\n      <td>0</td>\n    </tr>\n    <tr>\n      <th>4</th>\n      <td>4</td>\n      <td>가장 좋아하는 음식이 무엇인가요? 저는 주로 먹는 거를 좋아해서 음식을 가리지 않고...</td>\n      <td>NaN</td>\n      <td>0</td>\n    </tr>\n  </tbody>\n</table>\n</div>"
     },
     "execution_count": 3,
     "metadata": {},
     "output_type": "execute_result"
    }
   ],
   "source": [
    "# import the dataset split during the dataset augmentation\n",
    "print('Loading data...')\n",
    "train_data = pd.read_csv('training_set.csv')\n",
    "val_data = pd.read_csv('validation_set.csv')\n",
    "test_data = pd.read_csv('test_set.csv')\n",
    "\n",
    "dataset = pd.read_csv('KorCCVi_v2.csv')\n",
    "dataset.info()\n",
    "dataset.head()\n",
    "# print(dataset.shape)\n",
    "# print(dataset)"
   ]
  },
  {
   "cell_type": "code",
   "execution_count": null,
   "outputs": [],
   "source": [
    "# plot the different distribution\n",
    "plot_class_distribution(train_data, 'Training Set Class Distribution')\n",
    "plot_class_distribution(val_data, 'Validation Set Class Distribution')\n",
    "plot_class_distribution(test_data, 'Test Set Class Distribution')  "
   ],
   "metadata": {
    "collapsed": false
   },
   "id": "bee1a0a79a54a0b8"
  },
  {
   "cell_type": "code",
   "execution_count": 4,
   "id": "884cf90f-b2e8-47e9-b701-7704c4468736",
   "metadata": {
    "ExecuteTime": {
     "end_time": "2023-10-24T15:46:13.634078100Z",
     "start_time": "2023-10-24T15:46:13.464485800Z"
    }
   },
   "outputs": [
    {
     "data": {
      "text/plain": "<Axes: >"
     },
     "execution_count": 4,
     "metadata": {},
     "output_type": "execute_result"
    },
    {
     "data": {
      "text/plain": "<Figure size 640x480 with 1 Axes>",
      "image/png": "[encoded data removed]"
     },
     "metadata": {},
     "output_type": "display_data"
    }
   ],
   "source": [
    "dataset['label'].value_counts(dropna=False).plot(kind='bar')"
   ]
  },
  {
   "cell_type": "code",
   "execution_count": 5,
   "id": "10489def-0384-4560-860e-2acb1622a44d",
   "metadata": {
    "ExecuteTime": {
     "end_time": "2023-10-24T15:46:13.635078300Z",
     "start_time": "2023-10-24T15:46:13.568023100Z"
    }
   },
   "outputs": [
    {
     "data": {
      "text/plain": "                id  confidence        label\ncount  2927.000000         0.0  2927.000000\nmean   1463.000000         NaN     0.237444\nstd     845.096444         NaN     0.425590\nmin       0.000000         NaN     0.000000\n25%     731.500000         NaN     0.000000\n50%    1463.000000         NaN     0.000000\n75%    2194.500000         NaN     0.000000\nmax    2926.000000         NaN     1.000000",
      "text/html": "<div>\n<style scoped>\n    .dataframe tbody tr th:only-of-type {\n        vertical-align: middle;\n    }\n\n    .dataframe tbody tr th {\n        vertical-align: top;\n    }\n\n    .dataframe thead th {\n        text-align: right;\n    }\n</style>\n<table border=\"1\" class=\"dataframe\">\n  <thead>\n    <tr style=\"text-align: right;\">\n      <th></th>\n      <th>id</th>\n      <th>confidence</th>\n      <th>label</th>\n    </tr>\n  </thead>\n  <tbody>\n    <tr>\n      <th>count</th>\n      <td>2927.000000</td>\n      <td>0.0</td>\n      <td>2927.000000</td>\n    </tr>\n    <tr>\n      <th>mean</th>\n      <td>1463.000000</td>\n      <td>NaN</td>\n      <td>0.237444</td>\n    </tr>\n    <tr>\n      <th>std</th>\n      <td>845.096444</td>\n      <td>NaN</td>\n      <td>0.425590</td>\n    </tr>\n    <tr>\n      <th>min</th>\n      <td>0.000000</td>\n      <td>NaN</td>\n      <td>0.000000</td>\n    </tr>\n    <tr>\n      <th>25%</th>\n      <td>731.500000</td>\n      <td>NaN</td>\n      <td>0.000000</td>\n    </tr>\n    <tr>\n      <th>50%</th>\n      <td>1463.000000</td>\n      <td>NaN</td>\n      <td>0.000000</td>\n    </tr>\n    <tr>\n      <th>75%</th>\n      <td>2194.500000</td>\n      <td>NaN</td>\n      <td>0.000000</td>\n    </tr>\n    <tr>\n      <th>max</th>\n      <td>2926.000000</td>\n      <td>NaN</td>\n      <td>1.000000</td>\n    </tr>\n  </tbody>\n</table>\n</div>"
     },
     "execution_count": 5,
     "metadata": {},
     "output_type": "execute_result"
    }
   ],
   "source": [
    "dataset.describe()"
   ]
  },
  {
   "cell_type": "code",
   "execution_count": 6,
   "id": "f675e254-9a8a-4396-a635-0bedad942910",
   "metadata": {
    "ExecuteTime": {
     "end_time": "2023-10-24T15:46:13.636077600Z",
     "start_time": "2023-10-24T15:46:13.578538500Z"
    }
   },
   "outputs": [
    {
     "data": {
      "text/plain": "id               0\ntranscript       0\nconfidence    2927\nlabel            0\ndtype: int64"
     },
     "execution_count": 6,
     "metadata": {},
     "output_type": "execute_result"
    }
   ],
   "source": [
    "#checking for null values\n",
    "dataset.isnull().sum()"
   ]
  },
  {
   "cell_type": "code",
   "execution_count": 7,
   "id": "1337d0bb-80d8-4411-93d0-9a312917a989",
   "metadata": {
    "ExecuteTime": {
     "end_time": "2023-10-24T15:46:13.636077600Z",
     "start_time": "2023-10-24T15:46:13.586995300Z"
    }
   },
   "outputs": [
    {
     "data": {
      "text/plain": "                                             transcript  label\n0     저는 여행 다니는 것을 굉장히 좋아하는데요. 그래가지고 스페인이나 뭐 영국 유럽 아...      0\n1     반려동물을 키우고 계신가요? 혹시 안 키우고 계시다면은 어떤 반려동물을 한번 키워보...      0\n2      씨는 주로 어떤 음식 좋아하시나요? 저는 근데 가리는 게 거의 없어서 대부분 다 ...      0\n3      씨는 반려동물 어~ 좋 뭐 어떤 동물 좋아하세요? 저는 고양이를 정말 좋아하는데요...      0\n4     가장 좋아하는 음식이 무엇인가요? 저는 주로 먹는 거를 좋아해서 음식을 가리지 않고...      0\n...                                                 ...    ...\n2922  지금까지 사실확인서를 연락드렸습니다. 하고 있는데 이런 사건 때문에 내가 여쭤볼게 ...      1\n2923  연료 데이는 사건 때문에 연락 드렸는데 혹시 김명철씨 가십니까 모르시고 아는 사람도...      1\n2924  4장 4절 일어났습니까? 장소 잡고 님께서는 42세 남성 김동술 알고 계십니까? 아...      1\n2925  네\\n네 여보세요\\n뭐 어디세요?\\n아 네 안녕하세요 저희 그 하나캐피탈에서 연락을...      1\n2926  통장명이 (삐-) 계좌 맞구요? 그리고 통장 발급 일은 2017년 3월 14일입니다...      1\n\n[2927 rows x 2 columns]",
      "text/html": "<div>\n<style scoped>\n    .dataframe tbody tr th:only-of-type {\n        vertical-align: middle;\n    }\n\n    .dataframe tbody tr th {\n        vertical-align: top;\n    }\n\n    .dataframe thead th {\n        text-align: right;\n    }\n</style>\n<table border=\"1\" class=\"dataframe\">\n  <thead>\n    <tr style=\"text-align: right;\">\n      <th></th>\n      <th>transcript</th>\n      <th>label</th>\n    </tr>\n  </thead>\n  <tbody>\n    <tr>\n      <th>0</th>\n      <td>저는 여행 다니는 것을 굉장히 좋아하는데요. 그래가지고 스페인이나 뭐 영국 유럽 아...</td>\n      <td>0</td>\n    </tr>\n    <tr>\n      <th>1</th>\n      <td>반려동물을 키우고 계신가요? 혹시 안 키우고 계시다면은 어떤 반려동물을 한번 키워보...</td>\n      <td>0</td>\n    </tr>\n    <tr>\n      <th>2</th>\n      <td>씨는 주로 어떤 음식 좋아하시나요? 저는 근데 가리는 게 거의 없어서 대부분 다 ...</td>\n      <td>0</td>\n    </tr>\n    <tr>\n      <th>3</th>\n      <td>씨는 반려동물 어~ 좋 뭐 어떤 동물 좋아하세요? 저는 고양이를 정말 좋아하는데요...</td>\n      <td>0</td>\n    </tr>\n    <tr>\n      <th>4</th>\n      <td>가장 좋아하는 음식이 무엇인가요? 저는 주로 먹는 거를 좋아해서 음식을 가리지 않고...</td>\n      <td>0</td>\n    </tr>\n    <tr>\n      <th>...</th>\n      <td>...</td>\n      <td>...</td>\n    </tr>\n    <tr>\n      <th>2922</th>\n      <td>지금까지 사실확인서를 연락드렸습니다. 하고 있는데 이런 사건 때문에 내가 여쭤볼게 ...</td>\n      <td>1</td>\n    </tr>\n    <tr>\n      <th>2923</th>\n      <td>연료 데이는 사건 때문에 연락 드렸는데 혹시 김명철씨 가십니까 모르시고 아는 사람도...</td>\n      <td>1</td>\n    </tr>\n    <tr>\n      <th>2924</th>\n      <td>4장 4절 일어났습니까? 장소 잡고 님께서는 42세 남성 김동술 알고 계십니까? 아...</td>\n      <td>1</td>\n    </tr>\n    <tr>\n      <th>2925</th>\n      <td>네\\n네 여보세요\\n뭐 어디세요?\\n아 네 안녕하세요 저희 그 하나캐피탈에서 연락을...</td>\n      <td>1</td>\n    </tr>\n    <tr>\n      <th>2926</th>\n      <td>통장명이 (삐-) 계좌 맞구요? 그리고 통장 발급 일은 2017년 3월 14일입니다...</td>\n      <td>1</td>\n    </tr>\n  </tbody>\n</table>\n<p>2927 rows × 2 columns</p>\n</div>"
     },
     "execution_count": 7,
     "metadata": {},
     "output_type": "execute_result"
    }
   ],
   "source": [
    "# drop the colum we don't need\n",
    "dataset.drop(['confidence', 'id'], axis=1, inplace=True)\n",
    "dataset"
   ]
  },
  {
   "cell_type": "markdown",
   "id": "ee8e388e-07ec-4c1a-b2c4-f156bc0fdb88",
   "metadata": {},
   "source": [
    "## Calculating the length of each data sample."
   ]
  },
  {
   "cell_type": "code",
   "execution_count": 8,
   "id": "1a8b6288-0f92-4961-9997-42869f5b841e",
   "metadata": {
    "ExecuteTime": {
     "end_time": "2023-10-24T15:46:13.638078400Z",
     "start_time": "2023-10-24T15:46:13.597557900Z"
    }
   },
   "outputs": [
    {
     "data": {
      "text/plain": "                                          transcript  label  length\n0  저는 여행 다니는 것을 굉장히 좋아하는데요. 그래가지고 스페인이나 뭐 영국 유럽 아...      0    5773\n1  반려동물을 키우고 계신가요? 혹시 안 키우고 계시다면은 어떤 반려동물을 한번 키워보...      0    5126\n2   씨는 주로 어떤 음식 좋아하시나요? 저는 근데 가리는 게 거의 없어서 대부분 다 ...      0    4970\n3   씨는 반려동물 어~ 좋 뭐 어떤 동물 좋아하세요? 저는 고양이를 정말 좋아하는데요...      0    5480\n4  가장 좋아하는 음식이 무엇인가요? 저는 주로 먹는 거를 좋아해서 음식을 가리지 않고...      0    4141",
      "text/html": "<div>\n<style scoped>\n    .dataframe tbody tr th:only-of-type {\n        vertical-align: middle;\n    }\n\n    .dataframe tbody tr th {\n        vertical-align: top;\n    }\n\n    .dataframe thead th {\n        text-align: right;\n    }\n</style>\n<table border=\"1\" class=\"dataframe\">\n  <thead>\n    <tr style=\"text-align: right;\">\n      <th></th>\n      <th>transcript</th>\n      <th>label</th>\n      <th>length</th>\n    </tr>\n  </thead>\n  <tbody>\n    <tr>\n      <th>0</th>\n      <td>저는 여행 다니는 것을 굉장히 좋아하는데요. 그래가지고 스페인이나 뭐 영국 유럽 아...</td>\n      <td>0</td>\n      <td>5773</td>\n    </tr>\n    <tr>\n      <th>1</th>\n      <td>반려동물을 키우고 계신가요? 혹시 안 키우고 계시다면은 어떤 반려동물을 한번 키워보...</td>\n      <td>0</td>\n      <td>5126</td>\n    </tr>\n    <tr>\n      <th>2</th>\n      <td>씨는 주로 어떤 음식 좋아하시나요? 저는 근데 가리는 게 거의 없어서 대부분 다 ...</td>\n      <td>0</td>\n      <td>4970</td>\n    </tr>\n    <tr>\n      <th>3</th>\n      <td>씨는 반려동물 어~ 좋 뭐 어떤 동물 좋아하세요? 저는 고양이를 정말 좋아하는데요...</td>\n      <td>0</td>\n      <td>5480</td>\n    </tr>\n    <tr>\n      <th>4</th>\n      <td>가장 좋아하는 음식이 무엇인가요? 저는 주로 먹는 거를 좋아해서 음식을 가리지 않고...</td>\n      <td>0</td>\n      <td>4141</td>\n    </tr>\n  </tbody>\n</table>\n</div>"
     },
     "execution_count": 8,
     "metadata": {},
     "output_type": "execute_result"
    }
   ],
   "source": [
    "dataset['length'] = dataset['transcript'].apply(lambda x: len(x))\n",
    "dataset.head()"
   ]
  },
  {
   "cell_type": "code",
   "execution_count": null,
   "outputs": [],
   "source": [],
   "metadata": {
    "collapsed": false
   },
   "id": "bccafce80ceb9eff"
  },
  {
   "cell_type": "markdown",
   "id": "139f6c66-2365-445e-9b74-07e353ea0d12",
   "metadata": {},
   "source": [
    "## Distribution based on length of words"
   ]
  },
  {
   "cell_type": "code",
   "execution_count": 9,
   "id": "bb684c0b-cc17-4672-b336-ab96c93cdb88",
   "metadata": {
    "ExecuteTime": {
     "end_time": "2023-10-24T15:46:14.176679Z",
     "start_time": "2023-10-24T15:46:13.608557500Z"
    }
   },
   "outputs": [
    {
     "data": {
      "text/plain": "<seaborn.axisgrid.FacetGrid at 0x7fd3074f3850>"
     },
     "execution_count": 9,
     "metadata": {},
     "output_type": "execute_result"
    },
    {
     "data": {
      "text/plain": "<Figure size 500x500 with 1 Axes>",
      "image/png": "[encoded data removed]"
     },
     "metadata": {},
     "output_type": "display_data"
    }
   ],
   "source": [
    "sns.displot(dataset['length'], kde=True)"
   ]
  },
  {
   "cell_type": "code",
   "execution_count": 10,
   "id": "2e18b4e4-7cdc-4828-813d-1bf26229bb81",
   "metadata": {
    "ExecuteTime": {
     "end_time": "2023-10-24T15:46:14.273557800Z",
     "start_time": "2023-10-24T15:46:14.036110400Z"
    }
   },
   "outputs": [
    {
     "data": {
      "text/plain": "<Axes: xlabel='label', ylabel='length'>"
     },
     "execution_count": 10,
     "metadata": {},
     "output_type": "execute_result"
    },
    {
     "data": {
      "text/plain": "<Figure size 640x480 with 1 Axes>",
      "image/png": "[encoded data removed]"
     },
     "metadata": {},
     "output_type": "display_data"
    }
   ],
   "source": [
    "sns.boxplot(y='length', x='label', data=dataset)"
   ]
  },
  {
   "cell_type": "code",
   "execution_count": 11,
   "id": "cf132c4b-a997-4c0a-a8d0-16683a7be343",
   "metadata": {
    "ExecuteTime": {
     "end_time": "2023-10-24T15:46:14.324718Z",
     "start_time": "2023-10-24T15:46:14.276681200Z"
    }
   },
   "outputs": [
    {
     "data": {
      "text/plain": "                                          transcript  label  length\n0  저는 여행 다니는 것을 굉장히 좋아하는데요. 그래가지고 스페인이나 뭐 영국 유럽 아...      0    5773\n1  반려동물을 키우고 계신가요? 혹시 안 키우고 계시다면은 어떤 반려동물을 한번 키워보...      0    5126\n2   씨는 주로 어떤 음식 좋아하시나요? 저는 근데 가리는 게 거의 없어서 대부분 다 ...      0    4970\n3   씨는 반려동물 어~ 좋 뭐 어떤 동물 좋아하세요? 저는 고양이를 정말 좋아하는데요...      0    5480\n4  가장 좋아하는 음식이 무엇인가요? 저는 주로 먹는 거를 좋아해서 음식을 가리지 않고...      0    4141",
      "text/html": "<div>\n<style scoped>\n    .dataframe tbody tr th:only-of-type {\n        vertical-align: middle;\n    }\n\n    .dataframe tbody tr th {\n        vertical-align: top;\n    }\n\n    .dataframe thead th {\n        text-align: right;\n    }\n</style>\n<table border=\"1\" class=\"dataframe\">\n  <thead>\n    <tr style=\"text-align: right;\">\n      <th></th>\n      <th>transcript</th>\n      <th>label</th>\n      <th>length</th>\n    </tr>\n  </thead>\n  <tbody>\n    <tr>\n      <th>0</th>\n      <td>저는 여행 다니는 것을 굉장히 좋아하는데요. 그래가지고 스페인이나 뭐 영국 유럽 아...</td>\n      <td>0</td>\n      <td>5773</td>\n    </tr>\n    <tr>\n      <th>1</th>\n      <td>반려동물을 키우고 계신가요? 혹시 안 키우고 계시다면은 어떤 반려동물을 한번 키워보...</td>\n      <td>0</td>\n      <td>5126</td>\n    </tr>\n    <tr>\n      <th>2</th>\n      <td>씨는 주로 어떤 음식 좋아하시나요? 저는 근데 가리는 게 거의 없어서 대부분 다 ...</td>\n      <td>0</td>\n      <td>4970</td>\n    </tr>\n    <tr>\n      <th>3</th>\n      <td>씨는 반려동물 어~ 좋 뭐 어떤 동물 좋아하세요? 저는 고양이를 정말 좋아하는데요...</td>\n      <td>0</td>\n      <td>5480</td>\n    </tr>\n    <tr>\n      <th>4</th>\n      <td>가장 좋아하는 음식이 무엇인가요? 저는 주로 먹는 거를 좋아해서 음식을 가리지 않고...</td>\n      <td>0</td>\n      <td>4141</td>\n    </tr>\n  </tbody>\n</table>\n</div>"
     },
     "execution_count": 11,
     "metadata": {},
     "output_type": "execute_result"
    }
   ],
   "source": [
    "dataset.head()"
   ]
  },
  {
   "cell_type": "markdown",
   "id": "adc7b0a7-e00a-4dd0-b416-fb4458c1bddb",
   "metadata": {
    "jp-MarkdownHeadingCollapsed": true,
    "tags": []
   },
   "source": [
    "# Morphology Analyzer Installation"
   ]
  },
  {
   "cell_type": "markdown",
   "id": "8e656123-6433-4abe-9795-d8378914644a",
   "metadata": {
    "tags": []
   },
   "source": [
    "## Installation of Mecab-ko-for-GoogleColab"
   ]
  },
  {
   "cell_type": "code",
   "execution_count": 12,
   "id": "8a0b85ab-3f58-4bf4-a660-fe62b9c19e8f",
   "metadata": {
    "ExecuteTime": {
     "end_time": "2023-10-24T15:46:14.325720500Z",
     "start_time": "2023-10-24T15:46:14.281676700Z"
    }
   },
   "outputs": [],
   "source": [
    "# try:\n",
    "#     from konlpy.tag import Mecab\n",
    "#     mecab = Mecab()\n",
    "#     text = '그중에서 제일 기 좋았던 거는 스페인이랑 포르투갈이었거든요.'\n",
    "#     my_morphs = mecab.morphs(text)\n",
    "#     print(my_morphs)\n",
    "#     print('--- The Mecab module is installed ---')\n",
    "# except NameError:\n",
    "#     print('--- The Mecab module is NOT installed ---')\n",
    "\n",
    "#     # install Mecab module\n",
    "#     # python = sys.executable\n",
    "#     # subprocess.check_call(\n",
    "#         # [python, '-m', 'pip', 'install', 'mecab-ko'],\n",
    "#         # stdout=subprocess.DEVNULL\n",
    "#     # )\n",
    "#     !git clone https://github.com/SOMJANG/Mecab-ko-for-Google-Colab.git\n",
    "#     !cd Mecab-ko-for-Google-Colab\n",
    "#     !bash install_mecab-ko_on_colab_light_220429.sh\n",
    "    \n",
    "#     # !sudo apt-get install curl git\n",
    "#     # !bash <(curl -s https://raw.githubusercontent.com/konlpy/konlpy/master/scripts/mecab.sh)\n",
    "# finally:\n",
    "#     # import from konlpy.tag import Mecab\n",
    "#     print('--- Finally ---')\n",
    "#     # from konlpy.tag import Mecab\n",
    "#     # mecab = Mecab()\n",
    "#     # text = '그중에서 제일 기 좋았던 거는 스페인이랑 포르투갈이었거든요.'\n",
    "#     # my_morphs = mecab.morphs(text)\n",
    "#     # print(my_morphs)\n"
   ]
  },
  {
   "cell_type": "code",
   "execution_count": 13,
   "id": "859b1577-59ed-4a37-911e-a009640b0a6d",
   "metadata": {
    "ExecuteTime": {
     "end_time": "2023-10-24T15:46:14.329476Z",
     "start_time": "2023-10-24T15:46:14.286677200Z"
    }
   },
   "outputs": [],
   "source": [
    "# !git clone https://github.com/SOMJANG/Mecab-ko-for-Google-Colab.git"
   ]
  },
  {
   "cell_type": "code",
   "execution_count": 14,
   "id": "9b39f7c0-bb9c-4839-8dc8-cb28efecf2e8",
   "metadata": {
    "ExecuteTime": {
     "end_time": "2023-10-24T15:46:14.330516300Z",
     "start_time": "2023-10-24T15:46:14.296702600Z"
    }
   },
   "outputs": [],
   "source": [
    "# cd Mecab-ko-for-Google-Colab"
   ]
  },
  {
   "cell_type": "code",
   "execution_count": 15,
   "id": "74fe3d49-f4a0-4782-a48d-048c21f96624",
   "metadata": {
    "ExecuteTime": {
     "end_time": "2023-10-24T15:46:14.370072500Z",
     "start_time": "2023-10-24T15:46:14.300703100Z"
    }
   },
   "outputs": [],
   "source": [
    "# !bash install_mecab-ko_on_colab_light_220111.sh\n",
    "# !bash install_mecab-ko_on_colab_light_220429.sh"
   ]
  },
  {
   "cell_type": "markdown",
   "id": "05b94651-be07-43f4-bf04-1c596e6ae89b",
   "metadata": {},
   "source": [
    "## Testing MeCab"
   ]
  },
  {
   "cell_type": "code",
   "execution_count": 16,
   "id": "e1f8935e-4daf-440c-9bba-80a135f58485",
   "metadata": {
    "ExecuteTime": {
     "end_time": "2023-10-24T15:46:14.508645Z",
     "start_time": "2023-10-24T15:46:14.307714Z"
    }
   },
   "outputs": [
    {
     "name": "stdout",
     "output_type": "stream",
     "text": [
      "['그', '중', '에서', '제', '일', '기', '좋', '았', '던', '거', '는', '스페인', '이랑', '포르투갈', '이', '었', '거든요', '.']\n"
     ]
    }
   ],
   "source": [
    "from konlpy.tag import Mecab\n",
    "mecab = Mecab()\n",
    "text = '그중에서 제일 기 좋았던 거는 스페인이랑 포르투갈이었거든요.'\n",
    "my_morphs = mecab.morphs(text)\n",
    "print(my_morphs)"
   ]
  },
  {
   "cell_type": "code",
   "execution_count": 17,
   "id": "686c64a1-512e-4c1e-acac-cdf27dc38b96",
   "metadata": {
    "ExecuteTime": {
     "end_time": "2023-10-24T15:46:14.509646100Z",
     "start_time": "2023-10-24T15:46:14.374071800Z"
    }
   },
   "outputs": [
    {
     "data": {
      "text/plain": "[('그', 'MM'),\n ('중', 'NNB'),\n ('에서', 'JKB'),\n ('제', 'XPN'),\n ('일', 'NR'),\n ('기', 'NNBC'),\n ('좋', 'VA'),\n ('았', 'EP'),\n ('던', 'ETM'),\n ('거', 'NNB'),\n ('는', 'JX'),\n ('스페인', 'NNP'),\n ('이랑', 'JC'),\n ('포르투갈', 'NNP'),\n ('이', 'VCP'),\n ('었', 'EP'),\n ('거든요', 'EF'),\n ('.', 'SF')]"
     },
     "execution_count": 17,
     "metadata": {},
     "output_type": "execute_result"
    }
   ],
   "source": [
    "mecab.pos(text)"
   ]
  },
  {
   "cell_type": "markdown",
   "id": "6472821e-35bd-445d-a995-ae939733de82",
   "metadata": {
    "tags": []
   },
   "source": [
    "# Dataset Preprocessing"
   ]
  },
  {
   "cell_type": "markdown",
   "id": "5817a648-d4c2-43ba-b478-90e73e1f33fc",
   "metadata": {},
   "source": [
    "## Dataset cleaning and purification"
   ]
  },
  {
   "cell_type": "code",
   "execution_count": 18,
   "id": "d82fcfdd-115f-4a36-ac4e-bcb473351d46",
   "metadata": {
    "ExecuteTime": {
     "end_time": "2023-10-24T15:46:14.509646100Z",
     "start_time": "2023-10-24T15:46:14.381071Z"
    }
   },
   "outputs": [],
   "source": [
    "# function to perform the cleaning parts\n",
    "def apply_replacement(src_df, replace_func):\n",
    "    ret_df = src_df\n",
    "    ret_df['transcript'] = ret_df['transcript'].apply(lambda x: replace_func(x))\n",
    "    return ret_df\n",
    "\n",
    "# remove the unwanted word and characters from the dataset\n",
    "def word_replace(x):\n",
    "    example_word_replace_list = {'o/': '',\n",
    "                                 'b/': '',\n",
    "                                 'n/': '',\n",
    "                                 '\\n': ' ',\n",
    "                                 'name': '',\n",
    "                                 'laughing': '',\n",
    "                                 'clearing': '',\n",
    "                                 'singing': '',\n",
    "                                 'applauding': ''}\n",
    "    for i in example_word_replace_list:\n",
    "        x = x.replace(i, example_word_replace_list[i])\n",
    "    return x\n",
    "\n",
    "# remove the special character from the transcripts\n",
    "def remove_special_sysmbols(sentence): \n",
    "    sentence = re.sub(r\"[-~=+,#/\\?:^$.@*\\\"※~&%ㆍ!』\\\\‘|\\(\\)\\[\\]\\<\\>`\\'…》]\", '', sentence)\n",
    "    return sentence\n",
    "\n",
    "# remove x and O from the transcripts\n",
    "def replace_x_o(sentence):\n",
    "    \n",
    "    # sentence = re.sub(r\"(o{2,})|(O{2,})|(\\ㅇ{2,})|(0{2,})|(x{2,})\", '' , sentence)\n",
    "    # sentence = re.sub(r\"x{2,}\", '' , sentence)\n",
    "    # sentence = re.sub(r\"0{2,}\", '' , sentence)\n",
    "    # sentence = re.sub(r\"ㅇ{2,}\", '' , sentence)\n",
    "    # sentence = re.sub(r\"O{2,}\", '' , sentence)\n",
    "    # sentence = re.sub(r\"o{2,}\", '' , sentence)\n",
    "    sentence = re.sub(r\"(o|O|\\ㅇ|0|x){2,}\", '' , sentence)\n",
    "    return sentence\n",
    "\n",
    "# remove the unwanted word and characters from the transcripts\n",
    "def nline_replace(x):\n",
    "    example_word_replace_list = {'\\n' : ' '}\n",
    "    for i in example_word_replace_list:\n",
    "        x = x.replace(i, example_word_replace_list[i])\n",
    "    return x\n",
    "\n",
    "# remove extra whote space\n",
    "def remove_extra_white_spaces(text):\n",
    "    single_char_pattern = r'\\s+[a-zA-Z]\\s+'\n",
    "    without_sc = re.sub(pattern=single_char_pattern, repl=\" \", string=text)\n",
    "    return without_sc"
   ]
  },
  {
   "cell_type": "code",
   "execution_count": 19,
   "id": "11414c16-acc8-440b-8292-14d543ac225a",
   "metadata": {
    "ExecuteTime": {
     "end_time": "2023-10-24T15:46:14.509646100Z",
     "start_time": "2023-10-24T15:46:14.387588700Z"
    }
   },
   "outputs": [],
   "source": [
    "dataset['transcript_clean'] = dataset['transcript'].apply(lambda x: word_replace(x))"
   ]
  },
  {
   "cell_type": "code",
   "execution_count": 20,
   "id": "bf446e2c-6c4e-4969-967e-ae4df008de0d",
   "metadata": {
    "ExecuteTime": {
     "end_time": "2023-10-24T15:46:14.562240900Z",
     "start_time": "2023-10-24T15:46:14.416100200Z"
    }
   },
   "outputs": [],
   "source": [
    "dataset['transcript_clean'] = dataset['transcript_clean'].apply(lambda x: remove_special_sysmbols(x))"
   ]
  },
  {
   "cell_type": "code",
   "execution_count": 21,
   "id": "3a8e0e2d-93dc-4670-93bf-cc7e70155046",
   "metadata": {
    "ExecuteTime": {
     "end_time": "2023-10-24T15:46:14.825432700Z",
     "start_time": "2023-10-24T15:46:14.553032400Z"
    }
   },
   "outputs": [],
   "source": [
    "dataset['transcript_clean'] = dataset['transcript_clean'].apply(lambda x: replace_x_o(x))"
   ]
  },
  {
   "cell_type": "code",
   "execution_count": 22,
   "id": "2c51fb76-bd61-4edf-8ddf-436711bc7eb0",
   "metadata": {
    "ExecuteTime": {
     "end_time": "2023-10-24T15:46:14.840945600Z",
     "start_time": "2023-10-24T15:46:14.831947400Z"
    }
   },
   "outputs": [],
   "source": [
    "dataset['transcript_clean'] = dataset['transcript_clean'].apply(lambda x: nline_replace(x))"
   ]
  },
  {
   "cell_type": "code",
   "execution_count": 23,
   "id": "e0137e77-f41a-4b19-b804-3a7a27344c07",
   "metadata": {
    "ExecuteTime": {
     "end_time": "2023-10-24T15:46:15.050287100Z",
     "start_time": "2023-10-24T15:46:14.835958800Z"
    }
   },
   "outputs": [],
   "source": [
    "dataset['transcript_clean'] = dataset['transcript_clean'].apply(lambda x: remove_extra_white_spaces(x))"
   ]
  },
  {
   "cell_type": "code",
   "execution_count": 24,
   "id": "8ad0496b-350c-4243-a7bf-6e971bd0d3b3",
   "metadata": {
    "ExecuteTime": {
     "end_time": "2023-10-24T15:46:15.052290200Z",
     "start_time": "2023-10-24T15:46:15.049276100Z"
    }
   },
   "outputs": [],
   "source": [
    "dataset['length_transcript_clean'] = dataset['transcript_clean'].apply(lambda x: len(x))"
   ]
  },
  {
   "cell_type": "code",
   "execution_count": 25,
   "id": "f51d3f98-5a02-4a6b-aca0-ed8c55166b90",
   "metadata": {
    "ExecuteTime": {
     "end_time": "2023-10-24T15:46:15.076287100Z",
     "start_time": "2023-10-24T15:46:15.052290200Z"
    }
   },
   "outputs": [
    {
     "data": {
      "text/plain": "                                             transcript  label  length  \\\n0     저는 여행 다니는 것을 굉장히 좋아하는데요. 그래가지고 스페인이나 뭐 영국 유럽 아...      0    5773   \n1     반려동물을 키우고 계신가요? 혹시 안 키우고 계시다면은 어떤 반려동물을 한번 키워보...      0    5126   \n2      씨는 주로 어떤 음식 좋아하시나요? 저는 근데 가리는 게 거의 없어서 대부분 다 ...      0    4970   \n3      씨는 반려동물 어~ 좋 뭐 어떤 동물 좋아하세요? 저는 고양이를 정말 좋아하는데요...      0    5480   \n4     가장 좋아하는 음식이 무엇인가요? 저는 주로 먹는 거를 좋아해서 음식을 가리지 않고...      0    4141   \n...                                                 ...    ...     ...   \n2922  지금까지 사실확인서를 연락드렸습니다. 하고 있는데 이런 사건 때문에 내가 여쭤볼게 ...      1     825   \n2923  연료 데이는 사건 때문에 연락 드렸는데 혹시 김명철씨 가십니까 모르시고 아는 사람도...      1     659   \n2924  4장 4절 일어났습니까? 장소 잡고 님께서는 42세 남성 김동술 알고 계십니까? 아...      1    1711   \n2925  네\\n네 여보세요\\n뭐 어디세요?\\n아 네 안녕하세요 저희 그 하나캐피탈에서 연락을...      1     432   \n2926  통장명이 (삐-) 계좌 맞구요? 그리고 통장 발급 일은 2017년 3월 14일입니다...      1     357   \n\n                                       transcript_clean  \\\n0     저는 여행 다니는 것을 굉장히 좋아하는데요 그래가지고 스페인이나 뭐 영국 유럽 아니...   \n1     반려동물을 키우고 계신가요 혹시 안 키우고 계시다면은 어떤 반려동물을 한번 키워보고...   \n2      씨는 주로 어떤 음식 좋아하시나요 저는 근데 가리는 게 거의 없어서 대부분 다 잘...   \n3      씨는 반려동물 어 좋 뭐 어떤 동물 좋아하세요 저는 고양이를 정말 좋아하는데요 정...   \n4     가장 좋아하는 음식이 무엇인가요 저는 주로 먹는 거를 좋아해서 음식을 가리지 않고 ...   \n...                                                 ...   \n2922  지금까지 사실확인서를 연락드렸습니다 하고 있는데 이런 사건 때문에 내가 여쭤볼게 있...   \n2923  연료 데이는 사건 때문에 연락 드렸는데 혹시 김명철씨 가십니까 모르시고 아는 사람도...   \n2924  4장 4절 일어났습니까 장소 잡고 님께서는 42세 남성 김동술 알고 계십니까 아니요...   \n2925  네 네 여보세요 뭐 어디세요 아 네 안녕하세요 저희 그 하나캐피탈에서 연락을 드렸습...   \n2926  통장명이 삐 계좌 맞구요 그리고 통장 발급 일은 2017년 3월 14일입니다 작년 ...   \n\n      length_transcript_clean  \n0                        5629  \n1                        5024  \n2                        4877  \n3                        5383  \n4                        4057  \n...                       ...  \n2922                      801  \n2923                      651  \n2924                     1669  \n2925                      424  \n2926                      336  \n\n[2927 rows x 5 columns]",
      "text/html": "<div>\n<style scoped>\n    .dataframe tbody tr th:only-of-type {\n        vertical-align: middle;\n    }\n\n    .dataframe tbody tr th {\n        vertical-align: top;\n    }\n\n    .dataframe thead th {\n        text-align: right;\n    }\n</style>\n<table border=\"1\" class=\"dataframe\">\n  <thead>\n    <tr style=\"text-align: right;\">\n      <th></th>\n      <th>transcript</th>\n      <th>label</th>\n      <th>length</th>\n      <th>transcript_clean</th>\n      <th>length_transcript_clean</th>\n    </tr>\n  </thead>\n  <tbody>\n    <tr>\n      <th>0</th>\n      <td>저는 여행 다니는 것을 굉장히 좋아하는데요. 그래가지고 스페인이나 뭐 영국 유럽 아...</td>\n      <td>0</td>\n      <td>5773</td>\n      <td>저는 여행 다니는 것을 굉장히 좋아하는데요 그래가지고 스페인이나 뭐 영국 유럽 아니...</td>\n      <td>5629</td>\n    </tr>\n    <tr>\n      <th>1</th>\n      <td>반려동물을 키우고 계신가요? 혹시 안 키우고 계시다면은 어떤 반려동물을 한번 키워보...</td>\n      <td>0</td>\n      <td>5126</td>\n      <td>반려동물을 키우고 계신가요 혹시 안 키우고 계시다면은 어떤 반려동물을 한번 키워보고...</td>\n      <td>5024</td>\n    </tr>\n    <tr>\n      <th>2</th>\n      <td>씨는 주로 어떤 음식 좋아하시나요? 저는 근데 가리는 게 거의 없어서 대부분 다 ...</td>\n      <td>0</td>\n      <td>4970</td>\n      <td>씨는 주로 어떤 음식 좋아하시나요 저는 근데 가리는 게 거의 없어서 대부분 다 잘...</td>\n      <td>4877</td>\n    </tr>\n    <tr>\n      <th>3</th>\n      <td>씨는 반려동물 어~ 좋 뭐 어떤 동물 좋아하세요? 저는 고양이를 정말 좋아하는데요...</td>\n      <td>0</td>\n      <td>5480</td>\n      <td>씨는 반려동물 어 좋 뭐 어떤 동물 좋아하세요 저는 고양이를 정말 좋아하는데요 정...</td>\n      <td>5383</td>\n    </tr>\n    <tr>\n      <th>4</th>\n      <td>가장 좋아하는 음식이 무엇인가요? 저는 주로 먹는 거를 좋아해서 음식을 가리지 않고...</td>\n      <td>0</td>\n      <td>4141</td>\n      <td>가장 좋아하는 음식이 무엇인가요 저는 주로 먹는 거를 좋아해서 음식을 가리지 않고 ...</td>\n      <td>4057</td>\n    </tr>\n    <tr>\n      <th>...</th>\n      <td>...</td>\n      <td>...</td>\n      <td>...</td>\n      <td>...</td>\n      <td>...</td>\n    </tr>\n    <tr>\n      <th>2922</th>\n      <td>지금까지 사실확인서를 연락드렸습니다. 하고 있는데 이런 사건 때문에 내가 여쭤볼게 ...</td>\n      <td>1</td>\n      <td>825</td>\n      <td>지금까지 사실확인서를 연락드렸습니다 하고 있는데 이런 사건 때문에 내가 여쭤볼게 있...</td>\n      <td>801</td>\n    </tr>\n    <tr>\n      <th>2923</th>\n      <td>연료 데이는 사건 때문에 연락 드렸는데 혹시 김명철씨 가십니까 모르시고 아는 사람도...</td>\n      <td>1</td>\n      <td>659</td>\n      <td>연료 데이는 사건 때문에 연락 드렸는데 혹시 김명철씨 가십니까 모르시고 아는 사람도...</td>\n      <td>651</td>\n    </tr>\n    <tr>\n      <th>2924</th>\n      <td>4장 4절 일어났습니까? 장소 잡고 님께서는 42세 남성 김동술 알고 계십니까? 아...</td>\n      <td>1</td>\n      <td>1711</td>\n      <td>4장 4절 일어났습니까 장소 잡고 님께서는 42세 남성 김동술 알고 계십니까 아니요...</td>\n      <td>1669</td>\n    </tr>\n    <tr>\n      <th>2925</th>\n      <td>네\\n네 여보세요\\n뭐 어디세요?\\n아 네 안녕하세요 저희 그 하나캐피탈에서 연락을...</td>\n      <td>1</td>\n      <td>432</td>\n      <td>네 네 여보세요 뭐 어디세요 아 네 안녕하세요 저희 그 하나캐피탈에서 연락을 드렸습...</td>\n      <td>424</td>\n    </tr>\n    <tr>\n      <th>2926</th>\n      <td>통장명이 (삐-) 계좌 맞구요? 그리고 통장 발급 일은 2017년 3월 14일입니다...</td>\n      <td>1</td>\n      <td>357</td>\n      <td>통장명이 삐 계좌 맞구요 그리고 통장 발급 일은 2017년 3월 14일입니다 작년 ...</td>\n      <td>336</td>\n    </tr>\n  </tbody>\n</table>\n<p>2927 rows × 5 columns</p>\n</div>"
     },
     "execution_count": 25,
     "metadata": {},
     "output_type": "execute_result"
    }
   ],
   "source": [
    "dataset"
   ]
  },
  {
   "cell_type": "code",
   "execution_count": 26,
   "id": "77bc29fe-2549-4971-bd50-0da4a85ace18",
   "metadata": {
    "ExecuteTime": {
     "end_time": "2023-10-24T15:46:16.419921700Z",
     "start_time": "2023-10-24T15:46:15.071288800Z"
    }
   },
   "outputs": [],
   "source": [
    "# Save the cleansed dataset\n",
    "dataset.to_csv(\"KorCCVi_v2_cleaned_1.csv\")"
   ]
  },
  {
   "cell_type": "markdown",
   "id": "000f22cb-a076-4a99-a37a-91796cfaeb2a",
   "metadata": {},
   "source": [
    "## Remove the Korean stop words"
   ]
  },
  {
   "cell_type": "code",
   "execution_count": 27,
   "id": "7bb18c5b-2c18-448e-967f-74d326396ae3",
   "metadata": {
    "ExecuteTime": {
     "end_time": "2023-10-24T15:46:16.434833800Z",
     "start_time": "2023-10-24T15:46:16.422697900Z"
    }
   },
   "outputs": [],
   "source": [
    "# from pandas import DataFrame \n",
    "# transcript_clean=DataFrame(dataset['transcript_clean'])"
   ]
  },
  {
   "cell_type": "code",
   "execution_count": 28,
   "id": "be6fe4b0-40c5-4482-92b7-c245cd0800fb",
   "metadata": {
    "ExecuteTime": {
     "end_time": "2023-10-24T15:46:16.439831700Z",
     "start_time": "2023-10-24T15:46:16.426634600Z"
    }
   },
   "outputs": [
    {
     "data": {
      "text/plain": "                                          transcript  label  length  \\\n0  저는 여행 다니는 것을 굉장히 좋아하는데요. 그래가지고 스페인이나 뭐 영국 유럽 아...      0    5773   \n1  반려동물을 키우고 계신가요? 혹시 안 키우고 계시다면은 어떤 반려동물을 한번 키워보...      0    5126   \n2   씨는 주로 어떤 음식 좋아하시나요? 저는 근데 가리는 게 거의 없어서 대부분 다 ...      0    4970   \n3   씨는 반려동물 어~ 좋 뭐 어떤 동물 좋아하세요? 저는 고양이를 정말 좋아하는데요...      0    5480   \n4  가장 좋아하는 음식이 무엇인가요? 저는 주로 먹는 거를 좋아해서 음식을 가리지 않고...      0    4141   \n\n                                    transcript_clean  length_transcript_clean  \n0  저는 여행 다니는 것을 굉장히 좋아하는데요 그래가지고 스페인이나 뭐 영국 유럽 아니...                     5629  \n1  반려동물을 키우고 계신가요 혹시 안 키우고 계시다면은 어떤 반려동물을 한번 키워보고...                     5024  \n2   씨는 주로 어떤 음식 좋아하시나요 저는 근데 가리는 게 거의 없어서 대부분 다 잘...                     4877  \n3   씨는 반려동물 어 좋 뭐 어떤 동물 좋아하세요 저는 고양이를 정말 좋아하는데요 정...                     5383  \n4  가장 좋아하는 음식이 무엇인가요 저는 주로 먹는 거를 좋아해서 음식을 가리지 않고 ...                     4057  ",
      "text/html": "<div>\n<style scoped>\n    .dataframe tbody tr th:only-of-type {\n        vertical-align: middle;\n    }\n\n    .dataframe tbody tr th {\n        vertical-align: top;\n    }\n\n    .dataframe thead th {\n        text-align: right;\n    }\n</style>\n<table border=\"1\" class=\"dataframe\">\n  <thead>\n    <tr style=\"text-align: right;\">\n      <th></th>\n      <th>transcript</th>\n      <th>label</th>\n      <th>length</th>\n      <th>transcript_clean</th>\n      <th>length_transcript_clean</th>\n    </tr>\n  </thead>\n  <tbody>\n    <tr>\n      <th>0</th>\n      <td>저는 여행 다니는 것을 굉장히 좋아하는데요. 그래가지고 스페인이나 뭐 영국 유럽 아...</td>\n      <td>0</td>\n      <td>5773</td>\n      <td>저는 여행 다니는 것을 굉장히 좋아하는데요 그래가지고 스페인이나 뭐 영국 유럽 아니...</td>\n      <td>5629</td>\n    </tr>\n    <tr>\n      <th>1</th>\n      <td>반려동물을 키우고 계신가요? 혹시 안 키우고 계시다면은 어떤 반려동물을 한번 키워보...</td>\n      <td>0</td>\n      <td>5126</td>\n      <td>반려동물을 키우고 계신가요 혹시 안 키우고 계시다면은 어떤 반려동물을 한번 키워보고...</td>\n      <td>5024</td>\n    </tr>\n    <tr>\n      <th>2</th>\n      <td>씨는 주로 어떤 음식 좋아하시나요? 저는 근데 가리는 게 거의 없어서 대부분 다 ...</td>\n      <td>0</td>\n      <td>4970</td>\n      <td>씨는 주로 어떤 음식 좋아하시나요 저는 근데 가리는 게 거의 없어서 대부분 다 잘...</td>\n      <td>4877</td>\n    </tr>\n    <tr>\n      <th>3</th>\n      <td>씨는 반려동물 어~ 좋 뭐 어떤 동물 좋아하세요? 저는 고양이를 정말 좋아하는데요...</td>\n      <td>0</td>\n      <td>5480</td>\n      <td>씨는 반려동물 어 좋 뭐 어떤 동물 좋아하세요 저는 고양이를 정말 좋아하는데요 정...</td>\n      <td>5383</td>\n    </tr>\n    <tr>\n      <th>4</th>\n      <td>가장 좋아하는 음식이 무엇인가요? 저는 주로 먹는 거를 좋아해서 음식을 가리지 않고...</td>\n      <td>0</td>\n      <td>4141</td>\n      <td>가장 좋아하는 음식이 무엇인가요 저는 주로 먹는 거를 좋아해서 음식을 가리지 않고 ...</td>\n      <td>4057</td>\n    </tr>\n  </tbody>\n</table>\n</div>"
     },
     "execution_count": 28,
     "metadata": {},
     "output_type": "execute_result"
    }
   ],
   "source": [
    "# transcript_clean\n",
    "dataset.head()"
   ]
  },
  {
   "cell_type": "code",
   "execution_count": 29,
   "id": "deee4ebb-2c32-4bca-ac53-5d34ef13b9e9",
   "metadata": {
    "ExecuteTime": {
     "end_time": "2023-10-24T15:46:32.618542700Z",
     "start_time": "2023-10-24T15:46:16.438832400Z"
    }
   },
   "outputs": [],
   "source": [
    "from konlpy.tag import Mecab\n",
    "mecab = Mecab()\n",
    "\n",
    "transcript_clean_doc = [(mecab.morphs(x)) for x in dataset['transcript_clean']]"
   ]
  },
  {
   "cell_type": "code",
   "execution_count": 30,
   "outputs": [],
   "source": [
    "## remove the stop word\n",
    "stopwords = [\"을\", \"를\", \"이\", \"가\", \"ㅡ\", \"은\", \"는\", \"XXX\", \"xxx\", \"어요\", \"아니\", \"입니다\", \"에서\", \"니까\", \"으로\",\n",
    "             \"근데\", \"습니다\", \"습니까\", \"저희\", \"합니다\", \"하고\", \"싶어요\", \"있는\", \"있습니다\", \"싶습니다\", \"그냥\",\n",
    "             \"고요\", \"에요\", \"예요\", \"으시\", \"그래서\"]\n",
    "\n",
    "# open and read the file containing comprehenisive stopwords \n",
    "# stopwords_all = open(\"stopwords-ko.txt\").readlines()\n",
    "\n",
    "# function to remove the stop word from the train and test dataframe\n",
    "def get_model_input(_words):\n",
    "    global stopwords\n",
    "    _words = [x for x in _words if x[0] not in stopwords]\n",
    "    _words = [x for x in _words if x[:-1] not in stopwords]\n",
    "\n",
    "    for i in range(len(_words)-1):\n",
    "        yield _words[i]"
   ],
   "metadata": {
    "collapsed": false,
    "ExecuteTime": {
     "start_time": "2023-10-24T15:46:32.623033400Z"
    }
   },
   "id": "f0e59a12-7fab-41dd-a428-4aceed38d203"
  },
  {
   "cell_type": "code",
   "execution_count": 31,
   "outputs": [],
   "source": [
    "def get_corpus(df):\n",
    "    corpus = []\n",
    "    for lwords in df:    \n",
    "        temp = []\n",
    "        for x in get_model_input(lwords):\n",
    "            if len(x) != 1:\n",
    "                temp.append(\"{}\".format(x))\n",
    "        corpus.append(\" \".join(temp))\n",
    "    return corpus        "
   ],
   "metadata": {
    "collapsed": false,
    "ExecuteTime": {
     "start_time": "2023-10-24T15:46:32.626043600Z"
    }
   },
   "id": "78d68c55-eb2b-4c47-b806-66ffceb8e070"
  },
  {
   "cell_type": "code",
   "execution_count": 32,
   "outputs": [],
   "source": [
    "corpus = get_corpus(transcript_clean_doc)"
   ],
   "metadata": {
    "collapsed": false,
    "ExecuteTime": {
     "start_time": "2023-10-24T15:46:32.682755900Z"
    }
   },
   "id": "61f2d189-5626-4ebc-bbbc-2609f72e9635"
  },
  {
   "cell_type": "code",
   "execution_count": 33,
   "outputs": [
    {
     "data": {
      "text/plain": "                                          transcript  label  length  \\\n0  저는 여행 다니는 것을 굉장히 좋아하는데요. 그래가지고 스페인이나 뭐 영국 유럽 아...      0    5773   \n1  반려동물을 키우고 계신가요? 혹시 안 키우고 계시다면은 어떤 반려동물을 한번 키워보...      0    5126   \n2   씨는 주로 어떤 음식 좋아하시나요? 저는 근데 가리는 게 거의 없어서 대부분 다 ...      0    4970   \n3   씨는 반려동물 어~ 좋 뭐 어떤 동물 좋아하세요? 저는 고양이를 정말 좋아하는데요...      0    5480   \n4  가장 좋아하는 음식이 무엇인가요? 저는 주로 먹는 거를 좋아해서 음식을 가리지 않고...      0    4141   \n\n                                    transcript_clean  length_transcript_clean  \\\n0  저는 여행 다니는 것을 굉장히 좋아하는데요 그래가지고 스페인이나 뭐 영국 유럽 아니...                     5629   \n1  반려동물을 키우고 계신가요 혹시 안 키우고 계시다면은 어떤 반려동물을 한번 키워보고...                     5024   \n2   씨는 주로 어떤 음식 좋아하시나요 저는 근데 가리는 게 거의 없어서 대부분 다 잘...                     4877   \n3   씨는 반려동물 어 좋 뭐 어떤 동물 좋아하세요 저는 고양이를 정말 좋아하는데요 정...                     5383   \n4  가장 좋아하는 음식이 무엇인가요 저는 주로 먹는 거를 좋아해서 음식을 가리지 않고 ...                     4057   \n\n                                              corpus  \n0  여행 다니 굉장히 그래 스페인 영국 유럽 아니 국내 에서 강릉 전주 많이 다녔 혹시...  \n1  반려 동물 키우 계신가요 혹시 키우 계시 다면은 어떤 반려 동물 한번 키워 생각 으...  \n2  주로 어떤 음식 나요 근데 거의 어서 대부분 인데 중식 평소 너무 기름진 니까 매운...  \n3  반려 동물 어떤 동물 세요 고양이 정말 정말 사랑 정도 진짜 유튜브 항상 고양이 채...  \n4  음식 무엇 인가요 주로 좋아해서 음식 매운 음식 특히 합니다 그래서 떡볶이 카레 매...  ",
      "text/html": "<div>\n<style scoped>\n    .dataframe tbody tr th:only-of-type {\n        vertical-align: middle;\n    }\n\n    .dataframe tbody tr th {\n        vertical-align: top;\n    }\n\n    .dataframe thead th {\n        text-align: right;\n    }\n</style>\n<table border=\"1\" class=\"dataframe\">\n  <thead>\n    <tr style=\"text-align: right;\">\n      <th></th>\n      <th>transcript</th>\n      <th>label</th>\n      <th>length</th>\n      <th>transcript_clean</th>\n      <th>length_transcript_clean</th>\n      <th>corpus</th>\n    </tr>\n  </thead>\n  <tbody>\n    <tr>\n      <th>0</th>\n      <td>저는 여행 다니는 것을 굉장히 좋아하는데요. 그래가지고 스페인이나 뭐 영국 유럽 아...</td>\n      <td>0</td>\n      <td>5773</td>\n      <td>저는 여행 다니는 것을 굉장히 좋아하는데요 그래가지고 스페인이나 뭐 영국 유럽 아니...</td>\n      <td>5629</td>\n      <td>여행 다니 굉장히 그래 스페인 영국 유럽 아니 국내 에서 강릉 전주 많이 다녔 혹시...</td>\n    </tr>\n    <tr>\n      <th>1</th>\n      <td>반려동물을 키우고 계신가요? 혹시 안 키우고 계시다면은 어떤 반려동물을 한번 키워보...</td>\n      <td>0</td>\n      <td>5126</td>\n      <td>반려동물을 키우고 계신가요 혹시 안 키우고 계시다면은 어떤 반려동물을 한번 키워보고...</td>\n      <td>5024</td>\n      <td>반려 동물 키우 계신가요 혹시 키우 계시 다면은 어떤 반려 동물 한번 키워 생각 으...</td>\n    </tr>\n    <tr>\n      <th>2</th>\n      <td>씨는 주로 어떤 음식 좋아하시나요? 저는 근데 가리는 게 거의 없어서 대부분 다 ...</td>\n      <td>0</td>\n      <td>4970</td>\n      <td>씨는 주로 어떤 음식 좋아하시나요 저는 근데 가리는 게 거의 없어서 대부분 다 잘...</td>\n      <td>4877</td>\n      <td>주로 어떤 음식 나요 근데 거의 어서 대부분 인데 중식 평소 너무 기름진 니까 매운...</td>\n    </tr>\n    <tr>\n      <th>3</th>\n      <td>씨는 반려동물 어~ 좋 뭐 어떤 동물 좋아하세요? 저는 고양이를 정말 좋아하는데요...</td>\n      <td>0</td>\n      <td>5480</td>\n      <td>씨는 반려동물 어 좋 뭐 어떤 동물 좋아하세요 저는 고양이를 정말 좋아하는데요 정...</td>\n      <td>5383</td>\n      <td>반려 동물 어떤 동물 세요 고양이 정말 정말 사랑 정도 진짜 유튜브 항상 고양이 채...</td>\n    </tr>\n    <tr>\n      <th>4</th>\n      <td>가장 좋아하는 음식이 무엇인가요? 저는 주로 먹는 거를 좋아해서 음식을 가리지 않고...</td>\n      <td>0</td>\n      <td>4141</td>\n      <td>가장 좋아하는 음식이 무엇인가요 저는 주로 먹는 거를 좋아해서 음식을 가리지 않고 ...</td>\n      <td>4057</td>\n      <td>음식 무엇 인가요 주로 좋아해서 음식 매운 음식 특히 합니다 그래서 떡볶이 카레 매...</td>\n    </tr>\n  </tbody>\n</table>\n</div>"
     },
     "execution_count": 33,
     "metadata": {},
     "output_type": "execute_result"
    }
   ],
   "source": [
    "#adding new columnto datafram\n",
    "dataset['corpus'] = corpus\n",
    "dataset.head()"
   ],
   "metadata": {
    "collapsed": false,
    "ExecuteTime": {
     "start_time": "2023-10-24T15:46:34.899640500Z"
    }
   },
   "id": "09ac3719-0c78-468b-92aa-53194444b92d"
  },
  {
   "cell_type": "code",
   "execution_count": 34,
   "outputs": [
    {
     "data": {
      "text/plain": "                                          transcript  label  length  \\\n0  저는 여행 다니는 것을 굉장히 좋아하는데요. 그래가지고 스페인이나 뭐 영국 유럽 아...      0    5773   \n1  반려동물을 키우고 계신가요? 혹시 안 키우고 계시다면은 어떤 반려동물을 한번 키워보...      0    5126   \n2   씨는 주로 어떤 음식 좋아하시나요? 저는 근데 가리는 게 거의 없어서 대부분 다 ...      0    4970   \n3   씨는 반려동물 어~ 좋 뭐 어떤 동물 좋아하세요? 저는 고양이를 정말 좋아하는데요...      0    5480   \n4  가장 좋아하는 음식이 무엇인가요? 저는 주로 먹는 거를 좋아해서 음식을 가리지 않고...      0    4141   \n\n                                    transcript_clean  length_transcript_clean  \\\n0  저는 여행 다니는 것을 굉장히 좋아하는데요 그래가지고 스페인이나 뭐 영국 유럽 아니...                     5629   \n1  반려동물을 키우고 계신가요 혹시 안 키우고 계시다면은 어떤 반려동물을 한번 키워보고...                     5024   \n2   씨는 주로 어떤 음식 좋아하시나요 저는 근데 가리는 게 거의 없어서 대부분 다 잘...                     4877   \n3   씨는 반려동물 어 좋 뭐 어떤 동물 좋아하세요 저는 고양이를 정말 좋아하는데요 정...                     5383   \n4  가장 좋아하는 음식이 무엇인가요 저는 주로 먹는 거를 좋아해서 음식을 가리지 않고 ...                     4057   \n\n                                              corpus  \n0  여행 다니 굉장히 그래 스페인 영국 유럽 아니 국내 에서 강릉 전주 많이 다녔 혹시...  \n1  반려 동물 키우 계신가요 혹시 키우 계시 다면은 어떤 반려 동물 한번 키워 생각 으...  \n2  주로 어떤 음식 나요 근데 거의 어서 대부분 인데 중식 평소 너무 기름진 니까 매운...  \n3  반려 동물 어떤 동물 세요 고양이 정말 정말 사랑 정도 진짜 유튜브 항상 고양이 채...  \n4  음식 무엇 인가요 주로 좋아해서 음식 매운 음식 특히 합니다 그래서 떡볶이 카레 매...  ",
      "text/html": "<div>\n<style scoped>\n    .dataframe tbody tr th:only-of-type {\n        vertical-align: middle;\n    }\n\n    .dataframe tbody tr th {\n        vertical-align: top;\n    }\n\n    .dataframe thead th {\n        text-align: right;\n    }\n</style>\n<table border=\"1\" class=\"dataframe\">\n  <thead>\n    <tr style=\"text-align: right;\">\n      <th></th>\n      <th>transcript</th>\n      <th>label</th>\n      <th>length</th>\n      <th>transcript_clean</th>\n      <th>length_transcript_clean</th>\n      <th>corpus</th>\n    </tr>\n  </thead>\n  <tbody>\n    <tr>\n      <th>0</th>\n      <td>저는 여행 다니는 것을 굉장히 좋아하는데요. 그래가지고 스페인이나 뭐 영국 유럽 아...</td>\n      <td>0</td>\n      <td>5773</td>\n      <td>저는 여행 다니는 것을 굉장히 좋아하는데요 그래가지고 스페인이나 뭐 영국 유럽 아니...</td>\n      <td>5629</td>\n      <td>여행 다니 굉장히 그래 스페인 영국 유럽 아니 국내 에서 강릉 전주 많이 다녔 혹시...</td>\n    </tr>\n    <tr>\n      <th>1</th>\n      <td>반려동물을 키우고 계신가요? 혹시 안 키우고 계시다면은 어떤 반려동물을 한번 키워보...</td>\n      <td>0</td>\n      <td>5126</td>\n      <td>반려동물을 키우고 계신가요 혹시 안 키우고 계시다면은 어떤 반려동물을 한번 키워보고...</td>\n      <td>5024</td>\n      <td>반려 동물 키우 계신가요 혹시 키우 계시 다면은 어떤 반려 동물 한번 키워 생각 으...</td>\n    </tr>\n    <tr>\n      <th>2</th>\n      <td>씨는 주로 어떤 음식 좋아하시나요? 저는 근데 가리는 게 거의 없어서 대부분 다 ...</td>\n      <td>0</td>\n      <td>4970</td>\n      <td>씨는 주로 어떤 음식 좋아하시나요 저는 근데 가리는 게 거의 없어서 대부분 다 잘...</td>\n      <td>4877</td>\n      <td>주로 어떤 음식 나요 근데 거의 어서 대부분 인데 중식 평소 너무 기름진 니까 매운...</td>\n    </tr>\n    <tr>\n      <th>3</th>\n      <td>씨는 반려동물 어~ 좋 뭐 어떤 동물 좋아하세요? 저는 고양이를 정말 좋아하는데요...</td>\n      <td>0</td>\n      <td>5480</td>\n      <td>씨는 반려동물 어 좋 뭐 어떤 동물 좋아하세요 저는 고양이를 정말 좋아하는데요 정...</td>\n      <td>5383</td>\n      <td>반려 동물 어떤 동물 세요 고양이 정말 정말 사랑 정도 진짜 유튜브 항상 고양이 채...</td>\n    </tr>\n    <tr>\n      <th>4</th>\n      <td>가장 좋아하는 음식이 무엇인가요? 저는 주로 먹는 거를 좋아해서 음식을 가리지 않고...</td>\n      <td>0</td>\n      <td>4141</td>\n      <td>가장 좋아하는 음식이 무엇인가요 저는 주로 먹는 거를 좋아해서 음식을 가리지 않고 ...</td>\n      <td>4057</td>\n      <td>음식 무엇 인가요 주로 좋아해서 음식 매운 음식 특히 합니다 그래서 떡볶이 카레 매...</td>\n    </tr>\n  </tbody>\n</table>\n</div>"
     },
     "execution_count": 34,
     "metadata": {},
     "output_type": "execute_result"
    }
   ],
   "source": [
    "#adding new column\n",
    "dataset['corpus'] = corpus\n",
    "dataset.head()"
   ],
   "metadata": {
    "collapsed": false,
    "ExecuteTime": {
     "start_time": "2023-10-24T15:46:34.905170200Z"
    }
   },
   "id": "2229ff6f-2427-4959-bbca-f23592b1c46e"
  },
  {
   "cell_type": "code",
   "execution_count": 35,
   "outputs": [
    {
     "data": {
      "text/plain": "                                          transcript  label  length  \\\n0  저는 여행 다니는 것을 굉장히 좋아하는데요. 그래가지고 스페인이나 뭐 영국 유럽 아...      0    5773   \n1  반려동물을 키우고 계신가요? 혹시 안 키우고 계시다면은 어떤 반려동물을 한번 키워보...      0    5126   \n2   씨는 주로 어떤 음식 좋아하시나요? 저는 근데 가리는 게 거의 없어서 대부분 다 ...      0    4970   \n3   씨는 반려동물 어~ 좋 뭐 어떤 동물 좋아하세요? 저는 고양이를 정말 좋아하는데요...      0    5480   \n4  가장 좋아하는 음식이 무엇인가요? 저는 주로 먹는 거를 좋아해서 음식을 가리지 않고...      0    4141   \n\n                                    transcript_clean  length_transcript_clean  \\\n0  저는 여행 다니는 것을 굉장히 좋아하는데요 그래가지고 스페인이나 뭐 영국 유럽 아니...                     5629   \n1  반려동물을 키우고 계신가요 혹시 안 키우고 계시다면은 어떤 반려동물을 한번 키워보고...                     5024   \n2   씨는 주로 어떤 음식 좋아하시나요 저는 근데 가리는 게 거의 없어서 대부분 다 잘...                     4877   \n3   씨는 반려동물 어 좋 뭐 어떤 동물 좋아하세요 저는 고양이를 정말 좋아하는데요 정...                     5383   \n4  가장 좋아하는 음식이 무엇인가요 저는 주로 먹는 거를 좋아해서 음식을 가리지 않고 ...                     4057   \n\n                                              corpus  length_corpus  \n0  여행 다니 굉장히 그래 스페인 영국 유럽 아니 국내 에서 강릉 전주 많이 다녔 혹시...           3388  \n1  반려 동물 키우 계신가요 혹시 키우 계시 다면은 어떤 반려 동물 한번 키워 생각 으...           3087  \n2  주로 어떤 음식 나요 근데 거의 어서 대부분 인데 중식 평소 너무 기름진 니까 매운...           2836  \n3  반려 동물 어떤 동물 세요 고양이 정말 정말 사랑 정도 진짜 유튜브 항상 고양이 채...           2998  \n4  음식 무엇 인가요 주로 좋아해서 음식 매운 음식 특히 합니다 그래서 떡볶이 카레 매...           2304  ",
      "text/html": "<div>\n<style scoped>\n    .dataframe tbody tr th:only-of-type {\n        vertical-align: middle;\n    }\n\n    .dataframe tbody tr th {\n        vertical-align: top;\n    }\n\n    .dataframe thead th {\n        text-align: right;\n    }\n</style>\n<table border=\"1\" class=\"dataframe\">\n  <thead>\n    <tr style=\"text-align: right;\">\n      <th></th>\n      <th>transcript</th>\n      <th>label</th>\n      <th>length</th>\n      <th>transcript_clean</th>\n      <th>length_transcript_clean</th>\n      <th>corpus</th>\n      <th>length_corpus</th>\n    </tr>\n  </thead>\n  <tbody>\n    <tr>\n      <th>0</th>\n      <td>저는 여행 다니는 것을 굉장히 좋아하는데요. 그래가지고 스페인이나 뭐 영국 유럽 아...</td>\n      <td>0</td>\n      <td>5773</td>\n      <td>저는 여행 다니는 것을 굉장히 좋아하는데요 그래가지고 스페인이나 뭐 영국 유럽 아니...</td>\n      <td>5629</td>\n      <td>여행 다니 굉장히 그래 스페인 영국 유럽 아니 국내 에서 강릉 전주 많이 다녔 혹시...</td>\n      <td>3388</td>\n    </tr>\n    <tr>\n      <th>1</th>\n      <td>반려동물을 키우고 계신가요? 혹시 안 키우고 계시다면은 어떤 반려동물을 한번 키워보...</td>\n      <td>0</td>\n      <td>5126</td>\n      <td>반려동물을 키우고 계신가요 혹시 안 키우고 계시다면은 어떤 반려동물을 한번 키워보고...</td>\n      <td>5024</td>\n      <td>반려 동물 키우 계신가요 혹시 키우 계시 다면은 어떤 반려 동물 한번 키워 생각 으...</td>\n      <td>3087</td>\n    </tr>\n    <tr>\n      <th>2</th>\n      <td>씨는 주로 어떤 음식 좋아하시나요? 저는 근데 가리는 게 거의 없어서 대부분 다 ...</td>\n      <td>0</td>\n      <td>4970</td>\n      <td>씨는 주로 어떤 음식 좋아하시나요 저는 근데 가리는 게 거의 없어서 대부분 다 잘...</td>\n      <td>4877</td>\n      <td>주로 어떤 음식 나요 근데 거의 어서 대부분 인데 중식 평소 너무 기름진 니까 매운...</td>\n      <td>2836</td>\n    </tr>\n    <tr>\n      <th>3</th>\n      <td>씨는 반려동물 어~ 좋 뭐 어떤 동물 좋아하세요? 저는 고양이를 정말 좋아하는데요...</td>\n      <td>0</td>\n      <td>5480</td>\n      <td>씨는 반려동물 어 좋 뭐 어떤 동물 좋아하세요 저는 고양이를 정말 좋아하는데요 정...</td>\n      <td>5383</td>\n      <td>반려 동물 어떤 동물 세요 고양이 정말 정말 사랑 정도 진짜 유튜브 항상 고양이 채...</td>\n      <td>2998</td>\n    </tr>\n    <tr>\n      <th>4</th>\n      <td>가장 좋아하는 음식이 무엇인가요? 저는 주로 먹는 거를 좋아해서 음식을 가리지 않고...</td>\n      <td>0</td>\n      <td>4141</td>\n      <td>가장 좋아하는 음식이 무엇인가요 저는 주로 먹는 거를 좋아해서 음식을 가리지 않고 ...</td>\n      <td>4057</td>\n      <td>음식 무엇 인가요 주로 좋아해서 음식 매운 음식 특히 합니다 그래서 떡볶이 카레 매...</td>\n      <td>2304</td>\n    </tr>\n  </tbody>\n</table>\n</div>"
     },
     "execution_count": 35,
     "metadata": {},
     "output_type": "execute_result"
    }
   ],
   "source": [
    "dataset['length_corpus'] = dataset['corpus'].apply(lambda x: len(x))\n",
    "dataset.head()"
   ],
   "metadata": {
    "collapsed": false,
    "ExecuteTime": {
     "start_time": "2023-10-24T15:46:34.922188300Z"
    }
   },
   "id": "ecddf342-6ba9-4628-8f24-f669888e3562"
  },
  {
   "cell_type": "code",
   "execution_count": 36,
   "outputs": [],
   "source": [
    "# Save the final cleansed dataset\n",
    "dataset.to_csv(\"KorCCVi_v2_cleaned_2.csv\")"
   ],
   "metadata": {
    "collapsed": false,
    "ExecuteTime": {
     "start_time": "2023-10-24T15:46:34.936196300Z"
    }
   },
   "id": "92e7ef84-4e67-4e49-864c-7ede6699c53d"
  },
  {
   "cell_type": "code",
   "execution_count": 37,
   "outputs": [
    {
     "data": {
      "text/plain": "<Figure size 2400x600 with 1 Axes>",
      "image/png": "[encoded data removed]"
     },
     "metadata": {},
     "output_type": "display_data"
    },
    {
     "data": {
      "text/plain": "<Figure size 2400x600 with 1 Axes>",
      "image/png": "[encoded data removed]"
     },
     "metadata": {},
     "output_type": "display_data"
    }
   ],
   "source": [
    "# wordcloud =False\n",
    "plt.figure(figsize = (24, 6))\n",
    "wc = WordCloud(min_font_size = 10, background_color = 'lightblue')\n",
    "spam_wc = wc.generate(dataset[dataset['label'] == 1]['corpus'].str.cat(sep = \" \"))\n",
    "plt.xticks([])\n",
    "plt.yticks([])\n",
    "plt.imshow(spam_wc)\n",
    "\n",
    "plt.figure(figsize = (24, 6))\n",
    "wc = WordCloud(min_font_size = 10, background_color = 'lightblue')\n",
    "ham_wc = wc.generate(dataset[dataset['label'] == 0]['corpus'].str.cat(sep = \" \"))\n",
    "plt.xticks([])\n",
    "plt.yticks([])\n",
    "plt.imshow(ham_wc);"
   ],
   "metadata": {
    "collapsed": false,
    "ExecuteTime": {
     "start_time": "2023-10-24T15:46:36.243172600Z"
    }
   },
   "id": "97a7ff02-65ac-4009-90b4-0133a164fcd4"
  },
  {
   "cell_type": "code",
   "execution_count": 39,
   "id": "1bec051c-611b-432c-a654-fcb255ac14fa",
   "metadata": {
    "ExecuteTime": {
     "end_time": "2023-10-24T15:47:13.813306200Z",
     "start_time": "2023-10-24T15:47:13.706311Z"
    }
   },
   "outputs": [
    {
     "data": {
      "text/plain": "<Figure size 640x480 with 1 Axes>",
      "image/png": "[encoded data removed]"
     },
     "metadata": {},
     "output_type": "display_data"
    }
   ],
   "source": [
    "plot_class_distribution(dataset, 'Dataset Class Distribution')"
   ]
  },
  {
   "cell_type": "markdown",
   "id": "1f99896f-d829-4d40-b78b-90fe6e7dee2a",
   "metadata": {
    "tags": []
   },
   "source": [
    "# Split Dataset in train and test"
   ]
  },
  {
   "cell_type": "code",
   "execution_count": 40,
   "id": "8b3f1406-5cf6-4d84-85d5-03abf0a932eb",
   "metadata": {
    "ExecuteTime": {
     "end_time": "2023-10-24T15:47:13.821329100Z",
     "start_time": "2023-10-24T15:47:13.811304Z"
    }
   },
   "outputs": [],
   "source": [
    "def split_plot_dataset(dataset):\n",
    "    # Sliptting dataframe into train and test dataframe\n",
    "    df_train, df_test = train_test_split(dataset, test_size=0.2, random_state=42, shuffle=True)\n",
    "\n",
    "    # slip the train set and reseve 20% of the data for the evaluation\n",
    "    df_train, df_validation = train_test_split(df_train, test_size=0.2, random_state=42, shuffle=True)\n",
    "    \n",
    "    plot_class_distribution(df_train, 'Trainset Class Distribution')\n",
    "    plot_class_distribution(df_validation, 'Validation Class Distribution')\n",
    "    plot_class_distribution(df_test, 'Testset Class Distribution')\n",
    "    \n",
    "    return df_train, df_test, df_validation"
   ]
  },
  {
   "cell_type": "code",
   "execution_count": 41,
   "id": "1e78d21d-17c2-4e7c-9e38-6ef1343bc136",
   "metadata": {
    "ExecuteTime": {
     "end_time": "2023-10-24T15:47:14.117708400Z",
     "start_time": "2023-10-24T15:47:13.820331100Z"
    }
   },
   "outputs": [
    {
     "data": {
      "text/plain": "<Figure size 640x480 with 1 Axes>",
      "image/png": "[encoded data removed]"
     },
     "metadata": {},
     "output_type": "display_data"
    },
    {
     "data": {
      "text/plain": "<Figure size 640x480 with 1 Axes>",
      "image/png": "[encoded data removed]"
     },
     "metadata": {},
     "output_type": "display_data"
    },
    {
     "data": {
      "text/plain": "<Figure size 640x480 with 1 Axes>",
      "image/png": "[encoded data removed]"
     },
     "metadata": {},
     "output_type": "display_data"
    }
   ],
   "source": [
    "df_train, df_test, df_validation = split_plot_dataset(dataset)"
   ]
  },
  {
   "cell_type": "markdown",
   "id": "11e8a40d-61a2-4371-b4df-c2915f25479f",
   "metadata": {
    "tags": []
   },
   "source": [
    "# Vectorization of the dataset"
   ]
  },
  {
   "cell_type": "markdown",
   "id": "a07c5f82-40af-42da-ae16-0b5e95e31a19",
   "metadata": {
    "tags": []
   },
   "source": [
    "## TF-IDF - Vectorized by weighting with TF-IDF"
   ]
  },
  {
   "cell_type": "code",
   "execution_count": 42,
   "id": "d50c597d-c916-4991-83aa-251c39fa8d13",
   "metadata": {
    "ExecuteTime": {
     "end_time": "2023-10-24T15:47:14.173148700Z",
     "start_time": "2023-10-24T15:47:14.173148700Z"
    }
   },
   "outputs": [],
   "source": [
    "def vectorize_dataset(df_train, df_test, df_validation):\n",
    "    # Convert a collection of raw documents to a matrix of TF-IDF features.\n",
    "    tfidf = TfidfVectorizer(# analyzer='word', # default='word'\n",
    "                            ngram_range=(1, 3), #(2, 6), # 3,6\n",
    "                            max_df=0.5, #ignoring terms that have a document frequency higher than 0.5\n",
    "                            # min_df=2, # 10\n",
    "                            max_features=2000, #300, 500, 10000 (thsi will limit the vocavulary)\n",
    "                            sublinear_tf=True, #replaces tf with 1 + log(tf), twenty occurrences of a term in a document\n",
    "                                                #does not represent twenty times the significance of a single occurrence\n",
    "                            use_idf=True\n",
    "    )\n",
    "\n",
    "    # tfidf = TfidfVectorizer()    \n",
    "    \n",
    "    X_train = tfidf.fit_transform(df_train['corpus']).toarray()\n",
    "    X_validation = tfidf.fit_transform(df_validation['corpus']).toarray()\n",
    "    X_test = tfidf.transform(df_test['corpus']).toarray()\n",
    "\n",
    "    #Converting the sparse matrix into an array\n",
    "    #We then apply the toarray function to convert the sparse matrix into an array.\n",
    "    # X_train = X_train.toarray()\n",
    "    # X_validation = X_validation.toarray()\n",
    "    # X_test = X_test.toarray()\n",
    "\n",
    "    y_train, y_validation, y_test = df_train['label'], df_validation['label'], df_test['label']\n",
    "    \n",
    "    return X_train, X_validation, X_test, y_train, y_validation, y_test"
   ]
  },
  {
   "cell_type": "code",
   "execution_count": 43,
   "id": "ef360e69-74c6-4ba1-a933-7fd4a5880ea8",
   "metadata": {
    "ExecuteTime": {
     "end_time": "2023-10-24T15:47:29.706952300Z",
     "start_time": "2023-10-24T15:47:14.173148700Z"
    }
   },
   "outputs": [],
   "source": [
    "X_train, X_validation, X_test, y_train, y_validation, y_test = vectorize_dataset(df_train, df_test, df_validation)\n",
    "\n",
    "#set the evaluation set for early stop models\n",
    "eval_set = [(X_validation, y_validation)]"
   ]
  },
  {
   "cell_type": "markdown",
   "id": "98a9193e-1ecf-4409-a2f0-501f4a7905b8",
   "metadata": {
    "tags": []
   },
   "source": [
    "# Training ML models with imballanced dataset"
   ]
  },
  {
   "cell_type": "code",
   "execution_count": 44,
   "id": "b666ed75-610f-4ca3-98e2-e27577dd24ca",
   "metadata": {
    "ExecuteTime": {
     "end_time": "2023-10-24T15:47:29.712466100Z",
     "start_time": "2023-10-24T15:47:29.706952300Z"
    }
   },
   "outputs": [],
   "source": [
    "def get_metrics(y_test, y_test_pred, y_test_proba, threshold=0.5):\n",
    "    # y_pred_class = y_test_proba > threshold\n",
    "    y_pred_class = y_test_pred\n",
    "\n",
    "    tn, fp, fn, tp = confusion_matrix(y_test, y_pred_class).ravel()\n",
    "\n",
    "    true_positive_rate = tp / (tp + fn)\n",
    "    true_negative_rate = tn / (tn + fp)\n",
    "    positive_predictive_value = tp / (tp + fp)\n",
    "    negative_predictive_value = tn / (tn + fn)\n",
    "    false_positive_rate = fp / (fp + tn)\n",
    "    false_negative_rate = fn / (tp + fn)\n",
    "    false_discovery_rate = fp / (tp + fp)\n",
    "\n",
    "    scores = {'Accuracy': accuracy_score(y_test, y_pred_class),\n",
    "              'Precision': precision_score(y_test, y_pred_class),\n",
    "              'Recall': recall_score(y_test, y_pred_class),\n",
    "              'F1_score': f1_score(y_test, y_pred_class),\n",
    "              'F05_score': fbeta_score(y_test, y_pred_class, beta=0.5),\n",
    "              'F2_score': fbeta_score(y_test, y_pred_class, beta=2),\n",
    "              'Roc auc score': roc_auc_score(y_test, y_test_proba),\n",
    "              'Matthews_corrcoef': matthews_corrcoef(y_test, y_pred_class),\n",
    "              'Cohen_kappa': cohen_kappa_score(y_test, y_pred_class),\n",
    "              'True_positive_rate': true_positive_rate,\n",
    "              'True_negative_rate': true_negative_rate,\n",
    "              'Positive_predictive_value': positive_predictive_value,\n",
    "              'Negative_predictive_value': negative_predictive_value,\n",
    "              'False_positive_rate': false_positive_rate,\n",
    "              'False_negative_rate': false_negative_rate,\n",
    "              'False_discovery_rate': false_discovery_rate,\n",
    "              }\n",
    "\n",
    "    return scores"
   ]
  },
  {
   "cell_type": "code",
   "execution_count": 45,
   "id": "2f8169fb-238c-46d7-b150-505707a977f4",
   "metadata": {
    "ExecuteTime": {
     "end_time": "2023-10-24T15:47:29.721467800Z",
     "start_time": "2023-10-24T15:47:29.711467800Z"
    }
   },
   "outputs": [],
   "source": [
    "# # Setting up our results dataframe\n",
    "# df_results = pd.DataFrame(columns=['F1_score', 'Precision', 'Recall', 'ROC AUC', 'Accuracy', 'Training time', 'Test time'])\n",
    "# df_results"
   ]
  },
  {
   "cell_type": "markdown",
   "id": "34b2e447-b0fa-4316-a212-3b4ddff8181f",
   "metadata": {},
   "source": [
    "## Defining the models"
   ]
  },
  {
   "cell_type": "code",
   "execution_count": 46,
   "id": "b679fcdc-ada1-4318-832e-b75f9c0819f8",
   "metadata": {
    "ExecuteTime": {
     "end_time": "2023-10-24T15:47:29.727462900Z",
     "start_time": "2023-10-24T15:47:29.720462900Z"
    }
   },
   "outputs": [],
   "source": [
    "def define_models():\n",
    "    models = [] #list to save the initiated models\n",
    "    \n",
    "#     # Gaussian Naive Bayes\n",
    "#     # gnb assumes them to be continuous\n",
    "#     gnb = GaussianNB()\n",
    "\n",
    "#     # Mltinomial Naive Bayes\n",
    "#     # nb assumes the features are discrete\n",
    "#     mnb = MultinomialNB()\n",
    "\n",
    "#     #logistic regression\n",
    "#     lr = LogisticRegression(\n",
    "#         # C=10,# random_state=1234\n",
    "#     )\n",
    "\n",
    "#     #Decision Tree\n",
    "    dt = DecisionTreeClassifier(\n",
    "        # max_depth=10, \n",
    "        # random_state=1234\n",
    "    )\n",
    "\n",
    "    #Random Forest\n",
    "    rf = RandomForestClassifier(\n",
    "        # n_estimators=100,\n",
    "        # max_depth=20,\n",
    "        # max_features=0.06,\n",
    "        # n_jobs=6,\n",
    "        # random_state=1234\n",
    "    )\n",
    "\n",
    "    #XGBoost\n",
    "    xgb = XGBClassifier(\n",
    "        early_stopping_rounds=10,\n",
    "        verbosity=2,\n",
    "        # n_estimators=2000,\n",
    "        # tree_method='hist',\n",
    "        # subsample=0.67,\n",
    "        # colsample_level=0.06,\n",
    "        # n_jobs=6,\n",
    "        # random_state=1234\n",
    "    )\n",
    "\n",
    "    #LightGBM\n",
    "    lgbm = LGBMClassifier(\n",
    "        early_stopping_rounds=10,\n",
    "        verbosity=2,\n",
    "        # boost_from_average=False\n",
    "        # num_leaves=64,\n",
    "        # n_estimators=2000,\n",
    "        # feature_fraction=0.06,\n",
    "        # bagging_fraction=0.67,\n",
    "        # bagging_freq=1,\n",
    "        # n_jobs=6,\n",
    "        # random_state=1234\n",
    "    )\n",
    "    \n",
    "    #add the models in the list\n",
    "    models = [dt, rf, xgb, lgbm]\n",
    "    \n",
    "    # #to specify which of our models require early stopping within the .fit() method.\n",
    "    es_models = ['XGBClassifier', 'LGBMClassifier']\n",
    "    \n",
    "    return models, es_models"
   ]
  },
  {
   "cell_type": "code",
   "execution_count": 47,
   "id": "58634734-c2b2-4475-96b6-949217a166ed",
   "metadata": {
    "ExecuteTime": {
     "end_time": "2023-10-24T15:47:29.735465300Z",
     "start_time": "2023-10-24T15:47:29.727462900Z"
    }
   },
   "outputs": [],
   "source": [
    "#Comparing our Competitors\n",
    "# models = [gnb, mnb, lr, dt, rf, xgb, lgbm]\n",
    "# models = [rf, xgb, lgbm, cb]\n",
    "# model_names = [i.__class__.__name__ for i in models]\n",
    "# classes_labels = np.arange(2)\n",
    "\n",
    "# #define the models\n",
    "# models, es_models = define_models()"
   ]
  },
  {
   "cell_type": "markdown",
   "id": "699e3890-cee8-4606-b56f-1c9281074973",
   "metadata": {},
   "source": [
    "## Train models"
   ]
  },
  {
   "cell_type": "code",
   "execution_count": 48,
   "id": "4a820ec1-df5b-4061-ae0f-c8065981f487",
   "metadata": {
    "ExecuteTime": {
     "end_time": "2023-10-24T15:47:29.772864900Z",
     "start_time": "2023-10-24T15:47:29.738463300Z"
    }
   },
   "outputs": [],
   "source": [
    "# Setting up our results dataframe\n",
    "df_results = pd.DataFrame(columns=['F1_score', 'Precision', 'Recall', 'ROC AUC', 'Accuracy', 'Training time', 'Test time'])\n",
    "# print(df_results)"
   ]
  },
  {
   "cell_type": "code",
   "execution_count": 49,
   "id": "f66ab959-17f5-46a4-8954-9e451b8f2f2b",
   "metadata": {
    "ExecuteTime": {
     "end_time": "2023-10-24T15:47:29.774370100Z",
     "start_time": "2023-10-24T15:47:29.748464800Z"
    }
   },
   "outputs": [],
   "source": [
    "# https://github.com/prateeksawhney97/MNIST-Classification-Multinomial-vs-Gaussian-Naive-Bayes/blob/master/MNIST%20Classification.ipynb\n",
    "\n",
    "import itertools\n",
    "def plot_confusion_matrix(cm, classes,\n",
    "                          normalize=False,\n",
    "                          title='Confusion matrix',\n",
    "                          cmap=plt.cm.Blues):\n",
    "    \"\"\"\n",
    "    This function prints and plots the confusion matrix.\n",
    "    Normalization can be applied by setting `normalize=True`.\n",
    "    \"\"\"\n",
    "    if normalize:\n",
    "        cm = cm.astype('float') / cm.sum(axis=1)[:, np.newaxis]\n",
    "        print(\"Normalized confusion matrix\")\n",
    "    else:\n",
    "        print('Confusion matrix, without normalization')\n",
    "\n",
    "    print(cm)\n",
    "    plt.imshow(cm, interpolation='nearest', cmap=cmap)\n",
    "    plt.title(title)\n",
    "    plt.colorbar()\n",
    "    tick_marks = np.arange(len(classes))\n",
    "    plt.xticks(tick_marks, classes, rotation=45)\n",
    "    plt.yticks(tick_marks, classes)\n",
    "\n",
    "    fmt = '.2f' if normalize else 'd'\n",
    "    thresh = cm.max() / 2.\n",
    "    for i, j in itertools.product(range(cm.shape[0]), range(cm.shape[1])):\n",
    "        plt.text(j, i, format(cm[i, j], fmt),\n",
    "                 horizontalalignment=\"center\",\n",
    "                 color=\"white\" if cm[i, j] > thresh else \"black\")\n",
    "\n",
    "    plt.ylabel('True label')\n",
    "    plt.xlabel('Predicted label')\n",
    "    plt.tight_layout()"
   ]
  },
  {
   "cell_type": "code",
   "execution_count": 2,
   "id": "b6884d38-1165-451c-a8f4-122c938e2057",
   "metadata": {
    "ExecuteTime": {
     "end_time": "2023-10-26T09:46:02.026578100Z",
     "start_time": "2023-10-26T09:46:02.026578100Z"
    }
   },
   "outputs": [],
   "source": [
    "def train_models_sampling(models, es_models, X_train, y_train, eval_set, X_test, y_test, sampling=None):   \n",
    "    #retrievce the models' name\n",
    "    model_names = [i.__class__.__name__ for i in models]\n",
    "    #set the number of classes for the confusion matrix\n",
    "    classes_labels = np.arange(2)\n",
    "    #name for oversampling method\n",
    "    over_name = ''\n",
    "\n",
    "    # Dataset shape\n",
    "    print(\"-- Dataset shape --\")\n",
    "    print('Original dataset shape')\n",
    "    print(Counter(y_train))#Counting the samples in training set\n",
    "        \n",
    "    # perfom dataset oversampling if set\n",
    "    oversample = sampling\n",
    "    if oversample:\n",
    "        over_name = oversample.__class__.__name__\n",
    "        X_train_over, y_train_over = oversample.fit_resample(X_train, y_train) #resampling the dataset\n",
    "        X_train= X_train_over # assigne new sample to trainset, text\n",
    "        y_train = y_train_over #assigne new sample to trainset, label\n",
    "        print('Resampled dataset shape %s' % Counter(y_train))\n",
    "        \n",
    "    start = timer()\n",
    "    #Train each of our candidate models\n",
    "    for m, n in zip(models, model_names):\n",
    "        train_time = 0\n",
    "        test_time = 0\n",
    "        train_predict_time = 0\n",
    "        test_predict_time = 0\n",
    "\n",
    "        print(\"\\n\"+n+\"_\"+over_name) #print the model name\n",
    "        if n in es_models:\n",
    "            t0 = time()\n",
    "            m.fit(X_train, y_train, \n",
    "                  eval_set = eval_set, \n",
    "                  # early_stopping_rounds=15,\n",
    "                  # verbose=0\n",
    "                 )\n",
    "            train_time = time() - t0\n",
    "        else:\n",
    "            t0 = time()\n",
    "            m.fit(X_train, y_train)\n",
    "            train_time = time() - t0\n",
    "\n",
    "        print(f\"\\nTraining time: {round(train_time, 3)}sec\")\n",
    "\n",
    "        #Model training prediction\n",
    "        t0 = time()\n",
    "        train_score = m.score(X_train, y_train)\n",
    "        train_predict_time = time() - t0\n",
    "        print(f\"Prediction time (train): {round(train_predict_time, 3)}sec\")\n",
    "\n",
    "        #Model test prediction\n",
    "        t0 = time()\n",
    "        test_score = m.score(X_test, y_test)\n",
    "        test_predict_time = time() - t0\n",
    "        print(f\"Prediction time (test): {round(test_predict_time, 3)}sec\")\n",
    "\n",
    "        #Check for Overfitting\n",
    "        print('\\n-- Check for Overfitting --')\n",
    "        #print the scores on training and test set\n",
    "        print('Train set score: {:.4f} sec '.format(train_score))\n",
    "        print('Test set score: {:.4f} sec'.format(test_score))\n",
    "\n",
    "        # Evaluate the trained model on the test set\n",
    "        '''\n",
    "        Use 'predict' for binary or multi-class classification problems when you want to get\n",
    "        the predicted class label(s) for input data.\n",
    "        '''\n",
    "        t0 = time()\n",
    "        predicted = m.predict(X_test) #return the label of the test set samples (actual class)\n",
    "        test_time = time() - t0\n",
    "        print(f\"Prediction time (test): {round(test_time, 3)}sec\")\n",
    "        # print('f1 score____ :', f1_score(y_test, predicted))\n",
    "\n",
    "        # accuracy of the model on the test set\n",
    "        # test_acc0 = np.mean(predicted == y_test)\n",
    "        # print('Model Accuracy on test set (Mean method) {:.4f} sec'.format(test_acc0))\n",
    "        # # accuracy of the model on the test set\n",
    "        # test_acc1 = accuracy_score(predicted, y_test)\n",
    "        # print('Model Accuracy on test set (acc_score method) {:.4f} sec'.format(test_acc1))\n",
    "        # test_acc2 = accuracy_score(y_test, predicted)\n",
    "        # print('Model Accuracy on test set (acc_score method_reverse): {0:0.4f} sec'.format(test_acc2))\n",
    "\n",
    "        # classification report\n",
    "        print(\"\\n-- classification Report --\")\n",
    "        print(classification_report(y_test, predicted)) \n",
    "\n",
    "        #Confusion-matrix\n",
    "        '''\n",
    "        Print the Confusion Matrix and slice it into four pieces\n",
    "        '''\n",
    "        cm = confusion_matrix(y_test, predicted)\n",
    "        print('\\n-- Confusion matrix --\\n', cm)\n",
    "        print('True Positives(TP) = ', cm[0,0])\n",
    "        print('True Negatives(TN) = ', cm[1,1])\n",
    "        print('False Positives(FP) = ', cm[0,1])\n",
    "        print('False Negatives(FN) = ', cm[1,0])\n",
    "\n",
    "        # plot_confusion_matrix(cm,\n",
    "        #                       classes=classes_labels,\n",
    "        #                       normalize=False,\n",
    "        #                       title=\"Consfusion Matrix\",\n",
    "        #                       cmap=plt.cm.Blues\n",
    "        #                      )\n",
    "        print('-'*80)\n",
    "\n",
    "        '''\n",
    "        Use 'predict_proba' for binary or multi-class classification problems when you want to get\n",
    "        the probability estimates for each possible class label.\n",
    "        '''\n",
    "        t0 = time()\n",
    "        y_test_proba = m.predict_proba(X_test)[:, 1] #return the probability estimates for each possible class label (the class probabilities)\n",
    "        test_time = time() - t0\n",
    "\n",
    "        metric_scrores = get_metrics(y_test, predicted, y_test_proba)\n",
    "        for metric_name, score in metric_scrores.items():\n",
    "            print('{} :{}'.format(metric_name, score))\n",
    "        print('#'*80)\n",
    "\n",
    "        df_results.loc[n+\"_\"+over_name] = [metric_scrores.get(\"F1_score\"), metric_scrores.get(\"Precision\"), metric_scrores.get(\"Recall\"), metric_scrores.get(\"Roc auc score\"), test_score, train_time, test_time]\n",
    "        del m #delete the model\n",
    "\n",
    "    train_test_time = timer() - start\n",
    "    print('Training and testing time of all models {:.4f} seconds'.format(train_test_time))\n",
    "    \n",
    "    return df_results"
   ]
  },
  {
   "cell_type": "code",
   "execution_count": 51,
   "id": "5232ef2e-13a4-49c4-abda-9f24671862df",
   "metadata": {
    "ExecuteTime": {
     "end_time": "2023-10-24T15:47:33.186291Z",
     "start_time": "2023-10-24T15:47:29.767863500Z"
    }
   },
   "outputs": [
    {
     "name": "stdout",
     "output_type": "stream",
     "text": [
      "-- Dataset shape --\n",
      "Original dataset shape\n",
      "Counter({0: 1428, 1: 444})\n",
      "\n",
      "DecisionTreeClassifier_\n",
      "\n",
      "Training time: 0.715sec\n",
      "Prediction time (train): 0.047sec\n",
      "Prediction time (test): 0.003sec\n",
      "\n",
      "-- Check for Overfitting --\n",
      "Train set score: 1.0000 sec \n",
      "Test set score: 0.8276 sec\n",
      "Prediction time (test): 0.002sec\n",
      "\n",
      "-- classification Report --\n",
      "              precision    recall  f1-score   support\n",
      "\n",
      "           0       0.85      0.94      0.89       448\n",
      "           1       0.71      0.46      0.56       138\n",
      "\n",
      "    accuracy                           0.83       586\n",
      "   macro avg       0.78      0.70      0.72       586\n",
      "weighted avg       0.82      0.83      0.81       586\n",
      "\n",
      "\n",
      "-- Confusion matrix --\n",
      " [[422  26]\n",
      " [ 75  63]]\n",
      "True Positives(TP) =  422\n",
      "True Negatives(TN) =  63\n",
      "False Positives(FP) =  26\n",
      "False Negatives(FN) =  75\n",
      "--------------------------------------------------------------------------------\n",
      "Accuracy :0.8276450511945392\n",
      "Precision :0.7078651685393258\n",
      "Recall :0.45652173913043476\n",
      "F1_score :0.5550660792951541\n",
      "F05_score :0.637651821862348\n",
      "F2_score :0.4914196567862714\n",
      "Roc auc score :0.6992430124223603\n",
      "Matthews_corrcoef :0.4711057961591972\n",
      "Cohen_kappa :0.4542956720573863\n",
      "True_positive_rate :0.45652173913043476\n",
      "True_negative_rate :0.9419642857142857\n",
      "Positive_predictive_value :0.7078651685393258\n",
      "Negative_predictive_value :0.8490945674044266\n",
      "False_positive_rate :0.05803571428571429\n",
      "False_negative_rate :0.5434782608695652\n",
      "False_discovery_rate :0.29213483146067415\n",
      "################################################################################\n",
      "\n",
      "RandomForestClassifier_\n",
      "\n",
      "Training time: 0.777sec\n",
      "Prediction time (train): 0.031sec\n",
      "Prediction time (test): 0.014sec\n",
      "\n",
      "-- Check for Overfitting --\n",
      "Train set score: 1.0000 sec \n",
      "Test set score: 0.9420 sec\n",
      "Prediction time (test): 0.015sec\n",
      "\n",
      "-- classification Report --\n",
      "              precision    recall  f1-score   support\n",
      "\n",
      "           0       0.99      0.94      0.96       448\n",
      "           1       0.82      0.96      0.89       138\n",
      "\n",
      "    accuracy                           0.94       586\n",
      "   macro avg       0.90      0.95      0.92       586\n",
      "weighted avg       0.95      0.94      0.94       586\n",
      "\n",
      "\n",
      "-- Confusion matrix --\n",
      " [[419  29]\n",
      " [  5 133]]\n",
      "True Positives(TP) =  419\n",
      "True Negatives(TN) =  133\n",
      "False Positives(FP) =  29\n",
      "False Negatives(FN) =  5\n",
      "--------------------------------------------------------------------------------\n",
      "Accuracy :0.9419795221843004\n",
      "Precision :0.8209876543209876\n",
      "Recall :0.9637681159420289\n",
      "F1_score :0.8866666666666666\n",
      "F05_score :0.8460559796437659\n",
      "F2_score :0.9313725490196079\n",
      "Roc auc score :0.9788431677018633\n",
      "Matthews_corrcoef :0.8529335234283507\n",
      "Cohen_kappa :0.8480104967655315\n",
      "True_positive_rate :0.9637681159420289\n",
      "True_negative_rate :0.9352678571428571\n",
      "Positive_predictive_value :0.8209876543209876\n",
      "Negative_predictive_value :0.9882075471698113\n",
      "False_positive_rate :0.06473214285714286\n",
      "False_negative_rate :0.036231884057971016\n",
      "False_discovery_rate :0.17901234567901234\n",
      "################################################################################\n",
      "\n",
      "XGBClassifier_\n",
      "[0]\tvalidation_0-logloss:0.45835\n",
      "[1]\tvalidation_0-logloss:0.42718\n",
      "[2]\tvalidation_0-logloss:0.36802\n",
      "[3]\tvalidation_0-logloss:0.32860\n",
      "[4]\tvalidation_0-logloss:0.30943\n",
      "[5]\tvalidation_0-logloss:0.29338\n",
      "[6]\tvalidation_0-logloss:0.30040\n",
      "[7]\tvalidation_0-logloss:0.29336\n",
      "[8]\tvalidation_0-logloss:0.30628\n",
      "[9]\tvalidation_0-logloss:0.30728\n",
      "[10]\tvalidation_0-logloss:0.32521\n",
      "[11]\tvalidation_0-logloss:0.34380\n",
      "[12]\tvalidation_0-logloss:0.36792\n",
      "[13]\tvalidation_0-logloss:0.36460\n",
      "[14]\tvalidation_0-logloss:0.38292\n",
      "[15]\tvalidation_0-logloss:0.40160\n",
      "[16]\tvalidation_0-logloss:0.41355\n",
      "\n",
      "Training time: 0.827sec\n",
      "Prediction time (train): 0.005sec\n",
      "Prediction time (test): 0.002sec\n",
      "\n",
      "-- Check for Overfitting --\n",
      "Train set score: 1.0000 sec \n",
      "Test set score: 0.8498 sec\n",
      "Prediction time (test): 0.001sec\n",
      "\n",
      "-- classification Report --\n",
      "              precision    recall  f1-score   support\n",
      "\n",
      "           0       0.95      0.85      0.90       448\n",
      "           1       0.63      0.86      0.73       138\n",
      "\n",
      "    accuracy                           0.85       586\n",
      "   macro avg       0.79      0.85      0.81       586\n",
      "weighted avg       0.88      0.85      0.86       586\n",
      "\n",
      "\n",
      "-- Confusion matrix --\n",
      " [[379  69]\n",
      " [ 19 119]]\n",
      "True Positives(TP) =  379\n",
      "True Negatives(TN) =  119\n",
      "False Positives(FP) =  69\n",
      "False Negatives(FN) =  19\n",
      "--------------------------------------------------------------------------------\n",
      "Accuracy :0.8498293515358362\n",
      "Precision :0.6329787234042553\n",
      "Recall :0.8623188405797102\n",
      "F1_score :0.7300613496932514\n",
      "F05_score :0.6685393258426966\n",
      "F2_score :0.804054054054054\n",
      "Roc auc score :0.9240343555900622\n",
      "Matthews_corrcoef :0.6438370048008524\n",
      "Cohen_kappa :0.6294017880242619\n",
      "True_positive_rate :0.8623188405797102\n",
      "True_negative_rate :0.8459821428571429\n",
      "Positive_predictive_value :0.6329787234042553\n",
      "Negative_predictive_value :0.9522613065326633\n",
      "False_positive_rate :0.15401785714285715\n",
      "False_negative_rate :0.13768115942028986\n",
      "False_discovery_rate :0.3670212765957447\n",
      "################################################################################\n",
      "\n",
      "LGBMClassifier_\n",
      "[LightGBM] [Warning] early_stopping_round is set=10, early_stopping_rounds=10 will be ignored. Current value: early_stopping_round=10\n",
      "[LightGBM] [Info] Number of positive: 444, number of negative: 1428\n",
      "[LightGBM] [Debug] Dataset::GetMultiBinFromSparseFeatures: sparse rate 0.907827\n",
      "[LightGBM] [Debug] Dataset::GetMultiBinFromAllFeatures: sparse rate 0.901524\n",
      "[LightGBM] [Debug] init for col-wise cost 0.016353 seconds, init for row-wise cost 0.018228 seconds\n",
      "[LightGBM] [Info] Auto-choosing row-wise multi-threading, the overhead of testing was 0.020295 seconds.\n",
      "You can set `force_row_wise=true` to remove the overhead.\n",
      "And if memory is not enough, you can set `force_col_wise=true`.\n",
      "[LightGBM] [Debug] Using Sparse Multi-Val Bin\n",
      "[LightGBM] [Info] Total Bins 123904\n",
      "[LightGBM] [Info] Number of data points in the train set: 1872, number of used features: 1993\n",
      "[LightGBM] [Warning] early_stopping_round is set=10, early_stopping_rounds=10 will be ignored. Current value: early_stopping_round=10\n",
      "[LightGBM] [Info] [binary:BoostFromScore]: pavg=0.237179 -> initscore=-1.168206\n",
      "[LightGBM] [Info] Start training from score -1.168206\n",
      "[LightGBM] [Warning] No further splits with positive gain, best gain: -inf\n",
      "[LightGBM] [Debug] Trained a tree with leaves = 22 and depth = 16\n",
      "Training until validation scores don't improve for 10 rounds\n",
      "[LightGBM] [Debug] Trained a tree with leaves = 31 and depth = 21\n",
      "[LightGBM] [Debug] Trained a tree with leaves = 31 and depth = 22\n",
      "[LightGBM] [Debug] Trained a tree with leaves = 31 and depth = 22\n",
      "[LightGBM] [Debug] Trained a tree with leaves = 31 and depth = 22\n",
      "[LightGBM] [Debug] Trained a tree with leaves = 31 and depth = 11\n",
      "[LightGBM] [Debug] Trained a tree with leaves = 31 and depth = 10\n",
      "[LightGBM] [Debug] Trained a tree with leaves = 31 and depth = 11\n",
      "[LightGBM] [Debug] Trained a tree with leaves = 31 and depth = 13\n",
      "[LightGBM] [Debug] Trained a tree with leaves = 31 and depth = 13\n",
      "[LightGBM] [Debug] Trained a tree with leaves = 31 and depth = 13\n",
      "[LightGBM] [Debug] Trained a tree with leaves = 31 and depth = 11\n",
      "[LightGBM] [Debug] Trained a tree with leaves = 31 and depth = 13\n",
      "[LightGBM] [Debug] Trained a tree with leaves = 31 and depth = 12\n",
      "[LightGBM] [Debug] Trained a tree with leaves = 31 and depth = 12\n",
      "[LightGBM] [Debug] Trained a tree with leaves = 31 and depth = 11\n",
      "[LightGBM] [Debug] Trained a tree with leaves = 31 and depth = 12\n",
      "[LightGBM] [Debug] Trained a tree with leaves = 31 and depth = 12\n",
      "[LightGBM] [Debug] Trained a tree with leaves = 31 and depth = 13\n",
      "[LightGBM] [Debug] Trained a tree with leaves = 31 and depth = 12\n",
      "[LightGBM] [Debug] Trained a tree with leaves = 31 and depth = 10\n",
      "[LightGBM] [Debug] Trained a tree with leaves = 31 and depth = 11\n",
      "[LightGBM] [Debug] Trained a tree with leaves = 31 and depth = 13\n",
      "[LightGBM] [Debug] Trained a tree with leaves = 31 and depth = 10\n",
      "[LightGBM] [Debug] Trained a tree with leaves = 31 and depth = 15\n",
      "[LightGBM] [Debug] Trained a tree with leaves = 31 and depth = 13\n",
      "[LightGBM] [Debug] Trained a tree with leaves = 31 and depth = 12\n",
      "[LightGBM] [Debug] Trained a tree with leaves = 31 and depth = 11\n",
      "[LightGBM] [Debug] Trained a tree with leaves = 31 and depth = 14\n",
      "Early stopping, best iteration is:\n",
      "[19]\tvalid_0's binary_logloss: 0.29822\n",
      "\n",
      "Training time: 0.882sec\n",
      "Prediction time (train): 0.004sec\n",
      "Prediction time (test): 0.002sec\n",
      "\n",
      "-- Check for Overfitting --\n",
      "Train set score: 1.0000 sec \n",
      "Test set score: 0.8618 sec\n",
      "Prediction time (test): 0.002sec\n",
      "\n",
      "-- classification Report --\n",
      "              precision    recall  f1-score   support\n",
      "\n",
      "           0       0.95      0.87      0.91       448\n",
      "           1       0.66      0.85      0.74       138\n",
      "\n",
      "    accuracy                           0.86       586\n",
      "   macro avg       0.80      0.86      0.82       586\n",
      "weighted avg       0.88      0.86      0.87       586\n",
      "\n",
      "\n",
      "-- Confusion matrix --\n",
      " [[388  60]\n",
      " [ 21 117]]\n",
      "True Positives(TP) =  388\n",
      "True Negatives(TN) =  117\n",
      "False Positives(FP) =  60\n",
      "False Negatives(FN) =  21\n",
      "--------------------------------------------------------------------------------\n",
      "Accuracy :0.8617747440273038\n",
      "Precision :0.6610169491525424\n",
      "Recall :0.8478260869565217\n",
      "F1_score :0.7428571428571429\n",
      "F05_score :0.6914893617021276\n",
      "F2_score :0.8024691358024691\n",
      "Roc auc score :0.9365780279503106\n",
      "Matthews_corrcoef :0.6597298485452254\n",
      "Cohen_kappa :0.6503116297573266\n",
      "True_positive_rate :0.8478260869565217\n",
      "True_negative_rate :0.8660714285714286\n",
      "Positive_predictive_value :0.6610169491525424\n",
      "Negative_predictive_value :0.9486552567237164\n",
      "False_positive_rate :0.13392857142857142\n",
      "False_negative_rate :0.15217391304347827\n",
      "False_discovery_rate :0.3389830508474576\n",
      "################################################################################\n",
      "Training and testing time of all models 3.4112 seconds\n"
     ]
    }
   ],
   "source": [
    "#define the models\n",
    "models, es_models = define_models()\n",
    "\n",
    "#train the models\n",
    "df_results = train_models_sampling(models, es_models, X_train, y_train, eval_set, X_test, y_test)"
   ]
  },
  {
   "cell_type": "code",
   "execution_count": 52,
   "id": "c83d5305-cd65-4c81-a5b8-e01eb9a2976a",
   "metadata": {
    "ExecuteTime": {
     "end_time": "2023-10-24T15:47:33.200302300Z",
     "start_time": "2023-10-24T15:47:33.191789500Z"
    }
   },
   "outputs": [
    {
     "data": {
      "text/plain": "                         F1_score  Precision    Recall   ROC AUC  Accuracy  \\\nDecisionTreeClassifier_  0.555066   0.707865  0.456522  0.699243  0.827645   \nRandomForestClassifier_  0.886667   0.820988  0.963768  0.978843  0.941980   \nXGBClassifier_           0.730061   0.632979  0.862319  0.924034  0.849829   \nLGBMClassifier_          0.742857   0.661017  0.847826  0.936578  0.861775   \n\n                         Training time  Test time  \nDecisionTreeClassifier_       0.714897   0.002750  \nRandomForestClassifier_       0.776554   0.012892  \nXGBClassifier_                0.826716   0.003260  \nLGBMClassifier_               0.882471   0.001260  ",
      "text/html": "<div>\n<style scoped>\n    .dataframe tbody tr th:only-of-type {\n        vertical-align: middle;\n    }\n\n    .dataframe tbody tr th {\n        vertical-align: top;\n    }\n\n    .dataframe thead th {\n        text-align: right;\n    }\n</style>\n<table border=\"1\" class=\"dataframe\">\n  <thead>\n    <tr style=\"text-align: right;\">\n      <th></th>\n      <th>F1_score</th>\n      <th>Precision</th>\n      <th>Recall</th>\n      <th>ROC AUC</th>\n      <th>Accuracy</th>\n      <th>Training time</th>\n      <th>Test time</th>\n    </tr>\n  </thead>\n  <tbody>\n    <tr>\n      <th>DecisionTreeClassifier_</th>\n      <td>0.555066</td>\n      <td>0.707865</td>\n      <td>0.456522</td>\n      <td>0.699243</td>\n      <td>0.827645</td>\n      <td>0.714897</td>\n      <td>0.002750</td>\n    </tr>\n    <tr>\n      <th>RandomForestClassifier_</th>\n      <td>0.886667</td>\n      <td>0.820988</td>\n      <td>0.963768</td>\n      <td>0.978843</td>\n      <td>0.941980</td>\n      <td>0.776554</td>\n      <td>0.012892</td>\n    </tr>\n    <tr>\n      <th>XGBClassifier_</th>\n      <td>0.730061</td>\n      <td>0.632979</td>\n      <td>0.862319</td>\n      <td>0.924034</td>\n      <td>0.849829</td>\n      <td>0.826716</td>\n      <td>0.003260</td>\n    </tr>\n    <tr>\n      <th>LGBMClassifier_</th>\n      <td>0.742857</td>\n      <td>0.661017</td>\n      <td>0.847826</td>\n      <td>0.936578</td>\n      <td>0.861775</td>\n      <td>0.882471</td>\n      <td>0.001260</td>\n    </tr>\n  </tbody>\n</table>\n</div>"
     },
     "execution_count": 52,
     "metadata": {},
     "output_type": "execute_result"
    }
   ],
   "source": [
    "df_results"
   ]
  },
  {
   "cell_type": "markdown",
   "id": "204c85ab-994b-4393-96cd-1f18eb3d3838",
   "metadata": {},
   "source": [
    "# Training model with resampling methods"
   ]
  },
  {
   "cell_type": "code",
   "execution_count": 53,
   "id": "752af128-b96b-4fc2-b282-c51292091b5a",
   "metadata": {
    "ExecuteTime": {
     "end_time": "2023-10-24T15:47:33.502718200Z",
     "start_time": "2023-10-24T15:47:33.195301500Z"
    }
   },
   "outputs": [
    {
     "data": {
      "text/plain": "<Figure size 640x480 with 1 Axes>",
      "image/png": "[encoded data removed]"
     },
     "metadata": {},
     "output_type": "display_data"
    },
    {
     "data": {
      "text/plain": "<Figure size 640x480 with 1 Axes>",
      "image/png": "[encoded data removed]"
     },
     "metadata": {},
     "output_type": "display_data"
    },
    {
     "data": {
      "text/plain": "<Figure size 640x480 with 1 Axes>",
      "image/png": "[encoded data removed]"
     },
     "metadata": {},
     "output_type": "display_data"
    }
   ],
   "source": [
    "#split the dataset\n",
    "df_train, df_test, df_validation = split_plot_dataset(dataset)"
   ]
  },
  {
   "cell_type": "code",
   "execution_count": 54,
   "id": "f2eb99cc-4797-480d-ae84-fa176ac14c3f",
   "metadata": {
    "ExecuteTime": {
     "end_time": "2023-10-24T15:47:43.411091700Z",
     "start_time": "2023-10-24T15:47:33.550227100Z"
    }
   },
   "outputs": [],
   "source": [
    "#vectorize the dataset\n",
    "X_train, X_validation, X_test, y_train, y_validation, y_test = vectorize_dataset(df_train, df_test, df_validation)"
   ]
  },
  {
   "cell_type": "markdown",
   "id": "f034a43d-2b4a-4c76-9dfc-b3941ba1827c",
   "metadata": {
    "tags": []
   },
   "source": [
    "## Random Over-sampling\n",
    "RandomOverSampler will increase the data samples in the minority class (vishing). It makes the minority class have the same data samples as the majority class (non-vishing)."
   ]
  },
  {
   "cell_type": "code",
   "execution_count": 55,
   "id": "bd29f5f1-6823-4235-8dae-fcd074054bb8",
   "metadata": {
    "ExecuteTime": {
     "end_time": "2023-10-24T15:47:45.861880Z",
     "start_time": "2023-10-24T15:47:43.417080900Z"
    }
   },
   "outputs": [
    {
     "name": "stdout",
     "output_type": "stream",
     "text": [
      "-- Dataset shape --\n",
      "Original dataset shape\n",
      "Counter({0: 1428, 1: 444})\n",
      "Resampled dataset shape Counter({1: 1428, 0: 1428})\n",
      "\n",
      "DecisionTreeClassifier_RandomOverSampler\n",
      "\n",
      "Training time: 0.274sec\n",
      "Prediction time (train): 0.007sec\n",
      "Prediction time (test): 0.002sec\n",
      "\n",
      "-- Check for Overfitting --\n",
      "Train set score: 1.0000 sec \n",
      "Test set score: 0.7935 sec\n",
      "Prediction time (test): 0.001sec\n",
      "\n",
      "-- classification Report --\n",
      "              precision    recall  f1-score   support\n",
      "\n",
      "           0       0.92      0.79      0.85       448\n",
      "           1       0.54      0.79      0.64       138\n",
      "\n",
      "    accuracy                           0.79       586\n",
      "   macro avg       0.73      0.79      0.75       586\n",
      "weighted avg       0.83      0.79      0.80       586\n",
      "\n",
      "\n",
      "-- Confusion matrix --\n",
      " [[356  92]\n",
      " [ 29 109]]\n",
      "True Positives(TP) =  356\n",
      "True Negatives(TN) =  109\n",
      "False Positives(FP) =  92\n",
      "False Negatives(FN) =  29\n",
      "--------------------------------------------------------------------------------\n",
      "Accuracy :0.7935153583617748\n",
      "Precision :0.5422885572139303\n",
      "Recall :0.7898550724637681\n",
      "F1_score :0.6430678466076696\n",
      "F05_score :0.578556263269639\n",
      "F2_score :0.7237715803452854\n",
      "Roc auc score :0.7922489648033126\n",
      "Matthews_corrcoef :0.5224360460050037\n",
      "Cohen_kappa :0.5047702859377838\n",
      "True_positive_rate :0.7898550724637681\n",
      "True_negative_rate :0.7946428571428571\n",
      "Positive_predictive_value :0.5422885572139303\n",
      "Negative_predictive_value :0.9246753246753247\n",
      "False_positive_rate :0.20535714285714285\n",
      "False_negative_rate :0.21014492753623187\n",
      "False_discovery_rate :0.4577114427860697\n",
      "################################################################################\n",
      "\n",
      "RandomForestClassifier_RandomOverSampler\n",
      "\n",
      "Training time: 0.813sec\n",
      "Prediction time (train): 0.039sec\n",
      "Prediction time (test): 0.014sec\n",
      "\n",
      "-- Check for Overfitting --\n",
      "Train set score: 1.0000 sec \n",
      "Test set score: 0.9659 sec\n",
      "Prediction time (test): 0.011sec\n",
      "\n",
      "-- classification Report --\n",
      "              precision    recall  f1-score   support\n",
      "\n",
      "           0       0.97      0.99      0.98       448\n",
      "           1       0.95      0.90      0.93       138\n",
      "\n",
      "    accuracy                           0.97       586\n",
      "   macro avg       0.96      0.94      0.95       586\n",
      "weighted avg       0.97      0.97      0.97       586\n",
      "\n",
      "\n",
      "-- Confusion matrix --\n",
      " [[442   6]\n",
      " [ 14 124]]\n",
      "True Positives(TP) =  442\n",
      "True Negatives(TN) =  124\n",
      "False Positives(FP) =  6\n",
      "False Negatives(FN) =  14\n",
      "--------------------------------------------------------------------------------\n",
      "Accuracy :0.9658703071672355\n",
      "Precision :0.9538461538461539\n",
      "Recall :0.8985507246376812\n",
      "F1_score :0.9253731343283582\n",
      "F05_score :0.9422492401215805\n",
      "F2_score :0.9090909090909091\n",
      "Roc auc score :0.9759074145962733\n",
      "Matthews_corrcoef :0.9039516181831696\n",
      "Cohen_kappa :0.9032747920242968\n",
      "True_positive_rate :0.8985507246376812\n",
      "True_negative_rate :0.9866071428571429\n",
      "Positive_predictive_value :0.9538461538461539\n",
      "Negative_predictive_value :0.9692982456140351\n",
      "False_positive_rate :0.013392857142857142\n",
      "False_negative_rate :0.10144927536231885\n",
      "False_discovery_rate :0.046153846153846156\n",
      "################################################################################\n",
      "\n",
      "XGBClassifier_RandomOverSampler\n",
      "[0]\tvalidation_0-logloss:0.56621\n",
      "[1]\tvalidation_0-logloss:0.51553\n",
      "[2]\tvalidation_0-logloss:0.51844\n",
      "[3]\tvalidation_0-logloss:0.51591\n",
      "[4]\tvalidation_0-logloss:0.50861\n",
      "[5]\tvalidation_0-logloss:0.52670\n",
      "[6]\tvalidation_0-logloss:0.51973\n",
      "[7]\tvalidation_0-logloss:0.54996\n",
      "[8]\tvalidation_0-logloss:0.55982\n",
      "[9]\tvalidation_0-logloss:0.57774\n",
      "[10]\tvalidation_0-logloss:0.60184\n",
      "[11]\tvalidation_0-logloss:0.56216\n",
      "[12]\tvalidation_0-logloss:0.58209\n",
      "[13]\tvalidation_0-logloss:0.61529\n",
      "\n",
      "Training time: 0.651sec\n",
      "Prediction time (train): 0.006sec\n",
      "Prediction time (test): 0.002sec\n",
      "\n",
      "-- Check for Overfitting --\n",
      "Train set score: 0.9993 sec \n",
      "Test set score: 0.7031 sec\n",
      "Prediction time (test): 0.001sec\n",
      "\n",
      "-- classification Report --\n",
      "              precision    recall  f1-score   support\n",
      "\n",
      "           0       0.97      0.63      0.76       448\n",
      "           1       0.44      0.93      0.60       138\n",
      "\n",
      "    accuracy                           0.70       586\n",
      "   macro avg       0.70      0.78      0.68       586\n",
      "weighted avg       0.84      0.70      0.73       586\n",
      "\n",
      "\n",
      "-- Confusion matrix --\n",
      " [[283 165]\n",
      " [  9 129]]\n",
      "True Positives(TP) =  283\n",
      "True Negatives(TN) =  129\n",
      "False Positives(FP) =  165\n",
      "False Negatives(FN) =  9\n",
      "--------------------------------------------------------------------------------\n",
      "Accuracy :0.7030716723549488\n",
      "Precision :0.4387755102040816\n",
      "Recall :0.9347826086956522\n",
      "F1_score :0.5972222222222222\n",
      "F05_score :0.49086757990867574\n",
      "F2_score :0.7624113475177304\n",
      "Roc auc score :0.881162655279503\n",
      "Matthews_corrcoef :0.4807256580109442\n",
      "Cohen_kappa :0.4072136179712572\n",
      "True_positive_rate :0.9347826086956522\n",
      "True_negative_rate :0.6316964285714286\n",
      "Positive_predictive_value :0.4387755102040816\n",
      "Negative_predictive_value :0.9691780821917808\n",
      "False_positive_rate :0.36830357142857145\n",
      "False_negative_rate :0.06521739130434782\n",
      "False_discovery_rate :0.5612244897959183\n",
      "################################################################################\n",
      "\n",
      "LGBMClassifier_RandomOverSampler\n",
      "[LightGBM] [Warning] early_stopping_round is set=10, early_stopping_rounds=10 will be ignored. Current value: early_stopping_round=10\n",
      "[LightGBM] [Info] Number of positive: 1428, number of negative: 1428\n",
      "[LightGBM] [Debug] Dataset::GetMultiBinFromSparseFeatures: sparse rate 0.923993\n",
      "[LightGBM] [Debug] Dataset::GetMultiBinFromAllFeatures: sparse rate 0.922837\n",
      "[LightGBM] [Debug] init for col-wise cost 0.015576 seconds, init for row-wise cost 0.017258 seconds\n",
      "[LightGBM] [Info] Auto-choosing col-wise multi-threading, the overhead of testing was 0.020756 seconds.\n",
      "You can set `force_col_wise=true` to remove the overhead.\n",
      "[LightGBM] [Info] Total Bins 137522\n",
      "[LightGBM] [Info] Number of data points in the train set: 2856, number of used features: 1994\n",
      "[LightGBM] [Warning] early_stopping_round is set=10, early_stopping_rounds=10 will be ignored. Current value: early_stopping_round=10\n",
      "[LightGBM] [Info] [binary:BoostFromScore]: pavg=0.500000 -> initscore=0.000000\n",
      "[LightGBM] [Warning] No further splits with positive gain, best gain: -inf\n",
      "[LightGBM] [Debug] Trained a tree with leaves = 11 and depth = 8\n",
      "Training until validation scores don't improve for 10 rounds\n",
      "[LightGBM] [Warning] No further splits with positive gain, best gain: -inf\n",
      "[LightGBM] [Debug] Trained a tree with leaves = 23 and depth = 13\n",
      "[LightGBM] [Debug] Trained a tree with leaves = 31 and depth = 20\n",
      "[LightGBM] [Debug] Trained a tree with leaves = 31 and depth = 20\n",
      "[LightGBM] [Debug] Trained a tree with leaves = 31 and depth = 17\n",
      "[LightGBM] [Debug] Trained a tree with leaves = 31 and depth = 22\n",
      "[LightGBM] [Debug] Trained a tree with leaves = 31 and depth = 18\n",
      "[LightGBM] [Debug] Trained a tree with leaves = 31 and depth = 20\n",
      "[LightGBM] [Debug] Trained a tree with leaves = 31 and depth = 19\n",
      "[LightGBM] [Debug] Trained a tree with leaves = 31 and depth = 17\n",
      "[LightGBM] [Debug] Trained a tree with leaves = 31 and depth = 20\n",
      "[LightGBM] [Debug] Trained a tree with leaves = 31 and depth = 20\n",
      "[LightGBM] [Debug] Trained a tree with leaves = 31 and depth = 19\n",
      "[LightGBM] [Debug] Trained a tree with leaves = 31 and depth = 19\n",
      "[LightGBM] [Debug] Trained a tree with leaves = 31 and depth = 18\n",
      "[LightGBM] [Debug] Trained a tree with leaves = 31 and depth = 16\n",
      "[LightGBM] [Debug] Trained a tree with leaves = 31 and depth = 17\n",
      "[LightGBM] [Debug] Trained a tree with leaves = 31 and depth = 12\n",
      "[LightGBM] [Debug] Trained a tree with leaves = 31 and depth = 10\n",
      "[LightGBM] [Debug] Trained a tree with leaves = 31 and depth = 15\n",
      "[LightGBM] [Debug] Trained a tree with leaves = 31 and depth = 18\n",
      "[LightGBM] [Debug] Trained a tree with leaves = 31 and depth = 10\n",
      "Early stopping, best iteration is:\n",
      "[12]\tvalid_0's binary_logloss: 0.491306\n",
      "\n",
      "Training time: 0.474sec\n",
      "Prediction time (train): 0.005sec\n",
      "Prediction time (test): 0.002sec\n",
      "\n",
      "-- Check for Overfitting --\n",
      "Train set score: 0.9993 sec \n",
      "Test set score: 0.7150 sec\n",
      "Prediction time (test): 0.001sec\n",
      "\n",
      "-- classification Report --\n",
      "              precision    recall  f1-score   support\n",
      "\n",
      "           0       0.98      0.64      0.77       448\n",
      "           1       0.45      0.96      0.61       138\n",
      "\n",
      "    accuracy                           0.72       586\n",
      "   macro avg       0.72      0.80      0.69       586\n",
      "weighted avg       0.85      0.72      0.74       586\n",
      "\n",
      "\n",
      "-- Confusion matrix --\n",
      " [[287 161]\n",
      " [  6 132]]\n",
      "True Positives(TP) =  287\n",
      "True Negatives(TN) =  132\n",
      "False Positives(FP) =  161\n",
      "False Negatives(FN) =  6\n",
      "--------------------------------------------------------------------------------\n",
      "Accuracy :0.7150170648464164\n",
      "Precision :0.45051194539249145\n",
      "Recall :0.9565217391304348\n",
      "F1_score :0.6125290023201856\n",
      "F05_score :0.5038167938931298\n",
      "F2_score :0.7810650887573964\n",
      "Roc auc score :0.9146771480331263\n",
      "Matthews_corrcoef :0.5067479435191321\n",
      "Cohen_kappa :0.4300341296928327\n",
      "True_positive_rate :0.9565217391304348\n",
      "True_negative_rate :0.640625\n",
      "Positive_predictive_value :0.45051194539249145\n",
      "Negative_predictive_value :0.9795221843003413\n",
      "False_positive_rate :0.359375\n",
      "False_negative_rate :0.043478260869565216\n",
      "False_discovery_rate :0.5494880546075085\n",
      "################################################################################\n",
      "Training and testing time of all models 2.3670 seconds\n"
     ]
    }
   ],
   "source": [
    "from imblearn.over_sampling import RandomOverSampler\n",
    "# Apply RandomOverSampler\n",
    "sampling = RandomOverSampler(random_state=42) #sampling_strategy parameter is to balance the class to have 1:1 data samples\n",
    "\n",
    "#resampling the dataset\n",
    "# X_train_ros, y_train_ros = ros.fit_resample(X_train, y_train)\n",
    "\n",
    "#train the models\n",
    "df_results = train_models_sampling(models, es_models, X_train, y_train, eval_set, X_test, y_test, sampling)"
   ]
  },
  {
   "cell_type": "code",
   "execution_count": 56,
   "id": "834611ff-6825-48bf-bdba-0f43c6156c9e",
   "metadata": {
    "ExecuteTime": {
     "end_time": "2023-10-24T15:47:45.872722600Z",
     "start_time": "2023-10-24T15:47:45.866663900Z"
    }
   },
   "outputs": [
    {
     "data": {
      "text/plain": "                                          F1_score  Precision    Recall  \\\nDecisionTreeClassifier_                   0.555066   0.707865  0.456522   \nRandomForestClassifier_                   0.886667   0.820988  0.963768   \nXGBClassifier_                            0.730061   0.632979  0.862319   \nLGBMClassifier_                           0.742857   0.661017  0.847826   \nDecisionTreeClassifier_RandomOverSampler  0.643068   0.542289  0.789855   \nRandomForestClassifier_RandomOverSampler  0.925373   0.953846  0.898551   \nXGBClassifier_RandomOverSampler           0.597222   0.438776  0.934783   \nLGBMClassifier_RandomOverSampler          0.612529   0.450512  0.956522   \n\n                                           ROC AUC  Accuracy  Training time  \\\nDecisionTreeClassifier_                   0.699243  0.827645       0.714897   \nRandomForestClassifier_                   0.978843  0.941980       0.776554   \nXGBClassifier_                            0.924034  0.849829       0.826716   \nLGBMClassifier_                           0.936578  0.861775       0.882471   \nDecisionTreeClassifier_RandomOverSampler  0.792249  0.793515       0.273504   \nRandomForestClassifier_RandomOverSampler  0.975907  0.965870       0.813227   \nXGBClassifier_RandomOverSampler           0.881163  0.703072       0.651464   \nLGBMClassifier_RandomOverSampler          0.914677  0.715017       0.473810   \n\n                                          Test time  \nDecisionTreeClassifier_                    0.002750  \nRandomForestClassifier_                    0.012892  \nXGBClassifier_                             0.003260  \nLGBMClassifier_                            0.001260  \nDecisionTreeClassifier_RandomOverSampler   0.001197  \nRandomForestClassifier_RandomOverSampler   0.010094  \nXGBClassifier_RandomOverSampler            0.001599  \nLGBMClassifier_RandomOverSampler           0.001459  ",
      "text/html": "<div>\n<style scoped>\n    .dataframe tbody tr th:only-of-type {\n        vertical-align: middle;\n    }\n\n    .dataframe tbody tr th {\n        vertical-align: top;\n    }\n\n    .dataframe thead th {\n        text-align: right;\n    }\n</style>\n<table border=\"1\" class=\"dataframe\">\n  <thead>\n    <tr style=\"text-align: right;\">\n      <th></th>\n      <th>F1_score</th>\n      <th>Precision</th>\n      <th>Recall</th>\n      <th>ROC AUC</th>\n      <th>Accuracy</th>\n      <th>Training time</th>\n      <th>Test time</th>\n    </tr>\n  </thead>\n  <tbody>\n    <tr>\n      <th>DecisionTreeClassifier_</th>\n      <td>0.555066</td>\n      <td>0.707865</td>\n      <td>0.456522</td>\n      <td>0.699243</td>\n      <td>0.827645</td>\n      <td>0.714897</td>\n      <td>0.002750</td>\n    </tr>\n    <tr>\n      <th>RandomForestClassifier_</th>\n      <td>0.886667</td>\n      <td>0.820988</td>\n      <td>0.963768</td>\n      <td>0.978843</td>\n      <td>0.941980</td>\n      <td>0.776554</td>\n      <td>0.012892</td>\n    </tr>\n    <tr>\n      <th>XGBClassifier_</th>\n      <td>0.730061</td>\n      <td>0.632979</td>\n      <td>0.862319</td>\n      <td>0.924034</td>\n      <td>0.849829</td>\n      <td>0.826716</td>\n      <td>0.003260</td>\n    </tr>\n    <tr>\n      <th>LGBMClassifier_</th>\n      <td>0.742857</td>\n      <td>0.661017</td>\n      <td>0.847826</td>\n      <td>0.936578</td>\n      <td>0.861775</td>\n      <td>0.882471</td>\n      <td>0.001260</td>\n    </tr>\n    <tr>\n      <th>DecisionTreeClassifier_RandomOverSampler</th>\n      <td>0.643068</td>\n      <td>0.542289</td>\n      <td>0.789855</td>\n      <td>0.792249</td>\n      <td>0.793515</td>\n      <td>0.273504</td>\n      <td>0.001197</td>\n    </tr>\n    <tr>\n      <th>RandomForestClassifier_RandomOverSampler</th>\n      <td>0.925373</td>\n      <td>0.953846</td>\n      <td>0.898551</td>\n      <td>0.975907</td>\n      <td>0.965870</td>\n      <td>0.813227</td>\n      <td>0.010094</td>\n    </tr>\n    <tr>\n      <th>XGBClassifier_RandomOverSampler</th>\n      <td>0.597222</td>\n      <td>0.438776</td>\n      <td>0.934783</td>\n      <td>0.881163</td>\n      <td>0.703072</td>\n      <td>0.651464</td>\n      <td>0.001599</td>\n    </tr>\n    <tr>\n      <th>LGBMClassifier_RandomOverSampler</th>\n      <td>0.612529</td>\n      <td>0.450512</td>\n      <td>0.956522</td>\n      <td>0.914677</td>\n      <td>0.715017</td>\n      <td>0.473810</td>\n      <td>0.001459</td>\n    </tr>\n  </tbody>\n</table>\n</div>"
     },
     "execution_count": 56,
     "metadata": {},
     "output_type": "execute_result"
    }
   ],
   "source": [
    "df_results"
   ]
  },
  {
   "cell_type": "markdown",
   "id": "6e551c9f-cd7f-418d-867b-3a4df2aa9aea",
   "metadata": {},
   "source": [
    "## SMOTE Over-sampling method"
   ]
  },
  {
   "cell_type": "code",
   "execution_count": 57,
   "id": "17996722-2254-45a9-95a7-f77342252212",
   "metadata": {
    "ExecuteTime": {
     "end_time": "2023-10-24T15:47:45.875814700Z",
     "start_time": "2023-10-24T15:47:45.869660600Z"
    }
   },
   "outputs": [],
   "source": [
    "from imblearn.over_sampling import SMOTE, KMeansSMOTE , ADASYN,SVMSMOTE,KMeansSMOTE,BorderlineSMOTE\n",
    "from imblearn.combine import SMOTEENN, SMOTETomek\n",
    "from imblearn.metrics import classification_report_imbalanced"
   ]
  },
  {
   "cell_type": "code",
   "execution_count": 58,
   "id": "5d18f8fd-8898-482e-b431-a4eb235f8376",
   "metadata": {
    "ExecuteTime": {
     "end_time": "2023-10-24T15:47:45.884813600Z",
     "start_time": "2023-10-24T15:47:45.876814Z"
    }
   },
   "outputs": [],
   "source": [
    "#split the dataset\n",
    "# df_train, df_test, df_validation = split_plot_dataset(dataset)"
   ]
  },
  {
   "cell_type": "code",
   "execution_count": 59,
   "id": "04b712f8-e9d4-4896-bdad-24f31a73deff",
   "metadata": {
    "ExecuteTime": {
     "end_time": "2023-10-24T15:47:45.890815Z",
     "start_time": "2023-10-24T15:47:45.884813600Z"
    }
   },
   "outputs": [],
   "source": [
    "#vectorize the dataset\n",
    "# X_train, X_validation, X_test, y_train, y_validation, y_test = vectorize_dataset(df_train, df_test, df_validation)"
   ]
  },
  {
   "cell_type": "code",
   "execution_count": 60,
   "id": "ab9a3ae5-4522-43ac-ab9d-09d1748e4728",
   "metadata": {
    "ExecuteTime": {
     "end_time": "2023-10-24T15:47:51.973676500Z",
     "start_time": "2023-10-24T15:47:45.890815Z"
    }
   },
   "outputs": [
    {
     "name": "stdout",
     "output_type": "stream",
     "text": [
      "-- Dataset shape --\n",
      "Original dataset shape\n",
      "Counter({0: 1428, 1: 444})\n"
     ]
    },
    {
     "name": "stderr",
     "output_type": "stream",
     "text": [
      "Exception ignored on calling ctypes callback function: <function _ThreadpoolInfo._find_modules_with_dl_iterate_phdr.<locals>.match_module_callback at 0x7fd2bef005e0>\n",
      "Traceback (most recent call last):\n",
      "  File \"/home/mbmk92/anaconda3/envs/dltest/lib/python3.10/site-packages/threadpoolctl.py\", line 400, in match_module_callback\n",
      "    self._make_module_from_path(filepath)\n",
      "  File \"/home/mbmk92/anaconda3/envs/dltest/lib/python3.10/site-packages/threadpoolctl.py\", line 515, in _make_module_from_path\n",
      "    module = module_class(filepath, prefix, user_api, internal_api)\n",
      "  File \"/home/mbmk92/anaconda3/envs/dltest/lib/python3.10/site-packages/threadpoolctl.py\", line 606, in __init__\n",
      "    self.version = self.get_version()\n",
      "  File \"/home/mbmk92/anaconda3/envs/dltest/lib/python3.10/site-packages/threadpoolctl.py\", line 646, in get_version\n",
      "    config = get_config().split()\n",
      "AttributeError: 'NoneType' object has no attribute 'split'\n"
     ]
    },
    {
     "name": "stdout",
     "output_type": "stream",
     "text": [
      "Resampled dataset shape Counter({1: 1428, 0: 1428})\n",
      "\n",
      "DecisionTreeClassifier_SMOTE\n",
      "\n",
      "Training time: 1.375sec\n",
      "Prediction time (train): 0.006sec\n",
      "Prediction time (test): 0.002sec\n",
      "\n",
      "-- Check for Overfitting --\n",
      "Train set score: 1.0000 sec \n",
      "Test set score: 0.7389 sec\n",
      "Prediction time (test): 0.001sec\n",
      "\n",
      "-- classification Report --\n",
      "              precision    recall  f1-score   support\n",
      "\n",
      "           0       0.85      0.81      0.83       448\n",
      "           1       0.45      0.52      0.48       138\n",
      "\n",
      "    accuracy                           0.74       586\n",
      "   macro avg       0.65      0.66      0.65       586\n",
      "weighted avg       0.75      0.74      0.75       586\n",
      "\n",
      "\n",
      "-- Confusion matrix --\n",
      " [[361  87]\n",
      " [ 66  72]]\n",
      "True Positives(TP) =  361\n",
      "True Negatives(TN) =  72\n",
      "False Positives(FP) =  87\n",
      "False Negatives(FN) =  66\n",
      "--------------------------------------------------------------------------------\n",
      "Accuracy :0.7389078498293515\n",
      "Precision :0.4528301886792453\n",
      "Recall :0.5217391304347826\n",
      "F1_score :0.4848484848484848\n",
      "F05_score :0.46511627906976744\n",
      "F2_score :0.5063291139240506\n",
      "Roc auc score :0.663771350931677\n",
      "Matthews_corrcoef :0.31256041703642257\n",
      "Cohen_kappa :0.31116028211865576\n",
      "True_positive_rate :0.5217391304347826\n",
      "True_negative_rate :0.8058035714285714\n",
      "Positive_predictive_value :0.4528301886792453\n",
      "Negative_predictive_value :0.8454332552693209\n",
      "False_positive_rate :0.19419642857142858\n",
      "False_negative_rate :0.4782608695652174\n",
      "False_discovery_rate :0.5471698113207547\n",
      "################################################################################\n",
      "\n",
      "RandomForestClassifier_SMOTE\n",
      "\n",
      "Training time: 1.203sec\n",
      "Prediction time (train): 0.053sec\n",
      "Prediction time (test): 0.016sec\n",
      "\n",
      "-- Check for Overfitting --\n",
      "Train set score: 1.0000 sec \n",
      "Test set score: 0.9420 sec\n",
      "Prediction time (test): 0.013sec\n",
      "\n",
      "-- classification Report --\n",
      "              precision    recall  f1-score   support\n",
      "\n",
      "           0       0.97      0.95      0.96       448\n",
      "           1       0.85      0.91      0.88       138\n",
      "\n",
      "    accuracy                           0.94       586\n",
      "   macro avg       0.91      0.93      0.92       586\n",
      "weighted avg       0.94      0.94      0.94       586\n",
      "\n",
      "\n",
      "-- Confusion matrix --\n",
      " [[426  22]\n",
      " [ 12 126]]\n",
      "True Positives(TP) =  426\n",
      "True Negatives(TN) =  126\n",
      "False Positives(FP) =  22\n",
      "False Negatives(FN) =  12\n",
      "--------------------------------------------------------------------------------\n",
      "Accuracy :0.9419795221843004\n",
      "Precision :0.8513513513513513\n",
      "Recall :0.9130434782608695\n",
      "F1_score :0.881118881118881\n",
      "F05_score :0.8630136986301369\n",
      "F2_score :0.8999999999999999\n",
      "Roc auc score :0.9813664596273292\n",
      "Matthews_corrcoef :0.843708408151951\n",
      "Cohen_kappa :0.8428061981254142\n",
      "True_positive_rate :0.9130434782608695\n",
      "True_negative_rate :0.9508928571428571\n",
      "Positive_predictive_value :0.8513513513513513\n",
      "Negative_predictive_value :0.9726027397260274\n",
      "False_positive_rate :0.049107142857142856\n",
      "False_negative_rate :0.08695652173913043\n",
      "False_discovery_rate :0.14864864864864866\n",
      "################################################################################\n",
      "\n",
      "XGBClassifier_SMOTE\n",
      "[0]\tvalidation_0-logloss:0.61139\n",
      "[1]\tvalidation_0-logloss:0.57141\n",
      "[2]\tvalidation_0-logloss:0.51738\n",
      "[3]\tvalidation_0-logloss:0.46856\n",
      "[4]\tvalidation_0-logloss:0.44799\n",
      "[5]\tvalidation_0-logloss:0.43948\n",
      "[6]\tvalidation_0-logloss:0.41407\n",
      "[7]\tvalidation_0-logloss:0.43526\n",
      "[8]\tvalidation_0-logloss:0.42837\n",
      "[9]\tvalidation_0-logloss:0.42681\n",
      "[10]\tvalidation_0-logloss:0.43814\n",
      "[11]\tvalidation_0-logloss:0.44817\n",
      "[12]\tvalidation_0-logloss:0.43316\n",
      "[13]\tvalidation_0-logloss:0.46154\n",
      "[14]\tvalidation_0-logloss:0.47179\n",
      "[15]\tvalidation_0-logloss:0.49237\n",
      "\n",
      "Training time: 1.525sec\n",
      "Prediction time (train): 0.006sec\n",
      "Prediction time (test): 0.004sec\n",
      "\n",
      "-- Check for Overfitting --\n",
      "Train set score: 0.9996 sec \n",
      "Test set score: 0.8225 sec\n",
      "Prediction time (test): 0.002sec\n",
      "\n",
      "-- classification Report --\n",
      "              precision    recall  f1-score   support\n",
      "\n",
      "           0       0.95      0.81      0.87       448\n",
      "           1       0.58      0.87      0.70       138\n",
      "\n",
      "    accuracy                           0.82       586\n",
      "   macro avg       0.77      0.84      0.79       586\n",
      "weighted avg       0.87      0.82      0.83       586\n",
      "\n",
      "\n",
      "-- Confusion matrix --\n",
      " [[362  86]\n",
      " [ 18 120]]\n",
      "True Positives(TP) =  362\n",
      "True Negatives(TN) =  120\n",
      "False Positives(FP) =  86\n",
      "False Negatives(FN) =  18\n",
      "--------------------------------------------------------------------------------\n",
      "Accuracy :0.8225255972696246\n",
      "Precision :0.5825242718446602\n",
      "Recall :0.8695652173913043\n",
      "F1_score :0.6976744186046511\n",
      "F05_score :0.6237006237006236\n",
      "F2_score :0.7915567282321899\n",
      "Roc auc score :0.8800627587991718\n",
      "Matthews_corrcoef :0.6021811214984129\n",
      "Cohen_kappa :0.5789066386601072\n",
      "True_positive_rate :0.8695652173913043\n",
      "True_negative_rate :0.8080357142857143\n",
      "Positive_predictive_value :0.5825242718446602\n",
      "Negative_predictive_value :0.9526315789473684\n",
      "False_positive_rate :0.19196428571428573\n",
      "False_negative_rate :0.13043478260869565\n",
      "False_discovery_rate :0.4174757281553398\n",
      "################################################################################\n",
      "\n",
      "LGBMClassifier_SMOTE\n",
      "[LightGBM] [Warning] early_stopping_round is set=10, early_stopping_rounds=10 will be ignored. Current value: early_stopping_round=10\n",
      "[LightGBM] [Info] Number of positive: 1428, number of negative: 1428\n",
      "[LightGBM] [Debug] Dataset::GetMultiBinFromSparseFeatures: sparse rate 0.911273\n",
      "[LightGBM] [Debug] Dataset::GetMultiBinFromAllFeatures: sparse rate 0.906251\n",
      "[LightGBM] [Debug] init for col-wise cost 0.020608 seconds, init for row-wise cost 0.025416 seconds\n",
      "[LightGBM] [Info] Auto-choosing col-wise multi-threading, the overhead of testing was 0.031769 seconds.\n",
      "You can set `force_col_wise=true` to remove the overhead.\n",
      "[LightGBM] [Info] Total Bins 170254\n",
      "[LightGBM] [Info] Number of data points in the train set: 2856, number of used features: 1994\n",
      "[LightGBM] [Warning] early_stopping_round is set=10, early_stopping_rounds=10 will be ignored. Current value: early_stopping_round=10\n",
      "[LightGBM] [Info] [binary:BoostFromScore]: pavg=0.500000 -> initscore=0.000000\n",
      "[LightGBM] [Warning] No further splits with positive gain, best gain: -inf\n",
      "[LightGBM] [Debug] Trained a tree with leaves = 23 and depth = 14\n",
      "Training until validation scores don't improve for 10 rounds\n",
      "[LightGBM] [Debug] Trained a tree with leaves = 31 and depth = 19\n",
      "[LightGBM] [Debug] Trained a tree with leaves = 31 and depth = 20\n",
      "[LightGBM] [Debug] Trained a tree with leaves = 31 and depth = 19\n",
      "[LightGBM] [Debug] Trained a tree with leaves = 31 and depth = 21\n",
      "[LightGBM] [Debug] Trained a tree with leaves = 31 and depth = 20\n",
      "[LightGBM] [Debug] Trained a tree with leaves = 31 and depth = 21\n",
      "[LightGBM] [Debug] Trained a tree with leaves = 31 and depth = 21\n",
      "[LightGBM] [Debug] Trained a tree with leaves = 31 and depth = 20\n",
      "[LightGBM] [Debug] Trained a tree with leaves = 31 and depth = 23\n",
      "[LightGBM] [Debug] Trained a tree with leaves = 31 and depth = 11\n",
      "[LightGBM] [Debug] Trained a tree with leaves = 31 and depth = 22\n",
      "[LightGBM] [Debug] Trained a tree with leaves = 31 and depth = 23\n",
      "[LightGBM] [Debug] Trained a tree with leaves = 31 and depth = 12\n",
      "[LightGBM] [Debug] Trained a tree with leaves = 31 and depth = 11\n",
      "[LightGBM] [Debug] Trained a tree with leaves = 31 and depth = 11\n",
      "[LightGBM] [Debug] Trained a tree with leaves = 31 and depth = 10\n",
      "[LightGBM] [Debug] Trained a tree with leaves = 31 and depth = 11\n",
      "[LightGBM] [Debug] Trained a tree with leaves = 31 and depth = 10\n",
      "[LightGBM] [Debug] Trained a tree with leaves = 31 and depth = 11\n",
      "[LightGBM] [Debug] Trained a tree with leaves = 31 and depth = 12\n",
      "[LightGBM] [Debug] Trained a tree with leaves = 31 and depth = 21\n",
      "[LightGBM] [Debug] Trained a tree with leaves = 31 and depth = 11\n",
      "[LightGBM] [Debug] Trained a tree with leaves = 31 and depth = 12\n",
      "[LightGBM] [Debug] Trained a tree with leaves = 31 and depth = 10\n",
      "[LightGBM] [Debug] Trained a tree with leaves = 31 and depth = 12\n",
      "[LightGBM] [Debug] Trained a tree with leaves = 31 and depth = 11\n",
      "[LightGBM] [Debug] Trained a tree with leaves = 31 and depth = 11\n",
      "[LightGBM] [Debug] Trained a tree with leaves = 31 and depth = 11\n",
      "[LightGBM] [Debug] Trained a tree with leaves = 31 and depth = 15\n",
      "[LightGBM] [Debug] Trained a tree with leaves = 31 and depth = 11\n",
      "[LightGBM] [Debug] Trained a tree with leaves = 31 and depth = 11\n",
      "[LightGBM] [Debug] Trained a tree with leaves = 31 and depth = 11\n",
      "[LightGBM] [Debug] Trained a tree with leaves = 31 and depth = 11\n",
      "[LightGBM] [Debug] Trained a tree with leaves = 31 and depth = 11\n",
      "[LightGBM] [Debug] Trained a tree with leaves = 31 and depth = 11\n",
      "[LightGBM] [Debug] Trained a tree with leaves = 31 and depth = 11\n",
      "[LightGBM] [Debug] Trained a tree with leaves = 31 and depth = 10\n",
      "[LightGBM] [Debug] Trained a tree with leaves = 31 and depth = 12\n",
      "[LightGBM] [Debug] Trained a tree with leaves = 31 and depth = 11\n",
      "[LightGBM] [Debug] Trained a tree with leaves = 31 and depth = 13\n",
      "[LightGBM] [Debug] Trained a tree with leaves = 31 and depth = 13\n",
      "[LightGBM] [Debug] Trained a tree with leaves = 31 and depth = 12\n",
      "Early stopping, best iteration is:\n",
      "[33]\tvalid_0's binary_logloss: 0.446729\n",
      "\n",
      "Training time: 1.641sec\n",
      "Prediction time (train): 0.009sec\n",
      "Prediction time (test): 0.003sec\n",
      "\n",
      "-- Check for Overfitting --\n",
      "Train set score: 1.0000 sec \n",
      "Test set score: 0.8038 sec\n",
      "Prediction time (test): 0.003sec\n",
      "\n",
      "-- classification Report --\n",
      "              precision    recall  f1-score   support\n",
      "\n",
      "           0       0.95      0.78      0.86       448\n",
      "           1       0.55      0.88      0.68       138\n",
      "\n",
      "    accuracy                           0.80       586\n",
      "   macro avg       0.75      0.83      0.77       586\n",
      "weighted avg       0.86      0.80      0.82       586\n",
      "\n",
      "\n",
      "-- Confusion matrix --\n",
      " [[350  98]\n",
      " [ 17 121]]\n",
      "True Positives(TP) =  350\n",
      "True Negatives(TN) =  121\n",
      "False Positives(FP) =  98\n",
      "False Negatives(FN) =  17\n",
      "--------------------------------------------------------------------------------\n",
      "Accuracy :0.8037542662116041\n",
      "Precision :0.5525114155251142\n",
      "Recall :0.8768115942028986\n",
      "F1_score :0.6778711484593838\n",
      "F05_score :0.596646942800789\n",
      "F2_score :0.7846952010376136\n",
      "Roc auc score :0.8943128881987578\n",
      "Matthews_corrcoef :0.5771517354609575\n",
      "Cohen_kappa :0.5469823471678834\n",
      "True_positive_rate :0.8768115942028986\n",
      "True_negative_rate :0.78125\n",
      "Positive_predictive_value :0.5525114155251142\n",
      "Negative_predictive_value :0.9536784741144414\n",
      "False_positive_rate :0.21875\n",
      "False_negative_rate :0.12318840579710146\n",
      "False_discovery_rate :0.4474885844748858\n",
      "################################################################################\n",
      "Training and testing time of all models 5.9319 seconds\n"
     ]
    }
   ],
   "source": [
    "# over-sampling using SMOTE.\n",
    "sampling = SMOTE(random_state=42)\n",
    "\n",
    "#set the evaluation set for early stop models\n",
    "# eval_set = [(X_validation, y_validation)]\n",
    "\n",
    "#train the models\n",
    "df_results = train_models_sampling(models, es_models, X_train, y_train, eval_set, X_test, y_test, sampling)"
   ]
  },
  {
   "cell_type": "code",
   "execution_count": 61,
   "id": "6c95ccaa-e807-4c3c-a507-85c50adc7db3",
   "metadata": {
    "ExecuteTime": {
     "end_time": "2023-10-24T15:47:51.988407500Z",
     "start_time": "2023-10-24T15:47:51.973676500Z"
    }
   },
   "outputs": [
    {
     "data": {
      "text/plain": "                                          F1_score  Precision    Recall  \\\nDecisionTreeClassifier_                   0.555066   0.707865  0.456522   \nRandomForestClassifier_                   0.886667   0.820988  0.963768   \nXGBClassifier_                            0.730061   0.632979  0.862319   \nLGBMClassifier_                           0.742857   0.661017  0.847826   \nDecisionTreeClassifier_RandomOverSampler  0.643068   0.542289  0.789855   \nRandomForestClassifier_RandomOverSampler  0.925373   0.953846  0.898551   \nXGBClassifier_RandomOverSampler           0.597222   0.438776  0.934783   \nLGBMClassifier_RandomOverSampler          0.612529   0.450512  0.956522   \nDecisionTreeClassifier_SMOTE              0.484848   0.452830  0.521739   \nRandomForestClassifier_SMOTE              0.881119   0.851351  0.913043   \nXGBClassifier_SMOTE                       0.697674   0.582524  0.869565   \nLGBMClassifier_SMOTE                      0.677871   0.552511  0.876812   \n\n                                           ROC AUC  Accuracy  Training time  \\\nDecisionTreeClassifier_                   0.699243  0.827645       0.714897   \nRandomForestClassifier_                   0.978843  0.941980       0.776554   \nXGBClassifier_                            0.924034  0.849829       0.826716   \nLGBMClassifier_                           0.936578  0.861775       0.882471   \nDecisionTreeClassifier_RandomOverSampler  0.792249  0.793515       0.273504   \nRandomForestClassifier_RandomOverSampler  0.975907  0.965870       0.813227   \nXGBClassifier_RandomOverSampler           0.881163  0.703072       0.651464   \nLGBMClassifier_RandomOverSampler          0.914677  0.715017       0.473810   \nDecisionTreeClassifier_SMOTE              0.663771  0.738908       1.375099   \nRandomForestClassifier_SMOTE              0.981366  0.941980       1.203064   \nXGBClassifier_SMOTE                       0.880063  0.822526       1.524563   \nLGBMClassifier_SMOTE                      0.894313  0.803754       1.641497   \n\n                                          Test time  \nDecisionTreeClassifier_                    0.002750  \nRandomForestClassifier_                    0.012892  \nXGBClassifier_                             0.003260  \nLGBMClassifier_                            0.001260  \nDecisionTreeClassifier_RandomOverSampler   0.001197  \nRandomForestClassifier_RandomOverSampler   0.010094  \nXGBClassifier_RandomOverSampler            0.001599  \nLGBMClassifier_RandomOverSampler           0.001459  \nDecisionTreeClassifier_SMOTE               0.001304  \nRandomForestClassifier_SMOTE               0.011693  \nXGBClassifier_SMOTE                        0.003798  \nLGBMClassifier_SMOTE                       0.001655  ",
      "text/html": "<div>\n<style scoped>\n    .dataframe tbody tr th:only-of-type {\n        vertical-align: middle;\n    }\n\n    .dataframe tbody tr th {\n        vertical-align: top;\n    }\n\n    .dataframe thead th {\n        text-align: right;\n    }\n</style>\n<table border=\"1\" class=\"dataframe\">\n  <thead>\n    <tr style=\"text-align: right;\">\n      <th></th>\n      <th>F1_score</th>\n      <th>Precision</th>\n      <th>Recall</th>\n      <th>ROC AUC</th>\n      <th>Accuracy</th>\n      <th>Training time</th>\n      <th>Test time</th>\n    </tr>\n  </thead>\n  <tbody>\n    <tr>\n      <th>DecisionTreeClassifier_</th>\n      <td>0.555066</td>\n      <td>0.707865</td>\n      <td>0.456522</td>\n      <td>0.699243</td>\n      <td>0.827645</td>\n      <td>0.714897</td>\n      <td>0.002750</td>\n    </tr>\n    <tr>\n      <th>RandomForestClassifier_</th>\n      <td>0.886667</td>\n      <td>0.820988</td>\n      <td>0.963768</td>\n      <td>0.978843</td>\n      <td>0.941980</td>\n      <td>0.776554</td>\n      <td>0.012892</td>\n    </tr>\n    <tr>\n      <th>XGBClassifier_</th>\n      <td>0.730061</td>\n      <td>0.632979</td>\n      <td>0.862319</td>\n      <td>0.924034</td>\n      <td>0.849829</td>\n      <td>0.826716</td>\n      <td>0.003260</td>\n    </tr>\n    <tr>\n      <th>LGBMClassifier_</th>\n      <td>0.742857</td>\n      <td>0.661017</td>\n      <td>0.847826</td>\n      <td>0.936578</td>\n      <td>0.861775</td>\n      <td>0.882471</td>\n      <td>0.001260</td>\n    </tr>\n    <tr>\n      <th>DecisionTreeClassifier_RandomOverSampler</th>\n      <td>0.643068</td>\n      <td>0.542289</td>\n      <td>0.789855</td>\n      <td>0.792249</td>\n      <td>0.793515</td>\n      <td>0.273504</td>\n      <td>0.001197</td>\n    </tr>\n    <tr>\n      <th>RandomForestClassifier_RandomOverSampler</th>\n      <td>0.925373</td>\n      <td>0.953846</td>\n      <td>0.898551</td>\n      <td>0.975907</td>\n      <td>0.965870</td>\n      <td>0.813227</td>\n      <td>0.010094</td>\n    </tr>\n    <tr>\n      <th>XGBClassifier_RandomOverSampler</th>\n      <td>0.597222</td>\n      <td>0.438776</td>\n      <td>0.934783</td>\n      <td>0.881163</td>\n      <td>0.703072</td>\n      <td>0.651464</td>\n      <td>0.001599</td>\n    </tr>\n    <tr>\n      <th>LGBMClassifier_RandomOverSampler</th>\n      <td>0.612529</td>\n      <td>0.450512</td>\n      <td>0.956522</td>\n      <td>0.914677</td>\n      <td>0.715017</td>\n      <td>0.473810</td>\n      <td>0.001459</td>\n    </tr>\n    <tr>\n      <th>DecisionTreeClassifier_SMOTE</th>\n      <td>0.484848</td>\n      <td>0.452830</td>\n      <td>0.521739</td>\n      <td>0.663771</td>\n      <td>0.738908</td>\n      <td>1.375099</td>\n      <td>0.001304</td>\n    </tr>\n    <tr>\n      <th>RandomForestClassifier_SMOTE</th>\n      <td>0.881119</td>\n      <td>0.851351</td>\n      <td>0.913043</td>\n      <td>0.981366</td>\n      <td>0.941980</td>\n      <td>1.203064</td>\n      <td>0.011693</td>\n    </tr>\n    <tr>\n      <th>XGBClassifier_SMOTE</th>\n      <td>0.697674</td>\n      <td>0.582524</td>\n      <td>0.869565</td>\n      <td>0.880063</td>\n      <td>0.822526</td>\n      <td>1.524563</td>\n      <td>0.003798</td>\n    </tr>\n    <tr>\n      <th>LGBMClassifier_SMOTE</th>\n      <td>0.677871</td>\n      <td>0.552511</td>\n      <td>0.876812</td>\n      <td>0.894313</td>\n      <td>0.803754</td>\n      <td>1.641497</td>\n      <td>0.001655</td>\n    </tr>\n  </tbody>\n</table>\n</div>"
     },
     "execution_count": 61,
     "metadata": {},
     "output_type": "execute_result"
    }
   ],
   "source": [
    "df_results"
   ]
  },
  {
   "cell_type": "markdown",
   "id": "28a27c1b-fb9a-4475-9952-d642158d0c14",
   "metadata": {
    "tags": []
   },
   "source": [
    "## Adaptive Synthetic (ADASYN) method"
   ]
  },
  {
   "cell_type": "code",
   "execution_count": 62,
   "id": "0576faf8-b204-47ff-923c-950aa1f323f6",
   "metadata": {
    "ExecuteTime": {
     "end_time": "2023-10-24T15:47:56.250531100Z",
     "start_time": "2023-10-24T15:47:51.987407300Z"
    }
   },
   "outputs": [
    {
     "name": "stderr",
     "output_type": "stream",
     "text": [
      "Exception ignored on calling ctypes callback function: <function _ThreadpoolInfo._find_modules_with_dl_iterate_phdr.<locals>.match_module_callback at 0x7fd2bef005e0>\n",
      "Traceback (most recent call last):\n",
      "  File \"/home/mbmk92/anaconda3/envs/dltest/lib/python3.10/site-packages/threadpoolctl.py\", line 400, in match_module_callback\n",
      "    self._make_module_from_path(filepath)\n",
      "  File \"/home/mbmk92/anaconda3/envs/dltest/lib/python3.10/site-packages/threadpoolctl.py\", line 515, in _make_module_from_path\n",
      "    module = module_class(filepath, prefix, user_api, internal_api)\n",
      "  File \"/home/mbmk92/anaconda3/envs/dltest/lib/python3.10/site-packages/threadpoolctl.py\", line 606, in __init__\n",
      "    self.version = self.get_version()\n",
      "  File \"/home/mbmk92/anaconda3/envs/dltest/lib/python3.10/site-packages/threadpoolctl.py\", line 646, in get_version\n",
      "    config = get_config().split()\n",
      "AttributeError: 'NoneType' object has no attribute 'split'\n",
      "Exception ignored on calling ctypes callback function: <function _ThreadpoolInfo._find_modules_with_dl_iterate_phdr.<locals>.match_module_callback at 0x7fd2bef02200>\n",
      "Traceback (most recent call last):\n",
      "  File \"/home/mbmk92/anaconda3/envs/dltest/lib/python3.10/site-packages/threadpoolctl.py\", line 400, in match_module_callback\n",
      "    self._make_module_from_path(filepath)\n",
      "  File \"/home/mbmk92/anaconda3/envs/dltest/lib/python3.10/site-packages/threadpoolctl.py\", line 515, in _make_module_from_path\n",
      "    module = module_class(filepath, prefix, user_api, internal_api)\n",
      "  File \"/home/mbmk92/anaconda3/envs/dltest/lib/python3.10/site-packages/threadpoolctl.py\", line 606, in __init__\n",
      "    self.version = self.get_version()\n",
      "  File \"/home/mbmk92/anaconda3/envs/dltest/lib/python3.10/site-packages/threadpoolctl.py\", line 646, in get_version\n",
      "    config = get_config().split()\n",
      "AttributeError: 'NoneType' object has no attribute 'split'\n"
     ]
    },
    {
     "name": "stdout",
     "output_type": "stream",
     "text": [
      "-- Dataset shape --\n",
      "Original dataset shape\n",
      "Counter({0: 1428, 1: 444})\n",
      "Resampled dataset shape Counter({1: 1428, 0: 1428})\n",
      "\n",
      "DecisionTreeClassifier_ADASYN\n",
      "\n",
      "Training time: 1.016sec\n",
      "Prediction time (train): 0.019sec\n",
      "Prediction time (test): 0.003sec\n",
      "\n",
      "-- Check for Overfitting --\n",
      "Train set score: 1.0000 sec \n",
      "Test set score: 0.7235 sec\n",
      "Prediction time (test): 0.002sec\n",
      "\n",
      "-- classification Report --\n",
      "              precision    recall  f1-score   support\n",
      "\n",
      "           0       0.78      0.88      0.83       448\n",
      "           1       0.36      0.22      0.27       138\n",
      "\n",
      "    accuracy                           0.72       586\n",
      "   macro avg       0.57      0.55      0.55       586\n",
      "weighted avg       0.68      0.72      0.70       586\n",
      "\n",
      "\n",
      "-- Confusion matrix --\n",
      " [[394  54]\n",
      " [108  30]]\n",
      "True Positives(TP) =  394\n",
      "True Negatives(TN) =  30\n",
      "False Positives(FP) =  54\n",
      "False Negatives(FN) =  108\n",
      "--------------------------------------------------------------------------------\n",
      "Accuracy :0.7235494880546075\n",
      "Precision :0.35714285714285715\n",
      "Recall :0.21739130434782608\n",
      "F1_score :0.27027027027027023\n",
      "F05_score :0.31645569620253167\n",
      "F2_score :0.2358490566037736\n",
      "Roc auc score :0.5484277950310559\n",
      "Matthews_corrcoef :0.11727670076411374\n",
      "Cohen_kappa :0.11202155124031876\n",
      "True_positive_rate :0.21739130434782608\n",
      "True_negative_rate :0.8794642857142857\n",
      "Positive_predictive_value :0.35714285714285715\n",
      "Negative_predictive_value :0.7848605577689243\n",
      "False_positive_rate :0.12053571428571429\n",
      "False_negative_rate :0.782608695652174\n",
      "False_discovery_rate :0.6428571428571429\n",
      "################################################################################\n",
      "\n",
      "RandomForestClassifier_ADASYN\n",
      "\n",
      "Training time: 0.969sec\n",
      "Prediction time (train): 0.052sec\n",
      "Prediction time (test): 0.02sec\n",
      "\n",
      "-- Check for Overfitting --\n",
      "Train set score: 1.0000 sec \n",
      "Test set score: 0.9590 sec\n",
      "Prediction time (test): 0.011sec\n",
      "\n",
      "-- classification Report --\n",
      "              precision    recall  f1-score   support\n",
      "\n",
      "           0       0.97      0.97      0.97       448\n",
      "           1       0.91      0.91      0.91       138\n",
      "\n",
      "    accuracy                           0.96       586\n",
      "   macro avg       0.94      0.94      0.94       586\n",
      "weighted avg       0.96      0.96      0.96       586\n",
      "\n",
      "\n",
      "-- Confusion matrix --\n",
      " [[436  12]\n",
      " [ 12 126]]\n",
      "True Positives(TP) =  436\n",
      "True Negatives(TN) =  126\n",
      "False Positives(FP) =  12\n",
      "False Negatives(FN) =  12\n",
      "--------------------------------------------------------------------------------\n",
      "Accuracy :0.9590443686006825\n",
      "Precision :0.9130434782608695\n",
      "Recall :0.9130434782608695\n",
      "F1_score :0.9130434782608695\n",
      "F05_score :0.9130434782608696\n",
      "F2_score :0.9130434782608696\n",
      "Roc auc score :0.9800724637681159\n",
      "Matthews_corrcoef :0.8862577639751553\n",
      "Cohen_kappa :0.8862577639751553\n",
      "True_positive_rate :0.9130434782608695\n",
      "True_negative_rate :0.9732142857142857\n",
      "Positive_predictive_value :0.9130434782608695\n",
      "Negative_predictive_value :0.9732142857142857\n",
      "False_positive_rate :0.026785714285714284\n",
      "False_negative_rate :0.08695652173913043\n",
      "False_discovery_rate :0.08695652173913043\n",
      "################################################################################\n",
      "\n",
      "XGBClassifier_ADASYN\n",
      "[0]\tvalidation_0-logloss:0.63081\n",
      "[1]\tvalidation_0-logloss:0.62891\n",
      "[2]\tvalidation_0-logloss:0.63247\n",
      "[3]\tvalidation_0-logloss:0.56374\n",
      "[4]\tvalidation_0-logloss:0.52273\n",
      "[5]\tvalidation_0-logloss:0.48110\n",
      "[6]\tvalidation_0-logloss:0.44015\n",
      "[7]\tvalidation_0-logloss:0.42164\n",
      "[8]\tvalidation_0-logloss:0.40736\n",
      "[9]\tvalidation_0-logloss:0.40776\n",
      "[10]\tvalidation_0-logloss:0.40506\n",
      "[11]\tvalidation_0-logloss:0.39949\n",
      "[12]\tvalidation_0-logloss:0.41151\n",
      "[13]\tvalidation_0-logloss:0.42987\n",
      "[14]\tvalidation_0-logloss:0.44167\n",
      "[15]\tvalidation_0-logloss:0.45009\n",
      "[16]\tvalidation_0-logloss:0.46206\n",
      "[17]\tvalidation_0-logloss:0.42683\n",
      "[18]\tvalidation_0-logloss:0.44712\n",
      "[19]\tvalidation_0-logloss:0.45269\n",
      "[20]\tvalidation_0-logloss:0.46966\n",
      "[21]\tvalidation_0-logloss:0.47641\n",
      "\n",
      "Training time: 0.881sec\n",
      "Prediction time (train): 0.006sec\n",
      "Prediction time (test): 0.003sec\n",
      "\n",
      "-- Check for Overfitting --\n",
      "Train set score: 1.0000 sec \n",
      "Test set score: 0.7986 sec\n",
      "Prediction time (test): 0.003sec\n",
      "\n",
      "-- classification Report --\n",
      "              precision    recall  f1-score   support\n",
      "\n",
      "           0       0.94      0.78      0.86       448\n",
      "           1       0.55      0.85      0.66       138\n",
      "\n",
      "    accuracy                           0.80       586\n",
      "   macro avg       0.75      0.82      0.76       586\n",
      "weighted avg       0.85      0.80      0.81       586\n",
      "\n",
      "\n",
      "-- Confusion matrix --\n",
      " [[351  97]\n",
      " [ 21 117]]\n",
      "True Positives(TP) =  351\n",
      "True Negatives(TN) =  117\n",
      "False Positives(FP) =  97\n",
      "False Negatives(FN) =  21\n",
      "--------------------------------------------------------------------------------\n",
      "Accuracy :0.7986348122866894\n",
      "Precision :0.5467289719626168\n",
      "Recall :0.8478260869565217\n",
      "F1_score :0.6647727272727273\n",
      "F05_score :0.5885311871227364\n",
      "F2_score :0.7637075718015666\n",
      "Roc auc score :0.8960031702898552\n",
      "Matthews_corrcoef :0.5563417399993483\n",
      "Cohen_kappa :0.5302700940166296\n",
      "True_positive_rate :0.8478260869565217\n",
      "True_negative_rate :0.7834821428571429\n",
      "Positive_predictive_value :0.5467289719626168\n",
      "Negative_predictive_value :0.9435483870967742\n",
      "False_positive_rate :0.21651785714285715\n",
      "False_negative_rate :0.15217391304347827\n",
      "False_discovery_rate :0.4532710280373832\n",
      "################################################################################\n",
      "\n",
      "LGBMClassifier_ADASYN\n",
      "[LightGBM] [Warning] early_stopping_round is set=10, early_stopping_rounds=10 will be ignored. Current value: early_stopping_round=10\n",
      "[LightGBM] [Info] Number of positive: 1428, number of negative: 1428\n",
      "[LightGBM] [Debug] Dataset::GetMultiBinFromSparseFeatures: sparse rate 0.926336\n",
      "[LightGBM] [Debug] Dataset::GetMultiBinFromAllFeatures: sparse rate 0.923333\n",
      "[LightGBM] [Debug] init for col-wise cost 0.021534 seconds, init for row-wise cost 0.018556 seconds\n",
      "[LightGBM] [Info] Auto-choosing col-wise multi-threading, the overhead of testing was 0.022646 seconds.\n",
      "You can set `force_col_wise=true` to remove the overhead.\n",
      "[LightGBM] [Info] Total Bins 141717\n",
      "[LightGBM] [Info] Number of data points in the train set: 2856, number of used features: 1993\n",
      "[LightGBM] [Warning] early_stopping_round is set=10, early_stopping_rounds=10 will be ignored. Current value: early_stopping_round=10\n",
      "[LightGBM] [Info] [binary:BoostFromScore]: pavg=0.500000 -> initscore=0.000000\n",
      "[LightGBM] [Warning] No further splits with positive gain, best gain: -inf\n",
      "[LightGBM] [Debug] Trained a tree with leaves = 24 and depth = 15\n",
      "Training until validation scores don't improve for 10 rounds\n",
      "[LightGBM] [Debug] Trained a tree with leaves = 31 and depth = 20\n",
      "[LightGBM] [Debug] Trained a tree with leaves = 31 and depth = 20\n",
      "[LightGBM] [Debug] Trained a tree with leaves = 31 and depth = 13\n",
      "[LightGBM] [Debug] Trained a tree with leaves = 31 and depth = 18\n",
      "[LightGBM] [Debug] Trained a tree with leaves = 31 and depth = 11\n",
      "[LightGBM] [Debug] Trained a tree with leaves = 31 and depth = 19\n",
      "[LightGBM] [Debug] Trained a tree with leaves = 31 and depth = 15\n",
      "[LightGBM] [Debug] Trained a tree with leaves = 31 and depth = 17\n",
      "[LightGBM] [Debug] Trained a tree with leaves = 31 and depth = 17\n",
      "[LightGBM] [Debug] Trained a tree with leaves = 31 and depth = 10\n",
      "[LightGBM] [Debug] Trained a tree with leaves = 31 and depth = 11\n",
      "[LightGBM] [Debug] Trained a tree with leaves = 31 and depth = 11\n",
      "[LightGBM] [Debug] Trained a tree with leaves = 31 and depth = 18\n",
      "[LightGBM] [Debug] Trained a tree with leaves = 31 and depth = 11\n",
      "[LightGBM] [Debug] Trained a tree with leaves = 31 and depth = 10\n",
      "[LightGBM] [Debug] Trained a tree with leaves = 31 and depth = 12\n",
      "[LightGBM] [Debug] Trained a tree with leaves = 31 and depth = 18\n",
      "[LightGBM] [Debug] Trained a tree with leaves = 31 and depth = 11\n",
      "[LightGBM] [Debug] Trained a tree with leaves = 31 and depth = 11\n",
      "[LightGBM] [Debug] Trained a tree with leaves = 31 and depth = 11\n",
      "[LightGBM] [Debug] Trained a tree with leaves = 31 and depth = 19\n",
      "[LightGBM] [Debug] Trained a tree with leaves = 31 and depth = 11\n",
      "[LightGBM] [Debug] Trained a tree with leaves = 31 and depth = 12\n",
      "[LightGBM] [Debug] Trained a tree with leaves = 31 and depth = 12\n",
      "[LightGBM] [Debug] Trained a tree with leaves = 31 and depth = 17\n",
      "[LightGBM] [Debug] Trained a tree with leaves = 31 and depth = 12\n",
      "[LightGBM] [Debug] Trained a tree with leaves = 31 and depth = 14\n",
      "[LightGBM] [Debug] Trained a tree with leaves = 31 and depth = 11\n",
      "[LightGBM] [Debug] Trained a tree with leaves = 31 and depth = 17\n",
      "[LightGBM] [Debug] Trained a tree with leaves = 31 and depth = 14\n",
      "[LightGBM] [Debug] Trained a tree with leaves = 31 and depth = 15\n",
      "[LightGBM] [Debug] Trained a tree with leaves = 31 and depth = 17\n",
      "[LightGBM] [Debug] Trained a tree with leaves = 31 and depth = 13\n",
      "[LightGBM] [Debug] Trained a tree with leaves = 31 and depth = 14\n",
      "[LightGBM] [Debug] Trained a tree with leaves = 31 and depth = 13\n",
      "[LightGBM] [Debug] Trained a tree with leaves = 31 and depth = 19\n",
      "[LightGBM] [Debug] Trained a tree with leaves = 31 and depth = 12\n",
      "[LightGBM] [Debug] Trained a tree with leaves = 31 and depth = 16\n",
      "[LightGBM] [Debug] Trained a tree with leaves = 31 and depth = 13\n",
      "[LightGBM] [Debug] Trained a tree with leaves = 31 and depth = 17\n",
      "[LightGBM] [Debug] Trained a tree with leaves = 31 and depth = 14\n",
      "[LightGBM] [Debug] Trained a tree with leaves = 31 and depth = 13\n",
      "[LightGBM] [Debug] Trained a tree with leaves = 31 and depth = 13\n",
      "[LightGBM] [Debug] Trained a tree with leaves = 31 and depth = 13\n",
      "[LightGBM] [Debug] Trained a tree with leaves = 31 and depth = 12\n",
      "[LightGBM] [Debug] Trained a tree with leaves = 31 and depth = 13\n",
      "Early stopping, best iteration is:\n",
      "[37]\tvalid_0's binary_logloss: 0.407594\n",
      "\n",
      "Training time: 1.047sec\n",
      "Prediction time (train): 0.007sec\n",
      "Prediction time (test): 0.003sec\n",
      "\n",
      "-- Check for Overfitting --\n",
      "Train set score: 1.0000 sec \n",
      "Test set score: 0.8055 sec\n",
      "Prediction time (test): 0.002sec\n",
      "\n",
      "-- classification Report --\n",
      "              precision    recall  f1-score   support\n",
      "\n",
      "           0       0.95      0.79      0.86       448\n",
      "           1       0.56      0.87      0.68       138\n",
      "\n",
      "    accuracy                           0.81       586\n",
      "   macro avg       0.75      0.83      0.77       586\n",
      "weighted avg       0.86      0.81      0.82       586\n",
      "\n",
      "\n",
      "-- Confusion matrix --\n",
      " [[352  96]\n",
      " [ 18 120]]\n",
      "True Positives(TP) =  352\n",
      "True Negatives(TN) =  120\n",
      "False Positives(FP) =  96\n",
      "False Negatives(FN) =  18\n",
      "--------------------------------------------------------------------------------\n",
      "Accuracy :0.8054607508532423\n",
      "Precision :0.5555555555555556\n",
      "Recall :0.8695652173913043\n",
      "F1_score :0.6779661016949152\n",
      "F05_score :0.5988023952095808\n",
      "F2_score :0.78125\n",
      "Roc auc score :0.8954936594202899\n",
      "Matthews_corrcoef :0.5763381872466457\n",
      "Cohen_kappa :0.5480964363990584\n",
      "True_positive_rate :0.8695652173913043\n",
      "True_negative_rate :0.7857142857142857\n",
      "Positive_predictive_value :0.5555555555555556\n",
      "Negative_predictive_value :0.9513513513513514\n",
      "False_positive_rate :0.21428571428571427\n",
      "False_negative_rate :0.13043478260869565\n",
      "False_discovery_rate :0.4444444444444444\n",
      "################################################################################\n",
      "Training and testing time of all models 4.1415 seconds\n"
     ]
    }
   ],
   "source": [
    "# over-sampling using SMOTE.\n",
    "sampling = ADASYN(random_state=42)\n",
    "\n",
    "#set the evaluation set for early stop models\n",
    "# eval_set = [(X_validation, y_validation)]\n",
    "\n",
    "#train the models\n",
    "df_results = train_models_sampling(models, es_models, X_train, y_train, eval_set, X_test, y_test, sampling)"
   ]
  },
  {
   "cell_type": "code",
   "execution_count": 63,
   "id": "df3e2985-801a-4f0f-8031-b32e5b0cab1a",
   "metadata": {
    "ExecuteTime": {
     "end_time": "2023-10-24T15:47:56.257054Z",
     "start_time": "2023-10-24T15:47:56.250531100Z"
    }
   },
   "outputs": [
    {
     "data": {
      "text/plain": "                                          F1_score  Precision    Recall  \\\nDecisionTreeClassifier_                   0.555066   0.707865  0.456522   \nRandomForestClassifier_                   0.886667   0.820988  0.963768   \nXGBClassifier_                            0.730061   0.632979  0.862319   \nLGBMClassifier_                           0.742857   0.661017  0.847826   \nDecisionTreeClassifier_RandomOverSampler  0.643068   0.542289  0.789855   \nRandomForestClassifier_RandomOverSampler  0.925373   0.953846  0.898551   \nXGBClassifier_RandomOverSampler           0.597222   0.438776  0.934783   \nLGBMClassifier_RandomOverSampler          0.612529   0.450512  0.956522   \nDecisionTreeClassifier_SMOTE              0.484848   0.452830  0.521739   \nRandomForestClassifier_SMOTE              0.881119   0.851351  0.913043   \nXGBClassifier_SMOTE                       0.697674   0.582524  0.869565   \nLGBMClassifier_SMOTE                      0.677871   0.552511  0.876812   \nDecisionTreeClassifier_ADASYN             0.270270   0.357143  0.217391   \nRandomForestClassifier_ADASYN             0.913043   0.913043  0.913043   \nXGBClassifier_ADASYN                      0.664773   0.546729  0.847826   \nLGBMClassifier_ADASYN                     0.677966   0.555556  0.869565   \n\n                                           ROC AUC  Accuracy  Training time  \\\nDecisionTreeClassifier_                   0.699243  0.827645       0.714897   \nRandomForestClassifier_                   0.978843  0.941980       0.776554   \nXGBClassifier_                            0.924034  0.849829       0.826716   \nLGBMClassifier_                           0.936578  0.861775       0.882471   \nDecisionTreeClassifier_RandomOverSampler  0.792249  0.793515       0.273504   \nRandomForestClassifier_RandomOverSampler  0.975907  0.965870       0.813227   \nXGBClassifier_RandomOverSampler           0.881163  0.703072       0.651464   \nLGBMClassifier_RandomOverSampler          0.914677  0.715017       0.473810   \nDecisionTreeClassifier_SMOTE              0.663771  0.738908       1.375099   \nRandomForestClassifier_SMOTE              0.981366  0.941980       1.203064   \nXGBClassifier_SMOTE                       0.880063  0.822526       1.524563   \nLGBMClassifier_SMOTE                      0.894313  0.803754       1.641497   \nDecisionTreeClassifier_ADASYN             0.548428  0.723549       1.015900   \nRandomForestClassifier_ADASYN             0.980072  0.959044       0.968710   \nXGBClassifier_ADASYN                      0.896003  0.798635       0.881170   \nLGBMClassifier_ADASYN                     0.895494  0.805461       1.046867   \n\n                                          Test time  \nDecisionTreeClassifier_                    0.002750  \nRandomForestClassifier_                    0.012892  \nXGBClassifier_                             0.003260  \nLGBMClassifier_                            0.001260  \nDecisionTreeClassifier_RandomOverSampler   0.001197  \nRandomForestClassifier_RandomOverSampler   0.010094  \nXGBClassifier_RandomOverSampler            0.001599  \nLGBMClassifier_RandomOverSampler           0.001459  \nDecisionTreeClassifier_SMOTE               0.001304  \nRandomForestClassifier_SMOTE               0.011693  \nXGBClassifier_SMOTE                        0.003798  \nLGBMClassifier_SMOTE                       0.001655  \nDecisionTreeClassifier_ADASYN              0.001883  \nRandomForestClassifier_ADASYN              0.012091  \nXGBClassifier_ADASYN                       0.004550  \nLGBMClassifier_ADASYN                      0.001665  ",
      "text/html": "<div>\n<style scoped>\n    .dataframe tbody tr th:only-of-type {\n        vertical-align: middle;\n    }\n\n    .dataframe tbody tr th {\n        vertical-align: top;\n    }\n\n    .dataframe thead th {\n        text-align: right;\n    }\n</style>\n<table border=\"1\" class=\"dataframe\">\n  <thead>\n    <tr style=\"text-align: right;\">\n      <th></th>\n      <th>F1_score</th>\n      <th>Precision</th>\n      <th>Recall</th>\n      <th>ROC AUC</th>\n      <th>Accuracy</th>\n      <th>Training time</th>\n      <th>Test time</th>\n    </tr>\n  </thead>\n  <tbody>\n    <tr>\n      <th>DecisionTreeClassifier_</th>\n      <td>0.555066</td>\n      <td>0.707865</td>\n      <td>0.456522</td>\n      <td>0.699243</td>\n      <td>0.827645</td>\n      <td>0.714897</td>\n      <td>0.002750</td>\n    </tr>\n    <tr>\n      <th>RandomForestClassifier_</th>\n      <td>0.886667</td>\n      <td>0.820988</td>\n      <td>0.963768</td>\n      <td>0.978843</td>\n      <td>0.941980</td>\n      <td>0.776554</td>\n      <td>0.012892</td>\n    </tr>\n    <tr>\n      <th>XGBClassifier_</th>\n      <td>0.730061</td>\n      <td>0.632979</td>\n      <td>0.862319</td>\n      <td>0.924034</td>\n      <td>0.849829</td>\n      <td>0.826716</td>\n      <td>0.003260</td>\n    </tr>\n    <tr>\n      <th>LGBMClassifier_</th>\n      <td>0.742857</td>\n      <td>0.661017</td>\n      <td>0.847826</td>\n      <td>0.936578</td>\n      <td>0.861775</td>\n      <td>0.882471</td>\n      <td>0.001260</td>\n    </tr>\n    <tr>\n      <th>DecisionTreeClassifier_RandomOverSampler</th>\n      <td>0.643068</td>\n      <td>0.542289</td>\n      <td>0.789855</td>\n      <td>0.792249</td>\n      <td>0.793515</td>\n      <td>0.273504</td>\n      <td>0.001197</td>\n    </tr>\n    <tr>\n      <th>RandomForestClassifier_RandomOverSampler</th>\n      <td>0.925373</td>\n      <td>0.953846</td>\n      <td>0.898551</td>\n      <td>0.975907</td>\n      <td>0.965870</td>\n      <td>0.813227</td>\n      <td>0.010094</td>\n    </tr>\n    <tr>\n      <th>XGBClassifier_RandomOverSampler</th>\n      <td>0.597222</td>\n      <td>0.438776</td>\n      <td>0.934783</td>\n      <td>0.881163</td>\n      <td>0.703072</td>\n      <td>0.651464</td>\n      <td>0.001599</td>\n    </tr>\n    <tr>\n      <th>LGBMClassifier_RandomOverSampler</th>\n      <td>0.612529</td>\n      <td>0.450512</td>\n      <td>0.956522</td>\n      <td>0.914677</td>\n      <td>0.715017</td>\n      <td>0.473810</td>\n      <td>0.001459</td>\n    </tr>\n    <tr>\n      <th>DecisionTreeClassifier_SMOTE</th>\n      <td>0.484848</td>\n      <td>0.452830</td>\n      <td>0.521739</td>\n      <td>0.663771</td>\n      <td>0.738908</td>\n      <td>1.375099</td>\n      <td>0.001304</td>\n    </tr>\n    <tr>\n      <th>RandomForestClassifier_SMOTE</th>\n      <td>0.881119</td>\n      <td>0.851351</td>\n      <td>0.913043</td>\n      <td>0.981366</td>\n      <td>0.941980</td>\n      <td>1.203064</td>\n      <td>0.011693</td>\n    </tr>\n    <tr>\n      <th>XGBClassifier_SMOTE</th>\n      <td>0.697674</td>\n      <td>0.582524</td>\n      <td>0.869565</td>\n      <td>0.880063</td>\n      <td>0.822526</td>\n      <td>1.524563</td>\n      <td>0.003798</td>\n    </tr>\n    <tr>\n      <th>LGBMClassifier_SMOTE</th>\n      <td>0.677871</td>\n      <td>0.552511</td>\n      <td>0.876812</td>\n      <td>0.894313</td>\n      <td>0.803754</td>\n      <td>1.641497</td>\n      <td>0.001655</td>\n    </tr>\n    <tr>\n      <th>DecisionTreeClassifier_ADASYN</th>\n      <td>0.270270</td>\n      <td>0.357143</td>\n      <td>0.217391</td>\n      <td>0.548428</td>\n      <td>0.723549</td>\n      <td>1.015900</td>\n      <td>0.001883</td>\n    </tr>\n    <tr>\n      <th>RandomForestClassifier_ADASYN</th>\n      <td>0.913043</td>\n      <td>0.913043</td>\n      <td>0.913043</td>\n      <td>0.980072</td>\n      <td>0.959044</td>\n      <td>0.968710</td>\n      <td>0.012091</td>\n    </tr>\n    <tr>\n      <th>XGBClassifier_ADASYN</th>\n      <td>0.664773</td>\n      <td>0.546729</td>\n      <td>0.847826</td>\n      <td>0.896003</td>\n      <td>0.798635</td>\n      <td>0.881170</td>\n      <td>0.004550</td>\n    </tr>\n    <tr>\n      <th>LGBMClassifier_ADASYN</th>\n      <td>0.677966</td>\n      <td>0.555556</td>\n      <td>0.869565</td>\n      <td>0.895494</td>\n      <td>0.805461</td>\n      <td>1.046867</td>\n      <td>0.001665</td>\n    </tr>\n  </tbody>\n</table>\n</div>"
     },
     "execution_count": 63,
     "metadata": {},
     "output_type": "execute_result"
    }
   ],
   "source": [
    "df_results"
   ]
  },
  {
   "cell_type": "markdown",
   "id": "0c00d237-2e00-48ae-9ae8-fd279367c03d",
   "metadata": {},
   "source": [
    "## KMeansSMOTE method\n",
    "KMeans clustering before to over-sample using SMOTE."
   ]
  },
  {
   "cell_type": "code",
   "execution_count": 64,
   "id": "7cab49b2-dba1-4de8-ab9b-8a0758af76c2",
   "metadata": {
    "ExecuteTime": {
     "end_time": "2023-10-24T15:48:03.277370200Z",
     "start_time": "2023-10-24T15:47:56.257054Z"
    }
   },
   "outputs": [
    {
     "name": "stderr",
     "output_type": "stream",
     "text": [
      "/home/mbmk92/anaconda3/envs/dltest/lib/python3.10/site-packages/sklearn/cluster/_kmeans.py:870: FutureWarning: The default value of `n_init` will change from 3 to 'auto' in 1.4. Set the value of `n_init` explicitly to suppress the warning\n",
      "  warnings.warn(\n",
      "Exception ignored on calling ctypes callback function: <function _ThreadpoolInfo._find_modules_with_dl_iterate_phdr.<locals>.match_module_callback at 0x7fd2bee653f0>\n",
      "Traceback (most recent call last):\n",
      "  File \"/home/mbmk92/anaconda3/envs/dltest/lib/python3.10/site-packages/threadpoolctl.py\", line 400, in match_module_callback\n",
      "    self._make_module_from_path(filepath)\n",
      "  File \"/home/mbmk92/anaconda3/envs/dltest/lib/python3.10/site-packages/threadpoolctl.py\", line 515, in _make_module_from_path\n",
      "    module = module_class(filepath, prefix, user_api, internal_api)\n",
      "  File \"/home/mbmk92/anaconda3/envs/dltest/lib/python3.10/site-packages/threadpoolctl.py\", line 606, in __init__\n",
      "    self.version = self.get_version()\n",
      "  File \"/home/mbmk92/anaconda3/envs/dltest/lib/python3.10/site-packages/threadpoolctl.py\", line 646, in get_version\n",
      "    config = get_config().split()\n",
      "AttributeError: 'NoneType' object has no attribute 'split'\n"
     ]
    },
    {
     "name": "stdout",
     "output_type": "stream",
     "text": [
      "-- Dataset shape --\n",
      "Original dataset shape\n",
      "Counter({0: 1428, 1: 444})\n"
     ]
    },
    {
     "name": "stderr",
     "output_type": "stream",
     "text": [
      "Exception ignored on calling ctypes callback function: <function _ThreadpoolInfo._find_modules_with_dl_iterate_phdr.<locals>.match_module_callback at 0x7fd2bee65510>\n",
      "Traceback (most recent call last):\n",
      "  File \"/home/mbmk92/anaconda3/envs/dltest/lib/python3.10/site-packages/threadpoolctl.py\", line 400, in match_module_callback\n",
      "    self._make_module_from_path(filepath)\n",
      "  File \"/home/mbmk92/anaconda3/envs/dltest/lib/python3.10/site-packages/threadpoolctl.py\", line 515, in _make_module_from_path\n",
      "    module = module_class(filepath, prefix, user_api, internal_api)\n",
      "  File \"/home/mbmk92/anaconda3/envs/dltest/lib/python3.10/site-packages/threadpoolctl.py\", line 606, in __init__\n",
      "    self.version = self.get_version()\n",
      "  File \"/home/mbmk92/anaconda3/envs/dltest/lib/python3.10/site-packages/threadpoolctl.py\", line 646, in get_version\n",
      "    config = get_config().split()\n",
      "AttributeError: 'NoneType' object has no attribute 'split'\n",
      "Exception ignored on calling ctypes callback function: <function _ThreadpoolInfo._find_modules_with_dl_iterate_phdr.<locals>.match_module_callback at 0x7fd2bee655a0>\n",
      "Traceback (most recent call last):\n",
      "  File \"/home/mbmk92/anaconda3/envs/dltest/lib/python3.10/site-packages/threadpoolctl.py\", line 400, in match_module_callback\n",
      "    self._make_module_from_path(filepath)\n",
      "  File \"/home/mbmk92/anaconda3/envs/dltest/lib/python3.10/site-packages/threadpoolctl.py\", line 515, in _make_module_from_path\n",
      "    module = module_class(filepath, prefix, user_api, internal_api)\n",
      "  File \"/home/mbmk92/anaconda3/envs/dltest/lib/python3.10/site-packages/threadpoolctl.py\", line 606, in __init__\n",
      "    self.version = self.get_version()\n",
      "  File \"/home/mbmk92/anaconda3/envs/dltest/lib/python3.10/site-packages/threadpoolctl.py\", line 646, in get_version\n",
      "    config = get_config().split()\n",
      "AttributeError: 'NoneType' object has no attribute 'split'\n",
      "Exception ignored on calling ctypes callback function: <function _ThreadpoolInfo._find_modules_with_dl_iterate_phdr.<locals>.match_module_callback at 0x7fd2bee653f0>\n",
      "Traceback (most recent call last):\n",
      "  File \"/home/mbmk92/anaconda3/envs/dltest/lib/python3.10/site-packages/threadpoolctl.py\", line 400, in match_module_callback\n",
      "    self._make_module_from_path(filepath)\n",
      "  File \"/home/mbmk92/anaconda3/envs/dltest/lib/python3.10/site-packages/threadpoolctl.py\", line 515, in _make_module_from_path\n",
      "    module = module_class(filepath, prefix, user_api, internal_api)\n",
      "  File \"/home/mbmk92/anaconda3/envs/dltest/lib/python3.10/site-packages/threadpoolctl.py\", line 606, in __init__\n",
      "    self.version = self.get_version()\n",
      "  File \"/home/mbmk92/anaconda3/envs/dltest/lib/python3.10/site-packages/threadpoolctl.py\", line 646, in get_version\n",
      "    config = get_config().split()\n",
      "AttributeError: 'NoneType' object has no attribute 'split'\n",
      "Exception ignored on calling ctypes callback function: <function _ThreadpoolInfo._find_modules_with_dl_iterate_phdr.<locals>.match_module_callback at 0x7fd2bef02950>\n",
      "Traceback (most recent call last):\n",
      "  File \"/home/mbmk92/anaconda3/envs/dltest/lib/python3.10/site-packages/threadpoolctl.py\", line 400, in match_module_callback\n",
      "    self._make_module_from_path(filepath)\n",
      "  File \"/home/mbmk92/anaconda3/envs/dltest/lib/python3.10/site-packages/threadpoolctl.py\", line 515, in _make_module_from_path\n",
      "    module = module_class(filepath, prefix, user_api, internal_api)\n",
      "  File \"/home/mbmk92/anaconda3/envs/dltest/lib/python3.10/site-packages/threadpoolctl.py\", line 606, in __init__\n",
      "    self.version = self.get_version()\n",
      "  File \"/home/mbmk92/anaconda3/envs/dltest/lib/python3.10/site-packages/threadpoolctl.py\", line 646, in get_version\n",
      "    config = get_config().split()\n",
      "AttributeError: 'NoneType' object has no attribute 'split'\n",
      "Exception ignored on calling ctypes callback function: <function _ThreadpoolInfo._find_modules_with_dl_iterate_phdr.<locals>.match_module_callback at 0x7fd2bef02950>\n",
      "Traceback (most recent call last):\n",
      "  File \"/home/mbmk92/anaconda3/envs/dltest/lib/python3.10/site-packages/threadpoolctl.py\", line 400, in match_module_callback\n",
      "    self._make_module_from_path(filepath)\n",
      "  File \"/home/mbmk92/anaconda3/envs/dltest/lib/python3.10/site-packages/threadpoolctl.py\", line 515, in _make_module_from_path\n",
      "    module = module_class(filepath, prefix, user_api, internal_api)\n",
      "  File \"/home/mbmk92/anaconda3/envs/dltest/lib/python3.10/site-packages/threadpoolctl.py\", line 606, in __init__\n",
      "    self.version = self.get_version()\n",
      "  File \"/home/mbmk92/anaconda3/envs/dltest/lib/python3.10/site-packages/threadpoolctl.py\", line 646, in get_version\n",
      "    config = get_config().split()\n",
      "AttributeError: 'NoneType' object has no attribute 'split'\n",
      "Exception ignored on calling ctypes callback function: <function _ThreadpoolInfo._find_modules_with_dl_iterate_phdr.<locals>.match_module_callback at 0x7fd2bee653f0>\n",
      "Traceback (most recent call last):\n",
      "  File \"/home/mbmk92/anaconda3/envs/dltest/lib/python3.10/site-packages/threadpoolctl.py\", line 400, in match_module_callback\n",
      "    self._make_module_from_path(filepath)\n",
      "  File \"/home/mbmk92/anaconda3/envs/dltest/lib/python3.10/site-packages/threadpoolctl.py\", line 515, in _make_module_from_path\n",
      "    module = module_class(filepath, prefix, user_api, internal_api)\n",
      "  File \"/home/mbmk92/anaconda3/envs/dltest/lib/python3.10/site-packages/threadpoolctl.py\", line 606, in __init__\n",
      "    self.version = self.get_version()\n",
      "  File \"/home/mbmk92/anaconda3/envs/dltest/lib/python3.10/site-packages/threadpoolctl.py\", line 646, in get_version\n",
      "    config = get_config().split()\n",
      "AttributeError: 'NoneType' object has no attribute 'split'\n",
      "Exception ignored on calling ctypes callback function: <function _ThreadpoolInfo._find_modules_with_dl_iterate_phdr.<locals>.match_module_callback at 0x7fd2bef02950>\n",
      "Traceback (most recent call last):\n",
      "  File \"/home/mbmk92/anaconda3/envs/dltest/lib/python3.10/site-packages/threadpoolctl.py\", line 400, in match_module_callback\n",
      "    self._make_module_from_path(filepath)\n",
      "  File \"/home/mbmk92/anaconda3/envs/dltest/lib/python3.10/site-packages/threadpoolctl.py\", line 515, in _make_module_from_path\n",
      "    module = module_class(filepath, prefix, user_api, internal_api)\n",
      "  File \"/home/mbmk92/anaconda3/envs/dltest/lib/python3.10/site-packages/threadpoolctl.py\", line 606, in __init__\n",
      "    self.version = self.get_version()\n",
      "  File \"/home/mbmk92/anaconda3/envs/dltest/lib/python3.10/site-packages/threadpoolctl.py\", line 646, in get_version\n",
      "    config = get_config().split()\n",
      "AttributeError: 'NoneType' object has no attribute 'split'\n",
      "Exception ignored on calling ctypes callback function: <function _ThreadpoolInfo._find_modules_with_dl_iterate_phdr.<locals>.match_module_callback at 0x7fd2bef02950>\n",
      "Traceback (most recent call last):\n",
      "  File \"/home/mbmk92/anaconda3/envs/dltest/lib/python3.10/site-packages/threadpoolctl.py\", line 400, in match_module_callback\n",
      "    self._make_module_from_path(filepath)\n",
      "  File \"/home/mbmk92/anaconda3/envs/dltest/lib/python3.10/site-packages/threadpoolctl.py\", line 515, in _make_module_from_path\n",
      "    module = module_class(filepath, prefix, user_api, internal_api)\n",
      "  File \"/home/mbmk92/anaconda3/envs/dltest/lib/python3.10/site-packages/threadpoolctl.py\", line 606, in __init__\n",
      "    self.version = self.get_version()\n",
      "  File \"/home/mbmk92/anaconda3/envs/dltest/lib/python3.10/site-packages/threadpoolctl.py\", line 646, in get_version\n",
      "    config = get_config().split()\n",
      "AttributeError: 'NoneType' object has no attribute 'split'\n"
     ]
    },
    {
     "name": "stdout",
     "output_type": "stream",
     "text": [
      "Resampled dataset shape Counter({1: 1430, 0: 1428})\n",
      "\n",
      "DecisionTreeClassifier_KMeansSMOTE\n",
      "\n",
      "Training time: 0.836sec\n",
      "Prediction time (train): 0.005sec\n",
      "Prediction time (test): 0.001sec\n",
      "\n",
      "-- Check for Overfitting --\n",
      "Train set score: 1.0000 sec \n",
      "Test set score: 0.7372 sec\n",
      "Prediction time (test): 0.001sec\n",
      "\n",
      "-- classification Report --\n",
      "              precision    recall  f1-score   support\n",
      "\n",
      "           0       0.83      0.82      0.83       448\n",
      "           1       0.44      0.46      0.45       138\n",
      "\n",
      "    accuracy                           0.74       586\n",
      "   macro avg       0.64      0.64      0.64       586\n",
      "weighted avg       0.74      0.74      0.74       586\n",
      "\n",
      "\n",
      "-- Confusion matrix --\n",
      " [[369  79]\n",
      " [ 75  63]]\n",
      "True Positives(TP) =  369\n",
      "True Negatives(TN) =  63\n",
      "False Positives(FP) =  79\n",
      "False Negatives(FN) =  75\n",
      "--------------------------------------------------------------------------------\n",
      "Accuracy :0.7372013651877133\n",
      "Precision :0.44366197183098594\n",
      "Recall :0.45652173913043476\n",
      "F1_score :0.45\n",
      "F05_score :0.44617563739376775\n",
      "F2_score :0.45389048991354464\n",
      "Roc auc score :0.6400912267080746\n",
      "Matthews_corrcoef :0.27744942354228413\n",
      "Cohen_kappa :0.2774005508936006\n",
      "True_positive_rate :0.45652173913043476\n",
      "True_negative_rate :0.8236607142857143\n",
      "Positive_predictive_value :0.44366197183098594\n",
      "Negative_predictive_value :0.831081081081081\n",
      "False_positive_rate :0.17633928571428573\n",
      "False_negative_rate :0.5434782608695652\n",
      "False_discovery_rate :0.5563380281690141\n",
      "################################################################################\n",
      "\n",
      "RandomForestClassifier_KMeansSMOTE\n",
      "\n",
      "Training time: 0.926sec\n",
      "Prediction time (train): 0.047sec\n",
      "Prediction time (test): 0.012sec\n",
      "\n",
      "-- Check for Overfitting --\n",
      "Train set score: 1.0000 sec \n",
      "Test set score: 0.9744 sec\n",
      "Prediction time (test): 0.011sec\n",
      "\n",
      "-- classification Report --\n",
      "              precision    recall  f1-score   support\n",
      "\n",
      "           0       0.98      0.98      0.98       448\n",
      "           1       0.95      0.94      0.95       138\n",
      "\n",
      "    accuracy                           0.97       586\n",
      "   macro avg       0.97      0.96      0.96       586\n",
      "weighted avg       0.97      0.97      0.97       586\n",
      "\n",
      "\n",
      "-- Confusion matrix --\n",
      " [[441   7]\n",
      " [  8 130]]\n",
      "True Positives(TP) =  441\n",
      "True Negatives(TN) =  130\n",
      "False Positives(FP) =  7\n",
      "False Negatives(FN) =  8\n",
      "--------------------------------------------------------------------------------\n",
      "Accuracy :0.9744027303754266\n",
      "Precision :0.948905109489051\n",
      "Recall :0.9420289855072463\n",
      "F1_score :0.9454545454545454\n",
      "F05_score :0.9475218658892125\n",
      "F2_score :0.9433962264150942\n",
      "Roc auc score :0.9897289078674949\n",
      "Matthews_corrcoef :0.9287429089498088\n",
      "Cohen_kappa :0.9287324263406249\n",
      "True_positive_rate :0.9420289855072463\n",
      "True_negative_rate :0.984375\n",
      "Positive_predictive_value :0.948905109489051\n",
      "Negative_predictive_value :0.9821826280623608\n",
      "False_positive_rate :0.015625\n",
      "False_negative_rate :0.057971014492753624\n",
      "False_discovery_rate :0.051094890510948905\n",
      "################################################################################\n",
      "\n",
      "XGBClassifier_KMeansSMOTE\n",
      "[0]\tvalidation_0-logloss:0.61001\n",
      "[1]\tvalidation_0-logloss:0.58295\n",
      "[2]\tvalidation_0-logloss:0.52784\n",
      "[3]\tvalidation_0-logloss:0.49838\n",
      "[4]\tvalidation_0-logloss:0.46986\n",
      "[5]\tvalidation_0-logloss:0.45449\n",
      "[6]\tvalidation_0-logloss:0.44081\n",
      "[7]\tvalidation_0-logloss:0.45689\n",
      "[8]\tvalidation_0-logloss:0.45188\n",
      "[9]\tvalidation_0-logloss:0.48865\n",
      "[10]\tvalidation_0-logloss:0.51046\n",
      "[11]\tvalidation_0-logloss:0.52558\n",
      "[12]\tvalidation_0-logloss:0.52182\n",
      "[13]\tvalidation_0-logloss:0.53616\n",
      "[14]\tvalidation_0-logloss:0.55887\n",
      "[15]\tvalidation_0-logloss:0.58375\n",
      "[16]\tvalidation_0-logloss:0.59704\n",
      "\n",
      "Training time: 0.914sec\n",
      "Prediction time (train): 0.009sec\n",
      "Prediction time (test): 0.003sec\n",
      "\n",
      "-- Check for Overfitting --\n",
      "Train set score: 1.0000 sec \n",
      "Test set score: 0.8072 sec\n",
      "Prediction time (test): 0.002sec\n",
      "\n",
      "-- classification Report --\n",
      "              precision    recall  f1-score   support\n",
      "\n",
      "           0       0.96      0.78      0.86       448\n",
      "           1       0.56      0.89      0.69       138\n",
      "\n",
      "    accuracy                           0.81       586\n",
      "   macro avg       0.76      0.84      0.77       586\n",
      "weighted avg       0.86      0.81      0.82       586\n",
      "\n",
      "\n",
      "-- Confusion matrix --\n",
      " [[350  98]\n",
      " [ 15 123]]\n",
      "True Positives(TP) =  350\n",
      "True Negatives(TN) =  123\n",
      "False Positives(FP) =  98\n",
      "False Negatives(FN) =  15\n",
      "--------------------------------------------------------------------------------\n",
      "Accuracy :0.8071672354948806\n",
      "Precision :0.5565610859728507\n",
      "Recall :0.8913043478260869\n",
      "F1_score :0.6852367688022284\n",
      "F05_score :0.601761252446184\n",
      "F2_score :0.7956015523932729\n",
      "Roc auc score :0.8686998576604554\n",
      "Matthews_corrcoef :0.5887939864062595\n",
      "Cohen_kappa :0.5567084845157921\n",
      "True_positive_rate :0.8913043478260869\n",
      "True_negative_rate :0.78125\n",
      "Positive_predictive_value :0.5565610859728507\n",
      "Negative_predictive_value :0.958904109589041\n",
      "False_positive_rate :0.21875\n",
      "False_negative_rate :0.10869565217391304\n",
      "False_discovery_rate :0.4434389140271493\n",
      "################################################################################\n",
      "\n",
      "LGBMClassifier_KMeansSMOTE\n",
      "[LightGBM] [Warning] early_stopping_round is set=10, early_stopping_rounds=10 will be ignored. Current value: early_stopping_round=10\n",
      "[LightGBM] [Info] Number of positive: 1430, number of negative: 1428\n",
      "[LightGBM] [Debug] Dataset::GetMultiBinFromSparseFeatures: sparse rate 0.914302\n",
      "[LightGBM] [Debug] Dataset::GetMultiBinFromAllFeatures: sparse rate 0.909815\n",
      "[LightGBM] [Debug] init for col-wise cost 0.022814 seconds, init for row-wise cost 0.025876 seconds\n",
      "[LightGBM] [Info] Auto-choosing row-wise multi-threading, the overhead of testing was 0.030472 seconds.\n",
      "You can set `force_row_wise=true` to remove the overhead.\n",
      "And if memory is not enough, you can set `force_col_wise=true`.\n",
      "[LightGBM] [Debug] Using Sparse Multi-Val Bin\n",
      "[LightGBM] [Info] Total Bins 164766\n",
      "[LightGBM] [Info] Number of data points in the train set: 2858, number of used features: 1994\n",
      "[LightGBM] [Warning] early_stopping_round is set=10, early_stopping_rounds=10 will be ignored. Current value: early_stopping_round=10\n",
      "[LightGBM] [Info] [binary:BoostFromScore]: pavg=0.500350 -> initscore=0.001400\n",
      "[LightGBM] [Info] Start training from score 0.001400\n",
      "[LightGBM] [Warning] No further splits with positive gain, best gain: -inf\n",
      "[LightGBM] [Debug] Trained a tree with leaves = 26 and depth = 16\n",
      "Training until validation scores don't improve for 10 rounds\n",
      "[LightGBM] [Debug] Trained a tree with leaves = 31 and depth = 19\n",
      "[LightGBM] [Debug] Trained a tree with leaves = 31 and depth = 20\n",
      "[LightGBM] [Debug] Trained a tree with leaves = 31 and depth = 17\n",
      "[LightGBM] [Debug] Trained a tree with leaves = 31 and depth = 22\n",
      "[LightGBM] [Debug] Trained a tree with leaves = 31 and depth = 19\n",
      "[LightGBM] [Debug] Trained a tree with leaves = 31 and depth = 22\n",
      "[LightGBM] [Debug] Trained a tree with leaves = 31 and depth = 19\n",
      "[LightGBM] [Debug] Trained a tree with leaves = 31 and depth = 12\n",
      "[LightGBM] [Debug] Trained a tree with leaves = 31 and depth = 10\n",
      "[LightGBM] [Debug] Trained a tree with leaves = 31 and depth = 19\n",
      "[LightGBM] [Debug] Trained a tree with leaves = 31 and depth = 12\n",
      "[LightGBM] [Debug] Trained a tree with leaves = 31 and depth = 19\n",
      "[LightGBM] [Debug] Trained a tree with leaves = 31 and depth = 13\n",
      "[LightGBM] [Debug] Trained a tree with leaves = 31 and depth = 10\n",
      "[LightGBM] [Debug] Trained a tree with leaves = 31 and depth = 20\n",
      "[LightGBM] [Debug] Trained a tree with leaves = 31 and depth = 12\n",
      "[LightGBM] [Debug] Trained a tree with leaves = 31 and depth = 13\n",
      "[LightGBM] [Debug] Trained a tree with leaves = 31 and depth = 20\n",
      "[LightGBM] [Debug] Trained a tree with leaves = 31 and depth = 13\n",
      "[LightGBM] [Debug] Trained a tree with leaves = 31 and depth = 20\n",
      "[LightGBM] [Debug] Trained a tree with leaves = 31 and depth = 19\n",
      "[LightGBM] [Debug] Trained a tree with leaves = 31 and depth = 20\n",
      "[LightGBM] [Debug] Trained a tree with leaves = 31 and depth = 11\n",
      "[LightGBM] [Debug] Trained a tree with leaves = 31 and depth = 11\n",
      "[LightGBM] [Debug] Trained a tree with leaves = 31 and depth = 12\n",
      "[LightGBM] [Debug] Trained a tree with leaves = 31 and depth = 10\n",
      "[LightGBM] [Debug] Trained a tree with leaves = 31 and depth = 11\n",
      "[LightGBM] [Debug] Trained a tree with leaves = 31 and depth = 12\n",
      "[LightGBM] [Debug] Trained a tree with leaves = 31 and depth = 11\n",
      "[LightGBM] [Debug] Trained a tree with leaves = 31 and depth = 18\n",
      "[LightGBM] [Debug] Trained a tree with leaves = 31 and depth = 11\n",
      "[LightGBM] [Debug] Trained a tree with leaves = 31 and depth = 11\n",
      "[LightGBM] [Debug] Trained a tree with leaves = 31 and depth = 18\n",
      "[LightGBM] [Debug] Trained a tree with leaves = 31 and depth = 12\n",
      "[LightGBM] [Debug] Trained a tree with leaves = 31 and depth = 11\n",
      "[LightGBM] [Debug] Trained a tree with leaves = 31 and depth = 12\n",
      "[LightGBM] [Debug] Trained a tree with leaves = 31 and depth = 19\n",
      "[LightGBM] [Debug] Trained a tree with leaves = 31 and depth = 16\n",
      "[LightGBM] [Debug] Trained a tree with leaves = 31 and depth = 12\n",
      "Early stopping, best iteration is:\n",
      "[30]\tvalid_0's binary_logloss: 0.483462\n",
      "\n",
      "Training time: 0.951sec\n",
      "Prediction time (train): 0.006sec\n",
      "Prediction time (test): 0.002sec\n",
      "\n",
      "-- Check for Overfitting --\n",
      "Train set score: 1.0000 sec \n",
      "Test set score: 0.7952 sec\n",
      "Prediction time (test): 0.001sec\n",
      "\n",
      "-- classification Report --\n",
      "              precision    recall  f1-score   support\n",
      "\n",
      "           0       0.95      0.77      0.85       448\n",
      "           1       0.54      0.88      0.67       138\n",
      "\n",
      "    accuracy                           0.80       586\n",
      "   macro avg       0.75      0.82      0.76       586\n",
      "weighted avg       0.86      0.80      0.81       586\n",
      "\n",
      "\n",
      "-- Confusion matrix --\n",
      " [[345 103]\n",
      " [ 17 121]]\n",
      "True Positives(TP) =  345\n",
      "True Negatives(TN) =  121\n",
      "False Positives(FP) =  103\n",
      "False Negatives(FN) =  17\n",
      "--------------------------------------------------------------------------------\n",
      "Accuracy :0.7952218430034129\n",
      "Precision :0.5401785714285714\n",
      "Recall :0.8768115942028986\n",
      "F1_score :0.6685082872928176\n",
      "F05_score :0.5851063829787233\n",
      "F2_score :0.7796391752577319\n",
      "Roc auc score :0.8685381081780539\n",
      "Matthews_corrcoef :0.5648563269359005\n",
      "Cohen_kappa :0.532160630172712\n",
      "True_positive_rate :0.8768115942028986\n",
      "True_negative_rate :0.7700892857142857\n",
      "Positive_predictive_value :0.5401785714285714\n",
      "Negative_predictive_value :0.9530386740331491\n",
      "False_positive_rate :0.22991071428571427\n",
      "False_negative_rate :0.12318840579710146\n",
      "False_discovery_rate :0.45982142857142855\n",
      "################################################################################\n",
      "Training and testing time of all models 3.7875 seconds\n"
     ]
    }
   ],
   "source": [
    "# over-sampling using SMOTE.\n",
    "sampling = KMeansSMOTE(random_state=42)\n",
    "\n",
    "#set the evaluation set for early stop models\n",
    "# eval_set = [(X_validation, y_validation)]\n",
    "\n",
    "#train the models\n",
    "df_results = train_models_sampling(models, es_models, X_train, y_train, eval_set, X_test, y_test, sampling)"
   ]
  },
  {
   "cell_type": "code",
   "execution_count": 65,
   "id": "39322d59-68aa-46ad-98da-d3f9ad89e181",
   "metadata": {
    "ExecuteTime": {
     "end_time": "2023-10-24T15:48:03.281975700Z",
     "start_time": "2023-10-24T15:48:03.277370200Z"
    }
   },
   "outputs": [
    {
     "data": {
      "text/plain": "                                          F1_score  Precision    Recall  \\\nDecisionTreeClassifier_                   0.555066   0.707865  0.456522   \nRandomForestClassifier_                   0.886667   0.820988  0.963768   \nXGBClassifier_                            0.730061   0.632979  0.862319   \nLGBMClassifier_                           0.742857   0.661017  0.847826   \nDecisionTreeClassifier_RandomOverSampler  0.643068   0.542289  0.789855   \nRandomForestClassifier_RandomOverSampler  0.925373   0.953846  0.898551   \nXGBClassifier_RandomOverSampler           0.597222   0.438776  0.934783   \nLGBMClassifier_RandomOverSampler          0.612529   0.450512  0.956522   \nDecisionTreeClassifier_SMOTE              0.484848   0.452830  0.521739   \nRandomForestClassifier_SMOTE              0.881119   0.851351  0.913043   \nXGBClassifier_SMOTE                       0.697674   0.582524  0.869565   \nLGBMClassifier_SMOTE                      0.677871   0.552511  0.876812   \nDecisionTreeClassifier_ADASYN             0.270270   0.357143  0.217391   \nRandomForestClassifier_ADASYN             0.913043   0.913043  0.913043   \nXGBClassifier_ADASYN                      0.664773   0.546729  0.847826   \nLGBMClassifier_ADASYN                     0.677966   0.555556  0.869565   \nDecisionTreeClassifier_KMeansSMOTE        0.450000   0.443662  0.456522   \nRandomForestClassifier_KMeansSMOTE        0.945455   0.948905  0.942029   \nXGBClassifier_KMeansSMOTE                 0.685237   0.556561  0.891304   \nLGBMClassifier_KMeansSMOTE                0.668508   0.540179  0.876812   \n\n                                           ROC AUC  Accuracy  Training time  \\\nDecisionTreeClassifier_                   0.699243  0.827645       0.714897   \nRandomForestClassifier_                   0.978843  0.941980       0.776554   \nXGBClassifier_                            0.924034  0.849829       0.826716   \nLGBMClassifier_                           0.936578  0.861775       0.882471   \nDecisionTreeClassifier_RandomOverSampler  0.792249  0.793515       0.273504   \nRandomForestClassifier_RandomOverSampler  0.975907  0.965870       0.813227   \nXGBClassifier_RandomOverSampler           0.881163  0.703072       0.651464   \nLGBMClassifier_RandomOverSampler          0.914677  0.715017       0.473810   \nDecisionTreeClassifier_SMOTE              0.663771  0.738908       1.375099   \nRandomForestClassifier_SMOTE              0.981366  0.941980       1.203064   \nXGBClassifier_SMOTE                       0.880063  0.822526       1.524563   \nLGBMClassifier_SMOTE                      0.894313  0.803754       1.641497   \nDecisionTreeClassifier_ADASYN             0.548428  0.723549       1.015900   \nRandomForestClassifier_ADASYN             0.980072  0.959044       0.968710   \nXGBClassifier_ADASYN                      0.896003  0.798635       0.881170   \nLGBMClassifier_ADASYN                     0.895494  0.805461       1.046867   \nDecisionTreeClassifier_KMeansSMOTE        0.640091  0.737201       0.836177   \nRandomForestClassifier_KMeansSMOTE        0.989729  0.974403       0.925751   \nXGBClassifier_KMeansSMOTE                 0.868700  0.807167       0.913915   \nLGBMClassifier_KMeansSMOTE                0.868538  0.795222       0.950605   \n\n                                          Test time  \nDecisionTreeClassifier_                    0.002750  \nRandomForestClassifier_                    0.012892  \nXGBClassifier_                             0.003260  \nLGBMClassifier_                            0.001260  \nDecisionTreeClassifier_RandomOverSampler   0.001197  \nRandomForestClassifier_RandomOverSampler   0.010094  \nXGBClassifier_RandomOverSampler            0.001599  \nLGBMClassifier_RandomOverSampler           0.001459  \nDecisionTreeClassifier_SMOTE               0.001304  \nRandomForestClassifier_SMOTE               0.011693  \nXGBClassifier_SMOTE                        0.003798  \nLGBMClassifier_SMOTE                       0.001655  \nDecisionTreeClassifier_ADASYN              0.001883  \nRandomForestClassifier_ADASYN              0.012091  \nXGBClassifier_ADASYN                       0.004550  \nLGBMClassifier_ADASYN                      0.001665  \nDecisionTreeClassifier_KMeansSMOTE         0.000793  \nRandomForestClassifier_KMeansSMOTE         0.011200  \nXGBClassifier_KMeansSMOTE                  0.001593  \nLGBMClassifier_KMeansSMOTE                 0.001171  ",
      "text/html": "<div>\n<style scoped>\n    .dataframe tbody tr th:only-of-type {\n        vertical-align: middle;\n    }\n\n    .dataframe tbody tr th {\n        vertical-align: top;\n    }\n\n    .dataframe thead th {\n        text-align: right;\n    }\n</style>\n<table border=\"1\" class=\"dataframe\">\n  <thead>\n    <tr style=\"text-align: right;\">\n      <th></th>\n      <th>F1_score</th>\n      <th>Precision</th>\n      <th>Recall</th>\n      <th>ROC AUC</th>\n      <th>Accuracy</th>\n      <th>Training time</th>\n      <th>Test time</th>\n    </tr>\n  </thead>\n  <tbody>\n    <tr>\n      <th>DecisionTreeClassifier_</th>\n      <td>0.555066</td>\n      <td>0.707865</td>\n      <td>0.456522</td>\n      <td>0.699243</td>\n      <td>0.827645</td>\n      <td>0.714897</td>\n      <td>0.002750</td>\n    </tr>\n    <tr>\n      <th>RandomForestClassifier_</th>\n      <td>0.886667</td>\n      <td>0.820988</td>\n      <td>0.963768</td>\n      <td>0.978843</td>\n      <td>0.941980</td>\n      <td>0.776554</td>\n      <td>0.012892</td>\n    </tr>\n    <tr>\n      <th>XGBClassifier_</th>\n      <td>0.730061</td>\n      <td>0.632979</td>\n      <td>0.862319</td>\n      <td>0.924034</td>\n      <td>0.849829</td>\n      <td>0.826716</td>\n      <td>0.003260</td>\n    </tr>\n    <tr>\n      <th>LGBMClassifier_</th>\n      <td>0.742857</td>\n      <td>0.661017</td>\n      <td>0.847826</td>\n      <td>0.936578</td>\n      <td>0.861775</td>\n      <td>0.882471</td>\n      <td>0.001260</td>\n    </tr>\n    <tr>\n      <th>DecisionTreeClassifier_RandomOverSampler</th>\n      <td>0.643068</td>\n      <td>0.542289</td>\n      <td>0.789855</td>\n      <td>0.792249</td>\n      <td>0.793515</td>\n      <td>0.273504</td>\n      <td>0.001197</td>\n    </tr>\n    <tr>\n      <th>RandomForestClassifier_RandomOverSampler</th>\n      <td>0.925373</td>\n      <td>0.953846</td>\n      <td>0.898551</td>\n      <td>0.975907</td>\n      <td>0.965870</td>\n      <td>0.813227</td>\n      <td>0.010094</td>\n    </tr>\n    <tr>\n      <th>XGBClassifier_RandomOverSampler</th>\n      <td>0.597222</td>\n      <td>0.438776</td>\n      <td>0.934783</td>\n      <td>0.881163</td>\n      <td>0.703072</td>\n      <td>0.651464</td>\n      <td>0.001599</td>\n    </tr>\n    <tr>\n      <th>LGBMClassifier_RandomOverSampler</th>\n      <td>0.612529</td>\n      <td>0.450512</td>\n      <td>0.956522</td>\n      <td>0.914677</td>\n      <td>0.715017</td>\n      <td>0.473810</td>\n      <td>0.001459</td>\n    </tr>\n    <tr>\n      <th>DecisionTreeClassifier_SMOTE</th>\n      <td>0.484848</td>\n      <td>0.452830</td>\n      <td>0.521739</td>\n      <td>0.663771</td>\n      <td>0.738908</td>\n      <td>1.375099</td>\n      <td>0.001304</td>\n    </tr>\n    <tr>\n      <th>RandomForestClassifier_SMOTE</th>\n      <td>0.881119</td>\n      <td>0.851351</td>\n      <td>0.913043</td>\n      <td>0.981366</td>\n      <td>0.941980</td>\n      <td>1.203064</td>\n      <td>0.011693</td>\n    </tr>\n    <tr>\n      <th>XGBClassifier_SMOTE</th>\n      <td>0.697674</td>\n      <td>0.582524</td>\n      <td>0.869565</td>\n      <td>0.880063</td>\n      <td>0.822526</td>\n      <td>1.524563</td>\n      <td>0.003798</td>\n    </tr>\n    <tr>\n      <th>LGBMClassifier_SMOTE</th>\n      <td>0.677871</td>\n      <td>0.552511</td>\n      <td>0.876812</td>\n      <td>0.894313</td>\n      <td>0.803754</td>\n      <td>1.641497</td>\n      <td>0.001655</td>\n    </tr>\n    <tr>\n      <th>DecisionTreeClassifier_ADASYN</th>\n      <td>0.270270</td>\n      <td>0.357143</td>\n      <td>0.217391</td>\n      <td>0.548428</td>\n      <td>0.723549</td>\n      <td>1.015900</td>\n      <td>0.001883</td>\n    </tr>\n    <tr>\n      <th>RandomForestClassifier_ADASYN</th>\n      <td>0.913043</td>\n      <td>0.913043</td>\n      <td>0.913043</td>\n      <td>0.980072</td>\n      <td>0.959044</td>\n      <td>0.968710</td>\n      <td>0.012091</td>\n    </tr>\n    <tr>\n      <th>XGBClassifier_ADASYN</th>\n      <td>0.664773</td>\n      <td>0.546729</td>\n      <td>0.847826</td>\n      <td>0.896003</td>\n      <td>0.798635</td>\n      <td>0.881170</td>\n      <td>0.004550</td>\n    </tr>\n    <tr>\n      <th>LGBMClassifier_ADASYN</th>\n      <td>0.677966</td>\n      <td>0.555556</td>\n      <td>0.869565</td>\n      <td>0.895494</td>\n      <td>0.805461</td>\n      <td>1.046867</td>\n      <td>0.001665</td>\n    </tr>\n    <tr>\n      <th>DecisionTreeClassifier_KMeansSMOTE</th>\n      <td>0.450000</td>\n      <td>0.443662</td>\n      <td>0.456522</td>\n      <td>0.640091</td>\n      <td>0.737201</td>\n      <td>0.836177</td>\n      <td>0.000793</td>\n    </tr>\n    <tr>\n      <th>RandomForestClassifier_KMeansSMOTE</th>\n      <td>0.945455</td>\n      <td>0.948905</td>\n      <td>0.942029</td>\n      <td>0.989729</td>\n      <td>0.974403</td>\n      <td>0.925751</td>\n      <td>0.011200</td>\n    </tr>\n    <tr>\n      <th>XGBClassifier_KMeansSMOTE</th>\n      <td>0.685237</td>\n      <td>0.556561</td>\n      <td>0.891304</td>\n      <td>0.868700</td>\n      <td>0.807167</td>\n      <td>0.913915</td>\n      <td>0.001593</td>\n    </tr>\n    <tr>\n      <th>LGBMClassifier_KMeansSMOTE</th>\n      <td>0.668508</td>\n      <td>0.540179</td>\n      <td>0.876812</td>\n      <td>0.868538</td>\n      <td>0.795222</td>\n      <td>0.950605</td>\n      <td>0.001171</td>\n    </tr>\n  </tbody>\n</table>\n</div>"
     },
     "execution_count": 65,
     "metadata": {},
     "output_type": "execute_result"
    }
   ],
   "source": [
    "df_results"
   ]
  },
  {
   "cell_type": "markdown",
   "id": "5bec9450-8631-4c61-b1b6-d69d2abdb448",
   "metadata": {},
   "source": [
    "## Borderline SMOTE method"
   ]
  },
  {
   "cell_type": "code",
   "execution_count": 66,
   "id": "6954b18f-d313-49f6-9d31-f24eda077316",
   "metadata": {
    "scrolled": false,
    "ExecuteTime": {
     "end_time": "2023-10-24T15:48:06.361425800Z",
     "start_time": "2023-10-24T15:48:03.282976400Z"
    }
   },
   "outputs": [
    {
     "name": "stdout",
     "output_type": "stream",
     "text": [
      "-- Dataset shape --\n",
      "Original dataset shape\n",
      "Counter({0: 1428, 1: 444})\n"
     ]
    },
    {
     "name": "stderr",
     "output_type": "stream",
     "text": [
      "Exception ignored on calling ctypes callback function: <function _ThreadpoolInfo._find_modules_with_dl_iterate_phdr.<locals>.match_module_callback at 0x7fd2bee65900>\n",
      "Traceback (most recent call last):\n",
      "  File \"/home/mbmk92/anaconda3/envs/dltest/lib/python3.10/site-packages/threadpoolctl.py\", line 400, in match_module_callback\n",
      "    self._make_module_from_path(filepath)\n",
      "  File \"/home/mbmk92/anaconda3/envs/dltest/lib/python3.10/site-packages/threadpoolctl.py\", line 515, in _make_module_from_path\n",
      "    module = module_class(filepath, prefix, user_api, internal_api)\n",
      "  File \"/home/mbmk92/anaconda3/envs/dltest/lib/python3.10/site-packages/threadpoolctl.py\", line 606, in __init__\n",
      "    self.version = self.get_version()\n",
      "  File \"/home/mbmk92/anaconda3/envs/dltest/lib/python3.10/site-packages/threadpoolctl.py\", line 646, in get_version\n",
      "    config = get_config().split()\n",
      "AttributeError: 'NoneType' object has no attribute 'split'\n"
     ]
    },
    {
     "name": "stdout",
     "output_type": "stream",
     "text": [
      "Resampled dataset shape Counter({0: 1428, 1: 444})\n",
      "\n",
      "DecisionTreeClassifier_BorderlineSMOTE\n",
      "\n",
      "Training time: 0.92sec\n",
      "Prediction time (train): 0.016sec\n",
      "Prediction time (test): 0.002sec\n",
      "\n",
      "-- Check for Overfitting --\n",
      "Train set score: 1.0000 sec \n",
      "Test set score: 0.7918 sec\n",
      "Prediction time (test): 0.012sec\n",
      "\n",
      "-- classification Report --\n",
      "              precision    recall  f1-score   support\n",
      "\n",
      "           0       0.82      0.93      0.87       448\n",
      "           1       0.60      0.34      0.44       138\n",
      "\n",
      "    accuracy                           0.79       586\n",
      "   macro avg       0.71      0.64      0.65       586\n",
      "weighted avg       0.77      0.79      0.77       586\n",
      "\n",
      "\n",
      "-- Confusion matrix --\n",
      " [[417  31]\n",
      " [ 91  47]]\n",
      "True Positives(TP) =  417\n",
      "True Negatives(TN) =  47\n",
      "False Positives(FP) =  31\n",
      "False Negatives(FN) =  91\n",
      "--------------------------------------------------------------------------------\n",
      "Accuracy :0.7918088737201365\n",
      "Precision :0.6025641025641025\n",
      "Recall :0.34057971014492755\n",
      "F1_score :0.4351851851851852\n",
      "F05_score :0.5222222222222223\n",
      "F2_score :0.373015873015873\n",
      "Roc auc score :0.6356916407867494\n",
      "Matthews_corrcoef :0.3389865619971116\n",
      "Cohen_kappa :0.3194349249866728\n",
      "True_positive_rate :0.34057971014492755\n",
      "True_negative_rate :0.9308035714285714\n",
      "Positive_predictive_value :0.6025641025641025\n",
      "Negative_predictive_value :0.8208661417322834\n",
      "False_positive_rate :0.06919642857142858\n",
      "False_negative_rate :0.6594202898550725\n",
      "False_discovery_rate :0.3974358974358974\n",
      "################################################################################\n",
      "\n",
      "RandomForestClassifier_BorderlineSMOTE\n",
      "\n",
      "Training time: 0.744sec\n",
      "Prediction time (train): 0.026sec\n",
      "Prediction time (test): 0.011sec\n",
      "\n",
      "-- Check for Overfitting --\n",
      "Train set score: 1.0000 sec \n",
      "Test set score: 0.9386 sec\n",
      "Prediction time (test): 0.011sec\n",
      "\n",
      "-- classification Report --\n",
      "              precision    recall  f1-score   support\n",
      "\n",
      "           0       0.97      0.94      0.96       448\n",
      "           1       0.84      0.92      0.88       138\n",
      "\n",
      "    accuracy                           0.94       586\n",
      "   macro avg       0.91      0.93      0.92       586\n",
      "weighted avg       0.94      0.94      0.94       586\n",
      "\n",
      "\n",
      "-- Confusion matrix --\n",
      " [[423  25]\n",
      " [ 11 127]]\n",
      "True Positives(TP) =  423\n",
      "True Negatives(TN) =  127\n",
      "False Positives(FP) =  25\n",
      "False Negatives(FN) =  11\n",
      "--------------------------------------------------------------------------------\n",
      "Accuracy :0.9385665529010239\n",
      "Precision :0.8355263157894737\n",
      "Recall :0.9202898550724637\n",
      "F1_score :0.8758620689655173\n",
      "F05_score :0.8512064343163538\n",
      "F2_score :0.9019886363636362\n",
      "Roc auc score :0.9754221661490683\n",
      "Matthews_corrcoef :0.8368931215815515\n",
      "Cohen_kappa :0.8351720473794418\n",
      "True_positive_rate :0.9202898550724637\n",
      "True_negative_rate :0.9441964285714286\n",
      "Positive_predictive_value :0.8355263157894737\n",
      "Negative_predictive_value :0.9746543778801844\n",
      "False_positive_rate :0.05580357142857143\n",
      "False_negative_rate :0.07971014492753623\n",
      "False_discovery_rate :0.16447368421052633\n",
      "################################################################################\n",
      "\n",
      "XGBClassifier_BorderlineSMOTE\n",
      "[0]\tvalidation_0-logloss:0.45835\n",
      "[1]\tvalidation_0-logloss:0.42718\n",
      "[2]\tvalidation_0-logloss:0.36802\n",
      "[3]\tvalidation_0-logloss:0.32860\n",
      "[4]\tvalidation_0-logloss:0.30943\n",
      "[5]\tvalidation_0-logloss:0.29338\n",
      "[6]\tvalidation_0-logloss:0.30040\n",
      "[7]\tvalidation_0-logloss:0.29336\n",
      "[8]\tvalidation_0-logloss:0.30628\n",
      "[9]\tvalidation_0-logloss:0.30728\n",
      "[10]\tvalidation_0-logloss:0.32521\n",
      "[11]\tvalidation_0-logloss:0.34380\n",
      "[12]\tvalidation_0-logloss:0.36792\n",
      "[13]\tvalidation_0-logloss:0.36460\n",
      "[14]\tvalidation_0-logloss:0.38292\n",
      "[15]\tvalidation_0-logloss:0.40160\n",
      "[16]\tvalidation_0-logloss:0.41355\n",
      "[17]\tvalidation_0-logloss:0.43224\n",
      "\n",
      "Training time: 0.629sec\n",
      "Prediction time (train): 0.004sec\n",
      "Prediction time (test): 0.002sec\n",
      "\n",
      "-- Check for Overfitting --\n",
      "Train set score: 1.0000 sec \n",
      "Test set score: 0.8498 sec\n",
      "Prediction time (test): 0.001sec\n",
      "\n",
      "-- classification Report --\n",
      "              precision    recall  f1-score   support\n",
      "\n",
      "           0       0.95      0.85      0.90       448\n",
      "           1       0.63      0.86      0.73       138\n",
      "\n",
      "    accuracy                           0.85       586\n",
      "   macro avg       0.79      0.85      0.81       586\n",
      "weighted avg       0.88      0.85      0.86       586\n",
      "\n",
      "\n",
      "-- Confusion matrix --\n",
      " [[379  69]\n",
      " [ 19 119]]\n",
      "True Positives(TP) =  379\n",
      "True Negatives(TN) =  119\n",
      "False Positives(FP) =  69\n",
      "False Negatives(FN) =  19\n",
      "--------------------------------------------------------------------------------\n",
      "Accuracy :0.8498293515358362\n",
      "Precision :0.6329787234042553\n",
      "Recall :0.8623188405797102\n",
      "F1_score :0.7300613496932514\n",
      "F05_score :0.6685393258426966\n",
      "F2_score :0.804054054054054\n",
      "Roc auc score :0.9240343555900622\n",
      "Matthews_corrcoef :0.6438370048008524\n",
      "Cohen_kappa :0.6294017880242619\n",
      "True_positive_rate :0.8623188405797102\n",
      "True_negative_rate :0.8459821428571429\n",
      "Positive_predictive_value :0.6329787234042553\n",
      "Negative_predictive_value :0.9522613065326633\n",
      "False_positive_rate :0.15401785714285715\n",
      "False_negative_rate :0.13768115942028986\n",
      "False_discovery_rate :0.3670212765957447\n",
      "################################################################################\n",
      "\n",
      "LGBMClassifier_BorderlineSMOTE\n",
      "[LightGBM] [Warning] early_stopping_round is set=10, early_stopping_rounds=10 will be ignored. Current value: early_stopping_round=10\n",
      "[LightGBM] [Info] Number of positive: 444, number of negative: 1428\n",
      "[LightGBM] [Debug] Dataset::GetMultiBinFromSparseFeatures: sparse rate 0.907827\n",
      "[LightGBM] [Debug] Dataset::GetMultiBinFromAllFeatures: sparse rate 0.901524\n",
      "[LightGBM] [Debug] init for col-wise cost 0.021285 seconds, init for row-wise cost 0.019086 seconds\n",
      "[LightGBM] [Info] Auto-choosing col-wise multi-threading, the overhead of testing was 0.022424 seconds.\n",
      "You can set `force_col_wise=true` to remove the overhead.\n",
      "[LightGBM] [Info] Total Bins 123904\n",
      "[LightGBM] [Info] Number of data points in the train set: 1872, number of used features: 1993\n",
      "[LightGBM] [Warning] early_stopping_round is set=10, early_stopping_rounds=10 will be ignored. Current value: early_stopping_round=10\n",
      "[LightGBM] [Info] [binary:BoostFromScore]: pavg=0.237179 -> initscore=-1.168206\n",
      "[LightGBM] [Info] Start training from score -1.168206\n",
      "[LightGBM] [Warning] No further splits with positive gain, best gain: -inf\n",
      "[LightGBM] [Debug] Trained a tree with leaves = 22 and depth = 16\n",
      "Training until validation scores don't improve for 10 rounds\n",
      "[LightGBM] [Debug] Trained a tree with leaves = 31 and depth = 21\n",
      "[LightGBM] [Debug] Trained a tree with leaves = 31 and depth = 22\n",
      "[LightGBM] [Debug] Trained a tree with leaves = 31 and depth = 22\n",
      "[LightGBM] [Debug] Trained a tree with leaves = 31 and depth = 22\n",
      "[LightGBM] [Debug] Trained a tree with leaves = 31 and depth = 11\n",
      "[LightGBM] [Debug] Trained a tree with leaves = 31 and depth = 10\n",
      "[LightGBM] [Debug] Trained a tree with leaves = 31 and depth = 11\n",
      "[LightGBM] [Debug] Trained a tree with leaves = 31 and depth = 13\n",
      "[LightGBM] [Debug] Trained a tree with leaves = 31 and depth = 13\n",
      "[LightGBM] [Debug] Trained a tree with leaves = 31 and depth = 13\n",
      "[LightGBM] [Debug] Trained a tree with leaves = 31 and depth = 11\n",
      "[LightGBM] [Debug] Trained a tree with leaves = 31 and depth = 13\n",
      "[LightGBM] [Debug] Trained a tree with leaves = 31 and depth = 12\n",
      "[LightGBM] [Debug] Trained a tree with leaves = 31 and depth = 12\n",
      "[LightGBM] [Debug] Trained a tree with leaves = 31 and depth = 11\n",
      "[LightGBM] [Debug] Trained a tree with leaves = 31 and depth = 12\n",
      "[LightGBM] [Debug] Trained a tree with leaves = 31 and depth = 12\n",
      "[LightGBM] [Debug] Trained a tree with leaves = 31 and depth = 13\n",
      "[LightGBM] [Debug] Trained a tree with leaves = 31 and depth = 12\n",
      "[LightGBM] [Debug] Trained a tree with leaves = 31 and depth = 10\n",
      "[LightGBM] [Debug] Trained a tree with leaves = 31 and depth = 11\n",
      "[LightGBM] [Debug] Trained a tree with leaves = 31 and depth = 13\n",
      "[LightGBM] [Debug] Trained a tree with leaves = 31 and depth = 10\n",
      "[LightGBM] [Debug] Trained a tree with leaves = 31 and depth = 15\n",
      "[LightGBM] [Debug] Trained a tree with leaves = 31 and depth = 13\n",
      "[LightGBM] [Debug] Trained a tree with leaves = 31 and depth = 12\n",
      "[LightGBM] [Debug] Trained a tree with leaves = 31 and depth = 11\n",
      "[LightGBM] [Debug] Trained a tree with leaves = 31 and depth = 14\n",
      "Early stopping, best iteration is:\n",
      "[19]\tvalid_0's binary_logloss: 0.29822\n",
      "\n",
      "Training time: 0.526sec\n",
      "Prediction time (train): 0.004sec\n",
      "Prediction time (test): 0.002sec\n",
      "\n",
      "-- Check for Overfitting --\n",
      "Train set score: 1.0000 sec \n",
      "Test set score: 0.8618 sec\n",
      "Prediction time (test): 0.001sec\n",
      "\n",
      "-- classification Report --\n",
      "              precision    recall  f1-score   support\n",
      "\n",
      "           0       0.95      0.87      0.91       448\n",
      "           1       0.66      0.85      0.74       138\n",
      "\n",
      "    accuracy                           0.86       586\n",
      "   macro avg       0.80      0.86      0.82       586\n",
      "weighted avg       0.88      0.86      0.87       586\n",
      "\n",
      "\n",
      "-- Confusion matrix --\n",
      " [[388  60]\n",
      " [ 21 117]]\n",
      "True Positives(TP) =  388\n",
      "True Negatives(TN) =  117\n",
      "False Positives(FP) =  60\n",
      "False Negatives(FN) =  21\n",
      "--------------------------------------------------------------------------------\n",
      "Accuracy :0.8617747440273038\n",
      "Precision :0.6610169491525424\n",
      "Recall :0.8478260869565217\n",
      "F1_score :0.7428571428571429\n",
      "F05_score :0.6914893617021276\n",
      "F2_score :0.8024691358024691\n",
      "Roc auc score :0.9365780279503106\n",
      "Matthews_corrcoef :0.6597298485452254\n",
      "Cohen_kappa :0.6503116297573266\n",
      "True_positive_rate :0.8478260869565217\n",
      "True_negative_rate :0.8660714285714286\n",
      "Positive_predictive_value :0.6610169491525424\n",
      "Negative_predictive_value :0.9486552567237164\n",
      "False_positive_rate :0.13392857142857142\n",
      "False_negative_rate :0.15217391304347827\n",
      "False_discovery_rate :0.3389830508474576\n",
      "################################################################################\n",
      "Training and testing time of all models 3.0119 seconds\n"
     ]
    }
   ],
   "source": [
    "# over-sampling using SMOTE.\n",
    "sampling = BorderlineSMOTE(random_state=42)\n",
    "\n",
    "#set the evaluation set for early stop models\n",
    "# eval_set = [(X_validation, y_validation)]\n",
    "\n",
    "#train the models\n",
    "df_results = train_models_sampling(models, es_models, X_train, y_train, eval_set, X_test, y_test, sampling)"
   ]
  },
  {
   "cell_type": "code",
   "execution_count": 67,
   "id": "3bd242c7-dc82-4c5b-9314-c3440d459491",
   "metadata": {
    "ExecuteTime": {
     "end_time": "2023-10-24T15:48:06.368424500Z",
     "start_time": "2023-10-24T15:48:06.345732900Z"
    }
   },
   "outputs": [
    {
     "data": {
      "text/plain": "                                          F1_score  Precision    Recall  \\\nDecisionTreeClassifier_                   0.555066   0.707865  0.456522   \nRandomForestClassifier_                   0.886667   0.820988  0.963768   \nXGBClassifier_                            0.730061   0.632979  0.862319   \nLGBMClassifier_                           0.742857   0.661017  0.847826   \nDecisionTreeClassifier_RandomOverSampler  0.643068   0.542289  0.789855   \nRandomForestClassifier_RandomOverSampler  0.925373   0.953846  0.898551   \nXGBClassifier_RandomOverSampler           0.597222   0.438776  0.934783   \nLGBMClassifier_RandomOverSampler          0.612529   0.450512  0.956522   \nDecisionTreeClassifier_SMOTE              0.484848   0.452830  0.521739   \nRandomForestClassifier_SMOTE              0.881119   0.851351  0.913043   \nXGBClassifier_SMOTE                       0.697674   0.582524  0.869565   \nLGBMClassifier_SMOTE                      0.677871   0.552511  0.876812   \nDecisionTreeClassifier_ADASYN             0.270270   0.357143  0.217391   \nRandomForestClassifier_ADASYN             0.913043   0.913043  0.913043   \nXGBClassifier_ADASYN                      0.664773   0.546729  0.847826   \nLGBMClassifier_ADASYN                     0.677966   0.555556  0.869565   \nDecisionTreeClassifier_KMeansSMOTE        0.450000   0.443662  0.456522   \nRandomForestClassifier_KMeansSMOTE        0.945455   0.948905  0.942029   \nXGBClassifier_KMeansSMOTE                 0.685237   0.556561  0.891304   \nLGBMClassifier_KMeansSMOTE                0.668508   0.540179  0.876812   \nDecisionTreeClassifier_BorderlineSMOTE    0.435185   0.602564  0.340580   \nRandomForestClassifier_BorderlineSMOTE    0.875862   0.835526  0.920290   \nXGBClassifier_BorderlineSMOTE             0.730061   0.632979  0.862319   \nLGBMClassifier_BorderlineSMOTE            0.742857   0.661017  0.847826   \n\n                                           ROC AUC  Accuracy  Training time  \\\nDecisionTreeClassifier_                   0.699243  0.827645       0.714897   \nRandomForestClassifier_                   0.978843  0.941980       0.776554   \nXGBClassifier_                            0.924034  0.849829       0.826716   \nLGBMClassifier_                           0.936578  0.861775       0.882471   \nDecisionTreeClassifier_RandomOverSampler  0.792249  0.793515       0.273504   \nRandomForestClassifier_RandomOverSampler  0.975907  0.965870       0.813227   \nXGBClassifier_RandomOverSampler           0.881163  0.703072       0.651464   \nLGBMClassifier_RandomOverSampler          0.914677  0.715017       0.473810   \nDecisionTreeClassifier_SMOTE              0.663771  0.738908       1.375099   \nRandomForestClassifier_SMOTE              0.981366  0.941980       1.203064   \nXGBClassifier_SMOTE                       0.880063  0.822526       1.524563   \nLGBMClassifier_SMOTE                      0.894313  0.803754       1.641497   \nDecisionTreeClassifier_ADASYN             0.548428  0.723549       1.015900   \nRandomForestClassifier_ADASYN             0.980072  0.959044       0.968710   \nXGBClassifier_ADASYN                      0.896003  0.798635       0.881170   \nLGBMClassifier_ADASYN                     0.895494  0.805461       1.046867   \nDecisionTreeClassifier_KMeansSMOTE        0.640091  0.737201       0.836177   \nRandomForestClassifier_KMeansSMOTE        0.989729  0.974403       0.925751   \nXGBClassifier_KMeansSMOTE                 0.868700  0.807167       0.913915   \nLGBMClassifier_KMeansSMOTE                0.868538  0.795222       0.950605   \nDecisionTreeClassifier_BorderlineSMOTE    0.635692  0.791809       0.920454   \nRandomForestClassifier_BorderlineSMOTE    0.975422  0.938567       0.743583   \nXGBClassifier_BorderlineSMOTE             0.924034  0.849829       0.628959   \nLGBMClassifier_BorderlineSMOTE            0.936578  0.861775       0.526336   \n\n                                          Test time  \nDecisionTreeClassifier_                    0.002750  \nRandomForestClassifier_                    0.012892  \nXGBClassifier_                             0.003260  \nLGBMClassifier_                            0.001260  \nDecisionTreeClassifier_RandomOverSampler   0.001197  \nRandomForestClassifier_RandomOverSampler   0.010094  \nXGBClassifier_RandomOverSampler            0.001599  \nLGBMClassifier_RandomOverSampler           0.001459  \nDecisionTreeClassifier_SMOTE               0.001304  \nRandomForestClassifier_SMOTE               0.011693  \nXGBClassifier_SMOTE                        0.003798  \nLGBMClassifier_SMOTE                       0.001655  \nDecisionTreeClassifier_ADASYN              0.001883  \nRandomForestClassifier_ADASYN              0.012091  \nXGBClassifier_ADASYN                       0.004550  \nLGBMClassifier_ADASYN                      0.001665  \nDecisionTreeClassifier_KMeansSMOTE         0.000793  \nRandomForestClassifier_KMeansSMOTE         0.011200  \nXGBClassifier_KMeansSMOTE                  0.001593  \nLGBMClassifier_KMeansSMOTE                 0.001171  \nDecisionTreeClassifier_BorderlineSMOTE     0.012753  \nRandomForestClassifier_BorderlineSMOTE     0.012679  \nXGBClassifier_BorderlineSMOTE              0.001374  \nLGBMClassifier_BorderlineSMOTE             0.001362  ",
      "text/html": "<div>\n<style scoped>\n    .dataframe tbody tr th:only-of-type {\n        vertical-align: middle;\n    }\n\n    .dataframe tbody tr th {\n        vertical-align: top;\n    }\n\n    .dataframe thead th {\n        text-align: right;\n    }\n</style>\n<table border=\"1\" class=\"dataframe\">\n  <thead>\n    <tr style=\"text-align: right;\">\n      <th></th>\n      <th>F1_score</th>\n      <th>Precision</th>\n      <th>Recall</th>\n      <th>ROC AUC</th>\n      <th>Accuracy</th>\n      <th>Training time</th>\n      <th>Test time</th>\n    </tr>\n  </thead>\n  <tbody>\n    <tr>\n      <th>DecisionTreeClassifier_</th>\n      <td>0.555066</td>\n      <td>0.707865</td>\n      <td>0.456522</td>\n      <td>0.699243</td>\n      <td>0.827645</td>\n      <td>0.714897</td>\n      <td>0.002750</td>\n    </tr>\n    <tr>\n      <th>RandomForestClassifier_</th>\n      <td>0.886667</td>\n      <td>0.820988</td>\n      <td>0.963768</td>\n      <td>0.978843</td>\n      <td>0.941980</td>\n      <td>0.776554</td>\n      <td>0.012892</td>\n    </tr>\n    <tr>\n      <th>XGBClassifier_</th>\n      <td>0.730061</td>\n      <td>0.632979</td>\n      <td>0.862319</td>\n      <td>0.924034</td>\n      <td>0.849829</td>\n      <td>0.826716</td>\n      <td>0.003260</td>\n    </tr>\n    <tr>\n      <th>LGBMClassifier_</th>\n      <td>0.742857</td>\n      <td>0.661017</td>\n      <td>0.847826</td>\n      <td>0.936578</td>\n      <td>0.861775</td>\n      <td>0.882471</td>\n      <td>0.001260</td>\n    </tr>\n    <tr>\n      <th>DecisionTreeClassifier_RandomOverSampler</th>\n      <td>0.643068</td>\n      <td>0.542289</td>\n      <td>0.789855</td>\n      <td>0.792249</td>\n      <td>0.793515</td>\n      <td>0.273504</td>\n      <td>0.001197</td>\n    </tr>\n    <tr>\n      <th>RandomForestClassifier_RandomOverSampler</th>\n      <td>0.925373</td>\n      <td>0.953846</td>\n      <td>0.898551</td>\n      <td>0.975907</td>\n      <td>0.965870</td>\n      <td>0.813227</td>\n      <td>0.010094</td>\n    </tr>\n    <tr>\n      <th>XGBClassifier_RandomOverSampler</th>\n      <td>0.597222</td>\n      <td>0.438776</td>\n      <td>0.934783</td>\n      <td>0.881163</td>\n      <td>0.703072</td>\n      <td>0.651464</td>\n      <td>0.001599</td>\n    </tr>\n    <tr>\n      <th>LGBMClassifier_RandomOverSampler</th>\n      <td>0.612529</td>\n      <td>0.450512</td>\n      <td>0.956522</td>\n      <td>0.914677</td>\n      <td>0.715017</td>\n      <td>0.473810</td>\n      <td>0.001459</td>\n    </tr>\n    <tr>\n      <th>DecisionTreeClassifier_SMOTE</th>\n      <td>0.484848</td>\n      <td>0.452830</td>\n      <td>0.521739</td>\n      <td>0.663771</td>\n      <td>0.738908</td>\n      <td>1.375099</td>\n      <td>0.001304</td>\n    </tr>\n    <tr>\n      <th>RandomForestClassifier_SMOTE</th>\n      <td>0.881119</td>\n      <td>0.851351</td>\n      <td>0.913043</td>\n      <td>0.981366</td>\n      <td>0.941980</td>\n      <td>1.203064</td>\n      <td>0.011693</td>\n    </tr>\n    <tr>\n      <th>XGBClassifier_SMOTE</th>\n      <td>0.697674</td>\n      <td>0.582524</td>\n      <td>0.869565</td>\n      <td>0.880063</td>\n      <td>0.822526</td>\n      <td>1.524563</td>\n      <td>0.003798</td>\n    </tr>\n    <tr>\n      <th>LGBMClassifier_SMOTE</th>\n      <td>0.677871</td>\n      <td>0.552511</td>\n      <td>0.876812</td>\n      <td>0.894313</td>\n      <td>0.803754</td>\n      <td>1.641497</td>\n      <td>0.001655</td>\n    </tr>\n    <tr>\n      <th>DecisionTreeClassifier_ADASYN</th>\n      <td>0.270270</td>\n      <td>0.357143</td>\n      <td>0.217391</td>\n      <td>0.548428</td>\n      <td>0.723549</td>\n      <td>1.015900</td>\n      <td>0.001883</td>\n    </tr>\n    <tr>\n      <th>RandomForestClassifier_ADASYN</th>\n      <td>0.913043</td>\n      <td>0.913043</td>\n      <td>0.913043</td>\n      <td>0.980072</td>\n      <td>0.959044</td>\n      <td>0.968710</td>\n      <td>0.012091</td>\n    </tr>\n    <tr>\n      <th>XGBClassifier_ADASYN</th>\n      <td>0.664773</td>\n      <td>0.546729</td>\n      <td>0.847826</td>\n      <td>0.896003</td>\n      <td>0.798635</td>\n      <td>0.881170</td>\n      <td>0.004550</td>\n    </tr>\n    <tr>\n      <th>LGBMClassifier_ADASYN</th>\n      <td>0.677966</td>\n      <td>0.555556</td>\n      <td>0.869565</td>\n      <td>0.895494</td>\n      <td>0.805461</td>\n      <td>1.046867</td>\n      <td>0.001665</td>\n    </tr>\n    <tr>\n      <th>DecisionTreeClassifier_KMeansSMOTE</th>\n      <td>0.450000</td>\n      <td>0.443662</td>\n      <td>0.456522</td>\n      <td>0.640091</td>\n      <td>0.737201</td>\n      <td>0.836177</td>\n      <td>0.000793</td>\n    </tr>\n    <tr>\n      <th>RandomForestClassifier_KMeansSMOTE</th>\n      <td>0.945455</td>\n      <td>0.948905</td>\n      <td>0.942029</td>\n      <td>0.989729</td>\n      <td>0.974403</td>\n      <td>0.925751</td>\n      <td>0.011200</td>\n    </tr>\n    <tr>\n      <th>XGBClassifier_KMeansSMOTE</th>\n      <td>0.685237</td>\n      <td>0.556561</td>\n      <td>0.891304</td>\n      <td>0.868700</td>\n      <td>0.807167</td>\n      <td>0.913915</td>\n      <td>0.001593</td>\n    </tr>\n    <tr>\n      <th>LGBMClassifier_KMeansSMOTE</th>\n      <td>0.668508</td>\n      <td>0.540179</td>\n      <td>0.876812</td>\n      <td>0.868538</td>\n      <td>0.795222</td>\n      <td>0.950605</td>\n      <td>0.001171</td>\n    </tr>\n    <tr>\n      <th>DecisionTreeClassifier_BorderlineSMOTE</th>\n      <td>0.435185</td>\n      <td>0.602564</td>\n      <td>0.340580</td>\n      <td>0.635692</td>\n      <td>0.791809</td>\n      <td>0.920454</td>\n      <td>0.012753</td>\n    </tr>\n    <tr>\n      <th>RandomForestClassifier_BorderlineSMOTE</th>\n      <td>0.875862</td>\n      <td>0.835526</td>\n      <td>0.920290</td>\n      <td>0.975422</td>\n      <td>0.938567</td>\n      <td>0.743583</td>\n      <td>0.012679</td>\n    </tr>\n    <tr>\n      <th>XGBClassifier_BorderlineSMOTE</th>\n      <td>0.730061</td>\n      <td>0.632979</td>\n      <td>0.862319</td>\n      <td>0.924034</td>\n      <td>0.849829</td>\n      <td>0.628959</td>\n      <td>0.001374</td>\n    </tr>\n    <tr>\n      <th>LGBMClassifier_BorderlineSMOTE</th>\n      <td>0.742857</td>\n      <td>0.661017</td>\n      <td>0.847826</td>\n      <td>0.936578</td>\n      <td>0.861775</td>\n      <td>0.526336</td>\n      <td>0.001362</td>\n    </tr>\n  </tbody>\n</table>\n</div>"
     },
     "execution_count": 67,
     "metadata": {},
     "output_type": "execute_result"
    }
   ],
   "source": [
    "df_results"
   ]
  },
  {
   "cell_type": "markdown",
   "id": "50f2ccb3-b355-4bbb-bc3e-4e3a06279ef5",
   "metadata": {},
   "source": [
    "## SMOTE and cleaning using ENN method"
   ]
  },
  {
   "cell_type": "code",
   "execution_count": 68,
   "id": "99839f5b-0685-4d97-96d9-c419818c53fc",
   "metadata": {
    "ExecuteTime": {
     "end_time": "2023-10-24T15:48:10.500328700Z",
     "start_time": "2023-10-24T15:48:06.356756500Z"
    }
   },
   "outputs": [
    {
     "name": "stdout",
     "output_type": "stream",
     "text": [
      "-- Dataset shape --\n",
      "Original dataset shape\n",
      "Counter({0: 1428, 1: 444})\n"
     ]
    },
    {
     "name": "stderr",
     "output_type": "stream",
     "text": [
      "Exception ignored on calling ctypes callback function: <function _ThreadpoolInfo._find_modules_with_dl_iterate_phdr.<locals>.match_module_callback at 0x7fd2bee65b40>\n",
      "Traceback (most recent call last):\n",
      "  File \"/home/mbmk92/anaconda3/envs/dltest/lib/python3.10/site-packages/threadpoolctl.py\", line 400, in match_module_callback\n",
      "    self._make_module_from_path(filepath)\n",
      "  File \"/home/mbmk92/anaconda3/envs/dltest/lib/python3.10/site-packages/threadpoolctl.py\", line 515, in _make_module_from_path\n",
      "    module = module_class(filepath, prefix, user_api, internal_api)\n",
      "  File \"/home/mbmk92/anaconda3/envs/dltest/lib/python3.10/site-packages/threadpoolctl.py\", line 606, in __init__\n",
      "    self.version = self.get_version()\n",
      "  File \"/home/mbmk92/anaconda3/envs/dltest/lib/python3.10/site-packages/threadpoolctl.py\", line 646, in get_version\n",
      "    config = get_config().split()\n",
      "AttributeError: 'NoneType' object has no attribute 'split'\n",
      "Exception ignored on calling ctypes callback function: <function _ThreadpoolInfo._find_modules_with_dl_iterate_phdr.<locals>.match_module_callback at 0x7fd2bef00280>\n",
      "Traceback (most recent call last):\n",
      "  File \"/home/mbmk92/anaconda3/envs/dltest/lib/python3.10/site-packages/threadpoolctl.py\", line 400, in match_module_callback\n",
      "    self._make_module_from_path(filepath)\n",
      "  File \"/home/mbmk92/anaconda3/envs/dltest/lib/python3.10/site-packages/threadpoolctl.py\", line 515, in _make_module_from_path\n",
      "    module = module_class(filepath, prefix, user_api, internal_api)\n",
      "  File \"/home/mbmk92/anaconda3/envs/dltest/lib/python3.10/site-packages/threadpoolctl.py\", line 606, in __init__\n",
      "    self.version = self.get_version()\n",
      "  File \"/home/mbmk92/anaconda3/envs/dltest/lib/python3.10/site-packages/threadpoolctl.py\", line 646, in get_version\n",
      "    config = get_config().split()\n",
      "AttributeError: 'NoneType' object has no attribute 'split'\n",
      "Exception ignored on calling ctypes callback function: <function _ThreadpoolInfo._find_modules_with_dl_iterate_phdr.<locals>.match_module_callback at 0x7fd2bee65f30>\n",
      "Traceback (most recent call last):\n",
      "  File \"/home/mbmk92/anaconda3/envs/dltest/lib/python3.10/site-packages/threadpoolctl.py\", line 400, in match_module_callback\n",
      "    self._make_module_from_path(filepath)\n",
      "  File \"/home/mbmk92/anaconda3/envs/dltest/lib/python3.10/site-packages/threadpoolctl.py\", line 515, in _make_module_from_path\n",
      "    module = module_class(filepath, prefix, user_api, internal_api)\n",
      "  File \"/home/mbmk92/anaconda3/envs/dltest/lib/python3.10/site-packages/threadpoolctl.py\", line 606, in __init__\n",
      "    self.version = self.get_version()\n",
      "  File \"/home/mbmk92/anaconda3/envs/dltest/lib/python3.10/site-packages/threadpoolctl.py\", line 646, in get_version\n",
      "    config = get_config().split()\n",
      "AttributeError: 'NoneType' object has no attribute 'split'\n"
     ]
    },
    {
     "name": "stdout",
     "output_type": "stream",
     "text": [
      "Resampled dataset shape Counter({1: 1428, 0: 1386})\n",
      "\n",
      "DecisionTreeClassifier_SMOTEENN\n",
      "\n",
      "Training time: 1.059sec\n",
      "Prediction time (train): 0.006sec\n",
      "Prediction time (test): 0.002sec\n",
      "\n",
      "-- Check for Overfitting --\n",
      "Train set score: 1.0000 sec \n",
      "Test set score: 0.7235 sec\n",
      "Prediction time (test): 0.001sec\n",
      "\n",
      "-- classification Report --\n",
      "              precision    recall  f1-score   support\n",
      "\n",
      "           0       0.86      0.77      0.81       448\n",
      "           1       0.44      0.59      0.50       138\n",
      "\n",
      "    accuracy                           0.72       586\n",
      "   macro avg       0.65      0.68      0.65       586\n",
      "weighted avg       0.76      0.72      0.74       586\n",
      "\n",
      "\n",
      "-- Confusion matrix --\n",
      " [[343 105]\n",
      " [ 57  81]]\n",
      "True Positives(TP) =  343\n",
      "True Negatives(TN) =  81\n",
      "False Positives(FP) =  105\n",
      "False Negatives(FN) =  57\n",
      "--------------------------------------------------------------------------------\n",
      "Accuracy :0.7235494880546075\n",
      "Precision :0.43548387096774194\n",
      "Recall :0.5869565217391305\n",
      "F1_score :0.5\n",
      "F05_score :0.45918367346938777\n",
      "F2_score :0.5487804878048781\n",
      "Roc auc score :0.6762907608695652\n",
      "Matthews_corrcoef :0.3214042611273651\n",
      "Cohen_kappa :0.31470893970893965\n",
      "True_positive_rate :0.5869565217391305\n",
      "True_negative_rate :0.765625\n",
      "Positive_predictive_value :0.43548387096774194\n",
      "Negative_predictive_value :0.8575\n",
      "False_positive_rate :0.234375\n",
      "False_negative_rate :0.41304347826086957\n",
      "False_discovery_rate :0.5645161290322581\n",
      "################################################################################\n",
      "\n",
      "RandomForestClassifier_SMOTEENN\n",
      "\n",
      "Training time: 0.877sec\n",
      "Prediction time (train): 0.036sec\n",
      "Prediction time (test): 0.009sec\n",
      "\n",
      "-- Check for Overfitting --\n",
      "Train set score: 1.0000 sec \n",
      "Test set score: 0.9471 sec\n",
      "Prediction time (test): 0.009sec\n",
      "\n",
      "-- classification Report --\n",
      "              precision    recall  f1-score   support\n",
      "\n",
      "           0       0.98      0.95      0.96       448\n",
      "           1       0.85      0.93      0.89       138\n",
      "\n",
      "    accuracy                           0.95       586\n",
      "   macro avg       0.92      0.94      0.93       586\n",
      "weighted avg       0.95      0.95      0.95       586\n",
      "\n",
      "\n",
      "-- Confusion matrix --\n",
      " [[426  22]\n",
      " [  9 129]]\n",
      "True Positives(TP) =  426\n",
      "True Negatives(TN) =  129\n",
      "False Positives(FP) =  22\n",
      "False Negatives(FN) =  9\n",
      "--------------------------------------------------------------------------------\n",
      "Accuracy :0.947098976109215\n",
      "Precision :0.8543046357615894\n",
      "Recall :0.9347826086956522\n",
      "F1_score :0.8927335640138409\n",
      "F05_score :0.8692722371967656\n",
      "F2_score :0.9174964438122335\n",
      "Roc auc score :0.9764088379917184\n",
      "Matthews_corrcoef :0.8592510321572375\n",
      "Cohen_kappa :0.8577202023841226\n",
      "True_positive_rate :0.9347826086956522\n",
      "True_negative_rate :0.9508928571428571\n",
      "Positive_predictive_value :0.8543046357615894\n",
      "Negative_predictive_value :0.9793103448275862\n",
      "False_positive_rate :0.049107142857142856\n",
      "False_negative_rate :0.06521739130434782\n",
      "False_discovery_rate :0.1456953642384106\n",
      "################################################################################\n",
      "\n",
      "XGBClassifier_SMOTEENN\n",
      "[0]\tvalidation_0-logloss:0.64254\n",
      "[1]\tvalidation_0-logloss:0.60811\n",
      "[2]\tvalidation_0-logloss:0.61810\n",
      "[3]\tvalidation_0-logloss:0.56491\n",
      "[4]\tvalidation_0-logloss:0.53482\n",
      "[5]\tvalidation_0-logloss:0.50539\n",
      "[6]\tvalidation_0-logloss:0.50426\n",
      "[7]\tvalidation_0-logloss:0.50133\n",
      "[8]\tvalidation_0-logloss:0.49995\n",
      "[9]\tvalidation_0-logloss:0.50246\n",
      "[10]\tvalidation_0-logloss:0.52201\n",
      "[11]\tvalidation_0-logloss:0.51105\n",
      "[12]\tvalidation_0-logloss:0.52858\n",
      "[13]\tvalidation_0-logloss:0.52598\n",
      "[14]\tvalidation_0-logloss:0.55156\n",
      "[15]\tvalidation_0-logloss:0.56509\n",
      "[16]\tvalidation_0-logloss:0.58624\n",
      "[17]\tvalidation_0-logloss:0.59394\n",
      "\n",
      "Training time: 0.826sec\n",
      "Prediction time (train): 0.005sec\n",
      "Prediction time (test): 0.002sec\n",
      "\n",
      "-- Check for Overfitting --\n",
      "Train set score: 1.0000 sec \n",
      "Test set score: 0.7816 sec\n",
      "Prediction time (test): 0.002sec\n",
      "\n",
      "-- classification Report --\n",
      "              precision    recall  f1-score   support\n",
      "\n",
      "           0       0.97      0.74      0.84       448\n",
      "           1       0.52      0.91      0.66       138\n",
      "\n",
      "    accuracy                           0.78       586\n",
      "   macro avg       0.74      0.83      0.75       586\n",
      "weighted avg       0.86      0.78      0.80       586\n",
      "\n",
      "\n",
      "-- Confusion matrix --\n",
      " [[332 116]\n",
      " [ 12 126]]\n",
      "True Positives(TP) =  332\n",
      "True Negatives(TN) =  126\n",
      "False Positives(FP) =  116\n",
      "False Negatives(FN) =  12\n",
      "--------------------------------------------------------------------------------\n",
      "Accuracy :0.7815699658703071\n",
      "Precision :0.5206611570247934\n",
      "Recall :0.9130434782608695\n",
      "F1_score :0.6631578947368422\n",
      "F05_score :0.569620253164557\n",
      "F2_score :0.7934508816120907\n",
      "Roc auc score :0.8807906314699794\n",
      "Matthews_corrcoef :0.563696959679779\n",
      "Cohen_kappa :0.5188340346915734\n",
      "True_positive_rate :0.9130434782608695\n",
      "True_negative_rate :0.7410714285714286\n",
      "Positive_predictive_value :0.5206611570247934\n",
      "Negative_predictive_value :0.9651162790697675\n",
      "False_positive_rate :0.25892857142857145\n",
      "False_negative_rate :0.08695652173913043\n",
      "False_discovery_rate :0.4793388429752066\n",
      "################################################################################\n",
      "\n",
      "LGBMClassifier_SMOTEENN\n",
      "[LightGBM] [Warning] early_stopping_round is set=10, early_stopping_rounds=10 will be ignored. Current value: early_stopping_round=10\n",
      "[LightGBM] [Info] Number of positive: 1428, number of negative: 1386\n",
      "[LightGBM] [Debug] Dataset::GetMultiBinFromSparseFeatures: sparse rate 0.911754\n",
      "[LightGBM] [Debug] Dataset::GetMultiBinFromAllFeatures: sparse rate 0.906728\n",
      "[LightGBM] [Debug] init for col-wise cost 0.022776 seconds, init for row-wise cost 0.021233 seconds\n",
      "[LightGBM] [Info] Auto-choosing col-wise multi-threading, the overhead of testing was 0.026858 seconds.\n",
      "You can set `force_col_wise=true` to remove the overhead.\n",
      "[LightGBM] [Info] Total Bins 167478\n",
      "[LightGBM] [Info] Number of data points in the train set: 2814, number of used features: 1994\n",
      "[LightGBM] [Warning] early_stopping_round is set=10, early_stopping_rounds=10 will be ignored. Current value: early_stopping_round=10\n",
      "[LightGBM] [Info] [binary:BoostFromScore]: pavg=0.507463 -> initscore=0.029853\n",
      "[LightGBM] [Info] Start training from score 0.029853\n",
      "[LightGBM] [Warning] No further splits with positive gain, best gain: -inf\n",
      "[LightGBM] [Debug] Trained a tree with leaves = 27 and depth = 16\n",
      "Training until validation scores don't improve for 10 rounds\n",
      "[LightGBM] [Debug] Trained a tree with leaves = 31 and depth = 19\n",
      "[LightGBM] [Debug] Trained a tree with leaves = 31 and depth = 21\n",
      "[LightGBM] [Debug] Trained a tree with leaves = 31 and depth = 19\n",
      "[LightGBM] [Debug] Trained a tree with leaves = 31 and depth = 20\n",
      "[LightGBM] [Debug] Trained a tree with leaves = 31 and depth = 19\n",
      "[LightGBM] [Debug] Trained a tree with leaves = 31 and depth = 20\n",
      "[LightGBM] [Debug] Trained a tree with leaves = 31 and depth = 15\n",
      "[LightGBM] [Debug] Trained a tree with leaves = 31 and depth = 21\n",
      "[LightGBM] [Debug] Trained a tree with leaves = 31 and depth = 22\n",
      "[LightGBM] [Debug] Trained a tree with leaves = 31 and depth = 11\n",
      "[LightGBM] [Debug] Trained a tree with leaves = 31 and depth = 22\n",
      "[LightGBM] [Debug] Trained a tree with leaves = 31 and depth = 22\n",
      "[LightGBM] [Debug] Trained a tree with leaves = 31 and depth = 22\n",
      "[LightGBM] [Debug] Trained a tree with leaves = 31 and depth = 14\n",
      "[LightGBM] [Debug] Trained a tree with leaves = 31 and depth = 14\n",
      "[LightGBM] [Debug] Trained a tree with leaves = 31 and depth = 10\n",
      "[LightGBM] [Debug] Trained a tree with leaves = 31 and depth = 23\n",
      "[LightGBM] [Debug] Trained a tree with leaves = 31 and depth = 15\n",
      "[LightGBM] [Debug] Trained a tree with leaves = 31 and depth = 18\n",
      "[LightGBM] [Debug] Trained a tree with leaves = 31 and depth = 11\n",
      "[LightGBM] [Debug] Trained a tree with leaves = 31 and depth = 11\n",
      "[LightGBM] [Debug] Trained a tree with leaves = 31 and depth = 11\n",
      "[LightGBM] [Debug] Trained a tree with leaves = 31 and depth = 22\n",
      "[LightGBM] [Debug] Trained a tree with leaves = 31 and depth = 10\n",
      "[LightGBM] [Debug] Trained a tree with leaves = 31 and depth = 15\n",
      "[LightGBM] [Debug] Trained a tree with leaves = 31 and depth = 11\n",
      "[LightGBM] [Debug] Trained a tree with leaves = 31 and depth = 10\n",
      "[LightGBM] [Debug] Trained a tree with leaves = 31 and depth = 11\n",
      "[LightGBM] [Debug] Trained a tree with leaves = 31 and depth = 11\n",
      "[LightGBM] [Debug] Trained a tree with leaves = 31 and depth = 12\n",
      "[LightGBM] [Debug] Trained a tree with leaves = 31 and depth = 11\n",
      "[LightGBM] [Debug] Trained a tree with leaves = 31 and depth = 11\n",
      "[LightGBM] [Debug] Trained a tree with leaves = 31 and depth = 11\n",
      "[LightGBM] [Debug] Trained a tree with leaves = 31 and depth = 12\n",
      "[LightGBM] [Debug] Trained a tree with leaves = 31 and depth = 12\n",
      "[LightGBM] [Debug] Trained a tree with leaves = 31 and depth = 11\n",
      "[LightGBM] [Debug] Trained a tree with leaves = 31 and depth = 11\n",
      "[LightGBM] [Debug] Trained a tree with leaves = 31 and depth = 15\n",
      "[LightGBM] [Debug] Trained a tree with leaves = 31 and depth = 12\n",
      "[LightGBM] [Debug] Trained a tree with leaves = 31 and depth = 11\n",
      "[LightGBM] [Debug] Trained a tree with leaves = 31 and depth = 15\n",
      "[LightGBM] [Debug] Trained a tree with leaves = 31 and depth = 11\n",
      "Early stopping, best iteration is:\n",
      "[33]\tvalid_0's binary_logloss: 0.422033\n",
      "\n",
      "Training time: 0.96sec\n",
      "Prediction time (train): 0.005sec\n",
      "Prediction time (test): 0.002sec\n",
      "\n",
      "-- Check for Overfitting --\n",
      "Train set score: 1.0000 sec \n",
      "Test set score: 0.8379 sec\n",
      "Prediction time (test): 0.002sec\n",
      "\n",
      "-- classification Report --\n",
      "              precision    recall  f1-score   support\n",
      "\n",
      "           0       0.95      0.83      0.89       448\n",
      "           1       0.61      0.86      0.71       138\n",
      "\n",
      "    accuracy                           0.84       586\n",
      "   macro avg       0.78      0.85      0.80       586\n",
      "weighted avg       0.87      0.84      0.85       586\n",
      "\n",
      "\n",
      "-- Confusion matrix --\n",
      " [[372  76]\n",
      " [ 19 119]]\n",
      "True Positives(TP) =  372\n",
      "True Negatives(TN) =  119\n",
      "False Positives(FP) =  76\n",
      "False Negatives(FN) =  19\n",
      "--------------------------------------------------------------------------------\n",
      "Accuracy :0.8378839590443686\n",
      "Precision :0.6102564102564103\n",
      "Recall :0.8623188405797102\n",
      "F1_score :0.7147147147147147\n",
      "F05_score :0.6481481481481481\n",
      "F2_score :0.7965194109772424\n",
      "Roc auc score :0.8986962991718427\n",
      "Matthews_corrcoef :0.6237391380677734\n",
      "Cohen_kappa :0.6060657524165358\n",
      "True_positive_rate :0.8623188405797102\n",
      "True_negative_rate :0.8303571428571429\n",
      "Positive_predictive_value :0.6102564102564103\n",
      "Negative_predictive_value :0.9514066496163683\n",
      "False_positive_rate :0.16964285714285715\n",
      "False_negative_rate :0.13768115942028986\n",
      "False_discovery_rate :0.38974358974358975\n",
      "################################################################################\n",
      "Training and testing time of all models 3.8627 seconds\n"
     ]
    }
   ],
   "source": [
    "# over-sampling using SMOTE.\n",
    "sampling = SMOTEENN(random_state=42)\n",
    "\n",
    "#set the evaluation set for early stop models\n",
    "# eval_set = [(X_validation, y_validation)]\n",
    "\n",
    "#train the models\n",
    "df_results = train_models_sampling(models, es_models, X_train, y_train, eval_set, X_test, y_test, sampling)"
   ]
  },
  {
   "cell_type": "code",
   "execution_count": 69,
   "id": "e2addc0f-52ff-41de-83e4-d05e9274d551",
   "metadata": {
    "ExecuteTime": {
     "end_time": "2023-10-24T15:48:10.514354Z",
     "start_time": "2023-10-24T15:48:10.500328700Z"
    }
   },
   "outputs": [
    {
     "data": {
      "text/plain": "                                          F1_score  Precision    Recall  \\\nDecisionTreeClassifier_                   0.555066   0.707865  0.456522   \nRandomForestClassifier_                   0.886667   0.820988  0.963768   \nXGBClassifier_                            0.730061   0.632979  0.862319   \nLGBMClassifier_                           0.742857   0.661017  0.847826   \nDecisionTreeClassifier_RandomOverSampler  0.643068   0.542289  0.789855   \nRandomForestClassifier_RandomOverSampler  0.925373   0.953846  0.898551   \nXGBClassifier_RandomOverSampler           0.597222   0.438776  0.934783   \nLGBMClassifier_RandomOverSampler          0.612529   0.450512  0.956522   \nDecisionTreeClassifier_SMOTE              0.484848   0.452830  0.521739   \nRandomForestClassifier_SMOTE              0.881119   0.851351  0.913043   \nXGBClassifier_SMOTE                       0.697674   0.582524  0.869565   \nLGBMClassifier_SMOTE                      0.677871   0.552511  0.876812   \nDecisionTreeClassifier_ADASYN             0.270270   0.357143  0.217391   \nRandomForestClassifier_ADASYN             0.913043   0.913043  0.913043   \nXGBClassifier_ADASYN                      0.664773   0.546729  0.847826   \nLGBMClassifier_ADASYN                     0.677966   0.555556  0.869565   \nDecisionTreeClassifier_KMeansSMOTE        0.450000   0.443662  0.456522   \nRandomForestClassifier_KMeansSMOTE        0.945455   0.948905  0.942029   \nXGBClassifier_KMeansSMOTE                 0.685237   0.556561  0.891304   \nLGBMClassifier_KMeansSMOTE                0.668508   0.540179  0.876812   \nDecisionTreeClassifier_BorderlineSMOTE    0.435185   0.602564  0.340580   \nRandomForestClassifier_BorderlineSMOTE    0.875862   0.835526  0.920290   \nXGBClassifier_BorderlineSMOTE             0.730061   0.632979  0.862319   \nLGBMClassifier_BorderlineSMOTE            0.742857   0.661017  0.847826   \nDecisionTreeClassifier_SMOTEENN           0.500000   0.435484  0.586957   \nRandomForestClassifier_SMOTEENN           0.892734   0.854305  0.934783   \nXGBClassifier_SMOTEENN                    0.663158   0.520661  0.913043   \nLGBMClassifier_SMOTEENN                   0.714715   0.610256  0.862319   \n\n                                           ROC AUC  Accuracy  Training time  \\\nDecisionTreeClassifier_                   0.699243  0.827645       0.714897   \nRandomForestClassifier_                   0.978843  0.941980       0.776554   \nXGBClassifier_                            0.924034  0.849829       0.826716   \nLGBMClassifier_                           0.936578  0.861775       0.882471   \nDecisionTreeClassifier_RandomOverSampler  0.792249  0.793515       0.273504   \nRandomForestClassifier_RandomOverSampler  0.975907  0.965870       0.813227   \nXGBClassifier_RandomOverSampler           0.881163  0.703072       0.651464   \nLGBMClassifier_RandomOverSampler          0.914677  0.715017       0.473810   \nDecisionTreeClassifier_SMOTE              0.663771  0.738908       1.375099   \nRandomForestClassifier_SMOTE              0.981366  0.941980       1.203064   \nXGBClassifier_SMOTE                       0.880063  0.822526       1.524563   \nLGBMClassifier_SMOTE                      0.894313  0.803754       1.641497   \nDecisionTreeClassifier_ADASYN             0.548428  0.723549       1.015900   \nRandomForestClassifier_ADASYN             0.980072  0.959044       0.968710   \nXGBClassifier_ADASYN                      0.896003  0.798635       0.881170   \nLGBMClassifier_ADASYN                     0.895494  0.805461       1.046867   \nDecisionTreeClassifier_KMeansSMOTE        0.640091  0.737201       0.836177   \nRandomForestClassifier_KMeansSMOTE        0.989729  0.974403       0.925751   \nXGBClassifier_KMeansSMOTE                 0.868700  0.807167       0.913915   \nLGBMClassifier_KMeansSMOTE                0.868538  0.795222       0.950605   \nDecisionTreeClassifier_BorderlineSMOTE    0.635692  0.791809       0.920454   \nRandomForestClassifier_BorderlineSMOTE    0.975422  0.938567       0.743583   \nXGBClassifier_BorderlineSMOTE             0.924034  0.849829       0.628959   \nLGBMClassifier_BorderlineSMOTE            0.936578  0.861775       0.526336   \nDecisionTreeClassifier_SMOTEENN           0.676291  0.723549       1.059188   \nRandomForestClassifier_SMOTEENN           0.976409  0.947099       0.876890   \nXGBClassifier_SMOTEENN                    0.880791  0.781570       0.826287   \nLGBMClassifier_SMOTEENN                   0.898696  0.837884       0.959673   \n\n                                          Test time  \nDecisionTreeClassifier_                    0.002750  \nRandomForestClassifier_                    0.012892  \nXGBClassifier_                             0.003260  \nLGBMClassifier_                            0.001260  \nDecisionTreeClassifier_RandomOverSampler   0.001197  \nRandomForestClassifier_RandomOverSampler   0.010094  \nXGBClassifier_RandomOverSampler            0.001599  \nLGBMClassifier_RandomOverSampler           0.001459  \nDecisionTreeClassifier_SMOTE               0.001304  \nRandomForestClassifier_SMOTE               0.011693  \nXGBClassifier_SMOTE                        0.003798  \nLGBMClassifier_SMOTE                       0.001655  \nDecisionTreeClassifier_ADASYN              0.001883  \nRandomForestClassifier_ADASYN              0.012091  \nXGBClassifier_ADASYN                       0.004550  \nLGBMClassifier_ADASYN                      0.001665  \nDecisionTreeClassifier_KMeansSMOTE         0.000793  \nRandomForestClassifier_KMeansSMOTE         0.011200  \nXGBClassifier_KMeansSMOTE                  0.001593  \nLGBMClassifier_KMeansSMOTE                 0.001171  \nDecisionTreeClassifier_BorderlineSMOTE     0.012753  \nRandomForestClassifier_BorderlineSMOTE     0.012679  \nXGBClassifier_BorderlineSMOTE              0.001374  \nLGBMClassifier_BorderlineSMOTE             0.001362  \nDecisionTreeClassifier_SMOTEENN            0.001104  \nRandomForestClassifier_SMOTEENN            0.009751  \nXGBClassifier_SMOTEENN                     0.001451  \nLGBMClassifier_SMOTEENN                    0.001466  ",
      "text/html": "<div>\n<style scoped>\n    .dataframe tbody tr th:only-of-type {\n        vertical-align: middle;\n    }\n\n    .dataframe tbody tr th {\n        vertical-align: top;\n    }\n\n    .dataframe thead th {\n        text-align: right;\n    }\n</style>\n<table border=\"1\" class=\"dataframe\">\n  <thead>\n    <tr style=\"text-align: right;\">\n      <th></th>\n      <th>F1_score</th>\n      <th>Precision</th>\n      <th>Recall</th>\n      <th>ROC AUC</th>\n      <th>Accuracy</th>\n      <th>Training time</th>\n      <th>Test time</th>\n    </tr>\n  </thead>\n  <tbody>\n    <tr>\n      <th>DecisionTreeClassifier_</th>\n      <td>0.555066</td>\n      <td>0.707865</td>\n      <td>0.456522</td>\n      <td>0.699243</td>\n      <td>0.827645</td>\n      <td>0.714897</td>\n      <td>0.002750</td>\n    </tr>\n    <tr>\n      <th>RandomForestClassifier_</th>\n      <td>0.886667</td>\n      <td>0.820988</td>\n      <td>0.963768</td>\n      <td>0.978843</td>\n      <td>0.941980</td>\n      <td>0.776554</td>\n      <td>0.012892</td>\n    </tr>\n    <tr>\n      <th>XGBClassifier_</th>\n      <td>0.730061</td>\n      <td>0.632979</td>\n      <td>0.862319</td>\n      <td>0.924034</td>\n      <td>0.849829</td>\n      <td>0.826716</td>\n      <td>0.003260</td>\n    </tr>\n    <tr>\n      <th>LGBMClassifier_</th>\n      <td>0.742857</td>\n      <td>0.661017</td>\n      <td>0.847826</td>\n      <td>0.936578</td>\n      <td>0.861775</td>\n      <td>0.882471</td>\n      <td>0.001260</td>\n    </tr>\n    <tr>\n      <th>DecisionTreeClassifier_RandomOverSampler</th>\n      <td>0.643068</td>\n      <td>0.542289</td>\n      <td>0.789855</td>\n      <td>0.792249</td>\n      <td>0.793515</td>\n      <td>0.273504</td>\n      <td>0.001197</td>\n    </tr>\n    <tr>\n      <th>RandomForestClassifier_RandomOverSampler</th>\n      <td>0.925373</td>\n      <td>0.953846</td>\n      <td>0.898551</td>\n      <td>0.975907</td>\n      <td>0.965870</td>\n      <td>0.813227</td>\n      <td>0.010094</td>\n    </tr>\n    <tr>\n      <th>XGBClassifier_RandomOverSampler</th>\n      <td>0.597222</td>\n      <td>0.438776</td>\n      <td>0.934783</td>\n      <td>0.881163</td>\n      <td>0.703072</td>\n      <td>0.651464</td>\n      <td>0.001599</td>\n    </tr>\n    <tr>\n      <th>LGBMClassifier_RandomOverSampler</th>\n      <td>0.612529</td>\n      <td>0.450512</td>\n      <td>0.956522</td>\n      <td>0.914677</td>\n      <td>0.715017</td>\n      <td>0.473810</td>\n      <td>0.001459</td>\n    </tr>\n    <tr>\n      <th>DecisionTreeClassifier_SMOTE</th>\n      <td>0.484848</td>\n      <td>0.452830</td>\n      <td>0.521739</td>\n      <td>0.663771</td>\n      <td>0.738908</td>\n      <td>1.375099</td>\n      <td>0.001304</td>\n    </tr>\n    <tr>\n      <th>RandomForestClassifier_SMOTE</th>\n      <td>0.881119</td>\n      <td>0.851351</td>\n      <td>0.913043</td>\n      <td>0.981366</td>\n      <td>0.941980</td>\n      <td>1.203064</td>\n      <td>0.011693</td>\n    </tr>\n    <tr>\n      <th>XGBClassifier_SMOTE</th>\n      <td>0.697674</td>\n      <td>0.582524</td>\n      <td>0.869565</td>\n      <td>0.880063</td>\n      <td>0.822526</td>\n      <td>1.524563</td>\n      <td>0.003798</td>\n    </tr>\n    <tr>\n      <th>LGBMClassifier_SMOTE</th>\n      <td>0.677871</td>\n      <td>0.552511</td>\n      <td>0.876812</td>\n      <td>0.894313</td>\n      <td>0.803754</td>\n      <td>1.641497</td>\n      <td>0.001655</td>\n    </tr>\n    <tr>\n      <th>DecisionTreeClassifier_ADASYN</th>\n      <td>0.270270</td>\n      <td>0.357143</td>\n      <td>0.217391</td>\n      <td>0.548428</td>\n      <td>0.723549</td>\n      <td>1.015900</td>\n      <td>0.001883</td>\n    </tr>\n    <tr>\n      <th>RandomForestClassifier_ADASYN</th>\n      <td>0.913043</td>\n      <td>0.913043</td>\n      <td>0.913043</td>\n      <td>0.980072</td>\n      <td>0.959044</td>\n      <td>0.968710</td>\n      <td>0.012091</td>\n    </tr>\n    <tr>\n      <th>XGBClassifier_ADASYN</th>\n      <td>0.664773</td>\n      <td>0.546729</td>\n      <td>0.847826</td>\n      <td>0.896003</td>\n      <td>0.798635</td>\n      <td>0.881170</td>\n      <td>0.004550</td>\n    </tr>\n    <tr>\n      <th>LGBMClassifier_ADASYN</th>\n      <td>0.677966</td>\n      <td>0.555556</td>\n      <td>0.869565</td>\n      <td>0.895494</td>\n      <td>0.805461</td>\n      <td>1.046867</td>\n      <td>0.001665</td>\n    </tr>\n    <tr>\n      <th>DecisionTreeClassifier_KMeansSMOTE</th>\n      <td>0.450000</td>\n      <td>0.443662</td>\n      <td>0.456522</td>\n      <td>0.640091</td>\n      <td>0.737201</td>\n      <td>0.836177</td>\n      <td>0.000793</td>\n    </tr>\n    <tr>\n      <th>RandomForestClassifier_KMeansSMOTE</th>\n      <td>0.945455</td>\n      <td>0.948905</td>\n      <td>0.942029</td>\n      <td>0.989729</td>\n      <td>0.974403</td>\n      <td>0.925751</td>\n      <td>0.011200</td>\n    </tr>\n    <tr>\n      <th>XGBClassifier_KMeansSMOTE</th>\n      <td>0.685237</td>\n      <td>0.556561</td>\n      <td>0.891304</td>\n      <td>0.868700</td>\n      <td>0.807167</td>\n      <td>0.913915</td>\n      <td>0.001593</td>\n    </tr>\n    <tr>\n      <th>LGBMClassifier_KMeansSMOTE</th>\n      <td>0.668508</td>\n      <td>0.540179</td>\n      <td>0.876812</td>\n      <td>0.868538</td>\n      <td>0.795222</td>\n      <td>0.950605</td>\n      <td>0.001171</td>\n    </tr>\n    <tr>\n      <th>DecisionTreeClassifier_BorderlineSMOTE</th>\n      <td>0.435185</td>\n      <td>0.602564</td>\n      <td>0.340580</td>\n      <td>0.635692</td>\n      <td>0.791809</td>\n      <td>0.920454</td>\n      <td>0.012753</td>\n    </tr>\n    <tr>\n      <th>RandomForestClassifier_BorderlineSMOTE</th>\n      <td>0.875862</td>\n      <td>0.835526</td>\n      <td>0.920290</td>\n      <td>0.975422</td>\n      <td>0.938567</td>\n      <td>0.743583</td>\n      <td>0.012679</td>\n    </tr>\n    <tr>\n      <th>XGBClassifier_BorderlineSMOTE</th>\n      <td>0.730061</td>\n      <td>0.632979</td>\n      <td>0.862319</td>\n      <td>0.924034</td>\n      <td>0.849829</td>\n      <td>0.628959</td>\n      <td>0.001374</td>\n    </tr>\n    <tr>\n      <th>LGBMClassifier_BorderlineSMOTE</th>\n      <td>0.742857</td>\n      <td>0.661017</td>\n      <td>0.847826</td>\n      <td>0.936578</td>\n      <td>0.861775</td>\n      <td>0.526336</td>\n      <td>0.001362</td>\n    </tr>\n    <tr>\n      <th>DecisionTreeClassifier_SMOTEENN</th>\n      <td>0.500000</td>\n      <td>0.435484</td>\n      <td>0.586957</td>\n      <td>0.676291</td>\n      <td>0.723549</td>\n      <td>1.059188</td>\n      <td>0.001104</td>\n    </tr>\n    <tr>\n      <th>RandomForestClassifier_SMOTEENN</th>\n      <td>0.892734</td>\n      <td>0.854305</td>\n      <td>0.934783</td>\n      <td>0.976409</td>\n      <td>0.947099</td>\n      <td>0.876890</td>\n      <td>0.009751</td>\n    </tr>\n    <tr>\n      <th>XGBClassifier_SMOTEENN</th>\n      <td>0.663158</td>\n      <td>0.520661</td>\n      <td>0.913043</td>\n      <td>0.880791</td>\n      <td>0.781570</td>\n      <td>0.826287</td>\n      <td>0.001451</td>\n    </tr>\n    <tr>\n      <th>LGBMClassifier_SMOTEENN</th>\n      <td>0.714715</td>\n      <td>0.610256</td>\n      <td>0.862319</td>\n      <td>0.898696</td>\n      <td>0.837884</td>\n      <td>0.959673</td>\n      <td>0.001466</td>\n    </tr>\n  </tbody>\n</table>\n</div>"
     },
     "execution_count": 69,
     "metadata": {},
     "output_type": "execute_result"
    }
   ],
   "source": [
    "df_results"
   ]
  },
  {
   "cell_type": "code",
   "execution_count": 70,
   "id": "7ce31f6e-572a-462f-a98b-2cd54586fb16",
   "metadata": {
    "scrolled": false,
    "ExecuteTime": {
     "end_time": "2023-10-24T15:48:10.518781600Z",
     "start_time": "2023-10-24T15:48:10.505839800Z"
    }
   },
   "outputs": [
    {
     "data": {
      "text/plain": "                                          F1_score  Precision    Recall  \\\nDecisionTreeClassifier_                   0.555066   0.707865  0.456522   \nRandomForestClassifier_                   0.886667   0.820988  0.963768   \nXGBClassifier_                            0.730061   0.632979  0.862319   \nLGBMClassifier_                           0.742857   0.661017  0.847826   \nDecisionTreeClassifier_RandomOverSampler  0.643068   0.542289  0.789855   \nRandomForestClassifier_RandomOverSampler  0.925373   0.953846  0.898551   \nXGBClassifier_RandomOverSampler           0.597222   0.438776  0.934783   \nLGBMClassifier_RandomOverSampler          0.612529   0.450512  0.956522   \nDecisionTreeClassifier_SMOTE              0.484848   0.452830  0.521739   \nRandomForestClassifier_SMOTE              0.881119   0.851351  0.913043   \nXGBClassifier_SMOTE                       0.697674   0.582524  0.869565   \nLGBMClassifier_SMOTE                      0.677871   0.552511  0.876812   \nDecisionTreeClassifier_ADASYN             0.270270   0.357143  0.217391   \nRandomForestClassifier_ADASYN             0.913043   0.913043  0.913043   \nXGBClassifier_ADASYN                      0.664773   0.546729  0.847826   \nLGBMClassifier_ADASYN                     0.677966   0.555556  0.869565   \nDecisionTreeClassifier_KMeansSMOTE        0.450000   0.443662  0.456522   \nRandomForestClassifier_KMeansSMOTE        0.945455   0.948905  0.942029   \nXGBClassifier_KMeansSMOTE                 0.685237   0.556561  0.891304   \nLGBMClassifier_KMeansSMOTE                0.668508   0.540179  0.876812   \nDecisionTreeClassifier_BorderlineSMOTE    0.435185   0.602564  0.340580   \nRandomForestClassifier_BorderlineSMOTE    0.875862   0.835526  0.920290   \nXGBClassifier_BorderlineSMOTE             0.730061   0.632979  0.862319   \nLGBMClassifier_BorderlineSMOTE            0.742857   0.661017  0.847826   \nDecisionTreeClassifier_SMOTEENN           0.500000   0.435484  0.586957   \nRandomForestClassifier_SMOTEENN           0.892734   0.854305  0.934783   \nXGBClassifier_SMOTEENN                    0.663158   0.520661  0.913043   \nLGBMClassifier_SMOTEENN                   0.714715   0.610256  0.862319   \n\n                                           ROC AUC  Accuracy  Training time  \\\nDecisionTreeClassifier_                   0.699243  0.827645       0.714897   \nRandomForestClassifier_                   0.978843  0.941980       0.776554   \nXGBClassifier_                            0.924034  0.849829       0.826716   \nLGBMClassifier_                           0.936578  0.861775       0.882471   \nDecisionTreeClassifier_RandomOverSampler  0.792249  0.793515       0.273504   \nRandomForestClassifier_RandomOverSampler  0.975907  0.965870       0.813227   \nXGBClassifier_RandomOverSampler           0.881163  0.703072       0.651464   \nLGBMClassifier_RandomOverSampler          0.914677  0.715017       0.473810   \nDecisionTreeClassifier_SMOTE              0.663771  0.738908       1.375099   \nRandomForestClassifier_SMOTE              0.981366  0.941980       1.203064   \nXGBClassifier_SMOTE                       0.880063  0.822526       1.524563   \nLGBMClassifier_SMOTE                      0.894313  0.803754       1.641497   \nDecisionTreeClassifier_ADASYN             0.548428  0.723549       1.015900   \nRandomForestClassifier_ADASYN             0.980072  0.959044       0.968710   \nXGBClassifier_ADASYN                      0.896003  0.798635       0.881170   \nLGBMClassifier_ADASYN                     0.895494  0.805461       1.046867   \nDecisionTreeClassifier_KMeansSMOTE        0.640091  0.737201       0.836177   \nRandomForestClassifier_KMeansSMOTE        0.989729  0.974403       0.925751   \nXGBClassifier_KMeansSMOTE                 0.868700  0.807167       0.913915   \nLGBMClassifier_KMeansSMOTE                0.868538  0.795222       0.950605   \nDecisionTreeClassifier_BorderlineSMOTE    0.635692  0.791809       0.920454   \nRandomForestClassifier_BorderlineSMOTE    0.975422  0.938567       0.743583   \nXGBClassifier_BorderlineSMOTE             0.924034  0.849829       0.628959   \nLGBMClassifier_BorderlineSMOTE            0.936578  0.861775       0.526336   \nDecisionTreeClassifier_SMOTEENN           0.676291  0.723549       1.059188   \nRandomForestClassifier_SMOTEENN           0.976409  0.947099       0.876890   \nXGBClassifier_SMOTEENN                    0.880791  0.781570       0.826287   \nLGBMClassifier_SMOTEENN                   0.898696  0.837884       0.959673   \n\n                                          Test time  \nDecisionTreeClassifier_                    0.002750  \nRandomForestClassifier_                    0.012892  \nXGBClassifier_                             0.003260  \nLGBMClassifier_                            0.001260  \nDecisionTreeClassifier_RandomOverSampler   0.001197  \nRandomForestClassifier_RandomOverSampler   0.010094  \nXGBClassifier_RandomOverSampler            0.001599  \nLGBMClassifier_RandomOverSampler           0.001459  \nDecisionTreeClassifier_SMOTE               0.001304  \nRandomForestClassifier_SMOTE               0.011693  \nXGBClassifier_SMOTE                        0.003798  \nLGBMClassifier_SMOTE                       0.001655  \nDecisionTreeClassifier_ADASYN              0.001883  \nRandomForestClassifier_ADASYN              0.012091  \nXGBClassifier_ADASYN                       0.004550  \nLGBMClassifier_ADASYN                      0.001665  \nDecisionTreeClassifier_KMeansSMOTE         0.000793  \nRandomForestClassifier_KMeansSMOTE         0.011200  \nXGBClassifier_KMeansSMOTE                  0.001593  \nLGBMClassifier_KMeansSMOTE                 0.001171  \nDecisionTreeClassifier_BorderlineSMOTE     0.012753  \nRandomForestClassifier_BorderlineSMOTE     0.012679  \nXGBClassifier_BorderlineSMOTE              0.001374  \nLGBMClassifier_BorderlineSMOTE             0.001362  \nDecisionTreeClassifier_SMOTEENN            0.001104  \nRandomForestClassifier_SMOTEENN            0.009751  \nXGBClassifier_SMOTEENN                     0.001451  \nLGBMClassifier_SMOTEENN                    0.001466  ",
      "text/html": "<div>\n<style scoped>\n    .dataframe tbody tr th:only-of-type {\n        vertical-align: middle;\n    }\n\n    .dataframe tbody tr th {\n        vertical-align: top;\n    }\n\n    .dataframe thead th {\n        text-align: right;\n    }\n</style>\n<table border=\"1\" class=\"dataframe\">\n  <thead>\n    <tr style=\"text-align: right;\">\n      <th></th>\n      <th>F1_score</th>\n      <th>Precision</th>\n      <th>Recall</th>\n      <th>ROC AUC</th>\n      <th>Accuracy</th>\n      <th>Training time</th>\n      <th>Test time</th>\n    </tr>\n  </thead>\n  <tbody>\n    <tr>\n      <th>DecisionTreeClassifier_</th>\n      <td>0.555066</td>\n      <td>0.707865</td>\n      <td>0.456522</td>\n      <td>0.699243</td>\n      <td>0.827645</td>\n      <td>0.714897</td>\n      <td>0.002750</td>\n    </tr>\n    <tr>\n      <th>RandomForestClassifier_</th>\n      <td>0.886667</td>\n      <td>0.820988</td>\n      <td>0.963768</td>\n      <td>0.978843</td>\n      <td>0.941980</td>\n      <td>0.776554</td>\n      <td>0.012892</td>\n    </tr>\n    <tr>\n      <th>XGBClassifier_</th>\n      <td>0.730061</td>\n      <td>0.632979</td>\n      <td>0.862319</td>\n      <td>0.924034</td>\n      <td>0.849829</td>\n      <td>0.826716</td>\n      <td>0.003260</td>\n    </tr>\n    <tr>\n      <th>LGBMClassifier_</th>\n      <td>0.742857</td>\n      <td>0.661017</td>\n      <td>0.847826</td>\n      <td>0.936578</td>\n      <td>0.861775</td>\n      <td>0.882471</td>\n      <td>0.001260</td>\n    </tr>\n    <tr>\n      <th>DecisionTreeClassifier_RandomOverSampler</th>\n      <td>0.643068</td>\n      <td>0.542289</td>\n      <td>0.789855</td>\n      <td>0.792249</td>\n      <td>0.793515</td>\n      <td>0.273504</td>\n      <td>0.001197</td>\n    </tr>\n    <tr>\n      <th>RandomForestClassifier_RandomOverSampler</th>\n      <td>0.925373</td>\n      <td>0.953846</td>\n      <td>0.898551</td>\n      <td>0.975907</td>\n      <td>0.965870</td>\n      <td>0.813227</td>\n      <td>0.010094</td>\n    </tr>\n    <tr>\n      <th>XGBClassifier_RandomOverSampler</th>\n      <td>0.597222</td>\n      <td>0.438776</td>\n      <td>0.934783</td>\n      <td>0.881163</td>\n      <td>0.703072</td>\n      <td>0.651464</td>\n      <td>0.001599</td>\n    </tr>\n    <tr>\n      <th>LGBMClassifier_RandomOverSampler</th>\n      <td>0.612529</td>\n      <td>0.450512</td>\n      <td>0.956522</td>\n      <td>0.914677</td>\n      <td>0.715017</td>\n      <td>0.473810</td>\n      <td>0.001459</td>\n    </tr>\n    <tr>\n      <th>DecisionTreeClassifier_SMOTE</th>\n      <td>0.484848</td>\n      <td>0.452830</td>\n      <td>0.521739</td>\n      <td>0.663771</td>\n      <td>0.738908</td>\n      <td>1.375099</td>\n      <td>0.001304</td>\n    </tr>\n    <tr>\n      <th>RandomForestClassifier_SMOTE</th>\n      <td>0.881119</td>\n      <td>0.851351</td>\n      <td>0.913043</td>\n      <td>0.981366</td>\n      <td>0.941980</td>\n      <td>1.203064</td>\n      <td>0.011693</td>\n    </tr>\n    <tr>\n      <th>XGBClassifier_SMOTE</th>\n      <td>0.697674</td>\n      <td>0.582524</td>\n      <td>0.869565</td>\n      <td>0.880063</td>\n      <td>0.822526</td>\n      <td>1.524563</td>\n      <td>0.003798</td>\n    </tr>\n    <tr>\n      <th>LGBMClassifier_SMOTE</th>\n      <td>0.677871</td>\n      <td>0.552511</td>\n      <td>0.876812</td>\n      <td>0.894313</td>\n      <td>0.803754</td>\n      <td>1.641497</td>\n      <td>0.001655</td>\n    </tr>\n    <tr>\n      <th>DecisionTreeClassifier_ADASYN</th>\n      <td>0.270270</td>\n      <td>0.357143</td>\n      <td>0.217391</td>\n      <td>0.548428</td>\n      <td>0.723549</td>\n      <td>1.015900</td>\n      <td>0.001883</td>\n    </tr>\n    <tr>\n      <th>RandomForestClassifier_ADASYN</th>\n      <td>0.913043</td>\n      <td>0.913043</td>\n      <td>0.913043</td>\n      <td>0.980072</td>\n      <td>0.959044</td>\n      <td>0.968710</td>\n      <td>0.012091</td>\n    </tr>\n    <tr>\n      <th>XGBClassifier_ADASYN</th>\n      <td>0.664773</td>\n      <td>0.546729</td>\n      <td>0.847826</td>\n      <td>0.896003</td>\n      <td>0.798635</td>\n      <td>0.881170</td>\n      <td>0.004550</td>\n    </tr>\n    <tr>\n      <th>LGBMClassifier_ADASYN</th>\n      <td>0.677966</td>\n      <td>0.555556</td>\n      <td>0.869565</td>\n      <td>0.895494</td>\n      <td>0.805461</td>\n      <td>1.046867</td>\n      <td>0.001665</td>\n    </tr>\n    <tr>\n      <th>DecisionTreeClassifier_KMeansSMOTE</th>\n      <td>0.450000</td>\n      <td>0.443662</td>\n      <td>0.456522</td>\n      <td>0.640091</td>\n      <td>0.737201</td>\n      <td>0.836177</td>\n      <td>0.000793</td>\n    </tr>\n    <tr>\n      <th>RandomForestClassifier_KMeansSMOTE</th>\n      <td>0.945455</td>\n      <td>0.948905</td>\n      <td>0.942029</td>\n      <td>0.989729</td>\n      <td>0.974403</td>\n      <td>0.925751</td>\n      <td>0.011200</td>\n    </tr>\n    <tr>\n      <th>XGBClassifier_KMeansSMOTE</th>\n      <td>0.685237</td>\n      <td>0.556561</td>\n      <td>0.891304</td>\n      <td>0.868700</td>\n      <td>0.807167</td>\n      <td>0.913915</td>\n      <td>0.001593</td>\n    </tr>\n    <tr>\n      <th>LGBMClassifier_KMeansSMOTE</th>\n      <td>0.668508</td>\n      <td>0.540179</td>\n      <td>0.876812</td>\n      <td>0.868538</td>\n      <td>0.795222</td>\n      <td>0.950605</td>\n      <td>0.001171</td>\n    </tr>\n    <tr>\n      <th>DecisionTreeClassifier_BorderlineSMOTE</th>\n      <td>0.435185</td>\n      <td>0.602564</td>\n      <td>0.340580</td>\n      <td>0.635692</td>\n      <td>0.791809</td>\n      <td>0.920454</td>\n      <td>0.012753</td>\n    </tr>\n    <tr>\n      <th>RandomForestClassifier_BorderlineSMOTE</th>\n      <td>0.875862</td>\n      <td>0.835526</td>\n      <td>0.920290</td>\n      <td>0.975422</td>\n      <td>0.938567</td>\n      <td>0.743583</td>\n      <td>0.012679</td>\n    </tr>\n    <tr>\n      <th>XGBClassifier_BorderlineSMOTE</th>\n      <td>0.730061</td>\n      <td>0.632979</td>\n      <td>0.862319</td>\n      <td>0.924034</td>\n      <td>0.849829</td>\n      <td>0.628959</td>\n      <td>0.001374</td>\n    </tr>\n    <tr>\n      <th>LGBMClassifier_BorderlineSMOTE</th>\n      <td>0.742857</td>\n      <td>0.661017</td>\n      <td>0.847826</td>\n      <td>0.936578</td>\n      <td>0.861775</td>\n      <td>0.526336</td>\n      <td>0.001362</td>\n    </tr>\n    <tr>\n      <th>DecisionTreeClassifier_SMOTEENN</th>\n      <td>0.500000</td>\n      <td>0.435484</td>\n      <td>0.586957</td>\n      <td>0.676291</td>\n      <td>0.723549</td>\n      <td>1.059188</td>\n      <td>0.001104</td>\n    </tr>\n    <tr>\n      <th>RandomForestClassifier_SMOTEENN</th>\n      <td>0.892734</td>\n      <td>0.854305</td>\n      <td>0.934783</td>\n      <td>0.976409</td>\n      <td>0.947099</td>\n      <td>0.876890</td>\n      <td>0.009751</td>\n    </tr>\n    <tr>\n      <th>XGBClassifier_SMOTEENN</th>\n      <td>0.663158</td>\n      <td>0.520661</td>\n      <td>0.913043</td>\n      <td>0.880791</td>\n      <td>0.781570</td>\n      <td>0.826287</td>\n      <td>0.001451</td>\n    </tr>\n    <tr>\n      <th>LGBMClassifier_SMOTEENN</th>\n      <td>0.714715</td>\n      <td>0.610256</td>\n      <td>0.862319</td>\n      <td>0.898696</td>\n      <td>0.837884</td>\n      <td>0.959673</td>\n      <td>0.001466</td>\n    </tr>\n  </tbody>\n</table>\n</div>"
     },
     "execution_count": 70,
     "metadata": {},
     "output_type": "execute_result"
    }
   ],
   "source": [
    "df_results"
   ]
  }
 ],
 "metadata": {
  "kernelspec": {
   "display_name": "Python 3 (ipykernel)",
   "language": "python",
   "name": "python3"
  },
  "language_info": {
   "codemirror_mode": {
    "name": "ipython",
    "version": 3
   },
   "file_extension": ".py",
   "mimetype": "text/x-python",
   "name": "python",
   "nbconvert_exporter": "python",
   "pygments_lexer": "ipython3",
   "version": "3.10.9"
  }
 },
 "nbformat": 4,
 "nbformat_minor": 5
}
