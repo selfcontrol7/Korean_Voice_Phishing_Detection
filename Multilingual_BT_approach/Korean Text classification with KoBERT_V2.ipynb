{
 "cells": [
  {
   "cell_type": "markdown",
   "metadata": {
    "id": "OM4ByVuU9r6R"
   },
   "source": [
    "<h1>Korean Text classification with KoBERT</h1>\n",
    "This is the final project for the class of Deep learning showing understanding of the deep learning concepts."
   ]
  },
  {
   "cell_type": "markdown",
   "metadata": {
    "id": "q30zE2Xy-ipp"
   },
   "source": [
    "## **Summary of the project**\n",
    "\n",
    "In Korea, even though there are many research conducted being conducted on voice phishing, it remains a real case problem that technologye suchas artificial inteligence can tackle. Through a previous project conducted, I createtd a dataset containing phone call convesation transcipts and general conversation text daata. This voice phishing dataset has two differents class which are **voice phishing** (represented as \"1\") and **non-voice phishing** (represented as \"0\"). \n",
    "\n",
    "Using this dataset with state-of-the-art (SOTA) pre-trained word embedding [KoBERT](https://github.com/SKTBrain/KoBERT), we will perform NLP task such as text classification to build binary classification models."
   ]
  },
  {
   "cell_type": "markdown",
   "metadata": {
    "id": "Z48RIrXt-27-"
   },
   "source": [
    "## **Aim of the project**\n",
    "In this project, we aim to build binary classification models capable to determine whether the inputted Korean conversation text is voice phishing (\"1\") or non-voice phishing (\"0\") related text.\n",
    "\n",
    "The API used are Tensorflow for BERT model and Pytorch fror KoBERT model."
   ]
  },
  {
   "cell_type": "markdown",
   "metadata": {
    "id": "IZWbz7tr_D4e"
   },
   "source": [
    "## **Desired outputs of the project**\n",
    "From the trained models, we expect to achieve great classification performance on this voice phishing dataset such as the model tells us if a conversation is harmful or not harmful.\n",
    "At the end of this project, we will look at the accuracy of the model on the test set."
   ]
  },
  {
   "cell_type": "markdown",
   "metadata": {
    "id": "-U5oXwtUIUZx"
   },
   "source": [
    "# Training the binary classificatioon model with KoBERT"
   ]
  },
  {
   "cell_type": "markdown",
   "metadata": {
    "id": "tMY5U0umGrhJ"
   },
   "source": [
    "## Installing the common needed packages"
   ]
  },
  {
   "cell_type": "code",
   "execution_count": 1,
   "metadata": {
    "colab": {
     "base_uri": "https://localhost:8080/"
    },
    "executionInfo": {
     "elapsed": 138449,
     "status": "ok",
     "timestamp": 1672071311591,
     "user": {
      "displayName": "Milandu Keith Moussavou Boussougou",
      "userId": "16125998280788005643"
     },
     "user_tz": -540
    },
    "id": "1SygClswK-r1",
    "outputId": "0f0aed2f-d077-4cfe-8c1b-e82bef3d4cb0"
   },
   "outputs": [
    {
     "name": "stdout",
     "output_type": "stream",
     "text": [
      "\u001B[33mWARNING: Ignoring invalid distribution -umpy (/home/phenomx/anaconda3/lib/python3.8/site-packages)\u001B[0m\u001B[33m\n",
      "\u001B[0m\u001B[33mWARNING: Ignoring invalid distribution -rllib3 (/home/phenomx/anaconda3/lib/python3.8/site-packages)\u001B[0m\u001B[33m\n",
      "\u001B[0m\u001B[33mWARNING: Ignoring invalid distribution -otocore (/home/phenomx/anaconda3/lib/python3.8/site-packages)\u001B[0m\u001B[33m\n",
      "\u001B[0m\u001B[33mWARNING: Ignoring invalid distribution -oogle-auth (/home/phenomx/anaconda3/lib/python3.8/site-packages)\u001B[0m\u001B[33m\n",
      "\u001B[0m\u001B[33mWARNING: Ignoring invalid distribution -ip (/home/phenomx/anaconda3/lib/python3.8/site-packages)\u001B[0m\u001B[33m\n",
      "\u001B[0m\u001B[33mWARNING: Ignoring invalid distribution -impleitk (/home/phenomx/anaconda3/lib/python3.8/site-packages)\u001B[0m\u001B[33m\n",
      "\u001B[0m\u001B[33mWARNING: Ignoring invalid distribution - (/home/phenomx/anaconda3/lib/python3.8/site-packages)\u001B[0m\u001B[33m\n",
      "\u001B[0m\u001B[33mWARNING: Ignoring invalid distribution -equests (/home/phenomx/anaconda3/lib/python3.8/site-packages)\u001B[0m\u001B[33m\n",
      "\u001B[0m\u001B[33mWARNING: Ignoring invalid distribution -umpy (/home/phenomx/anaconda3/lib/python3.8/site-packages)\u001B[0m\u001B[33m\n",
      "\u001B[0m\u001B[33mWARNING: Ignoring invalid distribution -rllib3 (/home/phenomx/anaconda3/lib/python3.8/site-packages)\u001B[0m\u001B[33m\n",
      "\u001B[0m\u001B[33mWARNING: Ignoring invalid distribution -otocore (/home/phenomx/anaconda3/lib/python3.8/site-packages)\u001B[0m\u001B[33m\n",
      "\u001B[0m\u001B[33mWARNING: Ignoring invalid distribution -oogle-auth (/home/phenomx/anaconda3/lib/python3.8/site-packages)\u001B[0m\u001B[33m\n",
      "\u001B[0m\u001B[33mWARNING: Ignoring invalid distribution -ip (/home/phenomx/anaconda3/lib/python3.8/site-packages)\u001B[0m\u001B[33m\n",
      "\u001B[0m\u001B[33mWARNING: Ignoring invalid distribution -impleitk (/home/phenomx/anaconda3/lib/python3.8/site-packages)\u001B[0m\u001B[33m\n",
      "\u001B[0m\u001B[33mWARNING: Ignoring invalid distribution - (/home/phenomx/anaconda3/lib/python3.8/site-packages)\u001B[0m\u001B[33m\n",
      "\u001B[0m\u001B[33mWARNING: Ignoring invalid distribution -equests (/home/phenomx/anaconda3/lib/python3.8/site-packages)\u001B[0m\u001B[33m\n",
      "\u001B[0mCollecting git+https://****@github.com/SKTBrain/KoBERT.git@master\n",
      "  Cloning https://****@github.com/SKTBrain/KoBERT.git (to revision master) to /tmp/pip-req-build-ojy1mzfd\n",
      "  Running command git clone --filter=blob:none --quiet 'https://****@github.com/SKTBrain/KoBERT.git' /tmp/pip-req-build-ojy1mzfd\n",
      "  Resolved https://****@github.com/SKTBrain/KoBERT.git to commit 47a69af87928fc24e20f571fe10c3cc9dd9af9a3\n",
      "  Preparing metadata (setup.py) ... \u001B[?25ldone\n",
      "\u001B[?25hRequirement already satisfied: boto3<=1.15.18 in /home/phenomx/anaconda3/lib/python3.8/site-packages (from kobert==0.2.3) (1.15.18)\n",
      "Requirement already satisfied: gluonnlp<=0.10.0,>=0.6.0 in /home/phenomx/anaconda3/lib/python3.8/site-packages (from kobert==0.2.3) (0.10.0)\n",
      "Requirement already satisfied: mxnet<=1.7.0.post2,>=1.4.0 in /home/phenomx/anaconda3/lib/python3.8/site-packages (from kobert==0.2.3) (1.7.0.post2)\n",
      "Requirement already satisfied: onnxruntime<=1.8.0,==1.8.0 in /home/phenomx/anaconda3/lib/python3.8/site-packages (from kobert==0.2.3) (1.8.0)\n",
      "Requirement already satisfied: sentencepiece<=0.1.96,>=0.1.6 in /home/phenomx/anaconda3/lib/python3.8/site-packages (from kobert==0.2.3) (0.1.96)\n",
      "Requirement already satisfied: torch<=1.10.1,>=1.7.0 in /home/phenomx/anaconda3/lib/python3.8/site-packages (from kobert==0.2.3) (1.8.2+cu111)\n",
      "Requirement already satisfied: transformers<=4.8.1,>=4.8.1 in /home/phenomx/anaconda3/lib/python3.8/site-packages (from kobert==0.2.3) (4.8.1)\n",
      "Requirement already satisfied: numpy>=1.16.6 in /home/phenomx/anaconda3/lib/python3.8/site-packages (from onnxruntime<=1.8.0,==1.8.0->kobert==0.2.3) (1.21.6)\n",
      "Requirement already satisfied: flatbuffers in /home/phenomx/anaconda3/lib/python3.8/site-packages (from onnxruntime<=1.8.0,==1.8.0->kobert==0.2.3) (1.12)\n",
      "Requirement already satisfied: protobuf in /home/phenomx/anaconda3/lib/python3.8/site-packages (from onnxruntime<=1.8.0,==1.8.0->kobert==0.2.3) (3.14.0)\n",
      "Requirement already satisfied: jmespath<1.0.0,>=0.7.1 in /home/phenomx/anaconda3/lib/python3.8/site-packages (from boto3<=1.15.18->kobert==0.2.3) (0.10.0)\n",
      "Requirement already satisfied: s3transfer<0.4.0,>=0.3.0 in /home/phenomx/anaconda3/lib/python3.8/site-packages (from boto3<=1.15.18->kobert==0.2.3) (0.3.7)\n",
      "Requirement already satisfied: botocore<1.19.0,>=1.18.18 in /home/phenomx/anaconda3/lib/python3.8/site-packages (from boto3<=1.15.18->kobert==0.2.3) (1.18.18)\n",
      "Requirement already satisfied: packaging in /home/phenomx/anaconda3/lib/python3.8/site-packages (from gluonnlp<=0.10.0,>=0.6.0->kobert==0.2.3) (21.3)\n",
      "Requirement already satisfied: cython in /home/phenomx/anaconda3/lib/python3.8/site-packages (from gluonnlp<=0.10.0,>=0.6.0->kobert==0.2.3) (0.29.21)\n",
      "Requirement already satisfied: graphviz<0.9.0,>=0.8.1 in /home/phenomx/anaconda3/lib/python3.8/site-packages (from mxnet<=1.7.0.post2,>=1.4.0->kobert==0.2.3) (0.8.4)\n",
      "Requirement already satisfied: requests<3,>=2.20.0 in /home/phenomx/anaconda3/lib/python3.8/site-packages (from mxnet<=1.7.0.post2,>=1.4.0->kobert==0.2.3) (2.26.0)\n",
      "Requirement already satisfied: typing-extensions in /home/phenomx/anaconda3/lib/python3.8/site-packages (from torch<=1.10.1,>=1.7.0->kobert==0.2.3) (3.7.4.3)\n",
      "Requirement already satisfied: pyyaml in /home/phenomx/anaconda3/lib/python3.8/site-packages (from transformers<=4.8.1,>=4.8.1->kobert==0.2.3) (6.0)\n",
      "Requirement already satisfied: sacremoses in /home/phenomx/anaconda3/lib/python3.8/site-packages (from transformers<=4.8.1,>=4.8.1->kobert==0.2.3) (0.0.47)\n",
      "Requirement already satisfied: huggingface-hub==0.0.12 in /home/phenomx/anaconda3/lib/python3.8/site-packages (from transformers<=4.8.1,>=4.8.1->kobert==0.2.3) (0.0.12)\n",
      "Requirement already satisfied: tqdm>=4.27 in /home/phenomx/anaconda3/lib/python3.8/site-packages (from transformers<=4.8.1,>=4.8.1->kobert==0.2.3) (4.64.0)\n",
      "Requirement already satisfied: regex!=2019.12.17 in /home/phenomx/anaconda3/lib/python3.8/site-packages (from transformers<=4.8.1,>=4.8.1->kobert==0.2.3) (2020.11.13)\n",
      "Requirement already satisfied: tokenizers<0.11,>=0.10.1 in /home/phenomx/anaconda3/lib/python3.8/site-packages (from transformers<=4.8.1,>=4.8.1->kobert==0.2.3) (0.10.3)\n",
      "Requirement already satisfied: filelock in /home/phenomx/anaconda3/lib/python3.8/site-packages (from transformers<=4.8.1,>=4.8.1->kobert==0.2.3) (3.0.12)\n",
      "Requirement already satisfied: python-dateutil<3.0.0,>=2.1 in /home/phenomx/anaconda3/lib/python3.8/site-packages (from botocore<1.19.0,>=1.18.18->boto3<=1.15.18->kobert==0.2.3) (2.8.2)\n",
      "Requirement already satisfied: urllib3<1.26,>=1.20 in /home/user_01/.local/lib/python3.8/site-packages (from botocore<1.19.0,>=1.18.18->boto3<=1.15.18->kobert==0.2.3) (1.24.3)\n",
      "Requirement already satisfied: pyparsing!=3.0.5,>=2.0.2 in /home/phenomx/anaconda3/lib/python3.8/site-packages (from packaging->gluonnlp<=0.10.0,>=0.6.0->kobert==0.2.3) (2.4.7)\n",
      "Requirement already satisfied: certifi>=2017.4.17 in /home/phenomx/anaconda3/lib/python3.8/site-packages (from requests<3,>=2.20.0->mxnet<=1.7.0.post2,>=1.4.0->kobert==0.2.3) (2020.12.5)\n",
      "Requirement already satisfied: charset-normalizer~=2.0.0 in /home/phenomx/anaconda3/lib/python3.8/site-packages (from requests<3,>=2.20.0->mxnet<=1.7.0.post2,>=1.4.0->kobert==0.2.3) (2.0.12)\n",
      "Requirement already satisfied: idna<4,>=2.5 in /home/phenomx/anaconda3/lib/python3.8/site-packages (from requests<3,>=2.20.0->mxnet<=1.7.0.post2,>=1.4.0->kobert==0.2.3) (2.8)\n",
      "Requirement already satisfied: six>=1.9 in /home/phenomx/anaconda3/lib/python3.8/site-packages (from protobuf->onnxruntime<=1.8.0,==1.8.0->kobert==0.2.3) (1.14.0)\n",
      "Requirement already satisfied: joblib in /home/phenomx/anaconda3/lib/python3.8/site-packages (from sacremoses->transformers<=4.8.1,>=4.8.1->kobert==0.2.3) (1.0.0)\n",
      "Requirement already satisfied: click in /home/phenomx/anaconda3/lib/python3.8/site-packages (from sacremoses->transformers<=4.8.1,>=4.8.1->kobert==0.2.3) (8.1.3)\n",
      "\u001B[33mWARNING: Ignoring invalid distribution -umpy (/home/phenomx/anaconda3/lib/python3.8/site-packages)\u001B[0m\u001B[33m\n",
      "\u001B[0m\u001B[33mWARNING: Ignoring invalid distribution -rllib3 (/home/phenomx/anaconda3/lib/python3.8/site-packages)\u001B[0m\u001B[33m\n",
      "\u001B[0m\u001B[33mWARNING: Ignoring invalid distribution -otocore (/home/phenomx/anaconda3/lib/python3.8/site-packages)\u001B[0m\u001B[33m\n",
      "\u001B[0m\u001B[33mWARNING: Ignoring invalid distribution -oogle-auth (/home/phenomx/anaconda3/lib/python3.8/site-packages)\u001B[0m\u001B[33m\n",
      "\u001B[0m\u001B[33mWARNING: Ignoring invalid distribution -ip (/home/phenomx/anaconda3/lib/python3.8/site-packages)\u001B[0m\u001B[33m\n",
      "\u001B[0m\u001B[33mWARNING: Ignoring invalid distribution -impleitk (/home/phenomx/anaconda3/lib/python3.8/site-packages)\u001B[0m\u001B[33m\n",
      "\u001B[0m\u001B[33mWARNING: Ignoring invalid distribution - (/home/phenomx/anaconda3/lib/python3.8/site-packages)\u001B[0m\u001B[33m\n",
      "\u001B[0m\u001B[33mWARNING: Ignoring invalid distribution -equests (/home/phenomx/anaconda3/lib/python3.8/site-packages)\u001B[0m\u001B[33m\n",
      "\u001B[0m\u001B[33mWARNING: Error parsing requirements for colorama: [Errno 2] No such file or directory: '/home/phenomx/anaconda3/lib/python3.8/site-packages/colorama-0.4.4.dist-info/METADATA'\u001B[0m\u001B[33m\n",
      "\u001B[0m\u001B[33mWARNING: Ignoring invalid distribution -umpy (/home/phenomx/anaconda3/lib/python3.8/site-packages)\u001B[0m\u001B[33m\n",
      "\u001B[0m\u001B[33mWARNING: Ignoring invalid distribution -rllib3 (/home/phenomx/anaconda3/lib/python3.8/site-packages)\u001B[0m\u001B[33m\n",
      "\u001B[0m\u001B[33mWARNING: Ignoring invalid distribution -otocore (/home/phenomx/anaconda3/lib/python3.8/site-packages)\u001B[0m\u001B[33m\n",
      "\u001B[0m\u001B[33mWARNING: Ignoring invalid distribution -oogle-auth (/home/phenomx/anaconda3/lib/python3.8/site-packages)\u001B[0m\u001B[33m\n",
      "\u001B[0m\u001B[33mWARNING: Ignoring invalid distribution -ip (/home/phenomx/anaconda3/lib/python3.8/site-packages)\u001B[0m\u001B[33m\n",
      "\u001B[0m\u001B[33mWARNING: Ignoring invalid distribution -impleitk (/home/phenomx/anaconda3/lib/python3.8/site-packages)\u001B[0m\u001B[33m\n",
      "\u001B[0m\u001B[33mWARNING: Ignoring invalid distribution - (/home/phenomx/anaconda3/lib/python3.8/site-packages)\u001B[0m\u001B[33m\n",
      "\u001B[0m\u001B[33mWARNING: Ignoring invalid distribution -equests (/home/phenomx/anaconda3/lib/python3.8/site-packages)\u001B[0m\u001B[33m\n",
      "\u001B[0m\u001B[33mWARNING: Ignoring invalid distribution -umpy (/home/phenomx/anaconda3/lib/python3.8/site-packages)\u001B[0m\u001B[33m\n",
      "\u001B[0m\u001B[33mWARNING: Ignoring invalid distribution -rllib3 (/home/phenomx/anaconda3/lib/python3.8/site-packages)\u001B[0m\u001B[33m\n",
      "\u001B[0m\u001B[33mWARNING: Ignoring invalid distribution -otocore (/home/phenomx/anaconda3/lib/python3.8/site-packages)\u001B[0m\u001B[33m\n",
      "\u001B[0m\u001B[33mWARNING: Ignoring invalid distribution -oogle-auth (/home/phenomx/anaconda3/lib/python3.8/site-packages)\u001B[0m\u001B[33m\n",
      "\u001B[0m\u001B[33mWARNING: Ignoring invalid distribution -ip (/home/phenomx/anaconda3/lib/python3.8/site-packages)\u001B[0m\u001B[33m\n",
      "\u001B[0m\u001B[33mWARNING: Ignoring invalid distribution -impleitk (/home/phenomx/anaconda3/lib/python3.8/site-packages)\u001B[0m\u001B[33m\n",
      "\u001B[0m\u001B[33mWARNING: Ignoring invalid distribution - (/home/phenomx/anaconda3/lib/python3.8/site-packages)\u001B[0m\u001B[33m\n",
      "\u001B[0m\u001B[33mWARNING: Ignoring invalid distribution -equests (/home/phenomx/anaconda3/lib/python3.8/site-packages)\u001B[0m\u001B[33m\n",
      "\u001B[0m\u001B[33mWARNING: Ignoring invalid distribution -umpy (/home/phenomx/anaconda3/lib/python3.8/site-packages)\u001B[0m\u001B[33m\n",
      "\u001B[0m\u001B[33mWARNING: Ignoring invalid distribution -rllib3 (/home/phenomx/anaconda3/lib/python3.8/site-packages)\u001B[0m\u001B[33m\n",
      "\u001B[0m\u001B[33mWARNING: Ignoring invalid distribution -otocore (/home/phenomx/anaconda3/lib/python3.8/site-packages)\u001B[0m\u001B[33m\n",
      "\u001B[0m\u001B[33mWARNING: Ignoring invalid distribution -oogle-auth (/home/phenomx/anaconda3/lib/python3.8/site-packages)\u001B[0m\u001B[33m\n",
      "\u001B[0m\u001B[33mWARNING: Ignoring invalid distribution -ip (/home/phenomx/anaconda3/lib/python3.8/site-packages)\u001B[0m\u001B[33m\n",
      "\u001B[0m\u001B[33mWARNING: Ignoring invalid distribution -impleitk (/home/phenomx/anaconda3/lib/python3.8/site-packages)\u001B[0m\u001B[33m\n",
      "\u001B[0m\u001B[33mWARNING: Ignoring invalid distribution - (/home/phenomx/anaconda3/lib/python3.8/site-packages)\u001B[0m\u001B[33m\n",
      "\u001B[0m\u001B[33mWARNING: Ignoring invalid distribution -equests (/home/phenomx/anaconda3/lib/python3.8/site-packages)\u001B[0m\u001B[33m\n",
      "\u001B[0m"
     ]
    }
   ],
   "source": [
    "# dowload and install KoBERT as a python package\n",
    "# this commande will install the requirted package at the same time\n",
    "  # gluonnlp >= 0.6.0\n",
    "  # mxnet >= 1.4.0\n",
    "  # onnxruntime >= 0.3.0\n",
    "  # sentencepiece >= 0.1.6\n",
    "  # torch >= 1.7.0\n",
    "  # transformers >= 4.8.1\n",
    "\n",
    "!pip install git+https://git@github.com/SKTBrain/KoBERT.git@master"
   ]
  },
  {
   "cell_type": "code",
   "execution_count": 2,
   "metadata": {
    "executionInfo": {
     "elapsed": 38,
     "status": "ok",
     "timestamp": 1672071311593,
     "user": {
      "displayName": "Milandu Keith Moussavou Boussougou",
      "userId": "16125998280788005643"
     },
     "user_tz": -540
    },
    "id": "c_eR23ulyio_"
   },
   "outputs": [],
   "source": [
    "# !pip list"
   ]
  },
  {
   "cell_type": "markdown",
   "metadata": {
    "id": "Fl-QdJx5O30T"
   },
   "source": [
    "## Import all the needed libraries"
   ]
  },
  {
   "cell_type": "code",
   "execution_count": 3,
   "metadata": {
    "executionInfo": {
     "elapsed": 4158,
     "status": "ok",
     "timestamp": 1672071315715,
     "user": {
      "displayName": "Milandu Keith Moussavou Boussougou",
      "userId": "16125998280788005643"
     },
     "user_tz": -540
    },
    "id": "kZM6H2ZhM4rE"
   },
   "outputs": [
    {
     "ename": "ImportError",
     "evalue": "/home/phenomx/anaconda3/envs/dltest/lib/python3.10/site-packages/gluonnlp/data/fast_bert_tokenizer.cpython-310-x86_64-linux-gnu.so: undefined symbol: _PyGen_Send",
     "output_type": "error",
     "traceback": [
      "\u001B[0;31m---------------------------------------------------------------------------\u001B[0m",
      "\u001B[0;31mImportError\u001B[0m                               Traceback (most recent call last)",
      "Cell \u001B[0;32mIn[3], line 7\u001B[0m\n\u001B[1;32m      5\u001B[0m \u001B[38;5;28;01mimport\u001B[39;00m \u001B[38;5;21;01mtorch\u001B[39;00m\u001B[38;5;21;01m.\u001B[39;00m\u001B[38;5;21;01moptim\u001B[39;00m \u001B[38;5;28;01mas\u001B[39;00m \u001B[38;5;21;01moptim\u001B[39;00m\n\u001B[1;32m      6\u001B[0m \u001B[38;5;28;01mfrom\u001B[39;00m \u001B[38;5;21;01mtorch\u001B[39;00m\u001B[38;5;21;01m.\u001B[39;00m\u001B[38;5;21;01mutils\u001B[39;00m\u001B[38;5;21;01m.\u001B[39;00m\u001B[38;5;21;01mdata\u001B[39;00m \u001B[38;5;28;01mimport\u001B[39;00m Dataset, DataLoader\n\u001B[0;32m----> 7\u001B[0m \u001B[38;5;28;01mimport\u001B[39;00m \u001B[38;5;21;01mgluonnlp\u001B[39;00m \u001B[38;5;28;01mas\u001B[39;00m \u001B[38;5;21;01mnlp\u001B[39;00m\n\u001B[1;32m      8\u001B[0m \u001B[38;5;28;01mimport\u001B[39;00m \u001B[38;5;21;01mnumpy\u001B[39;00m \u001B[38;5;28;01mas\u001B[39;00m \u001B[38;5;21;01mnp\u001B[39;00m\n\u001B[1;32m      9\u001B[0m \u001B[38;5;28;01mimport\u001B[39;00m \u001B[38;5;21;01mpandas\u001B[39;00m \u001B[38;5;28;01mas\u001B[39;00m \u001B[38;5;21;01mpd\u001B[39;00m\n",
      "File \u001B[0;32m/home/phenomx/anaconda3/envs/dltest/lib/python3.10/site-packages/gluonnlp/__init__.py:25\u001B[0m\n\u001B[1;32m     22\u001B[0m \u001B[38;5;28;01mimport\u001B[39;00m \u001B[38;5;21;01mmxnet\u001B[39;00m\n\u001B[1;32m     24\u001B[0m \u001B[38;5;28;01mfrom\u001B[39;00m \u001B[38;5;21;01m.\u001B[39;00m \u001B[38;5;28;01mimport\u001B[39;00m loss\n\u001B[0;32m---> 25\u001B[0m \u001B[38;5;28;01mfrom\u001B[39;00m \u001B[38;5;21;01m.\u001B[39;00m \u001B[38;5;28;01mimport\u001B[39;00m data\n\u001B[1;32m     26\u001B[0m \u001B[38;5;28;01mfrom\u001B[39;00m \u001B[38;5;21;01m.\u001B[39;00m \u001B[38;5;28;01mimport\u001B[39;00m embedding\n\u001B[1;32m     27\u001B[0m \u001B[38;5;28;01mfrom\u001B[39;00m \u001B[38;5;21;01m.\u001B[39;00m \u001B[38;5;28;01mimport\u001B[39;00m model\n",
      "File \u001B[0;32m/home/phenomx/anaconda3/envs/dltest/lib/python3.10/site-packages/gluonnlp/data/__init__.py:23\u001B[0m\n\u001B[1;32m     19\u001B[0m \u001B[38;5;124;03m\"\"\"This module includes common utilities such as data readers and counter.\"\"\"\u001B[39;00m\n\u001B[1;32m     21\u001B[0m \u001B[38;5;28;01mimport\u001B[39;00m \u001B[38;5;21;01mos\u001B[39;00m\n\u001B[0;32m---> 23\u001B[0m \u001B[38;5;28;01mfrom\u001B[39;00m \u001B[38;5;21;01m.\u001B[39;00m \u001B[38;5;28;01mimport\u001B[39;00m (batchify, candidate_sampler, conll, corpora, dataloader,\n\u001B[1;32m     24\u001B[0m                dataset, question_answering, registry, sampler, sentiment,\n\u001B[1;32m     25\u001B[0m                stream, super_glue, transforms, translation, utils,\n\u001B[1;32m     26\u001B[0m                word_embedding_evaluation, intent_slot, glue, datasetloader,\n\u001B[1;32m     27\u001B[0m                classification, baidu_ernie_data, bert, xlnet)\n\u001B[1;32m     28\u001B[0m \u001B[38;5;28;01mfrom\u001B[39;00m \u001B[38;5;21;01m.\u001B[39;00m\u001B[38;5;21;01mcandidate_sampler\u001B[39;00m \u001B[38;5;28;01mimport\u001B[39;00m \u001B[38;5;241m*\u001B[39m\n\u001B[1;32m     29\u001B[0m \u001B[38;5;28;01mfrom\u001B[39;00m \u001B[38;5;21;01m.\u001B[39;00m\u001B[38;5;21;01mconll\u001B[39;00m \u001B[38;5;28;01mimport\u001B[39;00m \u001B[38;5;241m*\u001B[39m\n",
      "File \u001B[0;32m/home/phenomx/anaconda3/envs/dltest/lib/python3.10/site-packages/gluonnlp/data/corpora/__init__.py:21\u001B[0m\n\u001B[1;32m      1\u001B[0m \u001B[38;5;66;03m# Licensed to the Apache Software Foundation (ASF) under one\u001B[39;00m\n\u001B[1;32m      2\u001B[0m \u001B[38;5;66;03m# or more contributor license agreements.  See the NOTICE file\u001B[39;00m\n\u001B[1;32m      3\u001B[0m \u001B[38;5;66;03m# distributed with this work for additional information\u001B[39;00m\n\u001B[0;32m   (...)\u001B[0m\n\u001B[1;32m     17\u001B[0m \n\u001B[1;32m     18\u001B[0m \u001B[38;5;66;03m# pylint: disable=wildcard-import\u001B[39;00m\n\u001B[1;32m     19\u001B[0m \u001B[38;5;124;03m\"\"\"Corpora.\"\"\"\u001B[39;00m\n\u001B[0;32m---> 21\u001B[0m \u001B[38;5;28;01mfrom\u001B[39;00m \u001B[38;5;21;01m.\u001B[39;00m \u001B[38;5;28;01mimport\u001B[39;00m (google_billion_word, large_text_compression_benchmark, wikitext)\n\u001B[1;32m     23\u001B[0m \u001B[38;5;28;01mfrom\u001B[39;00m \u001B[38;5;21;01m.\u001B[39;00m\u001B[38;5;21;01mgoogle_billion_word\u001B[39;00m \u001B[38;5;28;01mimport\u001B[39;00m \u001B[38;5;241m*\u001B[39m\n\u001B[1;32m     24\u001B[0m \u001B[38;5;28;01mfrom\u001B[39;00m \u001B[38;5;21;01m.\u001B[39;00m\u001B[38;5;21;01mlarge_text_compression_benchmark\u001B[39;00m \u001B[38;5;28;01mimport\u001B[39;00m \u001B[38;5;241m*\u001B[39m\n",
      "File \u001B[0;32m/home/phenomx/anaconda3/envs/dltest/lib/python3.10/site-packages/gluonnlp/data/corpora/google_billion_word.py:34\u001B[0m\n\u001B[1;32m     32\u001B[0m \u001B[38;5;28;01mfrom\u001B[39;00m \u001B[38;5;21;01m.\u001B[39;00m\u001B[38;5;21;01m.\u001B[39;00m\u001B[38;5;21;01m.\u001B[39;00m\u001B[38;5;21;01m_constants\u001B[39;00m \u001B[38;5;28;01mimport\u001B[39;00m EOS_TOKEN\n\u001B[1;32m     33\u001B[0m \u001B[38;5;28;01mfrom\u001B[39;00m \u001B[38;5;21;01m.\u001B[39;00m\u001B[38;5;21;01m.\u001B[39;00m\u001B[38;5;21;01m.\u001B[39;00m\u001B[38;5;21;01mbase\u001B[39;00m \u001B[38;5;28;01mimport\u001B[39;00m get_home_dir\n\u001B[0;32m---> 34\u001B[0m \u001B[38;5;28;01mfrom\u001B[39;00m \u001B[38;5;21;01m.\u001B[39;00m\u001B[38;5;21;01m.\u001B[39;00m\u001B[38;5;21;01m.\u001B[39;00m\u001B[38;5;21;01mvocab\u001B[39;00m \u001B[38;5;28;01mimport\u001B[39;00m Vocab\n\u001B[1;32m     35\u001B[0m \u001B[38;5;28;01mfrom\u001B[39;00m \u001B[38;5;21;01m.\u001B[39;00m\u001B[38;5;21;01m.\u001B[39;00m\u001B[38;5;21;01mdataset\u001B[39;00m \u001B[38;5;28;01mimport\u001B[39;00m CorpusDataset\n\u001B[1;32m     36\u001B[0m \u001B[38;5;28;01mfrom\u001B[39;00m \u001B[38;5;21;01m.\u001B[39;00m\u001B[38;5;21;01m.\u001B[39;00m\u001B[38;5;21;01mstream\u001B[39;00m \u001B[38;5;28;01mimport\u001B[39;00m SimpleDatasetStream\n",
      "File \u001B[0;32m/home/phenomx/anaconda3/envs/dltest/lib/python3.10/site-packages/gluonnlp/vocab/__init__.py:21\u001B[0m\n\u001B[1;32m      1\u001B[0m \u001B[38;5;66;03m# Licensed to the Apache Software Foundation (ASF) under one\u001B[39;00m\n\u001B[1;32m      2\u001B[0m \u001B[38;5;66;03m# or more contributor license agreements.  See the NOTICE file\u001B[39;00m\n\u001B[1;32m      3\u001B[0m \u001B[38;5;66;03m# distributed with this work for additional information\u001B[39;00m\n\u001B[0;32m   (...)\u001B[0m\n\u001B[1;32m     17\u001B[0m \n\u001B[1;32m     18\u001B[0m \u001B[38;5;66;03m# pylint: disable=wildcard-import\u001B[39;00m\n\u001B[1;32m     19\u001B[0m \u001B[38;5;124;03m\"\"\"Vocabulary.\"\"\"\u001B[39;00m\n\u001B[0;32m---> 21\u001B[0m \u001B[38;5;28;01mfrom\u001B[39;00m \u001B[38;5;21;01m.\u001B[39;00m \u001B[38;5;28;01mimport\u001B[39;00m bert, elmo, subwords, vocab\n\u001B[1;32m     22\u001B[0m \u001B[38;5;28;01mfrom\u001B[39;00m \u001B[38;5;21;01m.\u001B[39;00m\u001B[38;5;21;01mbert\u001B[39;00m \u001B[38;5;28;01mimport\u001B[39;00m \u001B[38;5;241m*\u001B[39m\n\u001B[1;32m     23\u001B[0m \u001B[38;5;28;01mfrom\u001B[39;00m \u001B[38;5;21;01m.\u001B[39;00m\u001B[38;5;21;01melmo\u001B[39;00m \u001B[38;5;28;01mimport\u001B[39;00m \u001B[38;5;241m*\u001B[39m\n",
      "File \u001B[0;32m/home/phenomx/anaconda3/envs/dltest/lib/python3.10/site-packages/gluonnlp/vocab/bert.py:24\u001B[0m\n\u001B[1;32m     21\u001B[0m \u001B[38;5;28;01mimport\u001B[39;00m \u001B[38;5;21;01mjson\u001B[39;00m\n\u001B[1;32m     22\u001B[0m \u001B[38;5;28;01mimport\u001B[39;00m \u001B[38;5;21;01mos\u001B[39;00m\n\u001B[0;32m---> 24\u001B[0m \u001B[38;5;28;01mfrom\u001B[39;00m \u001B[38;5;21;01m.\u001B[39;00m\u001B[38;5;21;01m.\u001B[39;00m\u001B[38;5;21;01mdata\u001B[39;00m\u001B[38;5;21;01m.\u001B[39;00m\u001B[38;5;21;01mtransforms\u001B[39;00m \u001B[38;5;28;01mimport\u001B[39;00m SentencepieceTokenizer\n\u001B[1;32m     25\u001B[0m \u001B[38;5;28;01mfrom\u001B[39;00m \u001B[38;5;21;01m.\u001B[39;00m\u001B[38;5;21;01m.\u001B[39;00m\u001B[38;5;21;01mdata\u001B[39;00m\u001B[38;5;21;01m.\u001B[39;00m\u001B[38;5;21;01mutils\u001B[39;00m \u001B[38;5;28;01mimport\u001B[39;00m count_tokens\n\u001B[1;32m     26\u001B[0m \u001B[38;5;28;01mfrom\u001B[39;00m \u001B[38;5;21;01m.\u001B[39;00m\u001B[38;5;21;01mvocab\u001B[39;00m \u001B[38;5;28;01mimport\u001B[39;00m Vocab\n",
      "File \u001B[0;32m/home/phenomx/anaconda3/envs/dltest/lib/python3.10/site-packages/gluonnlp/data/transforms.py:48\u001B[0m\n\u001B[1;32m     46\u001B[0m \u001B[38;5;28;01mfrom\u001B[39;00m \u001B[38;5;21;01m.\u001B[39;00m\u001B[38;5;21;01m.\u001B[39;00m\u001B[38;5;21;01mvocab\u001B[39;00m\u001B[38;5;21;01m.\u001B[39;00m\u001B[38;5;21;01mvocab\u001B[39;00m \u001B[38;5;28;01mimport\u001B[39;00m Vocab\n\u001B[1;32m     47\u001B[0m \u001B[38;5;28;01mfrom\u001B[39;00m \u001B[38;5;21;01m.\u001B[39;00m\u001B[38;5;21;01mutils\u001B[39;00m \u001B[38;5;28;01mimport\u001B[39;00m _extract_archive\n\u001B[0;32m---> 48\u001B[0m \u001B[38;5;28;01mfrom\u001B[39;00m \u001B[38;5;21;01m.\u001B[39;00m\u001B[38;5;21;01mfast_bert_tokenizer\u001B[39;00m \u001B[38;5;28;01mimport\u001B[39;00m is_control, is_punctuation, is_whitespace\n\u001B[1;32m     49\u001B[0m \u001B[38;5;28;01mfrom\u001B[39;00m \u001B[38;5;21;01m.\u001B[39;00m\u001B[38;5;21;01mfast_bert_tokenizer\u001B[39;00m \u001B[38;5;28;01mimport\u001B[39;00m BasicTokenizer, WordpieceTokenizer\n\u001B[1;32m     52\u001B[0m \u001B[38;5;28;01mclass\u001B[39;00m \u001B[38;5;21;01mClipSequence\u001B[39;00m:\n",
      "\u001B[0;31mImportError\u001B[0m: /home/phenomx/anaconda3/envs/dltest/lib/python3.10/site-packages/gluonnlp/data/fast_bert_tokenizer.cpython-310-x86_64-linux-gnu.so: undefined symbol: _PyGen_Send"
     ]
    }
   ],
   "source": [
    "## importing the required packages\n",
    "import torch\n",
    "from torch import nn\n",
    "import torch.nn.functional as F\n",
    "import torch.optim as optim\n",
    "from torch.utils.data import Dataset, DataLoader\n",
    "import gluonnlp as nlp\n",
    "import numpy as np\n",
    "import pandas as pd\n",
    "from tqdm import tqdm, tqdm_notebook\n",
    "\n",
    "from sklearn.model_selection import train_test_split"
   ]
  },
  {
   "cell_type": "code",
   "execution_count": null,
   "metadata": {
    "executionInfo": {
     "elapsed": 4656,
     "status": "ok",
     "timestamp": 1672071320363,
     "user": {
      "displayName": "Milandu Keith Moussavou Boussougou",
      "userId": "16125998280788005643"
     },
     "user_tz": -540
    },
    "id": "bFFUZg92HcCj"
   },
   "outputs": [],
   "source": [
    "from sklearn.datasets import make_circles\n",
    "from sklearn.metrics import accuracy_score\n",
    "from sklearn.metrics import precision_score\n",
    "from sklearn.metrics import recall_score\n",
    "from sklearn.metrics import f1_score\n",
    "from sklearn.metrics import cohen_kappa_score\n",
    "from sklearn.metrics import roc_auc_score\n",
    "from sklearn.metrics import confusion_matrix\n",
    "from keras.models import Sequential"
   ]
  },
  {
   "cell_type": "code",
   "execution_count": null,
   "metadata": {
    "executionInfo": {
     "elapsed": 9,
     "status": "ok",
     "timestamp": 1672071320364,
     "user": {
      "displayName": "Milandu Keith Moussavou Boussougou",
      "userId": "16125998280788005643"
     },
     "user_tz": -540
    },
    "id": "G3MdTD7jN7zN"
   },
   "outputs": [],
   "source": [
    "## importing KoBERT functions\n",
    "from kobert.utils import get_tokenizer\n",
    "from kobert.pytorch_kobert import get_pytorch_kobert_model"
   ]
  },
  {
   "cell_type": "code",
   "execution_count": null,
   "metadata": {
    "executionInfo": {
     "elapsed": 9,
     "status": "ok",
     "timestamp": 1672071320365,
     "user": {
      "displayName": "Milandu Keith Moussavou Boussougou",
      "userId": "16125998280788005643"
     },
     "user_tz": -540
    },
    "id": "-wrZ2zmpOfEx"
   },
   "outputs": [],
   "source": [
    "## import transformers functions\n",
    "from transformers import AdamW\n",
    "from transformers.optimization import get_cosine_schedule_with_warmup"
   ]
  },
  {
   "cell_type": "code",
   "execution_count": null,
   "metadata": {
    "executionInfo": {
     "elapsed": 8,
     "status": "ok",
     "timestamp": 1672071320365,
     "user": {
      "displayName": "Milandu Keith Moussavou Boussougou",
      "userId": "16125998280788005643"
     },
     "user_tz": -540
    },
    "id": "uLMyT454u9KP"
   },
   "outputs": [],
   "source": [
    "## Configure the GPU  device\n",
    "device = torch.device(\"cuda:0\") if torch.cuda.is_available() else torch.device(\"cpu\")"
   ]
  },
  {
   "cell_type": "markdown",
   "metadata": {
    "id": "sfQAKaHmTX9v"
   },
   "source": [
    "## Importing the dataset"
   ]
  },
  {
   "cell_type": "code",
   "execution_count": null,
   "metadata": {
    "colab": {
     "base_uri": "https://localhost:8080/"
    },
    "executionInfo": {
     "elapsed": 23958,
     "status": "ok",
     "timestamp": 1672071344315,
     "user": {
      "displayName": "Milandu Keith Moussavou Boussougou",
      "userId": "16125998280788005643"
     },
     "user_tz": -540
    },
    "id": "Ok-GzRAgTd28",
    "outputId": "27a7b3ab-e397-4fa2-9f6b-c3e4456ca549"
   },
   "outputs": [],
   "source": [
    "\"\"\"\n",
    "Since we are using Colab, we will provide a test to check if environment is \n",
    "colab or not so that the data can also be imported in case this jupyter file is \n",
    "ran on local machine and not on colab\n",
    "\"\"\"\n",
    "\n",
    "if 'google.colab' in str(get_ipython()):\n",
    "  print('Running on CoLab')\n",
    "  ## mount the google drive\n",
    "  from google.colab import drive\n",
    "  drive.mount('drive')\n",
    "  # move to the directory where dataset is saved\n",
    "  %cd drive/My\\ Drive/Colab\\ Notebooks/\n",
    "else:\n",
    "  print('Not running on CoLab')"
   ]
  },
  {
   "cell_type": "code",
   "execution_count": null,
   "metadata": {
    "colab": {
     "base_uri": "https://localhost:8080/",
     "height": 424
    },
    "executionInfo": {
     "elapsed": 2709,
     "status": "ok",
     "timestamp": 1672071347011,
     "user": {
      "displayName": "Milandu Keith Moussavou Boussougou",
      "userId": "16125998280788005643"
     },
     "user_tz": -540
    },
    "id": "vdZBdvWvnbfB",
    "outputId": "8136b700-a489-4422-db36-97eb45068634"
   },
   "outputs": [],
   "source": [
    "# import the dataset\n",
    "# dataset = pd.read_csv('KorCCViD_v1.3_fullcleansed.csv').sample(frac=1.0)\n",
    "dataset = pd.read_csv('KorCCVi_v2.csv')\n",
    "dataset"
   ]
  },
  {
   "cell_type": "code",
   "execution_count": null,
   "metadata": {
    "colab": {
     "base_uri": "https://localhost:8080/"
    },
    "executionInfo": {
     "elapsed": 41,
     "status": "ok",
     "timestamp": 1672071347012,
     "user": {
      "displayName": "Milandu Keith Moussavou Boussougou",
      "userId": "16125998280788005643"
     },
     "user_tz": -540
    },
    "id": "G8BGOT2752UR",
    "outputId": "3173eeec-96d5-4079-9a64-b8c50caac637"
   },
   "outputs": [],
   "source": [
    "dataset.info()"
   ]
  },
  {
   "cell_type": "code",
   "execution_count": null,
   "metadata": {
    "colab": {
     "base_uri": "https://localhost:8080/"
    },
    "executionInfo": {
     "elapsed": 27,
     "status": "ok",
     "timestamp": 1672071347012,
     "user": {
      "displayName": "Milandu Keith Moussavou Boussougou",
      "userId": "16125998280788005643"
     },
     "user_tz": -540
    },
    "id": "5h4hUSlHHQng",
    "outputId": "5c000152-0750-4956-baf9-0a4499a786ca"
   },
   "outputs": [],
   "source": [
    "dataset['label'].value_counts()"
   ]
  },
  {
   "cell_type": "markdown",
   "metadata": {
    "id": "IJL-5ZVs402B"
   },
   "source": [
    "# Dataset cleaning and purification"
   ]
  },
  {
   "cell_type": "code",
   "execution_count": null,
   "metadata": {
    "colab": {
     "base_uri": "https://localhost:8080/",
     "height": 424
    },
    "executionInfo": {
     "elapsed": 21,
     "status": "ok",
     "timestamp": 1672071347013,
     "user": {
      "displayName": "Milandu Keith Moussavou Boussougou",
      "userId": "16125998280788005643"
     },
     "user_tz": -540
    },
    "id": "bl28zltM47rG",
    "outputId": "21be3cc5-0d2f-47bb-e016-a950823c901c"
   },
   "outputs": [],
   "source": [
    "# drop the colum we don't need\n",
    "dataset.drop(['confidence', 'id'], axis=1, inplace=True)\n",
    "dataset"
   ]
  },
  {
   "cell_type": "code",
   "execution_count": null,
   "metadata": {
    "colab": {
     "base_uri": "https://localhost:8080/",
     "height": 281
    },
    "executionInfo": {
     "elapsed": 19,
     "status": "ok",
     "timestamp": 1672071347014,
     "user": {
      "displayName": "Milandu Keith Moussavou Boussougou",
      "userId": "16125998280788005643"
     },
     "user_tz": -540
    },
    "id": "YInxT93U57N-",
    "outputId": "a95a5257-60ea-4da9-d990-3107f6f3f15a"
   },
   "outputs": [],
   "source": [
    "%matplotlib inline \n",
    "import matplotlib.pyplot as plt\n",
    "dataset.hist()\n",
    "plt.show()"
   ]
  },
  {
   "cell_type": "markdown",
   "metadata": {
    "id": "s8AEqlhA6IwX"
   },
   "source": [
    "## Dataset cleaning and purification"
   ]
  },
  {
   "cell_type": "code",
   "execution_count": null,
   "metadata": {
    "executionInfo": {
     "elapsed": 17,
     "status": "ok",
     "timestamp": 1672071347014,
     "user": {
      "displayName": "Milandu Keith Moussavou Boussougou",
      "userId": "16125998280788005643"
     },
     "user_tz": -540
    },
    "id": "8o1EVSlL6K3w"
   },
   "outputs": [],
   "source": [
    "# function to perform the cleaning parts\n",
    "def apply_replacement(src_df, replace_func):\n",
    "    ret_df = src_df\n",
    "    ret_df['transcript'] = ret_df['transcript'].apply(lambda x: replace_func(x))\n",
    "    return ret_df"
   ]
  },
  {
   "cell_type": "code",
   "execution_count": null,
   "metadata": {
    "colab": {
     "base_uri": "https://localhost:8080/"
    },
    "executionInfo": {
     "elapsed": 663,
     "status": "ok",
     "timestamp": 1672071347661,
     "user": {
      "displayName": "Milandu Keith Moussavou Boussougou",
      "userId": "16125998280788005643"
     },
     "user_tz": -540
    },
    "id": "oj7qsuaR9UFQ",
    "outputId": "e0cdfa6f-10fb-4488-a87f-c89f04ec7158"
   },
   "outputs": [],
   "source": [
    "%%time\n",
    "# remove the unwanted word and characters from the dataset\n",
    "example_word_replace_list = {'o/': '',\n",
    "                             'b/': '',\n",
    "                             'n/': '',\n",
    "                             '\\n': ' ',\n",
    "                             'name': '',\n",
    "                             'laughing': '',\n",
    "                             'clearing': '',\n",
    "                             'singing': '',\n",
    "                             'applauding': ''}\n",
    "\n",
    "def word_replace(x):\n",
    "    for i in example_word_replace_list:\n",
    "        x = x.replace(i, example_word_replace_list[i])\n",
    "    return x\n",
    "\n",
    "dataset = apply_replacement(dataset, word_replace)"
   ]
  },
  {
   "cell_type": "code",
   "execution_count": null,
   "metadata": {
    "colab": {
     "base_uri": "https://localhost:8080/",
     "height": 424
    },
    "executionInfo": {
     "elapsed": 27,
     "status": "ok",
     "timestamp": 1672071347662,
     "user": {
      "displayName": "Milandu Keith Moussavou Boussougou",
      "userId": "16125998280788005643"
     },
     "user_tz": -540
    },
    "id": "jYlx2n4c9YUh",
    "outputId": "3546b627-47b4-4b2a-87b7-b9c1745ccd81"
   },
   "outputs": [],
   "source": [
    "dataset"
   ]
  },
  {
   "cell_type": "code",
   "execution_count": null,
   "metadata": {
    "colab": {
     "base_uri": "https://localhost:8080/"
    },
    "executionInfo": {
     "elapsed": 24,
     "status": "ok",
     "timestamp": 1672071347663,
     "user": {
      "displayName": "Milandu Keith Moussavou Boussougou",
      "userId": "16125998280788005643"
     },
     "user_tz": -540
    },
    "id": "8SZfPboQ6sYT",
    "outputId": "1bbdcb8e-686e-4cbd-a7da-87247147f494"
   },
   "outputs": [],
   "source": [
    "%%time\n",
    "# remove the special character from the transcripts\n",
    "import re\n",
    "\n",
    "# dataset_clear_text = list(dataset['Transcript'])\n",
    "\n",
    "# dataset_clear_text2 = []\n",
    "\n",
    "# for text in dataset_clear_text:\n",
    "#   temp = re.sub('[-=+,#/\\?:^$.@*\\\"※~&%ㆍ!』\\\\‘|\\(\\)\\[\\]\\<\\>`\\'…》]', '', text)\n",
    "#   dataset_clear_text2.append(temp)\n",
    "# dataset['Transcript'] = dataset_clear_text2\n",
    "\n",
    "def remove_special_sysmbols(sentence): \n",
    "    sentence = re.sub(r\"[-~=+,#/\\?:^$.@*\\\"※~&%ㆍ!』\\\\‘|\\(\\)\\[\\]\\<\\>`\\'…》]\", '', sentence)\n",
    "    return sentence\n",
    "\n",
    "dataset = apply_replacement(dataset, remove_special_sysmbols)"
   ]
  },
  {
   "cell_type": "code",
   "execution_count": null,
   "metadata": {
    "colab": {
     "base_uri": "https://localhost:8080/",
     "height": 424
    },
    "executionInfo": {
     "elapsed": 17,
     "status": "ok",
     "timestamp": 1672071347664,
     "user": {
      "displayName": "Milandu Keith Moussavou Boussougou",
      "userId": "16125998280788005643"
     },
     "user_tz": -540
    },
    "id": "xCDiACLT7BgF",
    "outputId": "082ca2f5-f6ec-4f22-e174-faa43e1b1154"
   },
   "outputs": [],
   "source": [
    "dataset"
   ]
  },
  {
   "cell_type": "code",
   "execution_count": null,
   "metadata": {
    "colab": {
     "base_uri": "https://localhost:8080/"
    },
    "executionInfo": {
     "elapsed": 553,
     "status": "ok",
     "timestamp": 1672071348203,
     "user": {
      "displayName": "Milandu Keith Moussavou Boussougou",
      "userId": "16125998280788005643"
     },
     "user_tz": -540
    },
    "id": "4JAi14Ue7F3m",
    "outputId": "2dabbf1e-f3de-4d42-b3df-2ff64b9d1f0e"
   },
   "outputs": [],
   "source": [
    "# remove x and O from the transcripts\n",
    "%%time\n",
    "def replace_x_o(sentence):\n",
    "    \n",
    "    # sentence = re.sub(r\"(o{2,})|(O{2,})|(\\ㅇ{2,})|(0{2,})|(x{2,})\", '' , sentence)\n",
    "    # sentence = re.sub(r\"x{2,}\", '' , sentence)\n",
    "    # sentence = re.sub(r\"0{2,}\", '' , sentence)\n",
    "    # sentence = re.sub(r\"ㅇ{2,}\", '' , sentence)\n",
    "    # sentence = re.sub(r\"O{2,}\", '' , sentence)\n",
    "    # sentence = re.sub(r\"o{2,}\", '' , sentence)\n",
    "    sentence = re.sub(r\"(o|O|\\ㅇ|0|x){2,}\", '' , sentence)\n",
    "    return sentence\n",
    "    \n",
    "dataset = apply_replacement(dataset, replace_x_o)"
   ]
  },
  {
   "cell_type": "code",
   "execution_count": null,
   "metadata": {
    "colab": {
     "base_uri": "https://localhost:8080/",
     "height": 424
    },
    "executionInfo": {
     "elapsed": 33,
     "status": "ok",
     "timestamp": 1672071348204,
     "user": {
      "displayName": "Milandu Keith Moussavou Boussougou",
      "userId": "16125998280788005643"
     },
     "user_tz": -540
    },
    "id": "79Kckwan7HML",
    "outputId": "786bd622-67b6-4267-dd7d-62c2b1c38a5a"
   },
   "outputs": [],
   "source": [
    "dataset"
   ]
  },
  {
   "cell_type": "code",
   "execution_count": null,
   "metadata": {
    "colab": {
     "base_uri": "https://localhost:8080/"
    },
    "executionInfo": {
     "elapsed": 30,
     "status": "ok",
     "timestamp": 1672071348204,
     "user": {
      "displayName": "Milandu Keith Moussavou Boussougou",
      "userId": "16125998280788005643"
     },
     "user_tz": -540
    },
    "id": "1jpA2YlS7K-r",
    "outputId": "55390ffe-e391-4a78-d216-ce9d814ce6e7"
   },
   "outputs": [],
   "source": [
    "%%time\n",
    "# remove the unwanted word and characters from the transcripts\n",
    "example_word_replace_list = {'\\n' : ' '}\n",
    "\n",
    "def word_replace(x):\n",
    "    for i in example_word_replace_list:\n",
    "        x = x.replace(i, example_word_replace_list[i])\n",
    "    return x\n",
    "\n",
    "dataset = apply_replacement(dataset, word_replace)"
   ]
  },
  {
   "cell_type": "code",
   "execution_count": null,
   "metadata": {
    "colab": {
     "base_uri": "https://localhost:8080/",
     "height": 424
    },
    "executionInfo": {
     "elapsed": 23,
     "status": "ok",
     "timestamp": 1672071348204,
     "user": {
      "displayName": "Milandu Keith Moussavou Boussougou",
      "userId": "16125998280788005643"
     },
     "user_tz": -540
    },
    "id": "cwSFNL057MJg",
    "outputId": "e4f94010-2c05-4af6-ab0d-c86bff8efb1f"
   },
   "outputs": [],
   "source": [
    "dataset"
   ]
  },
  {
   "cell_type": "code",
   "execution_count": null,
   "metadata": {
    "colab": {
     "base_uri": "https://localhost:8080/"
    },
    "executionInfo": {
     "elapsed": 22,
     "status": "ok",
     "timestamp": 1672071348205,
     "user": {
      "displayName": "Milandu Keith Moussavou Boussougou",
      "userId": "16125998280788005643"
     },
     "user_tz": -540
    },
    "id": "iLfEomx37aSr",
    "outputId": "9549eab0-70b6-4f3f-ec77-ae4b482d1fc3"
   },
   "outputs": [],
   "source": [
    "print(dataset.groupby('label').size().reset_index(name='count'))"
   ]
  },
  {
   "cell_type": "code",
   "execution_count": null,
   "metadata": {
    "executionInfo": {
     "elapsed": 437,
     "status": "ok",
     "timestamp": 1672071348627,
     "user": {
      "displayName": "Milandu Keith Moussavou Boussougou",
      "userId": "16125998280788005643"
     },
     "user_tz": -540
    },
    "id": "L_vcNtZs7iEj"
   },
   "outputs": [],
   "source": [
    "# save the cleansed dataset of the raw dataset has been used\n",
    "dataset.to_csv(\"KorCCVi_v2_halfcleansed.csv\")"
   ]
  },
  {
   "cell_type": "markdown",
   "metadata": {
    "id": "vXBMisJc-E1y"
   },
   "source": [
    "## Morphology Installation"
   ]
  },
  {
   "cell_type": "markdown",
   "metadata": {
    "id": "3mgJru0T-HAJ"
   },
   "source": [
    "### Installation of MeCab analyzer\n",
    "#### To use Mecab, you need to download both mecab-ko and mecab-ko-dic."
   ]
  },
  {
   "cell_type": "markdown",
   "metadata": {
    "id": "z5-bS7ys-UnB"
   },
   "source": [
    "#### Method 2: Installation of Mecab-ko-for-GoogleColab"
   ]
  },
  {
   "cell_type": "code",
   "execution_count": null,
   "metadata": {
    "colab": {
     "base_uri": "https://localhost:8080/"
    },
    "executionInfo": {
     "elapsed": 1057,
     "status": "ok",
     "timestamp": 1672071349678,
     "user": {
      "displayName": "Milandu Keith Moussavou Boussougou",
      "userId": "16125998280788005643"
     },
     "user_tz": -540
    },
    "id": "UhU2r3Cl-V77",
    "outputId": "9af78856-3352-4fb9-e053-5c0d8413b947"
   },
   "outputs": [],
   "source": [
    "!git clone https://github.com/SOMJANG/Mecab-ko-for-Google-Colab.git"
   ]
  },
  {
   "cell_type": "code",
   "execution_count": null,
   "metadata": {
    "colab": {
     "base_uri": "https://localhost:8080/"
    },
    "executionInfo": {
     "elapsed": 14,
     "status": "ok",
     "timestamp": 1672071349680,
     "user": {
      "displayName": "Milandu Keith Moussavou Boussougou",
      "userId": "16125998280788005643"
     },
     "user_tz": -540
    },
    "id": "pgsu6VUN-X6r",
    "outputId": "bfaa97bd-b8e7-490d-a8a0-d8540947a8cd"
   },
   "outputs": [],
   "source": [
    "cd Mecab-ko-for-Google-Colab"
   ]
  },
  {
   "cell_type": "code",
   "execution_count": null,
   "metadata": {
    "colab": {
     "base_uri": "https://localhost:8080/"
    },
    "executionInfo": {
     "elapsed": 482,
     "status": "ok",
     "timestamp": 1672071350152,
     "user": {
      "displayName": "Milandu Keith Moussavou Boussougou",
      "userId": "16125998280788005643"
     },
     "user_tz": -540
    },
    "id": "Txy1sBSD-ZOz",
    "outputId": "54688200-a7b5-4479-ec84-0ed2bbdf66f1"
   },
   "outputs": [],
   "source": [
    "# !cd Colab Notebooks\n",
    "!pwd\n",
    "!ls -l"
   ]
  },
  {
   "cell_type": "code",
   "execution_count": null,
   "metadata": {
    "colab": {
     "base_uri": "https://localhost:8080/"
    },
    "executionInfo": {
     "elapsed": 116710,
     "status": "ok",
     "timestamp": 1672071466848,
     "user": {
      "displayName": "Milandu Keith Moussavou Boussougou",
      "userId": "16125998280788005643"
     },
     "user_tz": -540
    },
    "id": "k-F-MWbk-cLJ",
    "outputId": "fdd5eb94-dd12-457a-b3fe-f8c7484aa8f2"
   },
   "outputs": [],
   "source": [
    "%%time\n",
    "# !bash install_mecab-ko_on_colab190912.sh\n",
    "!bash install_mecab-ko_on_colab_light_220429.sh"
   ]
  },
  {
   "cell_type": "code",
   "execution_count": null,
   "metadata": {
    "colab": {
     "base_uri": "https://localhost:8080/"
    },
    "executionInfo": {
     "elapsed": 49,
     "status": "ok",
     "timestamp": 1672071466849,
     "user": {
      "displayName": "Milandu Keith Moussavou Boussougou",
      "userId": "16125998280788005643"
     },
     "user_tz": -540
    },
    "id": "0MpHw_8M-tEJ",
    "outputId": "8be7ed19-478c-466d-86ba-494469a150a4"
   },
   "outputs": [],
   "source": [
    "cd .."
   ]
  },
  {
   "cell_type": "markdown",
   "metadata": {
    "id": "NNKCM23--f4V"
   },
   "source": [
    "##### Test of MeCab"
   ]
  },
  {
   "cell_type": "code",
   "execution_count": null,
   "metadata": {
    "executionInfo": {
     "elapsed": 37,
     "status": "ok",
     "timestamp": 1672071466849,
     "user": {
      "displayName": "Milandu Keith Moussavou Boussougou",
      "userId": "16125998280788005643"
     },
     "user_tz": -540
    },
    "id": "T4fOdnbGIx4o"
   },
   "outputs": [],
   "source": [
    "# !pip install konlpy"
   ]
  },
  {
   "cell_type": "code",
   "execution_count": null,
   "metadata": {
    "executionInfo": {
     "elapsed": 39,
     "status": "ok",
     "timestamp": 1672071466852,
     "user": {
      "displayName": "Milandu Keith Moussavou Boussougou",
      "userId": "16125998280788005643"
     },
     "user_tz": -540
    },
    "id": "Je1Mx37Q-dvE"
   },
   "outputs": [],
   "source": [
    "from konlpy.tag import Mecab\n",
    "mecab = Mecab()\n",
    "text = '그중에서 제일 기 좋았던 거는 스페인이랑 포르투갈이었거든요.'"
   ]
  },
  {
   "cell_type": "code",
   "execution_count": null,
   "metadata": {
    "colab": {
     "base_uri": "https://localhost:8080/"
    },
    "executionInfo": {
     "elapsed": 41,
     "status": "ok",
     "timestamp": 1672071466855,
     "user": {
      "displayName": "Milandu Keith Moussavou Boussougou",
      "userId": "16125998280788005643"
     },
     "user_tz": -540
    },
    "id": "gYA6Oo4I-i2S",
    "outputId": "4e9d7db0-931a-484b-ce15-e27596851a4f"
   },
   "outputs": [],
   "source": [
    "my_morphs = mecab.morphs(text)\n",
    "print(my_morphs)"
   ]
  },
  {
   "cell_type": "code",
   "execution_count": null,
   "metadata": {
    "colab": {
     "base_uri": "https://localhost:8080/"
    },
    "executionInfo": {
     "elapsed": 36,
     "status": "ok",
     "timestamp": 1672071466856,
     "user": {
      "displayName": "Milandu Keith Moussavou Boussougou",
      "userId": "16125998280788005643"
     },
     "user_tz": -540
    },
    "id": "tN-hYdVD-kD7",
    "outputId": "8b3f2b11-1015-4b37-8d2a-8b848435cb13"
   },
   "outputs": [],
   "source": [
    "mecab.pos(text)"
   ]
  },
  {
   "cell_type": "code",
   "execution_count": null,
   "metadata": {
    "colab": {
     "base_uri": "https://localhost:8080/"
    },
    "executionInfo": {
     "elapsed": 30,
     "status": "ok",
     "timestamp": 1672071466857,
     "user": {
      "displayName": "Milandu Keith Moussavou Boussougou",
      "userId": "16125998280788005643"
     },
     "user_tz": -540
    },
    "id": "1qTOb-hi-lwK",
    "outputId": "9acf0f4e-a309-40fc-b427-7d60b0c1dcba"
   },
   "outputs": [],
   "source": [
    "tokenizer = Mecab()\n",
    "tokenizer.morphs(text)"
   ]
  },
  {
   "cell_type": "code",
   "execution_count": null,
   "metadata": {
    "colab": {
     "base_uri": "https://localhost:8080/"
    },
    "executionInfo": {
     "elapsed": 40353,
     "status": "ok",
     "timestamp": 1672071507673,
     "user": {
      "displayName": "Milandu Keith Moussavou Boussougou",
      "userId": "16125998280788005643"
     },
     "user_tz": -540
    },
    "id": "9WVJCPAR_CTL",
    "outputId": "a4f3490c-69de-4cff-e054-454fb20cb527"
   },
   "outputs": [],
   "source": [
    "%%time\n",
    "dataset_doc = [(mecab.morphs(x),y) for x,y in zip(dataset['transcript'],dataset['label'])]"
   ]
  },
  {
   "cell_type": "code",
   "execution_count": null,
   "metadata": {
    "colab": {
     "base_uri": "https://localhost:8080/",
     "output_embedded_package_id": "1yVM7cOgMRA1K77ELNMnqpahVmZabnfLC"
    },
    "executionInfo": {
     "elapsed": 59019,
     "status": "ok",
     "timestamp": 1672071566666,
     "user": {
      "displayName": "Milandu Keith Moussavou Boussougou",
      "userId": "16125998280788005643"
     },
     "user_tz": -540
    },
    "id": "Px8DHbTUD0C0",
    "outputId": "51e8e13e-f9b5-4789-c874-d685ac54631f"
   },
   "outputs": [],
   "source": [
    "dataset_doc"
   ]
  },
  {
   "cell_type": "code",
   "execution_count": null,
   "metadata": {
    "executionInfo": {
     "elapsed": 22,
     "status": "ok",
     "timestamp": 1672071566667,
     "user": {
      "displayName": "Milandu Keith Moussavou Boussougou",
      "userId": "16125998280788005643"
     },
     "user_tz": -540
    },
    "id": "7PmTLwAh_lMj"
   },
   "outputs": [],
   "source": [
    "## remove the stop word\n",
    "stopwords = [\"을\", \"를\", \"이\", \"가\", \"ㅡ\", \"은\", \"는\", \"XXX\", \"xxx\", \"어요\", \"아니\", \"입니다\", \"에서\", \"니까\", \"으로\",\n",
    "             \"근데\", \"습니다\", \"습니까\", \"저희\", \"합니다\", \"하고\", \"싶어요\", \"있는\", \"있습니다\", \"싶습니다\", \"그냥\",\n",
    "             \"고요\", \"에요\", \"예요\", \"으시\", \"그래서\"]\n",
    "\n",
    "# function to remove the stop word from the dataframe\n",
    "def get_model_input(_words):\n",
    "    global stopwords\n",
    "    _words = [x for x in _words if x[0] not in stopwords]\n",
    "    _words = [x for x in _words if x[:-1] not in stopwords]\n",
    "\n",
    "    for i in range(len(_words)-1):\n",
    "        yield _words[i]"
   ]
  },
  {
   "cell_type": "code",
   "execution_count": null,
   "metadata": {
    "colab": {
     "base_uri": "https://localhost:8080/"
    },
    "executionInfo": {
     "elapsed": 4005,
     "status": "ok",
     "timestamp": 1672071570651,
     "user": {
      "displayName": "Milandu Keith Moussavou Boussougou",
      "userId": "16125998280788005643"
     },
     "user_tz": -540
    },
    "id": "gGOSCPp7_v27",
    "outputId": "5c55bd05-a782-401b-ce3a-7529164d5097"
   },
   "outputs": [],
   "source": [
    "%%time\n",
    "X_dataset, Y_dataset = [], []\n",
    "for lwords in dataset_doc:\n",
    "    Y_dataset.append(lwords[1])\n",
    "    \n",
    "    temp = []\n",
    "    for x in get_model_input(lwords[0]):\n",
    "        if len(x) != 1:\n",
    "            temp.append(\"{}\".format(x))\n",
    "    X_dataset.append(\" \".join(temp))"
   ]
  },
  {
   "cell_type": "code",
   "execution_count": null,
   "metadata": {
    "executionInfo": {
     "elapsed": 133,
     "status": "ok",
     "timestamp": 1672071570651,
     "user": {
      "displayName": "Milandu Keith Moussavou Boussougou",
      "userId": "16125998280788005643"
     },
     "user_tz": -540
    },
    "id": "-_YeQ5LoAuDE"
   },
   "outputs": [],
   "source": [
    "# Rebuild the full cleansed train and test set in dataframe for future use\n",
    "train_dic = {'transcript':X_dataset, 'label':Y_dataset}\n",
    "df_train_fullCleansed = pd.DataFrame(train_dic)"
   ]
  },
  {
   "cell_type": "code",
   "execution_count": null,
   "metadata": {
    "colab": {
     "base_uri": "https://localhost:8080/",
     "height": 424
    },
    "executionInfo": {
     "elapsed": 131,
     "status": "ok",
     "timestamp": 1672071570652,
     "user": {
      "displayName": "Milandu Keith Moussavou Boussougou",
      "userId": "16125998280788005643"
     },
     "user_tz": -540
    },
    "id": "eatGXm1vBMm4",
    "outputId": "52503700-dd11-4a82-b2ea-c171550d12f5"
   },
   "outputs": [],
   "source": [
    "df_train_fullCleansed"
   ]
  },
  {
   "cell_type": "code",
   "execution_count": null,
   "metadata": {
    "executionInfo": {
     "elapsed": 125,
     "status": "ok",
     "timestamp": 1672071570652,
     "user": {
      "displayName": "Milandu Keith Moussavou Boussougou",
      "userId": "16125998280788005643"
     },
     "user_tz": -540
    },
    "id": "6jq3Z57MA2-K"
   },
   "outputs": [],
   "source": [
    "# save the cleansed dataset\n",
    "df_train_fullCleansed.to_csv(\"KorCCVi_v2_fullcleansed.csv\",index=False)"
   ]
  },
  {
   "cell_type": "code",
   "execution_count": null,
   "metadata": {
    "colab": {
     "base_uri": "https://localhost:8080/"
    },
    "executionInfo": {
     "elapsed": 124,
     "status": "ok",
     "timestamp": 1672071570653,
     "user": {
      "displayName": "Milandu Keith Moussavou Boussougou",
      "userId": "16125998280788005643"
     },
     "user_tz": -540
    },
    "id": "G7kFWc4pBDTk",
    "outputId": "82fd0468-6bc9-4938-8cf3-0f128f5e7e9a"
   },
   "outputs": [],
   "source": [
    "ls -l"
   ]
  },
  {
   "cell_type": "markdown",
   "metadata": {
    "id": "v-P7hdv9mdt6"
   },
   "source": [
    "## Data transformation and splitting"
   ]
  },
  {
   "cell_type": "code",
   "execution_count": null,
   "metadata": {
    "executionInfo": {
     "elapsed": 100,
     "status": "ok",
     "timestamp": 1672071570653,
     "user": {
      "displayName": "Milandu Keith Moussavou Boussougou",
      "userId": "16125998280788005643"
     },
     "user_tz": -540
    },
    "id": "bB_0ae0MkgOT"
   },
   "outputs": [],
   "source": [
    "## transform our train set and test set into tsv file to usedd into KoBERT\n",
    "# train_tsv = nlp.data.TSVDataset('KorCCViD_v1.3_fullcleansed.csv')\n",
    "# train_tsv = nlp.data.TSVDataset('KorCCViD_v1.3_fullcleansed.csv')\n",
    "\n",
    "dataset_tsv = []\n",
    "for text, label in zip(df_train_fullCleansed['transcript'], df_train_fullCleansed['label']):\n",
    "    data = []\n",
    "    data.append(text)\n",
    "    data.append(str(label))\n",
    "\n",
    "    dataset_tsv.append(data)"
   ]
  },
  {
   "cell_type": "code",
   "execution_count": null,
   "metadata": {
    "colab": {
     "base_uri": "https://localhost:8080/"
    },
    "executionInfo": {
     "elapsed": 100,
     "status": "ok",
     "timestamp": 1672071570654,
     "user": {
      "displayName": "Milandu Keith Moussavou Boussougou",
      "userId": "16125998280788005643"
     },
     "user_tz": -540
    },
    "id": "UXD_FjO2qXrU",
    "outputId": "2b6a3b0d-17dd-4582-ec89-fd458ab0a8d4",
    "scrolled": true
   },
   "outputs": [],
   "source": [
    "dataset_tsv[:5]"
   ]
  },
  {
   "cell_type": "code",
   "execution_count": null,
   "metadata": {
    "colab": {
     "base_uri": "https://localhost:8080/"
    },
    "executionInfo": {
     "elapsed": 81,
     "status": "ok",
     "timestamp": 1672071570654,
     "user": {
      "displayName": "Milandu Keith Moussavou Boussougou",
      "userId": "16125998280788005643"
     },
     "user_tz": -540
    },
    "id": "XrrMMwDSmjes",
    "outputId": "e8ca9b14-4c7f-4a28-dbc4-118d9eaf07a3"
   },
   "outputs": [],
   "source": [
    "# Split the data into train set and test set\n",
    "\n",
    "train_set, test_set = train_test_split(dataset_tsv, \n",
    "                               test_size=0.3, \n",
    "                               random_state=42, \n",
    "                               shuffle=True)\n",
    "print(f\"Numbers of train instances by class: {len(train_set)}\")\n",
    "print(f\"Numbers of test instances by class: {len(test_set)}\")"
   ]
  },
  {
   "cell_type": "markdown",
   "metadata": {
    "id": "SlDANqzorZUM"
   },
   "source": [
    "## Prepare the data as input for the KoBERT model\n",
    "According tot he documentation the class BERTDataset is to be used to perform in the background the following tasks.\n",
    "- Tokenization\n",
    "- Numericalization (encoding string to integer)\n",
    "- Padding\n",
    "- etc\n",
    "\n"
   ]
  },
  {
   "cell_type": "code",
   "execution_count": null,
   "metadata": {
    "executionInfo": {
     "elapsed": 22,
     "status": "ok",
     "timestamp": 1672071570655,
     "user": {
      "displayName": "Milandu Keith Moussavou Boussougou",
      "userId": "16125998280788005643"
     },
     "user_tz": -540
    },
    "id": "xwkUQs6vsdUc"
   },
   "outputs": [],
   "source": [
    "# Definition of BERTDataset class (mandatory)\n",
    "class BERTDataset(Dataset):\n",
    "    def __init__(self, dataset, sent_idx, label_idx, bert_tokenizer, max_len,\n",
    "                 pad, pair):\n",
    "        transform = nlp.data.BERTSentenceTransform(\n",
    "            bert_tokenizer, max_seq_length=max_len, pad=pad, pair=pair)\n",
    "\n",
    "        self.sentences = [transform([i[sent_idx]]) for i in dataset]\n",
    "        self.labels = [np.int32(i[label_idx]) for i in dataset]\n",
    "\n",
    "    def __getitem__(self, i):\n",
    "        return (self.sentences[i] + (self.labels[i], ))\n",
    "\n",
    "    def __len__(self):\n",
    "        return (len(self.labels))"
   ]
  },
  {
   "cell_type": "code",
   "execution_count": null,
   "metadata": {
    "executionInfo": {
     "elapsed": 21,
     "status": "ok",
     "timestamp": 1672071570655,
     "user": {
      "displayName": "Milandu Keith Moussavou Boussougou",
      "userId": "16125998280788005643"
     },
     "user_tz": -540
    },
    "id": "wXCfMA95suXZ"
   },
   "outputs": [],
   "source": [
    "# Setting the hyperparameters\n",
    "max_len = 64 # The maximum sequence length that this model might ever be used with. \n",
    "             # Typically set this to something large just in case (e.g., 512 or 1024 or 2048).\n",
    "batch_size = 32\n",
    "warmup_ratio = 0.1\n",
    "num_epochs = 10   # only parameter changed from 5 to 10 compared to the documentation\n",
    "max_grad_norm = 1\n",
    "log_interval = 200\n",
    "learning_rate = 5e-5  # 4e-5"
   ]
  },
  {
   "cell_type": "code",
   "execution_count": null,
   "metadata": {
    "colab": {
     "base_uri": "https://localhost:8080/"
    },
    "executionInfo": {
     "elapsed": 589,
     "status": "ok",
     "timestamp": 1672071571224,
     "user": {
      "displayName": "Milandu Keith Moussavou Boussougou",
      "userId": "16125998280788005643"
     },
     "user_tz": -540
    },
    "id": "j7PpEmMrtqyy",
    "outputId": "1a963b3f-6881-4358-b3da-6fd084cff068"
   },
   "outputs": [],
   "source": [
    "# Perform the prearation task of the data using class defined above\n",
    "bertmodel, vocab = get_pytorch_kobert_model() # calling the bert model and the vocabulary\n",
    "\n",
    "tokenizer = get_tokenizer()\n",
    "tok = nlp.data.BERTSPTokenizer(tokenizer, vocab, lower=False)\n",
    "\n",
    "train_set = BERTDataset(train_set, 0, 1, tok, max_len, True, False)\n",
    "test_set = BERTDataset(test_set, 0, 1, tok, max_len, True, False)"
   ]
  },
  {
   "cell_type": "code",
   "execution_count": null,
   "metadata": {
    "colab": {
     "base_uri": "https://localhost:8080/",
     "height": 35
    },
    "executionInfo": {
     "elapsed": 41,
     "status": "ok",
     "timestamp": 1672071571226,
     "user": {
      "displayName": "Milandu Keith Moussavou Boussougou",
      "userId": "16125998280788005643"
     },
     "user_tz": -540
    },
    "id": "uX6eM0iJ9ViI",
    "outputId": "151dc2f2-65b0-47c7-9cb4-31e27a95079c"
   },
   "outputs": [],
   "source": [
    "tokenizer"
   ]
  },
  {
   "cell_type": "code",
   "execution_count": null,
   "metadata": {
    "colab": {
     "base_uri": "https://localhost:8080/"
    },
    "executionInfo": {
     "elapsed": 40,
     "status": "ok",
     "timestamp": 1672071571227,
     "user": {
      "displayName": "Milandu Keith Moussavou Boussougou",
      "userId": "16125998280788005643"
     },
     "user_tz": -540
    },
    "id": "CX4M61U09XAk",
    "outputId": "cc3ecb0e-ffc7-4db4-c97f-141cbf769844"
   },
   "outputs": [],
   "source": [
    "tok"
   ]
  },
  {
   "cell_type": "code",
   "execution_count": null,
   "metadata": {
    "colab": {
     "base_uri": "https://localhost:8080/"
    },
    "executionInfo": {
     "elapsed": 33,
     "status": "ok",
     "timestamp": 1672071571228,
     "user": {
      "displayName": "Milandu Keith Moussavou Boussougou",
      "userId": "16125998280788005643"
     },
     "user_tz": -540
    },
    "id": "CCdfPvTF0cY7",
    "outputId": "e44681d0-ddef-48b2-8ce7-de6150e80d02"
   },
   "outputs": [],
   "source": [
    "# verifying the transformation\n",
    "train_set[1]"
   ]
  },
  {
   "cell_type": "code",
   "execution_count": null,
   "metadata": {
    "colab": {
     "base_uri": "https://localhost:8080/"
    },
    "executionInfo": {
     "elapsed": 26,
     "status": "ok",
     "timestamp": 1672071571229,
     "user": {
      "displayName": "Milandu Keith Moussavou Boussougou",
      "userId": "16125998280788005643"
     },
     "user_tz": -540
    },
    "id": "KTauspEW0qn2",
    "outputId": "1bf631f0-4b26-42a4-a1b3-feaa93f8aefc"
   },
   "outputs": [],
   "source": [
    "# creating torch-type datasets\n",
    "train_dataloader = torch.utils.data.DataLoader(train_set, batch_size=batch_size, num_workers=5)\n",
    "test_dataloader = torch.utils.data.DataLoader(test_set, batch_size=batch_size, num_workers=5)"
   ]
  },
  {
   "cell_type": "markdown",
   "metadata": {
    "id": "CTeEXPl21Idt"
   },
   "source": [
    "## Creation of the KoBERT learing model"
   ]
  },
  {
   "cell_type": "code",
   "execution_count": null,
   "metadata": {
    "executionInfo": {
     "elapsed": 18,
     "status": "ok",
     "timestamp": 1672071571230,
     "user": {
      "displayName": "Milandu Keith Moussavou Boussougou",
      "userId": "16125998280788005643"
     },
     "user_tz": -540
    },
    "id": "7MrJMeGq1Ojn"
   },
   "outputs": [],
   "source": [
    "# This class is from the github repository and the documentation\n",
    "class BERTClassifier(nn.Module):\n",
    "    def __init__(self,\n",
    "                 bert,\n",
    "                 hidden_size = 768,\n",
    "                 num_classes=2,   # since we are in binary classification we set the value 2\n",
    "                 dr_rate=None,\n",
    "                 params=None):\n",
    "        super(BERTClassifier, self).__init__()\n",
    "        self.bert = bert\n",
    "        self.dr_rate = dr_rate\n",
    "                 \n",
    "        self.classifier = nn.Linear(hidden_size , num_classes)\n",
    "        if dr_rate:\n",
    "            self.dropout = nn.Dropout(p=dr_rate)\n",
    "    \n",
    "    def gen_attention_mask(self, token_ids, valid_length):\n",
    "        attention_mask = torch.zeros_like(token_ids)\n",
    "        for i, v in enumerate(valid_length):\n",
    "            attention_mask[i][:v] = 1\n",
    "        return attention_mask.float()\n",
    "\n",
    "    def forward(self, token_ids, valid_length, segment_ids):\n",
    "        attention_mask = self.gen_attention_mask(token_ids, valid_length)\n",
    "        \n",
    "        _, pooler = self.bert(input_ids = token_ids, token_type_ids = segment_ids.long(), attention_mask = attention_mask.float().to(token_ids.device))\n",
    "        if self.dr_rate:\n",
    "            out = self.dropout(pooler)\n",
    "        return self.classifier(out)"
   ]
  },
  {
   "cell_type": "code",
   "execution_count": null,
   "metadata": {
    "executionInfo": {
     "elapsed": 18,
     "status": "ok",
     "timestamp": 1672071571231,
     "user": {
      "displayName": "Milandu Keith Moussavou Boussougou",
      "userId": "16125998280788005643"
     },
     "user_tz": -540
    },
    "id": "SI1Q0j199ueq"
   },
   "outputs": [],
   "source": [
    "import torch\n",
    "# torch.cuda.empty_cache()"
   ]
  },
  {
   "cell_type": "code",
   "execution_count": null,
   "metadata": {
    "executionInfo": {
     "elapsed": 2284,
     "status": "ok",
     "timestamp": 1672071573497,
     "user": {
      "displayName": "Milandu Keith Moussavou Boussougou",
      "userId": "16125998280788005643"
     },
     "user_tz": -540
    },
    "id": "f7P5F8_p16qX"
   },
   "outputs": [],
   "source": [
    "# creation of the model\n",
    "model = BERTClassifier(bertmodel,  dr_rate=0.4).to(device)"
   ]
  },
  {
   "cell_type": "code",
   "execution_count": null,
   "metadata": {
    "executionInfo": {
     "elapsed": 32,
     "status": "ok",
     "timestamp": 1672071573498,
     "user": {
      "displayName": "Milandu Keith Moussavou Boussougou",
      "userId": "16125998280788005643"
     },
     "user_tz": -540
    },
    "id": "uYxXtWzf02Si"
   },
   "outputs": [],
   "source": [
    "# print(type(model))"
   ]
  },
  {
   "cell_type": "code",
   "execution_count": null,
   "metadata": {
    "colab": {
     "base_uri": "https://localhost:8080/"
    },
    "executionInfo": {
     "elapsed": 31,
     "status": "ok",
     "timestamp": 1672071573498,
     "user": {
      "displayName": "Milandu Keith Moussavou Boussougou",
      "userId": "16125998280788005643"
     },
     "user_tz": -540
    },
    "id": "GHo2DlB6FTfC",
    "outputId": "46d1afd3-f57c-4ad3-902c-98944ffed839",
    "scrolled": true
   },
   "outputs": [],
   "source": [
    "%%time\n",
    "print(model)"
   ]
  },
  {
   "cell_type": "code",
   "execution_count": null,
   "metadata": {
    "colab": {
     "base_uri": "https://localhost:8080/"
    },
    "executionInfo": {
     "elapsed": 28,
     "status": "ok",
     "timestamp": 1672071573499,
     "user": {
      "displayName": "Milandu Keith Moussavou Boussougou",
      "userId": "16125998280788005643"
     },
     "user_tz": -540
    },
    "id": "vE9p-7keMbJ4",
    "outputId": "0311f602-55c7-4702-eb03-bdfcefb53077"
   },
   "outputs": [],
   "source": [
    "# Get all of the model's parameters as a list of tuples.\n",
    "params = list(model.named_parameters())\n",
    "\n",
    "print('The KoBERT model has {:} different named parameters.\\n'.format(len(params)))\n",
    "\n",
    "print('==== Embedding Layer ====\\n')\n",
    "\n",
    "for p in params[0:5]:\n",
    "    print(\"{:<55} {:>12}\".format(p[0], str(tuple(p[1].size()))))\n",
    "\n",
    "print('\\n==== First Transformer ====\\n')\n",
    "\n",
    "for p in params[5:21]:\n",
    "    print(\"{:<55} {:>12}\".format(p[0], str(tuple(p[1].size()))))\n",
    "\n",
    "print('\\n==== Output Layer ====\\n')\n",
    "\n",
    "for p in params[-4:]:\n",
    "    print(\"{:<55} {:>12}\".format(p[0], str(tuple(p[1].size()))))"
   ]
  },
  {
   "cell_type": "code",
   "execution_count": null,
   "metadata": {
    "executionInfo": {
     "elapsed": 18,
     "status": "ok",
     "timestamp": 1672071573500,
     "user": {
      "displayName": "Milandu Keith Moussavou Boussougou",
      "userId": "16125998280788005643"
     },
     "user_tz": -540
    },
    "id": "jbpS_GFj2mxl"
   },
   "outputs": [],
   "source": [
    "# Prepare optimizer and schedule (linear warmup and decay)\n",
    "no_decay = ['bias', 'LayerNorm.weight']\n",
    "optimizer_grouped_parameters = [\n",
    "    {'params': [p for n, p in model.named_parameters() if not any(nd in n for nd in no_decay)], 'weight_decay': 0.01},\n",
    "    {'params': [p for n, p in model.named_parameters() if any(nd in n for nd in no_decay)], 'weight_decay': 0.0}\n",
    "]\n",
    "# optimizer_grouped_parameters"
   ]
  },
  {
   "cell_type": "code",
   "execution_count": null,
   "metadata": {
    "colab": {
     "base_uri": "https://localhost:8080/"
    },
    "executionInfo": {
     "elapsed": 18,
     "status": "ok",
     "timestamp": 1672071573501,
     "user": {
      "displayName": "Milandu Keith Moussavou Boussougou",
      "userId": "16125998280788005643"
     },
     "user_tz": -540
    },
    "id": "SbUNw59s2_y8",
    "outputId": "d6af3395-89e3-4752-979b-6b7cbab55e9e"
   },
   "outputs": [],
   "source": [
    "# configurtation f the optimizer and loss function\n",
    "optimizer = AdamW(optimizer_grouped_parameters, lr=learning_rate)\n",
    "loss_fn = nn.CrossEntropyLoss()\n",
    "\n",
    "t_total = len(train_dataloader) * num_epochs\n",
    "warmup_step = int(t_total * warmup_ratio)\n",
    "\n",
    "scheduler = get_cosine_schedule_with_warmup(optimizer, num_warmup_steps=warmup_step, num_training_steps=t_total)\n",
    "scheduler"
   ]
  },
  {
   "cell_type": "code",
   "execution_count": null,
   "metadata": {
    "executionInfo": {
     "elapsed": 14,
     "status": "ok",
     "timestamp": 1672071573502,
     "user": {
      "displayName": "Milandu Keith Moussavou Boussougou",
      "userId": "16125998280788005643"
     },
     "user_tz": -540
    },
    "id": "sx6A1Ku43HPl"
   },
   "outputs": [],
   "source": [
    "# define the function to compute the accury of the model\n",
    "def calc_accuracy(X,Y):\n",
    "    max_vals, max_indices = torch.max(X, 1)\n",
    "    train_acc = (max_indices == Y).sum().data.cpu().numpy()/max_indices.size()[0]\n",
    "    return train_acc"
   ]
  },
  {
   "cell_type": "code",
   "execution_count": null,
   "metadata": {
    "executionInfo": {
     "elapsed": 13,
     "status": "ok",
     "timestamp": 1672071573502,
     "user": {
      "displayName": "Milandu Keith Moussavou Boussougou",
      "userId": "16125998280788005643"
     },
     "user_tz": -540
    },
    "id": "xK_b7cifM5KW"
   },
   "outputs": [],
   "source": [
    "# # Function to calculate the accuracy of our predictions vs labels\n",
    "# def flat_accuracy(preds, labels):\n",
    "#     pred_flat = np.argmax(preds, axis=1).flatten()\n",
    "#     labels_flat = labels.flatten()\n",
    "#     return np.sum(pred_flat == labels_flat) / len(labels_flat)"
   ]
  },
  {
   "cell_type": "code",
   "execution_count": null,
   "metadata": {
    "executionInfo": {
     "elapsed": 14,
     "status": "ok",
     "timestamp": 1672071573503,
     "user": {
      "displayName": "Milandu Keith Moussavou Boussougou",
      "userId": "16125998280788005643"
     },
     "user_tz": -540
    },
    "id": "tSqurihiICjz"
   },
   "outputs": [],
   "source": [
    "# !pip install seqeval==0.0.5\n",
    "# from seqeval.metrics import precision_score, recall_score, f1_score, classification_report\n",
    "\n",
    "# def f1_pre_rec(labels, preds):\n",
    "#     return {\n",
    "#         \"precision\": precision_score(labels, preds, suffix=True),\n",
    "#         \"recall\": recall_score(labels, preds, suffix=True),\n",
    "#         \"f1\": f1_score(labels, preds, suffix=True)\n",
    "#     }"
   ]
  },
  {
   "cell_type": "code",
   "execution_count": null,
   "metadata": {
    "executionInfo": {
     "elapsed": 13,
     "status": "ok",
     "timestamp": 1672071573503,
     "user": {
      "displayName": "Milandu Keith Moussavou Boussougou",
      "userId": "16125998280788005643"
     },
     "user_tz": -540
    },
    "id": "BOk-B2bsJ9Ba"
   },
   "outputs": [],
   "source": [
    "# out.cpu().detach().numpy() "
   ]
  },
  {
   "cell_type": "code",
   "execution_count": null,
   "metadata": {
    "executionInfo": {
     "elapsed": 14,
     "status": "ok",
     "timestamp": 1672071573504,
     "user": {
      "displayName": "Milandu Keith Moussavou Boussougou",
      "userId": "16125998280788005643"
     },
     "user_tz": -540
    },
    "id": "yQ88Fwa1J_RM"
   },
   "outputs": [],
   "source": [
    "# label.cpu().detach().numpy() "
   ]
  },
  {
   "cell_type": "code",
   "execution_count": null,
   "metadata": {
    "executionInfo": {
     "elapsed": 13,
     "status": "ok",
     "timestamp": 1672071573504,
     "user": {
      "displayName": "Milandu Keith Moussavou Boussougou",
      "userId": "16125998280788005643"
     },
     "user_tz": -540
    },
    "id": "psaPN66ks7Hm"
   },
   "outputs": [],
   "source": [
    "def get_metrics(pred, label, threshold=0.5):\n",
    "    pred = (pred > threshold).astype('float32')\n",
    "    tp = ((pred == 1) & (label == 1)).sum()\n",
    "    fp = ((pred == 1) & (label == 0)).sum()\n",
    "    fn = ((pred == 0) & (label == 1)).sum()\n",
    "    \n",
    "    recall = tp / (tp + fn)\n",
    "    precision = tp / (tp + fp)\n",
    "    f1 = 2 * recall * precision / (precision + recall)\n",
    "    \n",
    "    return {\n",
    "        'recall': recall,\n",
    "        'precision': precision,\n",
    "        'f1': f1\n",
    "    }"
   ]
  },
  {
   "cell_type": "markdown",
   "metadata": {
    "id": "ZPwuYcUU36XN"
   },
   "source": [
    "## Training the KoBERT model\n"
   ]
  },
  {
   "cell_type": "code",
   "execution_count": null,
   "metadata": {
    "colab": {
     "base_uri": "https://localhost:8080/"
    },
    "executionInfo": {
     "elapsed": 312540,
     "status": "ok",
     "timestamp": 1672071886031,
     "user": {
      "displayName": "Milandu Keith Moussavou Boussougou",
      "userId": "16125998280788005643"
     },
     "user_tz": -540
    },
    "id": "p-7fzY8a4F2L",
    "outputId": "0ba1f0a0-5998-4a79-89e0-f0be48714306"
   },
   "outputs": [],
   "source": [
    "%%time\n",
    "from time import time\n",
    "from timeit import default_timer as timer\n",
    "from sklearn.metrics import *\n",
    "# Training code from the github library\n",
    "start_time = time()\n",
    "\n",
    "for e in range(num_epochs):\n",
    "    train_acc = 0.0\n",
    "    test_acc = 0.0\n",
    "    train_pres = 0.0\n",
    "    test_pres = 0.0\n",
    "\n",
    "    # Training of the model with the train set\n",
    "    model.train()\n",
    "    for batch_id, (token_ids, valid_length, segment_ids, label) in tqdm(enumerate(train_dataloader), total=len(train_dataloader)):\n",
    "        optimizer.zero_grad()\n",
    "        token_ids = token_ids.long().to(device)\n",
    "        segment_ids = segment_ids.long().to(device)\n",
    "        valid_length= valid_length\n",
    "        label = label.long().to(device)\n",
    "        out = model(token_ids, valid_length, segment_ids)\n",
    "        loss = loss_fn(out, label)\n",
    "        loss.backward()\n",
    "        torch.nn.utils.clip_grad_norm_(model.parameters(), max_grad_norm)\n",
    "        optimizer.step()\n",
    "        scheduler.step()  # Update learning rate schedule\n",
    "        train_acc += calc_accuracy(out, label)\n",
    "        #train_pres = precision_score(label, out, average='micro')\n",
    "        if batch_id % log_interval == 0:\n",
    "            print(\"epoch {} batch id {} loss {} train acc {}\".format(e+1, batch_id+1, loss.data.cpu().numpy(), train_acc / (batch_id+1)))\n",
    "    print(\"epoch {} train acc {}\".format(e+1, train_acc / (batch_id+1)))\n",
    "\n",
    "    # evaluation of the model train on the test set\n",
    "    model.eval()\n",
    "    for batch_id, (token_ids, valid_length, segment_ids, label) in tqdm(enumerate(test_dataloader), total=len(test_dataloader)):\n",
    "        token_ids = token_ids.long().to(device)\n",
    "        segment_ids = segment_ids.long().to(device)\n",
    "        valid_length= valid_length\n",
    "        label = label.long().to(device)\n",
    "        labe2 = label.cpu()\n",
    "        out = model(token_ids, valid_length, segment_ids)\n",
    "        test_acc += calc_accuracy(out, label)\n",
    "    print(\"epoch {} val acc {}\".format(e+1, test_acc / (batch_id+1)))\n",
    "    # print('ACCURACY 2 = ', accuracy_score(out, label))\n",
    "\n",
    "run_time = time() - start_time"
   ]
  },
  {
   "cell_type": "code",
   "execution_count": null,
   "metadata": {
    "colab": {
     "base_uri": "https://localhost:8080/"
    },
    "executionInfo": {
     "elapsed": 35,
     "status": "ok",
     "timestamp": 1672071886033,
     "user": {
      "displayName": "Milandu Keith Moussavou Boussougou",
      "userId": "16125998280788005643"
     },
     "user_tz": -540
    },
    "id": "6u7JZ9Y83Nuk",
    "outputId": "5bafdc31-1a4b-4e67-ffe9-115e92916bf3"
   },
   "outputs": [],
   "source": [
    "run_time\n",
    "#224.96386766433716\n",
    "#0.9947"
   ]
  },
  {
   "cell_type": "code",
   "execution_count": null,
   "metadata": {
    "executionInfo": {
     "elapsed": 28,
     "status": "ok",
     "timestamp": 1672071886034,
     "user": {
      "displayName": "Milandu Keith Moussavou Boussougou",
      "userId": "16125998280788005643"
     },
     "user_tz": -540
    },
    "id": "55bwiB7HGWEO"
   },
   "outputs": [],
   "source": [
    "# # graph of the training\n",
    "# pd.DataFrame(history.history).plot(figsize=(8, 5))\n",
    "# plt.grid(True)\n",
    "# plt.legend()\n",
    "# plt.gca().set_ylim(0, 1) # set the vertical range to [0-1]\n",
    "# plt.xlabel('epochs')\n",
    "# plt.show()\n",
    "# # plt.savefig('bilstm_all_metrics.png')"
   ]
  },
  {
   "cell_type": "code",
   "execution_count": null,
   "metadata": {
    "executionInfo": {
     "elapsed": 28,
     "status": "ok",
     "timestamp": 1672071886035,
     "user": {
      "displayName": "Milandu Keith Moussavou Boussougou",
      "userId": "16125998280788005643"
     },
     "user_tz": -540
    },
    "id": "WLlqrBd4hA0Y"
   },
   "outputs": [],
   "source": [
    "# # accuracy: (tp + tn) / (p + n)\n",
    "# accuracy = accuracy_score(Y_TEST, yhat_classes)\n",
    "# print('Testing Accuracy: %f' % accuracy)\n",
    "\n",
    "# precision tp / (tp + fp)\n",
    "#precision = precision_score(Y_TEST, yhat_classes,average='weighted')\n",
    "#print('Testing Precision: %f' % precision)\n",
    "\n",
    "# # recall: tp / (tp + fn)\n",
    "# recall = recall_score(Y_TEST, yhat_classes,average='weighted')\n",
    "# print('Testing Recall: %f' % recall)\n",
    "# # f1: 2 tp / (2 tp + fp + fn)\n",
    "# f1 = f1_score(Y_TEST, yhat_classes,average='weighted')\n",
    "# print('Testing F1 score: %f' % f1)"
   ]
  },
  {
   "cell_type": "code",
   "execution_count": null,
   "metadata": {
    "executionInfo": {
     "elapsed": 29,
     "status": "ok",
     "timestamp": 1672071886036,
     "user": {
      "displayName": "Milandu Keith Moussavou Boussougou",
      "userId": "16125998280788005643"
     },
     "user_tz": -540
    },
    "id": "vDgZjO0WjBo5"
   },
   "outputs": [],
   "source": [
    "from sklearn.metrics import f1_score\n",
    "\n",
    "def f1_score_func(preds, labels):\n",
    "    preds_flat = np.argmax(preds, axis=1).flatten()\n",
    "    labels_flat = labels.flatten()\n",
    "    return f1_score(labels_flat, preds_flat, average='weighted')\n",
    "\n",
    "# def accuracy_per_class(preds, labels):\n",
    "#     label_dict_inverse = {v: k for k, v in label_dict.items()}\n",
    "    \n",
    "#     preds_flat = np.argmax(preds, axis=1).flatten()\n",
    "#     labels_flat = labels.flatten()\n",
    "\n",
    "#     for label in np.unique(labels_flat):\n",
    "#         y_preds = preds_flat[labels_flat==label]\n",
    "#         y_true = labels_flat[labels_flat==label]\n",
    "#         print(f'Class: {label_dict_inverse[label]}')\n",
    "#         print(f'Accuracy: {len(y_preds[y_preds==label])}/{len(y_true)}\\n')"
   ]
  },
  {
   "cell_type": "code",
   "execution_count": null,
   "metadata": {
    "colab": {
     "base_uri": "https://localhost:8080/"
    },
    "executionInfo": {
     "elapsed": 4674,
     "status": "ok",
     "timestamp": 1672071890682,
     "user": {
      "displayName": "Milandu Keith Moussavou Boussougou",
      "userId": "16125998280788005643"
     },
     "user_tz": -540
    },
    "id": "nKyjxXA0scrn",
    "outputId": "713f3123-f91e-4d38-a16d-3e721f6595c2"
   },
   "outputs": [],
   "source": [
    "preds = []\n",
    "labels = []\n",
    "test_acc = 0.0\n",
    "# evaluation of the model train on the test set\n",
    "model.eval()\n",
    "for batch_id, (token_ids, valid_length, segment_ids, label) in tqdm(enumerate(test_dataloader), total=len(test_dataloader)):\n",
    "    token_ids = token_ids.long().to(device)\n",
    "    segment_ids = segment_ids.long().to(device)\n",
    "    valid_length= valid_length\n",
    "    label = label.long().to(device)\n",
    "    labe2 = label.cpu()\n",
    "    out = model(token_ids, valid_length, segment_ids)\n",
    "    test_acc += calc_accuracy(out, label)\n",
    "\n",
    "    pred = out.detach()\n",
    "    pred = F.softmax(pred)\n",
    "    pred = pred[:, 1].cpu().numpy().tolist()\n",
    "    preds += pred\n",
    "    labels += label.cpu().numpy().tolist()\n",
    "    \n",
    "preds = np.array(preds)\n",
    "labels = np.array(labels)\n",
    "metrics = get_metrics(preds, labels)\n",
    "print(\"epoch {} test acc {}\".format(e+1, test_acc / (batch_id+1)))\n",
    "# print('ACCURACY 2 = ', accuracy_score(out, label))\n",
    "print('Metrics: ', metrics)"
   ]
  },
  {
   "cell_type": "markdown",
   "metadata": {
    "id": "qznl7H3I6ZIa"
   },
   "source": [
    "<h2>Model Training result</h2>\n",
    "\n",
    "From the previous training result, we can see that our KoBERT binary classification model reached **99.68%** of accuracy on the test set and **100**%  of accuracy on the train set."
   ]
  },
  {
   "cell_type": "markdown",
   "metadata": {
    "id": "pSsx-O4PR6XJ"
   },
   "source": [
    "# [Model state_dict](https://pytorch.org/tutorials/beginner/saving_loading_models.html)"
   ]
  },
  {
   "cell_type": "code",
   "execution_count": null,
   "metadata": {
    "colab": {
     "base_uri": "https://localhost:8080/"
    },
    "executionInfo": {
     "elapsed": 506,
     "status": "ok",
     "timestamp": 1672072410386,
     "user": {
      "displayName": "Milandu Keith Moussavou Boussougou",
      "userId": "16125998280788005643"
     },
     "user_tz": -540
    },
    "id": "8LUSSCj3R9K4",
    "outputId": "a25dd484-abef-4f83-f5c5-2f53712d20ff",
    "scrolled": true
   },
   "outputs": [],
   "source": [
    "# Print model's state_dict\n",
    "print(\"Model's state_dict:\")\n",
    "for param_tensor in model.state_dict():\n",
    "    print(param_tensor, \"\\t\", model.state_dict()[param_tensor].size())"
   ]
  },
  {
   "cell_type": "code",
   "execution_count": null,
   "metadata": {
    "colab": {
     "base_uri": "https://localhost:8080/"
    },
    "executionInfo": {
     "elapsed": 6556,
     "status": "ok",
     "timestamp": 1672073914215,
     "user": {
      "displayName": "Milandu Keith Moussavou Boussougou",
      "userId": "16125998280788005643"
     },
     "user_tz": -540
    },
    "id": "VEEH7j58SFsC",
    "outputId": "9ed2a170-b9b3-4c47-dd89-7e9a20dde363",
    "scrolled": true
   },
   "outputs": [],
   "source": [
    "# Print optimizer's state_dict\n",
    "print(\"Optimizer's state_dict:\")\n",
    "for var_name in optimizer.state_dict():\n",
    "    print(var_name, \"\\t\", optimizer.state_dict()[var_name])"
   ]
  },
  {
   "cell_type": "markdown",
   "metadata": {
    "id": "cx3bv_aQSdLA"
   },
   "source": [
    "# Saving & Loading Model for Inference"
   ]
  },
  {
   "cell_type": "code",
   "execution_count": null,
   "metadata": {
    "colab": {
     "base_uri": "https://localhost:8080/"
    },
    "executionInfo": {
     "elapsed": 361,
     "status": "ok",
     "timestamp": 1672073969087,
     "user": {
      "displayName": "Milandu Keith Moussavou Boussougou",
      "userId": "16125998280788005643"
     },
     "user_tz": -540
    },
    "id": "wpluVekIX5Cz",
    "outputId": "cb1e41b6-ac17-4cb2-f819-0094d7e30096"
   },
   "outputs": [],
   "source": [
    "!ls -l"
   ]
  },
  {
   "cell_type": "code",
   "execution_count": null,
   "metadata": {
    "executionInfo": {
     "elapsed": 3779,
     "status": "ok",
     "timestamp": 1672074659071,
     "user": {
      "displayName": "Milandu Keith Moussavou Boussougou",
      "userId": "16125998280788005643"
     },
     "user_tz": -540
    },
    "id": "WEz3qZSUEulI"
   },
   "outputs": [],
   "source": [
    "#save\n",
    "PATH = './weights/'\n",
    "\n",
    "torch.save(model.state_dict(), PATH + 'KoBERT_vishing_weights.pt') # Save state_dict\n",
    "torch.save(model, PATH + 'KoBERT_vishing_model.pt')  # Save entire Model"
   ]
  },
  {
   "cell_type": "code",
   "execution_count": null,
   "metadata": {
    "executionInfo": {
     "elapsed": 4683,
     "status": "ok",
     "timestamp": 1672074665348,
     "user": {
      "displayName": "Milandu Keith Moussavou Boussougou",
      "userId": "16125998280788005643"
     },
     "user_tz": -540
    },
    "id": "xW0zK_iIYXdW"
   },
   "outputs": [],
   "source": [
    "# Store multiple values, save normal scalar values such as epoch and loss values to store progress during learning\n",
    "#can be very heavy\n",
    "# torch.save({\n",
    "#     'model': model.state_dict(),\n",
    "#     'optimizer': optimizer.state_dict()\n",
    "# }, PATH + 'all.tar')"
   ]
  },
  {
   "cell_type": "code",
   "execution_count": null,
   "metadata": {
    "colab": {
     "base_uri": "https://localhost:8080/"
    },
    "executionInfo": {
     "elapsed": 1066,
     "status": "ok",
     "timestamp": 1672074724547,
     "user": {
      "displayName": "Milandu Keith Moussavou Boussougou",
      "userId": "16125998280788005643"
     },
     "user_tz": -540
    },
    "id": "3CfjNWmXSslq",
    "outputId": "f209d476-a74a-40cb-c4f1-8bb74764b077",
    "scrolled": true
   },
   "outputs": [],
   "source": [
    "#Load \n",
    "# model = BERTClassifier()\n",
    "model.load_state_dict(torch.load(PATH + 'KoBERT_vishing_weights.pt'))\n",
    "model.eval()"
   ]
  },
  {
   "cell_type": "markdown",
   "metadata": {
    "id": "GGqOzSNEcFP-"
   },
   "source": [
    "# [Apply the dynamic quantization](https://pytorch.org/tutorials/intermediate/dynamic_quantization_bert_tutorial.html#apply-the-dynamic-quantization)"
   ]
  },
  {
   "cell_type": "code",
   "execution_count": null,
   "metadata": {
    "id": "ZjNiuJricOvu"
   },
   "outputs": [],
   "source": [
    "quantized_model = torch.quantization.quantize_dynamic(\n",
    "    model, {torch.nn.Linear}, dtype=torch.qint8\n",
    ")\n",
    "print(quantized_model)"
   ]
  }
 ],
 "metadata": {
  "accelerator": "GPU",
  "colab": {
   "provenance": [
    {
     "file_id": "1B9cJi65esNVBCad8HrB5obuYT9BufI_f",
     "timestamp": 1672065671339
    }
   ]
  },
  "gpuClass": "standard",
  "kernelspec": {
   "display_name": "Python 3 (ipykernel)",
   "language": "python",
   "name": "python3"
  },
  "language_info": {
   "codemirror_mode": {
    "name": "ipython",
    "version": 3
   },
   "file_extension": ".py",
   "mimetype": "text/x-python",
   "name": "python",
   "nbconvert_exporter": "python",
   "pygments_lexer": "ipython3",
   "version": "3.10.9"
  }
 },
 "nbformat": 4,
 "nbformat_minor": 4
}
